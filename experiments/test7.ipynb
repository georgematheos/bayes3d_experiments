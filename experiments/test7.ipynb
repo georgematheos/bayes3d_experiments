{
 "cells": [
  {
   "cell_type": "code",
   "execution_count": 1,
   "metadata": {},
   "outputs": [],
   "source": [
    "%load_ext autoreload\n",
    "%autoreload 2"
   ]
  },
  {
   "cell_type": "code",
   "execution_count": 2,
   "metadata": {},
   "outputs": [],
   "source": [
    "import os\n",
    "import glob\n",
    "import pickle\n",
    "import jax\n",
    "import jax.numpy as jnp\n",
    "import bayes3d as b\n",
    "import genjax\n",
    "import matplotlib.pyplot as plt"
   ]
  },
  {
   "cell_type": "code",
   "execution_count": 3,
   "metadata": {},
   "outputs": [],
   "source": [
    "console = genjax.console(enforce_checkify=True)"
   ]
  },
  {
   "cell_type": "code",
   "execution_count": 4,
   "metadata": {},
   "outputs": [
    {
     "name": "stdout",
     "output_type": "stream",
     "text": [
      "You can open the visualizer by visiting the following URL:\n",
      "http://127.0.0.1:7000/static/\n"
     ]
    }
   ],
   "source": [
    "b.setup_visualizer()"
   ]
  },
  {
   "cell_type": "code",
   "execution_count": 5,
   "metadata": {},
   "outputs": [
    {
     "name": "stdout",
     "output_type": "stream",
     "text": [
      "Got rgbd_original\n",
      "Got rgb immage scaled down.\n"
     ]
    },
    {
     "name": "stderr",
     "output_type": "stream",
     "text": [
      "[E rasterize_gl.cpp:121] OpenGL version reported as 4.6\n"
     ]
    },
    {
     "name": "stdout",
     "output_type": "stream",
     "text": [
      "Increasing frame buffer size to (width, height, depth) = (64, 64, 1024)\n",
      "Added table mesh.\n",
      "Added pillar mesh.\n",
      "Added mesh at path /home/georgematheos/bayes3d/assets/bop/ycbv/models/obj_000002.ply.\n",
      "Added mesh at path /home/georgematheos/bayes3d/assets/bop/ycbv/models/obj_000003.ply.\n",
      "Added mesh at path /home/georgematheos/bayes3d/assets/bop/ycbv/models/obj_000011.ply.\n",
      "Added mesh at path /home/georgematheos/bayes3d/assets/bop/ycbv/models/obj_000013.ply.\n",
      "Added mesh at path /home/georgematheos/bayes3d/assets/bop/ycbv/models/obj_000021.ply.\n"
     ]
    }
   ],
   "source": [
    "NEAR = 0.0001\n",
    "FAR = 5.0\n",
    "\n",
    "with open('../data.pkl', 'rb') as f:\n",
    "    data = pickle.load(f)\n",
    "\n",
    "camera_image_1 = data[\"init\"][0]\n",
    "categories_on_table = data[\"init\"][1]\n",
    "target_category = data[\"init\"][2]\n",
    "table_info = data[\"init\"][3] # table pose and dimensions\n",
    "n_objects = 5\n",
    "\n",
    "X_WT = b.t3d.pybullet_pose_to_transform(table_info[0])\n",
    "X_WC = b.t3d.pybullet_pose_to_transform(camera_image_1[\"camera_pose\"])\n",
    "X_CT = b.t3d.inverse_pose(X_WC) @ X_WT\n",
    "\n",
    "def image_to_rgbd(camera_image_1):\n",
    "    K = camera_image_1['camera_matrix']\n",
    "    rgb = camera_image_1['rgbPixels']\n",
    "    depth = camera_image_1['depthPixels']\n",
    "    camera_pose = camera_image_1['camera_pose']\n",
    "    camera_pose = b.t3d.pybullet_pose_to_transform(camera_pose)\n",
    "    fx, fy, cx, cy = K[0,0],K[1,1],K[0,2],K[1,2]\n",
    "    h,w = depth.shape\n",
    "    rgbd_original = b.RGBD(rgb, depth, camera_pose, b.Intrinsics(h,w,fx,fy,cx,cy,NEAR,FAR))\n",
    "    return rgbd_original\n",
    "\n",
    "rgbd_original = image_to_rgbd(camera_image_1)\n",
    "print(\"Got rgbd_original\")\n",
    "\n",
    "scaling_factor = 0.2\n",
    "rgbd_scaled_down = b.RGBD.scale_rgbd(rgbd_original, scaling_factor)\n",
    "print(\"Got rgb immage scaled down.\")\n",
    "\n",
    "b.setup_renderer(rgbd_scaled_down.intrinsics)\n",
    "\n",
    "model_dir = os.path.join(os.path.abspath('../..'), 'bayes3d/assets/bop/ycbv/models')\n",
    "mesh_path = os.path.join(model_dir,\"obj_\" + \"{}\".format(13+1).rjust(6, '0') + \".ply\")\n",
    "ycb_filenames = glob.glob(os.path.join(model_dir, \"*.ply\"))\n",
    "ycb_index_order = [int(s.split(\"/\")[-1].split(\"_\")[-1].split(\".\")[0]) for s in ycb_filenames]\n",
    "sorted_ycb_filenames = [s for _,s in sorted(zip(ycb_index_order, ycb_filenames))]\n",
    "\n",
    "relevant_objects = [any(x in name for x in categories_on_table) for (i, name) in enumerate(b.utils.ycb_loader.MODEL_NAMES)]\n",
    "relevant_object_names = [b.utils.ycb_loader.MODEL_NAMES[i] for i in range(len(b.utils.ycb_loader.MODEL_NAMES)) if relevant_objects[i]]\n",
    "filtered_filenames = [sorted_ycb_filenames[i] for i in range(len(sorted_ycb_filenames)) if relevant_objects[i]]\n",
    "\n",
    "table_dims = table_info[1:]\n",
    "table_mesh = b.utils.make_cuboid_mesh(table_dims)\n",
    "b.RENDERER.add_mesh(table_mesh, \"table\")\n",
    "print(\"Added table mesh.\")\n",
    "\n",
    "pillar_mesh = b.utils.make_cuboid_mesh(jnp.array([0.02, 0.02, 0.5]))\n",
    "b.RENDERER.add_mesh(pillar_mesh, \"pillar\")\n",
    "print(\"Added pillar mesh.\")\n",
    "\n",
    "for model_path in filtered_filenames:\n",
    "    b.RENDERER.add_mesh_from_file(model_path, scaling_factor=1.0/1000.0)\n",
    "    print(f\"Added mesh at path {model_path}.\")"
   ]
  },
  {
   "cell_type": "code",
   "execution_count": 6,
   "metadata": {},
   "outputs": [],
   "source": [
    "from src.model3 import model, viz_trace_meshcat"
   ]
  },
  {
   "cell_type": "code",
   "execution_count": 7,
   "metadata": {},
   "outputs": [],
   "source": [
    "def flat_choicemaps_to_vector_choicemap(choicemaps):\n",
    "    cm = genjax.choice_map({\n",
    "        k : jnp.array([c.get_submap(k).get_value() for c in choicemaps])\n",
    "        for (k, _) in choicemaps[0].get_submaps_shallow()\n",
    "    })\n",
    "    return cm"
   ]
  },
  {
   "cell_type": "code",
   "execution_count": 8,
   "metadata": {},
   "outputs": [],
   "source": [
    "obs_img = b.unproject_depth_jit(\n",
    "        rgbd_scaled_down.depth,\n",
    "        rgbd_scaled_down.intrinsics\n",
    "    )"
   ]
  },
  {
   "cell_type": "code",
   "execution_count": 9,
   "metadata": {},
   "outputs": [
    {
     "data": {
      "text/html": [
       "<pre style=\"white-space:pre;overflow-x:auto;line-height:normal;font-family:Menlo,'DejaVu Sans Mono',consolas,'Courier New',monospace\"><span style=\"font-weight: bold\">(HierarchicalChoiceMap)</span>\n",
       "├── <span style=\"font-weight: bold\">:n_objects</span>\n",
       "│   └── <span style=\"font-weight: bold\">(ValueChoice)</span>\n",
       "│       └── (const) 1\n",
       "├── <span style=\"font-weight: bold\">:camera_pose</span>\n",
       "│   └── <span style=\"font-weight: bold\">(ValueChoice)</span>\n",
       "│       └──  f32[4,4]\n",
       "├── <span style=\"font-weight: bold\">:image</span>\n",
       "│   └── <span style=\"font-weight: bold\">(ValueChoice)</span>\n",
       "│       └──  f32[48,64,3]\n",
       "├── <span style=\"font-weight: bold\">:objects</span>\n",
       "│   └── <span style=\"font-weight: bold\">(IndexedChoiceMap,  i32[1])</span>\n",
       "│       └── <span style=\"font-weight: bold\">(HierarchicalChoiceMap)</span>\n",
       "│           ├── <span style=\"font-weight: bold\">:root_pose</span>\n",
       "│           │   └── <span style=\"font-weight: bold\">(ValueChoice)</span>\n",
       "│           │       └──  f32[1,4,4]\n",
       "│           ├── <span style=\"font-weight: bold\">:category_index</span>\n",
       "│           │   └── <span style=\"font-weight: bold\">(ValueChoice)</span>\n",
       "│           │       └──  i32[1]\n",
       "│           ├── <span style=\"font-weight: bold\">:parent_obj</span>\n",
       "│           │   └── <span style=\"font-weight: bold\">(ValueChoice)</span>\n",
       "│           │       └──  i32[1]\n",
       "│           ├── <span style=\"font-weight: bold\">:face_parent</span>\n",
       "│           │   └── <span style=\"font-weight: bold\">(ValueChoice)</span>\n",
       "│           │       └──  i32[1]\n",
       "│           ├── <span style=\"font-weight: bold\">:face_child</span>\n",
       "│           │   └── <span style=\"font-weight: bold\">(ValueChoice)</span>\n",
       "│           │       └──  i32[1]\n",
       "│           └── <span style=\"font-weight: bold\">:contact_params</span>\n",
       "│               └── <span style=\"font-weight: bold\">(ValueChoice)</span>\n",
       "│                   └──  f32[1,3]\n",
       "├── <span style=\"font-weight: bold\">:variance</span>\n",
       "│   └── <span style=\"font-weight: bold\">(ValueChoice)</span>\n",
       "│       └── (const) 0.02\n",
       "└── <span style=\"font-weight: bold\">:outlier_prob</span>\n",
       "    └── <span style=\"font-weight: bold\">(ValueChoice)</span>\n",
       "        └── (const) 0.0005\n",
       "</pre>\n"
      ],
      "text/plain": [
       "\u001b[1m(HierarchicalChoiceMap)\u001b[0m\n",
       "├── \u001b[1m:n_objects\u001b[0m\n",
       "│   └── \u001b[1m(ValueChoice)\u001b[0m\n",
       "│       └── (const) 1\n",
       "├── \u001b[1m:camera_pose\u001b[0m\n",
       "│   └── \u001b[1m(ValueChoice)\u001b[0m\n",
       "│       └──  f32[4,4]\n",
       "├── \u001b[1m:image\u001b[0m\n",
       "│   └── \u001b[1m(ValueChoice)\u001b[0m\n",
       "│       └──  f32[48,64,3]\n",
       "├── \u001b[1m:objects\u001b[0m\n",
       "│   └── \u001b[1m(IndexedChoiceMap,  i32[1])\u001b[0m\n",
       "│       └── \u001b[1m(HierarchicalChoiceMap)\u001b[0m\n",
       "│           ├── \u001b[1m:root_pose\u001b[0m\n",
       "│           │   └── \u001b[1m(ValueChoice)\u001b[0m\n",
       "│           │       └──  f32[1,4,4]\n",
       "│           ├── \u001b[1m:category_index\u001b[0m\n",
       "│           │   └── \u001b[1m(ValueChoice)\u001b[0m\n",
       "│           │       └──  i32[1]\n",
       "│           ├── \u001b[1m:parent_obj\u001b[0m\n",
       "│           │   └── \u001b[1m(ValueChoice)\u001b[0m\n",
       "│           │       └──  i32[1]\n",
       "│           ├── \u001b[1m:face_parent\u001b[0m\n",
       "│           │   └── \u001b[1m(ValueChoice)\u001b[0m\n",
       "│           │       └──  i32[1]\n",
       "│           ├── \u001b[1m:face_child\u001b[0m\n",
       "│           │   └── \u001b[1m(ValueChoice)\u001b[0m\n",
       "│           │       └──  i32[1]\n",
       "│           └── \u001b[1m:contact_params\u001b[0m\n",
       "│               └── \u001b[1m(ValueChoice)\u001b[0m\n",
       "│                   └──  f32[1,3]\n",
       "├── \u001b[1m:variance\u001b[0m\n",
       "│   └── \u001b[1m(ValueChoice)\u001b[0m\n",
       "│       └── (const) 0.02\n",
       "└── \u001b[1m:outlier_prob\u001b[0m\n",
       "    └── \u001b[1m(ValueChoice)\u001b[0m\n",
       "        └── (const) 0.0005\n"
      ]
     },
     "metadata": {},
     "output_type": "display_data"
    }
   ],
   "source": [
    "table_choicemap = genjax.choice_map({\n",
    "                    \"root_pose\": X_CT,\n",
    "                    \"category_index\": 0,\n",
    "                    \"parent_obj\": -1,\n",
    "                    \"face_parent\": 2,\n",
    "                    \"face_child\": 3,\n",
    "                    \"contact_params\": jnp.zeros(3)\n",
    "                })\n",
    "def obj_choicemap(category_idx):\n",
    "    return genjax.choice_map({\n",
    "        \"root_pose\": jnp.eye(4),\n",
    "        \"category_index\": category_idx,\n",
    "        \"parent_obj\": 0,\n",
    "        \"face_parent\": 2,\n",
    "        \"face_child\": 3,\n",
    "        \"contact_params\": jnp.zeros(3)\n",
    "    })\n",
    "\n",
    "max_n_objects = 8\n",
    "# Initialize the trace with the table, and all\n",
    "# the other objects initialized to be on the table\n",
    "# with the identity pose.\n",
    "map_choicemap = genjax.indexed_choice_map(\n",
    "            jnp.arange(1),\n",
    "            flat_choicemaps_to_vector_choicemap([\n",
    "                table_choicemap\n",
    "            ])\n",
    "        )\n",
    "constraints = genjax.choice_map({\n",
    "    \"n_objects\": 1,\n",
    "    \"camera_pose\": jnp.eye(4),\n",
    "    \"image\": b.unproject_depth_jit(\n",
    "        rgbd_scaled_down.depth,\n",
    "        rgbd_scaled_down.intrinsics\n",
    "    ),\n",
    "    \"objects\": map_choicemap,\n",
    "    \"variance\": 0.02,\n",
    "    \"outlier_prob\": 0.0005\n",
    "})\n",
    "console.print(constraints)"
   ]
  },
  {
   "cell_type": "code",
   "execution_count": 10,
   "metadata": {},
   "outputs": [],
   "source": [
    "model_args = (\n",
    "    jnp.arange(max_n_objects), # max_n_objects_array\n",
    "    # possible_object_indices\n",
    "    jnp.arange(len(b.RENDERER.meshes)),\n",
    "    # pose_bounds\n",
    "    jnp.array([-jnp.ones(3)*5.0, jnp.ones(3)*5.0]),\n",
    "    # contact_bounds\n",
    "    jnp.array([jnp.array([-1., -1., -jnp.pi]), jnp.array([1., 1., jnp.pi])]),\n",
    "    # all_box_dims\n",
    "    b.RENDERER.model_box_dims\n",
    ")"
   ]
  },
  {
   "cell_type": "code",
   "execution_count": 11,
   "metadata": {},
   "outputs": [],
   "source": [
    "key = jax.random.PRNGKey(0)"
   ]
  },
  {
   "cell_type": "code",
   "execution_count": 12,
   "metadata": {},
   "outputs": [],
   "source": [
    "subkey, key = jax.random.split(key)\n",
    "tr1, w1 = model.importance(subkey, constraints, model_args)\n",
    "viz_trace_meshcat(tr1)"
   ]
  },
  {
   "cell_type": "code",
   "execution_count": 13,
   "metadata": {},
   "outputs": [],
   "source": [
    "def add_object_choicemap(prev_n_objects, cat_idx):\n",
    "    obj_idx = prev_n_objects\n",
    "    return genjax.choice_map({\n",
    "        \"n_objects\": prev_n_objects + 1,\n",
    "        \"objects\": genjax.indexed_choice_map(\n",
    "            jnp.array([obj_idx]),\n",
    "            flat_choicemaps_to_vector_choicemap([obj_choicemap(cat_idx)])\n",
    "        )\n",
    "    })\n",
    "\n",
    "def add_object(tr, cat_idx):\n",
    "    n_objects = tr[\"n_objects\"]\n",
    "    newtr, _, _, _ = tr.update(\n",
    "        key,\n",
    "        add_object_choicemap(n_objects, cat_idx)\n",
    "    )\n",
    "    return newtr"
   ]
  },
  {
   "cell_type": "code",
   "execution_count": 14,
   "metadata": {},
   "outputs": [],
   "source": [
    "viz_trace_meshcat(add_object(tr1, 3))"
   ]
  },
  {
   "cell_type": "markdown",
   "metadata": {},
   "source": [
    "### Inference"
   ]
  },
  {
   "cell_type": "code",
   "execution_count": 15,
   "metadata": {},
   "outputs": [],
   "source": [
    "grid_params = [\n",
    "    (0.65, jnp.pi, (30,30,15)),\n",
    "    (0.2, jnp.pi, (15,15,15)),\n",
    "    (0.1, jnp.pi, (15,15,15)),\n",
    "    (0.05, jnp.pi, (15,15,15)),\n",
    "    (0.02, jnp.pi, (9,9,51)),\n",
    "    (0.01, jnp.pi/5, (15, 15, 15))\n",
    "]\n",
    "\n",
    "contact_param_gridding_schedule = [\n",
    "    b.utils.make_translation_grid_enumeration_3d(\n",
    "        -x, -x, -ang,\n",
    "        x, x, ang,\n",
    "        *nums\n",
    "    )\n",
    "    for (x,ang,nums) in grid_params\n",
    "]\n",
    "\n",
    "def cp_choicemap(object_idx, v):\n",
    "    return genjax.choice_map({\n",
    "            \"objects\": genjax.indexed_choice_map(\n",
    "                jnp.array([object_idx]),\n",
    "                flat_choicemaps_to_vector_choicemap([genjax.choice_map({\"contact_params\": v})])\n",
    "            )\n",
    "        })\n",
    "def _c2f(key, tr, object_idx, contact_param_gridding_schedule):\n",
    "    updater = jax.jit(jax.vmap(lambda trace, v: trace.update(\n",
    "        key, cp_choicemap(object_idx, v)\n",
    "    )[0].get_score(), in_axes=(None, 0)))\n",
    "    cp = tr.get_retval().object_info.params[object_idx, ...]\n",
    "    for cp_grid in contact_param_gridding_schedule:\n",
    "        cps = cp + cp_grid\n",
    "        scores = updater(tr, cps)\n",
    "        cp = cps[jnp.argmax(scores)]\n",
    "    potential_trace = tr.update(key, cp_choicemap(object_idx, cp))[0]\n",
    "    return potential_trace\n",
    "\n",
    "c2f = jax.jit(_c2f)"
   ]
  },
  {
   "cell_type": "code",
   "execution_count": 16,
   "metadata": {},
   "outputs": [],
   "source": [
    "def _extend_then_c2f(key, tr, cat_idx, contact_param_gridding_schedule):\n",
    "    return c2f(\n",
    "        key,\n",
    "        add_object(tr, cat_idx),\n",
    "        tr[\"n_objects\"],\n",
    "        contact_param_gridding_schedule\n",
    "    )\n",
    "extend_then_c2f = jax.jit(_extend_then_c2f)"
   ]
  },
  {
   "cell_type": "code",
   "execution_count": 17,
   "metadata": {},
   "outputs": [],
   "source": [
    "key, _ = jax.random.split(key)\n",
    "tr2 = extend_then_c2f(key, tr1, 4, contact_param_gridding_schedule)\n",
    "viz_trace_meshcat(tr2)"
   ]
  },
  {
   "cell_type": "code",
   "execution_count": 18,
   "metadata": {},
   "outputs": [],
   "source": [
    "def extend_c2f_all_categories(key, tr, contact_param_gridding_schedule):\n",
    "    indices = jnp.arange(len(b.RENDERER.meshes))\n",
    "    keys = jax.random.split(key, len(indices))\n",
    "    potential_trs = [extend_then_c2f(key, tr, idx, contact_param_gridding_schedule) for (key, idx) in zip(keys, indices)]\n",
    "    scores = jnp.array([t.get_score() for t in potential_trs])\n",
    "    best_idx = jnp.argmax(scores)\n",
    "    return potential_trs[best_idx]"
   ]
  },
  {
   "cell_type": "code",
   "execution_count": 19,
   "metadata": {},
   "outputs": [],
   "source": [
    "tr2 = extend_c2f_all_categories(key, tr1, contact_param_gridding_schedule)\n",
    "viz_trace_meshcat(tr2)"
   ]
  },
  {
   "cell_type": "code",
   "execution_count": 20,
   "metadata": {},
   "outputs": [],
   "source": [
    "def extend_c2f_all_categories_n_times(key, tr, contact_param_gridding_schedule, n):\n",
    "    for _ in range(n):\n",
    "        tr = extend_c2f_all_categories(key, tr, contact_param_gridding_schedule)\n",
    "    return tr"
   ]
  },
  {
   "cell_type": "code",
   "execution_count": 21,
   "metadata": {},
   "outputs": [],
   "source": [
    "tr_ = extend_c2f_all_categories_n_times(key, tr1, contact_param_gridding_schedule, 5)\n",
    "viz_trace_meshcat(tr_)"
   ]
  },
  {
   "cell_type": "code",
   "execution_count": 22,
   "metadata": {},
   "outputs": [],
   "source": [
    "def fit_objects_until_convergence(key, tr, contact_param_gridding_schedule, eps=0.1, max_iter=10):\n",
    "    old_score = -jnp.inf\n",
    "    new_score = tr.project(genjax.select(\"image\"))\n",
    "    i = 1\n",
    "    print(\"Adding first object...\")\n",
    "    while new_score > old_score + eps and i < max_iter:\n",
    "        newtr = extend_c2f_all_categories(key, tr, contact_param_gridding_schedule)\n",
    "        old_score = new_score\n",
    "        new_score = newtr.project(genjax.select(\"image\"))\n",
    "        if new_score > old_score + eps:\n",
    "            tr = newtr\n",
    "        print(f\"Added object {i}.  Image score = {new_score}.\")\n",
    "        i += 1\n",
    "    return tr"
   ]
  },
  {
   "cell_type": "code",
   "execution_count": 24,
   "metadata": {},
   "outputs": [
    {
     "name": "stdout",
     "output_type": "stream",
     "text": [
      "Adding first object...\n",
      "Added object 1.  Image score = 42.366539001464844.\n",
      "Added object 2.  Image score = 43.42448043823242.\n",
      "Added object 3.  Image score = 44.124351501464844.\n",
      "Added object 4.  Image score = 44.677734375.\n",
      "Added object 5.  Image score = 45.27994918823242.\n",
      "Added object 6.  Image score = 45.42643356323242.\n",
      "Added object 7.  Image score = 45.42643356323242.\n"
     ]
    }
   ],
   "source": [
    "tr_ = fit_objects_until_convergence(key, tr1, contact_param_gridding_schedule)\n",
    "viz_trace_meshcat(tr_)"
   ]
  },
  {
   "cell_type": "code",
   "execution_count": 27,
   "metadata": {},
   "outputs": [
    {
     "data": {
      "text/plain": [
       "Array([    0,     4,     2,     3,     1,     1,     5, -1000], dtype=int32)"
      ]
     },
     "execution_count": 27,
     "metadata": {},
     "output_type": "execute_result"
    }
   ],
   "source": [
    "tr_.get_retval().object_info.category_index"
   ]
  },
  {
   "cell_type": "code",
   "execution_count": null,
   "metadata": {},
   "outputs": [],
   "source": []
  }
 ],
 "metadata": {
  "kernelspec": {
   "display_name": "bayes3d_genjax_2",
   "language": "python",
   "name": "python3"
  },
  "language_info": {
   "codemirror_mode": {
    "name": "ipython",
    "version": 3
   },
   "file_extension": ".py",
   "mimetype": "text/x-python",
   "name": "python",
   "nbconvert_exporter": "python",
   "pygments_lexer": "ipython3",
   "version": "3.9.18"
  }
 },
 "nbformat": 4,
 "nbformat_minor": 2
}
