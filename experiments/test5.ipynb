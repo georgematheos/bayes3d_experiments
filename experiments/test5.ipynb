{
 "cells": [
  {
   "cell_type": "code",
   "execution_count": 1,
   "metadata": {},
   "outputs": [],
   "source": [
    "%load_ext autoreload\n",
    "%autoreload 2"
   ]
  },
  {
   "cell_type": "code",
   "execution_count": 2,
   "metadata": {},
   "outputs": [],
   "source": [
    "import os\n",
    "import glob\n",
    "import pickle\n",
    "import jax\n",
    "import jax.numpy as jnp\n",
    "import bayes3d as b\n",
    "import genjax\n",
    "import matplotlib.pyplot as plt"
   ]
  },
  {
   "cell_type": "code",
   "execution_count": 3,
   "metadata": {},
   "outputs": [],
   "source": [
    "console = genjax.console(enforce_checkify=True)"
   ]
  },
  {
   "cell_type": "code",
   "execution_count": 4,
   "metadata": {},
   "outputs": [
    {
     "name": "stdout",
     "output_type": "stream",
     "text": [
      "You can open the visualizer by visiting the following URL:\n",
      "http://127.0.0.1:7000/static/\n"
     ]
    }
   ],
   "source": [
    "b.setup_visualizer()"
   ]
  },
  {
   "cell_type": "code",
   "execution_count": 5,
   "metadata": {},
   "outputs": [],
   "source": [
    "NEAR = 0.1\n",
    "FAR = 5.0"
   ]
  },
  {
   "cell_type": "code",
   "execution_count": 6,
   "metadata": {},
   "outputs": [
    {
     "name": "stdout",
     "output_type": "stream",
     "text": [
      "Got rgbd_original\n",
      "Got rgb immage scaled down.\n"
     ]
    },
    {
     "name": "stderr",
     "output_type": "stream",
     "text": [
      "[E rasterize_gl.cpp:121] OpenGL version reported as 4.6\n"
     ]
    },
    {
     "name": "stdout",
     "output_type": "stream",
     "text": [
      "Increasing frame buffer size to (width, height, depth) = (64, 64, 1024)\n",
      "Added table mesh.\n",
      "Added pillar mesh.\n",
      "Added mesh at path /home/georgematheos/bayes3d/assets/bop/ycbv/models/obj_000002.ply.\n",
      "Added mesh at path /home/georgematheos/bayes3d/assets/bop/ycbv/models/obj_000003.ply.\n",
      "Added mesh at path /home/georgematheos/bayes3d/assets/bop/ycbv/models/obj_000011.ply.\n",
      "Added mesh at path /home/georgematheos/bayes3d/assets/bop/ycbv/models/obj_000013.ply.\n",
      "Added mesh at path /home/georgematheos/bayes3d/assets/bop/ycbv/models/obj_000021.ply.\n"
     ]
    }
   ],
   "source": [
    "with open('../data.pkl', 'rb') as f:\n",
    "    data = pickle.load(f)\n",
    "\n",
    "camera_image_1 = data[\"init\"][0]\n",
    "categories_on_table = data[\"init\"][1]\n",
    "target_category = data[\"init\"][2]\n",
    "table_info = data[\"init\"][3] # table pose and dimensions\n",
    "n_objects = 5\n",
    "\n",
    "X_WT = b.t3d.pybullet_pose_to_transform(table_info[0])\n",
    "X_WC = b.t3d.pybullet_pose_to_transform(camera_image_1[\"camera_pose\"])\n",
    "X_CT = b.t3d.inverse_pose(X_WC) @ X_WT\n",
    "\n",
    "def image_to_rgbd(camera_image_1):\n",
    "    K = camera_image_1['camera_matrix']\n",
    "    rgb = camera_image_1['rgbPixels']\n",
    "    depth = camera_image_1['depthPixels']\n",
    "    camera_pose = camera_image_1['camera_pose']\n",
    "    camera_pose = b.t3d.pybullet_pose_to_transform(camera_pose)\n",
    "    fx, fy, cx, cy = K[0,0],K[1,1],K[0,2],K[1,2]\n",
    "    h,w = depth.shape\n",
    "    rgbd_original = b.RGBD(rgb, depth, camera_pose, b.Intrinsics(h,w,fx,fy,cx,cy,NEAR,FAR))\n",
    "    return rgbd_original\n",
    "\n",
    "rgbd_original = image_to_rgbd(camera_image_1)\n",
    "print(\"Got rgbd_original\")\n",
    "\n",
    "scaling_factor = 0.2\n",
    "rgbd_scaled_down = b.RGBD.scale_rgbd(rgbd_original, scaling_factor)\n",
    "print(\"Got rgb immage scaled down.\")\n",
    "\n",
    "b.setup_renderer(rgbd_scaled_down.intrinsics)\n",
    "\n",
    "# os.path.join(os.path.abspath(''), 'bayes3d/assets/bop/ycbv/models')# \n",
    "model_dir = os.path.join(os.path.abspath('../..'), 'bayes3d/assets/bop/ycbv/models')\n",
    "mesh_path = os.path.join(model_dir,\"obj_\" + \"{}\".format(13+1).rjust(6, '0') + \".ply\")\n",
    "ycb_filenames = glob.glob(os.path.join(model_dir, \"*.ply\"))\n",
    "ycb_index_order = [int(s.split(\"/\")[-1].split(\"_\")[-1].split(\".\")[0]) for s in ycb_filenames]\n",
    "sorted_ycb_filenames = [s for _,s in sorted(zip(ycb_index_order, ycb_filenames))]\n",
    "\n",
    "relevant_objects = [any(x in name for x in categories_on_table) for (i, name) in enumerate(b.utils.ycb_loader.MODEL_NAMES)]\n",
    "relevant_object_names = [b.utils.ycb_loader.MODEL_NAMES[i] for i in range(len(b.utils.ycb_loader.MODEL_NAMES)) if relevant_objects[i]]\n",
    "filtered_filenames = [sorted_ycb_filenames[i] for i in range(len(sorted_ycb_filenames)) if relevant_objects[i]]\n",
    "\n",
    "table_dims = table_info[1:]\n",
    "table_mesh = b.utils.make_cuboid_mesh(table_dims)\n",
    "b.RENDERER.add_mesh(table_mesh, \"table\")\n",
    "print(\"Added table mesh.\")\n",
    "\n",
    "pillar_mesh = b.utils.make_cuboid_mesh(jnp.array([0.02, 0.02, 0.5]))\n",
    "b.RENDERER.add_mesh(pillar_mesh, \"pillar\")\n",
    "print(\"Added pillar mesh.\")\n",
    "\n",
    "for model_path in filtered_filenames:\n",
    "    b.RENDERER.add_mesh_from_file(model_path, scaling_factor=1.0/1000.0)\n",
    "    print(f\"Added mesh at path {model_path}.\")"
   ]
  },
  {
   "cell_type": "markdown",
   "metadata": {},
   "source": [
    "### Load model"
   ]
  },
  {
   "cell_type": "code",
   "execution_count": 7,
   "metadata": {},
   "outputs": [],
   "source": [
    "from src.old_models.model2 import model, viz_trace_meshcat"
   ]
  },
  {
   "cell_type": "code",
   "execution_count": 8,
   "metadata": {},
   "outputs": [
    {
     "data": {
      "text/html": [
       "<pre style=\"white-space:pre;overflow-x:auto;line-height:normal;font-family:Menlo,'DejaVu Sans Mono',consolas,'Courier New',monospace\"><span style=\"font-weight: bold\">(HierarchicalChoiceMap)</span>\n",
       "├── <span style=\"font-weight: bold\">:a</span>\n",
       "│   └── <span style=\"font-weight: bold\">(ValueChoice)</span>\n",
       "│       └──  i32[2,2]\n",
       "└── <span style=\"font-weight: bold\">:b</span>\n",
       "    └── <span style=\"font-weight: bold\">(ValueChoice)</span>\n",
       "        └──  i32[2,2]\n",
       "</pre>\n"
      ],
      "text/plain": [
       "\u001b[1m(HierarchicalChoiceMap)\u001b[0m\n",
       "├── \u001b[1m:a\u001b[0m\n",
       "│   └── \u001b[1m(ValueChoice)\u001b[0m\n",
       "│       └──  i32[2,2]\n",
       "└── \u001b[1m:b\u001b[0m\n",
       "    └── \u001b[1m(ValueChoice)\u001b[0m\n",
       "        └──  i32[2,2]\n"
      ]
     },
     "metadata": {},
     "output_type": "display_data"
    }
   ],
   "source": [
    "def flat_choicemaps_to_vector_choicemap(choicemaps):\n",
    "    cm = genjax.choice_map({\n",
    "        k : jnp.array([c.get_submap(k).get_value() for c in choicemaps])\n",
    "        for (k, _) in choicemaps[0].get_submaps_shallow()\n",
    "    })\n",
    "    return cm\n",
    "\n",
    "cm = flat_choicemaps_to_vector_choicemap([\n",
    "    genjax.choice_map({\"a\": jnp.array([3, 2]), \"b\": jnp.array([1, 0])}),\n",
    "    genjax.choice_map({\"a\": jnp.array([5, 4]), \"b\": jnp.array([3, 2])}),\n",
    "])\n",
    "console.print(cm)"
   ]
  },
  {
   "cell_type": "code",
   "execution_count": 9,
   "metadata": {},
   "outputs": [],
   "source": [
    "obs_img = b.unproject_depth_jit(\n",
    "        rgbd_scaled_down.depth,\n",
    "        rgbd_scaled_down.intrinsics\n",
    "    )"
   ]
  },
  {
   "cell_type": "code",
   "execution_count": 10,
   "metadata": {},
   "outputs": [
    {
     "data": {
      "text/plain": [
       "0.1"
      ]
     },
     "execution_count": 10,
     "metadata": {},
     "output_type": "execute_result"
    }
   ],
   "source": [
    "rgbd_scaled_down.intrinsics.near"
   ]
  },
  {
   "cell_type": "code",
   "execution_count": 11,
   "metadata": {},
   "outputs": [
    {
     "data": {
      "text/plain": [
       "<matplotlib.image.AxesImage at 0x7f41fc733580>"
      ]
     },
     "execution_count": 11,
     "metadata": {},
     "output_type": "execute_result"
    },
    {
     "data": {
      "image/png": "[encoded data removed]",
      "text/plain": [
       "<Figure size 640x480 with 1 Axes>"
      ]
     },
     "metadata": {},
     "output_type": "display_data"
    }
   ],
   "source": [
    "plt.imshow((rgbd_scaled_down.depth < rgbd_scaled_down.intrinsics.far) )"
   ]
  },
  {
   "cell_type": "code",
   "execution_count": 12,
   "metadata": {},
   "outputs": [
    {
     "data": {
      "text/plain": [
       "<matplotlib.image.AxesImage at 0x7f420424dbb0>"
      ]
     },
     "execution_count": 12,
     "metadata": {},
     "output_type": "execute_result"
    },
    {
     "data": {
      "image/png": "[encoded data removed]",
      "text/plain": [
       "<Figure size 640x480 with 1 Axes>"
      ]
     },
     "metadata": {},
     "output_type": "display_data"
    }
   ],
   "source": [
    "plt.imshow(obs_img[..., 2])"
   ]
  },
  {
   "cell_type": "code",
   "execution_count": null,
   "metadata": {},
   "outputs": [],
   "source": []
  },
  {
   "cell_type": "code",
   "execution_count": 13,
   "metadata": {},
   "outputs": [
    {
     "data": {
      "text/html": [
       "<pre style=\"white-space:pre;overflow-x:auto;line-height:normal;font-family:Menlo,'DejaVu Sans Mono',consolas,'Courier New',monospace\"><span style=\"font-weight: bold\">(HierarchicalChoiceMap)</span>\n",
       "├── <span style=\"font-weight: bold\">:camera_pose</span>\n",
       "│   └── <span style=\"font-weight: bold\">(ValueChoice)</span>\n",
       "│       └──  f32[4,4]\n",
       "├── <span style=\"font-weight: bold\">:image</span>\n",
       "│   └── <span style=\"font-weight: bold\">(ValueChoice)</span>\n",
       "│       └──  f32[48,64,3]\n",
       "├── <span style=\"font-weight: bold\">:objects</span>\n",
       "│   └── <span style=\"font-weight: bold\">(IndexedChoiceMap,  i32[8])</span>\n",
       "│       └── <span style=\"font-weight: bold\">(HierarchicalChoiceMap)</span>\n",
       "│           ├── <span style=\"font-weight: bold\">:root_pose</span>\n",
       "│           │   └── <span style=\"font-weight: bold\">(ValueChoice)</span>\n",
       "│           │       └──  f32[8,4,4]\n",
       "│           ├── <span style=\"font-weight: bold\">:category_index</span>\n",
       "│           │   └── <span style=\"font-weight: bold\">(ValueChoice)</span>\n",
       "│           │       └──  i32[8]\n",
       "│           ├── <span style=\"font-weight: bold\">:parent_obj</span>\n",
       "│           │   └── <span style=\"font-weight: bold\">(ValueChoice)</span>\n",
       "│           │       └──  i32[8]\n",
       "│           ├── <span style=\"font-weight: bold\">:face_parent</span>\n",
       "│           │   └── <span style=\"font-weight: bold\">(ValueChoice)</span>\n",
       "│           │       └──  i32[8]\n",
       "│           ├── <span style=\"font-weight: bold\">:face_child</span>\n",
       "│           │   └── <span style=\"font-weight: bold\">(ValueChoice)</span>\n",
       "│           │       └──  i32[8]\n",
       "│           └── <span style=\"font-weight: bold\">:contact_params</span>\n",
       "│               └── <span style=\"font-weight: bold\">(ValueChoice)</span>\n",
       "│                   └──  f32[8,3]\n",
       "├── <span style=\"font-weight: bold\">:variance</span>\n",
       "│   └── <span style=\"font-weight: bold\">(ValueChoice)</span>\n",
       "│       └── (const) 0.02\n",
       "└── <span style=\"font-weight: bold\">:outlier_prob</span>\n",
       "    └── <span style=\"font-weight: bold\">(ValueChoice)</span>\n",
       "        └── (const) 0.0005\n",
       "</pre>\n"
      ],
      "text/plain": [
       "\u001b[1m(HierarchicalChoiceMap)\u001b[0m\n",
       "├── \u001b[1m:camera_pose\u001b[0m\n",
       "│   └── \u001b[1m(ValueChoice)\u001b[0m\n",
       "│       └──  f32[4,4]\n",
       "├── \u001b[1m:image\u001b[0m\n",
       "│   └── \u001b[1m(ValueChoice)\u001b[0m\n",
       "│       └──  f32[48,64,3]\n",
       "├── \u001b[1m:objects\u001b[0m\n",
       "│   └── \u001b[1m(IndexedChoiceMap,  i32[8])\u001b[0m\n",
       "│       └── \u001b[1m(HierarchicalChoiceMap)\u001b[0m\n",
       "│           ├── \u001b[1m:root_pose\u001b[0m\n",
       "│           │   └── \u001b[1m(ValueChoice)\u001b[0m\n",
       "│           │       └──  f32[8,4,4]\n",
       "│           ├── \u001b[1m:category_index\u001b[0m\n",
       "│           │   └── \u001b[1m(ValueChoice)\u001b[0m\n",
       "│           │       └──  i32[8]\n",
       "│           ├── \u001b[1m:parent_obj\u001b[0m\n",
       "│           │   └── \u001b[1m(ValueChoice)\u001b[0m\n",
       "│           │       └──  i32[8]\n",
       "│           ├── \u001b[1m:face_parent\u001b[0m\n",
       "│           │   └── \u001b[1m(ValueChoice)\u001b[0m\n",
       "│           │       └──  i32[8]\n",
       "│           ├── \u001b[1m:face_child\u001b[0m\n",
       "│           │   └── \u001b[1m(ValueChoice)\u001b[0m\n",
       "│           │       └──  i32[8]\n",
       "│           └── \u001b[1m:contact_params\u001b[0m\n",
       "│               └── \u001b[1m(ValueChoice)\u001b[0m\n",
       "│                   └──  f32[8,3]\n",
       "├── \u001b[1m:variance\u001b[0m\n",
       "│   └── \u001b[1m(ValueChoice)\u001b[0m\n",
       "│       └── (const) 0.02\n",
       "└── \u001b[1m:outlier_prob\u001b[0m\n",
       "    └── \u001b[1m(ValueChoice)\u001b[0m\n",
       "        └── (const) 0.0005\n"
      ]
     },
     "metadata": {},
     "output_type": "display_data"
    }
   ],
   "source": [
    "table_choicemap = genjax.choice_map({\n",
    "                    \"root_pose\": X_CT,\n",
    "                    \"category_index\": 0,\n",
    "                    \"parent_obj\": -1,\n",
    "                    \"face_parent\": 2,\n",
    "                    \"face_child\": 3,\n",
    "                    \"contact_params\": jnp.zeros(3)\n",
    "                })\n",
    "def obj_choicemap(category_idx):\n",
    "    return genjax.choice_map({\n",
    "        \"root_pose\": jnp.eye(4),\n",
    "        \"category_index\": category_idx,\n",
    "        \"parent_obj\": 0,\n",
    "        \"face_parent\": 2,\n",
    "        \"face_child\": 3,\n",
    "        \"contact_params\": jnp.zeros(3)\n",
    "    })\n",
    "\n",
    "max_n_objects = 8\n",
    "# Initialize the trace with the table, and all\n",
    "# the other objects initialized to be on the table\n",
    "# with the identity pose.\n",
    "map_choicemap = genjax.indexed_choice_map(\n",
    "            jnp.arange(max_n_objects),\n",
    "            flat_choicemaps_to_vector_choicemap([\n",
    "                table_choicemap,\n",
    "                *[obj_choicemap(i) for i in [\n",
    "                    2, 4, 3, 5, 1, 1, 6\n",
    "                ]]\n",
    "            ])\n",
    "        )\n",
    "constraints = genjax.choice_map({\n",
    "    \"camera_pose\": jnp.eye(4),\n",
    "    \"image\": b.unproject_depth_jit(\n",
    "        rgbd_scaled_down.depth,\n",
    "        rgbd_scaled_down.intrinsics\n",
    "    ),\n",
    "    \"objects\": map_choicemap,\n",
    "    \"variance\": 0.02,\n",
    "    \"outlier_prob\": 0.0005\n",
    "})\n",
    "console.print(constraints)"
   ]
  },
  {
   "cell_type": "code",
   "execution_count": 14,
   "metadata": {},
   "outputs": [],
   "source": [
    "model_args = (\n",
    "    jnp.arange(max_n_objects), # max_n_objects_array\n",
    "    1,               # n_objects\n",
    "    # possible_object_indices\n",
    "    jnp.arange(len(b.RENDERER.meshes)),\n",
    "    # pose_bounds\n",
    "    jnp.array([-jnp.ones(3)*5.0, jnp.ones(3)*5.0]),\n",
    "    # contact_bounds\n",
    "    jnp.array([jnp.array([-1., -1., -jnp.pi]), jnp.array([1., 1., jnp.pi])]),\n",
    "    # all_box_dims\n",
    "    b.RENDERER.model_box_dims\n",
    ")"
   ]
  },
  {
   "cell_type": "code",
   "execution_count": 15,
   "metadata": {},
   "outputs": [],
   "source": [
    "key = jax.random.PRNGKey(0)"
   ]
  },
  {
   "cell_type": "code",
   "execution_count": 16,
   "metadata": {},
   "outputs": [
    {
     "name": "stdout",
     "output_type": "stream",
     "text": [
      "Calling renderer...\n"
     ]
    }
   ],
   "source": [
    "subkey, key = jax.random.split(key)\n",
    "tr1, w1 = model.importance(subkey, constraints, model_args)\n",
    "viz_trace_meshcat(tr1)"
   ]
  },
  {
   "cell_type": "code",
   "execution_count": 17,
   "metadata": {},
   "outputs": [
    {
     "data": {
      "text/plain": [
       "<matplotlib.image.AxesImage at 0x7f41e41237c0>"
      ]
     },
     "execution_count": 17,
     "metadata": {},
     "output_type": "execute_result"
    },
    {
     "data": {
      "image/png": "[encoded data removed]",
      "text/plain": [
       "<Figure size 640x480 with 1 Axes>"
      ]
     },
     "metadata": {},
     "output_type": "display_data"
    }
   ],
   "source": [
    "plt.imshow(tr1.get_retval().rendered[:, :, 2])"
   ]
  },
  {
   "cell_type": "code",
   "execution_count": null,
   "metadata": {},
   "outputs": [],
   "source": []
  },
  {
   "cell_type": "code",
   "execution_count": 18,
   "metadata": {},
   "outputs": [],
   "source": [
    "from genjax import Diff, NoChange, UnknownChange"
   ]
  },
  {
   "cell_type": "code",
   "execution_count": 19,
   "metadata": {},
   "outputs": [],
   "source": [
    "def update_choicemap(obj_idx, cat_idx):\n",
    "    return genjax.choice_map({\n",
    "        \"objects\": genjax.indexed_choice_map(\n",
    "            jnp.array([obj_idx]),\n",
    "            flat_choicemaps_to_vector_choicemap([obj_choicemap(cat_idx)])\n",
    "        )\n",
    "    })"
   ]
  },
  {
   "cell_type": "code",
   "execution_count": 20,
   "metadata": {},
   "outputs": [],
   "source": [
    "def add_object(tr, cat_idx):\n",
    "    n_objects = tr.get_args()[1]\n",
    "    nochange_args = tuple(map(lambda v: Diff(v, NoChange), tr.get_args()))\n",
    "    new_args = (nochange_args[0], Diff(n_objects+1, UnknownChange), *nochange_args[2:])\n",
    "    newtr, _, _, _ = tr.update(\n",
    "        key,\n",
    "        update_choicemap(n_objects, cat_idx),\n",
    "        new_args)\n",
    "    return newtr"
   ]
  },
  {
   "cell_type": "code",
   "execution_count": 21,
   "metadata": {},
   "outputs": [
    {
     "name": "stdout",
     "output_type": "stream",
     "text": [
      "Calling renderer...\n"
     ]
    }
   ],
   "source": [
    "viz_trace_meshcat(add_object(tr1, 3))"
   ]
  },
  {
   "cell_type": "markdown",
   "metadata": {},
   "source": [
    "### Inference"
   ]
  },
  {
   "cell_type": "code",
   "execution_count": 22,
   "metadata": {},
   "outputs": [],
   "source": [
    "grid_params = [\n",
    "    (0.65, jnp.pi, (30,30,15)),\n",
    "    (0.2, jnp.pi, (15,15,15)),\n",
    "    (0.1, jnp.pi, (15,15,15)),\n",
    "    (0.05, jnp.pi, (15,15,15)),\n",
    "    (0.02, jnp.pi, (9,9,51)),\n",
    "    (0.01, jnp.pi/5, (15, 15, 15))\n",
    "]\n",
    "\n",
    "contact_param_gridding_schedule = [\n",
    "    b.utils.make_translation_grid_enumeration_3d(\n",
    "        -x, -x, -ang,\n",
    "        x, x, ang,\n",
    "        *nums\n",
    "    )\n",
    "    for (x,ang,nums) in grid_params\n",
    "]\n",
    "\n",
    "def cp_choicemap(object_idx, v):\n",
    "    return genjax.choice_map({\n",
    "            \"objects\": genjax.indexed_choice_map(\n",
    "                jnp.array([object_idx]),\n",
    "                flat_choicemaps_to_vector_choicemap([genjax.choice_map({\"contact_params\": v})])\n",
    "            )\n",
    "        })\n",
    "def _c2f(key, tr, object_idx, contact_param_gridding_schedule):\n",
    "    updater = jax.jit(jax.vmap(lambda trace, v: trace.update(\n",
    "        key, cp_choicemap(object_idx, v)\n",
    "    )[0].get_score(), in_axes=(None, 0)))\n",
    "    cp = tr.get_retval().object_info.params[object_idx, ...]\n",
    "    for cp_grid in contact_param_gridding_schedule:\n",
    "        cps = cp + cp_grid\n",
    "        scores = updater(tr, cps)\n",
    "        cp = cps[jnp.argmax(scores)]\n",
    "        # i = jax.random.randint(key, (1,), 0, len(scores))[0]\n",
    "        # cp = cps[i]\n",
    "    potential_trace = tr.update(key, cp_choicemap(object_idx, cp))[0]\n",
    "    return potential_trace\n",
    "\n",
    "c2f = jax.jit(_c2f)"
   ]
  },
  {
   "cell_type": "code",
   "execution_count": 23,
   "metadata": {},
   "outputs": [],
   "source": [
    "def _extend_then_c2f(key, tr, cat_idx, contact_param_gridding_schedule):\n",
    "    return c2f(\n",
    "        key,\n",
    "        add_object(tr, cat_idx),\n",
    "        tr.get_args()[1],\n",
    "        contact_param_gridding_schedule\n",
    "    )\n",
    "extend_then_c2f = jax.jit(_extend_then_c2f)"
   ]
  },
  {
   "cell_type": "code",
   "execution_count": 24,
   "metadata": {},
   "outputs": [
    {
     "name": "stdout",
     "output_type": "stream",
     "text": [
      "Calling renderer...\n",
      "Calling renderer...\n",
      "Calling renderer...\n",
      "Calling renderer...\n",
      "Calling renderer...\n"
     ]
    }
   ],
   "source": [
    "key, _ = jax.random.split(key)\n",
    "tr2 = extend_then_c2f(key, tr1, 4, contact_param_gridding_schedule)"
   ]
  },
  {
   "cell_type": "code",
   "execution_count": 25,
   "metadata": {},
   "outputs": [],
   "source": [
    "viz_trace_meshcat(tr2)"
   ]
  },
  {
   "cell_type": "markdown",
   "metadata": {},
   "source": [
    "Now, starting from tr1, try fitting all objects in sequence:"
   ]
  },
  {
   "cell_type": "code",
   "execution_count": 26,
   "metadata": {},
   "outputs": [],
   "source": [
    "trs = [tr1]\n",
    "for i in [2, 4, 3, 5, 1, 1]:\n",
    "    key, _ = jax.random.split(key)\n",
    "    trs.append(extend_then_c2f(key, trs[-1], i, contact_param_gridding_schedule))\n",
    "viz_trace_meshcat(trs[-1])"
   ]
  },
  {
   "cell_type": "markdown",
   "metadata": {},
   "source": [
    "### inference variant without knowledge of object classes"
   ]
  },
  {
   "cell_type": "code",
   "execution_count": 27,
   "metadata": {},
   "outputs": [],
   "source": [
    "def extend_c2f_all_categories(key, tr, contact_param_gridding_schedule):\n",
    "    indices = jnp.arange(len(b.RENDERER.meshes))\n",
    "    keys = jax.random.split(key, len(indices))\n",
    "    potential_trs = [extend_then_c2f(key, tr, idx, contact_param_gridding_schedule) for (key, idx) in zip(keys, indices)]\n",
    "    scores = jnp.array([t.get_score() for t in potential_trs])\n",
    "    best_idx = jnp.argmax(scores)\n",
    "    return potential_trs[best_idx]"
   ]
  },
  {
   "cell_type": "code",
   "execution_count": 28,
   "metadata": {},
   "outputs": [
    {
     "name": "stdout",
     "output_type": "stream",
     "text": [
      "Calling renderer...\n"
     ]
    }
   ],
   "source": [
    "tr2 = extend_c2f_all_categories(key, tr1, contact_param_gridding_schedule)"
   ]
  },
  {
   "cell_type": "code",
   "execution_count": 29,
   "metadata": {},
   "outputs": [],
   "source": [
    "viz_trace_meshcat(tr2)"
   ]
  },
  {
   "cell_type": "code",
   "execution_count": 30,
   "metadata": {},
   "outputs": [],
   "source": [
    "def extend_c2f_all_categories_n_times(key, tr, contact_param_gridding_schedule, n):\n",
    "    for _ in range(n):\n",
    "        tr = extend_c2f_all_categories(key, tr, contact_param_gridding_schedule)\n",
    "    return tr"
   ]
  },
  {
   "cell_type": "code",
   "execution_count": 31,
   "metadata": {},
   "outputs": [],
   "source": [
    "tr_ = extend_c2f_all_categories_n_times(key, tr1, contact_param_gridding_schedule, 5)"
   ]
  },
  {
   "cell_type": "code",
   "execution_count": 32,
   "metadata": {},
   "outputs": [],
   "source": [
    "viz_trace_meshcat(tr_)"
   ]
  },
  {
   "cell_type": "code",
   "execution_count": 33,
   "metadata": {},
   "outputs": [],
   "source": [
    "def fit_objects_until_convergence(key, tr, contact_param_gridding_schedule, eps=0.1, max_iter=10):\n",
    "    old_score = -jnp.inf\n",
    "    new_score = tr.project(genjax.select(\"image\"))\n",
    "    i = 1\n",
    "    print(\"Adding first object...\")\n",
    "    while new_score > old_score + eps and i < max_iter:\n",
    "        newtr = extend_c2f_all_categories(key, tr, contact_param_gridding_schedule)\n",
    "        old_score = new_score\n",
    "        new_score = newtr.project(genjax.select(\"image\"))\n",
    "        if new_score > old_score + eps:\n",
    "            tr = newtr\n",
    "        print(f\"Added object {i}.  Image score = {new_score}.\")\n",
    "        i += 1\n",
    "    return tr"
   ]
  },
  {
   "cell_type": "code",
   "execution_count": 39,
   "metadata": {},
   "outputs": [
    {
     "name": "stdout",
     "output_type": "stream",
     "text": [
      "Adding first object...\n",
      "Added object 1.  Image score = 42.366539001464844.\n",
      "Added object 2.  Image score = 43.42448043823242.\n",
      "Added object 3.  Image score = 44.124351501464844.\n",
      "Added object 4.  Image score = 44.677734375.\n",
      "Added object 5.  Image score = 45.27994918823242.\n",
      "Added object 6.  Image score = 45.42643356323242.\n",
      "Added object 7.  Image score = 45.52408981323242.\n"
     ]
    }
   ],
   "source": [
    "tr_ = fit_objects_until_convergence(key, tr1, contact_param_gridding_schedule)"
   ]
  },
  {
   "cell_type": "code",
   "execution_count": 40,
   "metadata": {},
   "outputs": [],
   "source": [
    "viz_trace_meshcat(tr_)"
   ]
  },
  {
   "cell_type": "code",
   "execution_count": null,
   "metadata": {},
   "outputs": [],
   "source": []
  },
  {
   "cell_type": "code",
   "execution_count": null,
   "metadata": {},
   "outputs": [],
   "source": []
  },
  {
   "cell_type": "code",
   "execution_count": null,
   "metadata": {},
   "outputs": [],
   "source": []
  },
  {
   "cell_type": "markdown",
   "metadata": {},
   "source": [
    "### Attempt at a VMAP version\n",
    "\n",
    "Hmm, but apparently the nvdiffrast renderer doesn't support vmap over object identity, so this may be causing the problem.  (Though it looks like the problem actually first occurs in scene graph math, so maybe it's something else.)"
   ]
  },
  {
   "cell_type": "code",
   "execution_count": 36,
   "metadata": {},
   "outputs": [],
   "source": [
    "def cp_catidx_choicemap(object_idx, cat_idx, v):\n",
    "    return genjax.choice_map({\n",
    "            \"objects\": genjax.indexed_choice_map(\n",
    "                jnp.array([object_idx]),\n",
    "                flat_choicemaps_to_vector_choicemap([genjax.choice_map({\n",
    "                    \"contact_params\": v,\n",
    "                    \"category_index\": cat_idx\n",
    "                })])\n",
    "            )\n",
    "        })\n",
    "def _c2f_given_cat(key, tr, object_idx, cat_idx, contact_param_gridding_schedule):\n",
    "    tr = add_object(tr, cat_idx)\n",
    "    updater = jax.jit(jax.vmap(lambda trace, v: trace.update(\n",
    "        key, cp_choicemap(object_idx, v)\n",
    "    )[0].get_score(), in_axes=(None, 0)))\n",
    "    cp = tr.get_retval().object_info.params[object_idx, ...]\n",
    "    for cp_grid in contact_param_gridding_schedule:\n",
    "        cps = cp + cp_grid\n",
    "        scores = updater(tr, cps)\n",
    "        cp = cps[jnp.argmax(scores)]\n",
    "        # i = jax.random.randint(key, (1,), 0, len(scores))[0]\n",
    "        # cp = cps[i]\n",
    "    potential_trace = tr.update(key, cp_choicemap(object_idx, cp))[0]\n",
    "    return potential_trace\n",
    "c2f_given_cat = jax.jit(_c2f_given_cat)\n",
    "\n",
    "__c2f_and_catsearch = jax.vmap(c2f_given_cat, in_axes=(None, None, None, 0, None))\n",
    "def _c2f_and_catsearch(key, tr, object_idx, contact_param_gridding_schedule):\n",
    "    trs = __c2f_and_catsearch(\n",
    "        key, tr, object_idx,\n",
    "        jnp.arange(len(b.RENDERER.meshes)),\n",
    "        contact_param_gridding_schedule\n",
    "    )\n",
    "    scores = jax.vmap(lambda tr: tr.get_score())(trs)\n",
    "    best_idx = scores.argmax()\n",
    "    return jax.tree_util.tree_map(lambda x: x[best_idx], trs)\n",
    "\n",
    "c2f_and_catsearch = jax.jit(_c2f_and_catsearch)"
   ]
  },
  {
   "cell_type": "code",
   "execution_count": 37,
   "metadata": {},
   "outputs": [
    {
     "name": "stdout",
     "output_type": "stream",
     "text": [
      "Calling renderer...\n"
     ]
    },
    {
     "ename": "ValueError",
     "evalue": "Poses Original Shape: (2, 1, 8, 4, 4) Poses Shape:  (2, 8, 4, 4) Indices Shape: (2, 8)",
     "output_type": "error",
     "traceback": [
      "\u001b[0;31m---------------------------------------------------------------------------\u001b[0m",
      "\u001b[0;31mJaxStackTraceBeforeTransformation\u001b[0m         Traceback (most recent call last)",
      "File \u001b[0;32m/opt/conda/envs/bayes3d_genjax_2/lib/python3.9/runpy.py:197\u001b[0m, in \u001b[0;36m_run_module_as_main\u001b[0;34m()\u001b[0m\n\u001b[1;32m    196\u001b[0m     sys\u001b[38;5;241m.\u001b[39margv[\u001b[38;5;241m0\u001b[39m] \u001b[38;5;241m=\u001b[39m mod_spec\u001b[38;5;241m.\u001b[39morigin\n\u001b[0;32m--> 197\u001b[0m \u001b[38;5;28;01mreturn\u001b[39;00m _run_code(code, main_globals, \u001b[38;5;28;01mNone\u001b[39;00m,\n\u001b[1;32m    198\u001b[0m                  \u001b[38;5;124m\"\u001b[39m\u001b[38;5;124m__main__\u001b[39m\u001b[38;5;124m\"\u001b[39m, mod_spec)\n",
      "File \u001b[0;32m/opt/conda/envs/bayes3d_genjax_2/lib/python3.9/runpy.py:87\u001b[0m, in \u001b[0;36m_run_code\u001b[0;34m()\u001b[0m\n\u001b[1;32m     80\u001b[0m run_globals\u001b[38;5;241m.\u001b[39mupdate(\u001b[38;5;18m__name__\u001b[39m \u001b[38;5;241m=\u001b[39m mod_name,\n\u001b[1;32m     81\u001b[0m                    \u001b[38;5;18m__file__\u001b[39m \u001b[38;5;241m=\u001b[39m fname,\n\u001b[1;32m     82\u001b[0m                    __cached__ \u001b[38;5;241m=\u001b[39m cached,\n\u001b[0;32m   (...)\u001b[0m\n\u001b[1;32m     85\u001b[0m                    __package__ \u001b[38;5;241m=\u001b[39m pkg_name,\n\u001b[1;32m     86\u001b[0m                    __spec__ \u001b[38;5;241m=\u001b[39m mod_spec)\n\u001b[0;32m---> 87\u001b[0m exec(code, run_globals)\n\u001b[1;32m     88\u001b[0m \u001b[38;5;28;01mreturn\u001b[39;00m run_globals\n",
      "File \u001b[0;32m~/.local/lib/python3.9/site-packages/ipykernel_launcher.py:17\u001b[0m\n\u001b[1;32m     15\u001b[0m \u001b[38;5;28;01mfrom\u001b[39;00m \u001b[38;5;21;01mipykernel\u001b[39;00m \u001b[38;5;28;01mimport\u001b[39;00m kernelapp \u001b[38;5;28;01mas\u001b[39;00m app\n\u001b[0;32m---> 17\u001b[0m app\u001b[38;5;241m.\u001b[39mlaunch_new_instance()\n",
      "File \u001b[0;32m~/.local/lib/python3.9/site-packages/traitlets/config/application.py:1053\u001b[0m, in \u001b[0;36mlaunch_instance\u001b[0;34m()\u001b[0m\n\u001b[1;32m   1052\u001b[0m app\u001b[38;5;241m.\u001b[39minitialize(argv)\n\u001b[0;32m-> 1053\u001b[0m app\u001b[38;5;241m.\u001b[39mstart()\n",
      "File \u001b[0;32m~/.local/lib/python3.9/site-packages/ipykernel/kernelapp.py:736\u001b[0m, in \u001b[0;36mstart\u001b[0;34m()\u001b[0m\n\u001b[1;32m    735\u001b[0m \u001b[38;5;28;01mtry\u001b[39;00m:\n\u001b[0;32m--> 736\u001b[0m     \u001b[38;5;28mself\u001b[39m\u001b[38;5;241m.\u001b[39mio_loop\u001b[38;5;241m.\u001b[39mstart()\n\u001b[1;32m    737\u001b[0m \u001b[38;5;28;01mexcept\u001b[39;00m \u001b[38;5;167;01mKeyboardInterrupt\u001b[39;00m:\n",
      "File \u001b[0;32m~/.local/lib/python3.9/site-packages/tornado/platform/asyncio.py:195\u001b[0m, in \u001b[0;36mstart\u001b[0;34m()\u001b[0m\n\u001b[1;32m    194\u001b[0m \u001b[38;5;28;01mdef\u001b[39;00m \u001b[38;5;21mstart\u001b[39m(\u001b[38;5;28mself\u001b[39m) \u001b[38;5;241m-\u001b[39m\u001b[38;5;241m>\u001b[39m \u001b[38;5;28;01mNone\u001b[39;00m:\n\u001b[0;32m--> 195\u001b[0m     \u001b[38;5;28mself\u001b[39m\u001b[38;5;241m.\u001b[39masyncio_loop\u001b[38;5;241m.\u001b[39mrun_forever()\n",
      "File \u001b[0;32m/opt/conda/envs/bayes3d_genjax_2/lib/python3.9/asyncio/base_events.py:601\u001b[0m, in \u001b[0;36mrun_forever\u001b[0;34m()\u001b[0m\n\u001b[1;32m    600\u001b[0m \u001b[38;5;28;01mwhile\u001b[39;00m \u001b[38;5;28;01mTrue\u001b[39;00m:\n\u001b[0;32m--> 601\u001b[0m     \u001b[38;5;28mself\u001b[39m\u001b[38;5;241m.\u001b[39m_run_once()\n\u001b[1;32m    602\u001b[0m     \u001b[38;5;28;01mif\u001b[39;00m \u001b[38;5;28mself\u001b[39m\u001b[38;5;241m.\u001b[39m_stopping:\n",
      "File \u001b[0;32m/opt/conda/envs/bayes3d_genjax_2/lib/python3.9/asyncio/base_events.py:1905\u001b[0m, in \u001b[0;36m_run_once\u001b[0;34m()\u001b[0m\n\u001b[1;32m   1904\u001b[0m     \u001b[38;5;28;01melse\u001b[39;00m:\n\u001b[0;32m-> 1905\u001b[0m         handle\u001b[38;5;241m.\u001b[39m_run()\n\u001b[1;32m   1906\u001b[0m handle \u001b[38;5;241m=\u001b[39m \u001b[38;5;28;01mNone\u001b[39;00m\n",
      "File \u001b[0;32m/opt/conda/envs/bayes3d_genjax_2/lib/python3.9/asyncio/events.py:80\u001b[0m, in \u001b[0;36m_run\u001b[0;34m()\u001b[0m\n\u001b[1;32m     79\u001b[0m \u001b[38;5;28;01mtry\u001b[39;00m:\n\u001b[0;32m---> 80\u001b[0m     \u001b[38;5;28mself\u001b[39m\u001b[38;5;241m.\u001b[39m_context\u001b[38;5;241m.\u001b[39mrun(\u001b[38;5;28mself\u001b[39m\u001b[38;5;241m.\u001b[39m_callback, \u001b[38;5;241m*\u001b[39m\u001b[38;5;28mself\u001b[39m\u001b[38;5;241m.\u001b[39m_args)\n\u001b[1;32m     81\u001b[0m \u001b[38;5;28;01mexcept\u001b[39;00m (\u001b[38;5;167;01mSystemExit\u001b[39;00m, \u001b[38;5;167;01mKeyboardInterrupt\u001b[39;00m):\n",
      "File \u001b[0;32m~/.local/lib/python3.9/site-packages/ipykernel/kernelbase.py:516\u001b[0m, in \u001b[0;36mdispatch_queue\u001b[0;34m()\u001b[0m\n\u001b[1;32m    515\u001b[0m \u001b[38;5;28;01mtry\u001b[39;00m:\n\u001b[0;32m--> 516\u001b[0m     \u001b[38;5;28;01mawait\u001b[39;00m \u001b[38;5;28mself\u001b[39m\u001b[38;5;241m.\u001b[39mprocess_one()\n\u001b[1;32m    517\u001b[0m \u001b[38;5;28;01mexcept\u001b[39;00m \u001b[38;5;167;01mException\u001b[39;00m:\n",
      "File \u001b[0;32m~/.local/lib/python3.9/site-packages/ipykernel/kernelbase.py:505\u001b[0m, in \u001b[0;36mprocess_one\u001b[0;34m()\u001b[0m\n\u001b[1;32m    504\u001b[0m         \u001b[38;5;28;01mreturn\u001b[39;00m \u001b[38;5;28;01mNone\u001b[39;00m\n\u001b[0;32m--> 505\u001b[0m \u001b[38;5;28;01mawait\u001b[39;00m dispatch(\u001b[38;5;241m*\u001b[39margs)\n",
      "File \u001b[0;32m~/.local/lib/python3.9/site-packages/ipykernel/kernelbase.py:412\u001b[0m, in \u001b[0;36mdispatch_shell\u001b[0;34m()\u001b[0m\n\u001b[1;32m    411\u001b[0m     \u001b[38;5;28;01mif\u001b[39;00m inspect\u001b[38;5;241m.\u001b[39misawaitable(result):\n\u001b[0;32m--> 412\u001b[0m         \u001b[38;5;28;01mawait\u001b[39;00m result\n\u001b[1;32m    413\u001b[0m \u001b[38;5;28;01mexcept\u001b[39;00m \u001b[38;5;167;01mException\u001b[39;00m:\n",
      "File \u001b[0;32m~/.local/lib/python3.9/site-packages/ipykernel/kernelbase.py:740\u001b[0m, in \u001b[0;36mexecute_request\u001b[0;34m()\u001b[0m\n\u001b[1;32m    739\u001b[0m \u001b[38;5;28;01mif\u001b[39;00m inspect\u001b[38;5;241m.\u001b[39misawaitable(reply_content):\n\u001b[0;32m--> 740\u001b[0m     reply_content \u001b[38;5;241m=\u001b[39m \u001b[38;5;28;01mawait\u001b[39;00m reply_content\n\u001b[1;32m    742\u001b[0m \u001b[38;5;66;03m# Flush output before sending the reply.\u001b[39;00m\n",
      "File \u001b[0;32m~/.local/lib/python3.9/site-packages/ipykernel/ipkernel.py:422\u001b[0m, in \u001b[0;36mdo_execute\u001b[0;34m()\u001b[0m\n\u001b[1;32m    421\u001b[0m \u001b[38;5;28;01mif\u001b[39;00m with_cell_id:\n\u001b[0;32m--> 422\u001b[0m     res \u001b[38;5;241m=\u001b[39m shell\u001b[38;5;241m.\u001b[39mrun_cell(\n\u001b[1;32m    423\u001b[0m         code,\n\u001b[1;32m    424\u001b[0m         store_history\u001b[38;5;241m=\u001b[39mstore_history,\n\u001b[1;32m    425\u001b[0m         silent\u001b[38;5;241m=\u001b[39msilent,\n\u001b[1;32m    426\u001b[0m         cell_id\u001b[38;5;241m=\u001b[39mcell_id,\n\u001b[1;32m    427\u001b[0m     )\n\u001b[1;32m    428\u001b[0m \u001b[38;5;28;01melse\u001b[39;00m:\n",
      "File \u001b[0;32m~/.local/lib/python3.9/site-packages/ipykernel/zmqshell.py:546\u001b[0m, in \u001b[0;36mrun_cell\u001b[0;34m()\u001b[0m\n\u001b[1;32m    545\u001b[0m \u001b[38;5;28mself\u001b[39m\u001b[38;5;241m.\u001b[39m_last_traceback \u001b[38;5;241m=\u001b[39m \u001b[38;5;28;01mNone\u001b[39;00m\n\u001b[0;32m--> 546\u001b[0m \u001b[38;5;28;01mreturn\u001b[39;00m \u001b[38;5;28msuper\u001b[39m()\u001b[38;5;241m.\u001b[39mrun_cell(\u001b[38;5;241m*\u001b[39margs, \u001b[38;5;241m*\u001b[39m\u001b[38;5;241m*\u001b[39mkwargs)\n",
      "File \u001b[0;32m~/.local/lib/python3.9/site-packages/IPython/core/interactiveshell.py:3024\u001b[0m, in \u001b[0;36mrun_cell\u001b[0;34m()\u001b[0m\n\u001b[1;32m   3023\u001b[0m \u001b[38;5;28;01mtry\u001b[39;00m:\n\u001b[0;32m-> 3024\u001b[0m     result \u001b[38;5;241m=\u001b[39m \u001b[38;5;28mself\u001b[39m\u001b[38;5;241m.\u001b[39m_run_cell(\n\u001b[1;32m   3025\u001b[0m         raw_cell, store_history, silent, shell_futures, cell_id\n\u001b[1;32m   3026\u001b[0m     )\n\u001b[1;32m   3027\u001b[0m \u001b[38;5;28;01mfinally\u001b[39;00m:\n",
      "File \u001b[0;32m~/.local/lib/python3.9/site-packages/IPython/core/interactiveshell.py:3079\u001b[0m, in \u001b[0;36m_run_cell\u001b[0;34m()\u001b[0m\n\u001b[1;32m   3078\u001b[0m \u001b[38;5;28;01mtry\u001b[39;00m:\n\u001b[0;32m-> 3079\u001b[0m     result \u001b[38;5;241m=\u001b[39m runner(coro)\n\u001b[1;32m   3080\u001b[0m \u001b[38;5;28;01mexcept\u001b[39;00m \u001b[38;5;167;01mBaseException\u001b[39;00m \u001b[38;5;28;01mas\u001b[39;00m e:\n",
      "File \u001b[0;32m~/.local/lib/python3.9/site-packages/IPython/core/async_helpers.py:129\u001b[0m, in \u001b[0;36m_pseudo_sync_runner\u001b[0;34m()\u001b[0m\n\u001b[1;32m    128\u001b[0m \u001b[38;5;28;01mtry\u001b[39;00m:\n\u001b[0;32m--> 129\u001b[0m     coro\u001b[38;5;241m.\u001b[39msend(\u001b[38;5;28;01mNone\u001b[39;00m)\n\u001b[1;32m    130\u001b[0m \u001b[38;5;28;01mexcept\u001b[39;00m \u001b[38;5;167;01mStopIteration\u001b[39;00m \u001b[38;5;28;01mas\u001b[39;00m exc:\n",
      "File \u001b[0;32m~/.local/lib/python3.9/site-packages/IPython/core/interactiveshell.py:3284\u001b[0m, in \u001b[0;36mrun_cell_async\u001b[0;34m()\u001b[0m\n\u001b[1;32m   3281\u001b[0m interactivity \u001b[38;5;241m=\u001b[39m \u001b[38;5;124m\"\u001b[39m\u001b[38;5;124mnone\u001b[39m\u001b[38;5;124m\"\u001b[39m \u001b[38;5;28;01mif\u001b[39;00m silent \u001b[38;5;28;01melse\u001b[39;00m \u001b[38;5;28mself\u001b[39m\u001b[38;5;241m.\u001b[39mast_node_interactivity\n\u001b[0;32m-> 3284\u001b[0m has_raised \u001b[38;5;241m=\u001b[39m \u001b[38;5;28;01mawait\u001b[39;00m \u001b[38;5;28mself\u001b[39m\u001b[38;5;241m.\u001b[39mrun_ast_nodes(code_ast\u001b[38;5;241m.\u001b[39mbody, cell_name,\n\u001b[1;32m   3285\u001b[0m        interactivity\u001b[38;5;241m=\u001b[39minteractivity, compiler\u001b[38;5;241m=\u001b[39mcompiler, result\u001b[38;5;241m=\u001b[39mresult)\n\u001b[1;32m   3287\u001b[0m \u001b[38;5;28mself\u001b[39m\u001b[38;5;241m.\u001b[39mlast_execution_succeeded \u001b[38;5;241m=\u001b[39m \u001b[38;5;129;01mnot\u001b[39;00m has_raised\n",
      "File \u001b[0;32m~/.local/lib/python3.9/site-packages/IPython/core/interactiveshell.py:3466\u001b[0m, in \u001b[0;36mrun_ast_nodes\u001b[0;34m()\u001b[0m\n\u001b[1;32m   3465\u001b[0m     asy \u001b[38;5;241m=\u001b[39m compare(code)\n\u001b[0;32m-> 3466\u001b[0m \u001b[38;5;28;01mif\u001b[39;00m \u001b[38;5;28;01mawait\u001b[39;00m \u001b[38;5;28mself\u001b[39m\u001b[38;5;241m.\u001b[39mrun_code(code, result, async_\u001b[38;5;241m=\u001b[39masy):\n\u001b[1;32m   3467\u001b[0m     \u001b[38;5;28;01mreturn\u001b[39;00m \u001b[38;5;28;01mTrue\u001b[39;00m\n",
      "File \u001b[0;32m~/.local/lib/python3.9/site-packages/IPython/core/interactiveshell.py:3526\u001b[0m, in \u001b[0;36mrun_code\u001b[0;34m()\u001b[0m\n\u001b[1;32m   3525\u001b[0m     \u001b[38;5;28;01melse\u001b[39;00m:\n\u001b[0;32m-> 3526\u001b[0m         exec(code_obj, \u001b[38;5;28mself\u001b[39m\u001b[38;5;241m.\u001b[39muser_global_ns, \u001b[38;5;28mself\u001b[39m\u001b[38;5;241m.\u001b[39muser_ns)\n\u001b[1;32m   3527\u001b[0m \u001b[38;5;28;01mfinally\u001b[39;00m:\n\u001b[1;32m   3528\u001b[0m     \u001b[38;5;66;03m# Reset our crash handler in place\u001b[39;00m\n",
      "Cell \u001b[0;32mIn[16], line 2\u001b[0m\n\u001b[1;32m      1\u001b[0m subkey, key \u001b[38;5;241m=\u001b[39m jax\u001b[38;5;241m.\u001b[39mrandom\u001b[38;5;241m.\u001b[39msplit(key)\n\u001b[0;32m----> 2\u001b[0m tr1, w1 \u001b[38;5;241m=\u001b[39m model\u001b[38;5;241m.\u001b[39mimportance(subkey, constraints, model_args)\n\u001b[1;32m      3\u001b[0m viz_trace_meshcat(tr1)\n",
      "File \u001b[0;32m~/.local/lib/python3.9/site-packages/plum/function.py:484\u001b[0m, in \u001b[0;36m__call__\u001b[0;34m()\u001b[0m\n\u001b[1;32m    483\u001b[0m \u001b[38;5;28;01mdef\u001b[39;00m \u001b[38;5;21m__call__\u001b[39m(\u001b[38;5;28mself\u001b[39m, _, \u001b[38;5;241m*\u001b[39margs, \u001b[38;5;241m*\u001b[39m\u001b[38;5;241m*\u001b[39mkw_args):\n\u001b[0;32m--> 484\u001b[0m     \u001b[38;5;28;01mreturn\u001b[39;00m \u001b[38;5;28mself\u001b[39m\u001b[38;5;241m.\u001b[39m_f(\u001b[38;5;28mself\u001b[39m\u001b[38;5;241m.\u001b[39m_instance, \u001b[38;5;241m*\u001b[39margs, \u001b[38;5;241m*\u001b[39m\u001b[38;5;241m*\u001b[39mkw_args)\n",
      "File \u001b[0;32m~/.local/lib/python3.9/site-packages/plum/function.py:368\u001b[0m, in \u001b[0;36m__call__\u001b[0;34m()\u001b[0m\n\u001b[1;32m    367\u001b[0m method, return_type \u001b[38;5;241m=\u001b[39m \u001b[38;5;28mself\u001b[39m\u001b[38;5;241m.\u001b[39m_resolve_method_with_cache(args\u001b[38;5;241m=\u001b[39margs)\n\u001b[0;32m--> 368\u001b[0m \u001b[38;5;28;01mreturn\u001b[39;00m _convert(method(\u001b[38;5;241m*\u001b[39margs, \u001b[38;5;241m*\u001b[39m\u001b[38;5;241m*\u001b[39mkw_args), return_type)\n",
      "File \u001b[0;32m~/bayes3d_genjax/genjax/src/genjax/_src/generative_functions/static/static_gen_fn.py:161\u001b[0m, in \u001b[0;36mimportance\u001b[0;34m()\u001b[0m\n\u001b[1;32m    147\u001b[0m syntax_sugar_handled \u001b[38;5;241m=\u001b[39m push_trace_overload_stack(\n\u001b[1;32m    148\u001b[0m     handler_trace_with_static, \u001b[38;5;28mself\u001b[39m\u001b[38;5;241m.\u001b[39msource\n\u001b[1;32m    149\u001b[0m )\n\u001b[1;32m    150\u001b[0m (\n\u001b[1;32m    151\u001b[0m     (\n\u001b[1;32m    152\u001b[0m         w,\n\u001b[1;32m    153\u001b[0m         (\n\u001b[1;32m    154\u001b[0m             args,\n\u001b[1;32m    155\u001b[0m             retval,\n\u001b[1;32m    156\u001b[0m             address_choices,\n\u001b[1;32m    157\u001b[0m             score,\n\u001b[1;32m    158\u001b[0m         ),\n\u001b[1;32m    159\u001b[0m     ),\n\u001b[1;32m    160\u001b[0m     cache_state,\n\u001b[0;32m--> 161\u001b[0m ) \u001b[38;5;241m=\u001b[39m importance_transform(syntax_sugar_handled)(key, chm, args)\n\u001b[1;32m    162\u001b[0m \u001b[38;5;28;01mreturn\u001b[39;00m (\n\u001b[1;32m    163\u001b[0m     StaticTrace(\n\u001b[1;32m    164\u001b[0m         \u001b[38;5;28mself\u001b[39m,\n\u001b[0;32m   (...)\u001b[0m\n\u001b[1;32m    171\u001b[0m     w,\n\u001b[1;32m    172\u001b[0m )\n",
      "File \u001b[0;32m~/bayes3d_genjax/genjax/src/genjax/_src/generative_functions/static/static_transforms.py:359\u001b[0m, in \u001b[0;36mwrapper\u001b[0;34m()\u001b[0m\n\u001b[1;32m    358\u001b[0m stateful_handler \u001b[38;5;241m=\u001b[39m ImportanceHandler(key, constraints)\n\u001b[0;32m--> 359\u001b[0m retval \u001b[38;5;241m=\u001b[39m forward(source_fn)(stateful_handler, \u001b[38;5;241m*\u001b[39margs)\n\u001b[1;32m    360\u001b[0m (\n\u001b[1;32m    361\u001b[0m     score,\n\u001b[1;32m    362\u001b[0m     weight,\n\u001b[1;32m    363\u001b[0m     address_choices,\n\u001b[1;32m    364\u001b[0m     cache_state,\n\u001b[1;32m    365\u001b[0m ) \u001b[38;5;241m=\u001b[39m stateful_handler\u001b[38;5;241m.\u001b[39myield_state()\n",
      "File \u001b[0;32m<@beartype(genjax._src.core.interpreters.forward.forward.wrapped) at 0x7f42041b7550>:31\u001b[0m, in \u001b[0;36mwrapped\u001b[0;34m()\u001b[0m\n",
      "File \u001b[0;32m~/bayes3d_genjax/genjax/src/genjax/_src/core/interpreters/forward.py:244\u001b[0m, in \u001b[0;36mwrapped\u001b[0;34m()\u001b[0m\n\u001b[1;32m    243\u001b[0m interpreter \u001b[38;5;241m=\u001b[39m ForwardInterpreter()\n\u001b[0;32m--> 244\u001b[0m \u001b[38;5;28;01mreturn\u001b[39;00m interpreter\u001b[38;5;241m.\u001b[39mrun_interpreter(\n\u001b[1;32m    245\u001b[0m     stateful_handler,\n\u001b[1;32m    246\u001b[0m     f,\n\u001b[1;32m    247\u001b[0m     \u001b[38;5;241m*\u001b[39margs,\n\u001b[1;32m    248\u001b[0m )\n",
      "File \u001b[0;32m~/bayes3d_genjax/genjax/src/genjax/_src/core/interpreters/forward.py:227\u001b[0m, in \u001b[0;36mrun_interpreter\u001b[0;34m()\u001b[0m\n\u001b[1;32m    225\u001b[0m     \u001b[38;5;28;01mreturn\u001b[39;00m fn(\u001b[38;5;241m*\u001b[39margs, \u001b[38;5;241m*\u001b[39m\u001b[38;5;241m*\u001b[39mkwargs)\n\u001b[0;32m--> 227\u001b[0m _closed_jaxpr, (flat_args, _, out_tree) \u001b[38;5;241m=\u001b[39m stage(_inner)(\u001b[38;5;241m*\u001b[39margs)\n\u001b[1;32m    228\u001b[0m _jaxpr, consts \u001b[38;5;241m=\u001b[39m _closed_jaxpr\u001b[38;5;241m.\u001b[39mjaxpr, _closed_jaxpr\u001b[38;5;241m.\u001b[39mliterals\n",
      "File \u001b[0;32m~/bayes3d_genjax/genjax/src/genjax/_src/core/interpreters/staging.py:71\u001b[0m, in \u001b[0;36mwrapped\u001b[0;34m()\u001b[0m\n\u001b[1;32m     70\u001b[0m flat_avals \u001b[38;5;241m=\u001b[39m safe_map(get_shaped_aval, flat_args)\n\u001b[0;32m---> 71\u001b[0m typed_jaxpr \u001b[38;5;241m=\u001b[39m cached_stage_dynamic(flat_fun, \u001b[38;5;28mtuple\u001b[39m(flat_avals))\n\u001b[1;32m     72\u001b[0m \u001b[38;5;28;01mreturn\u001b[39;00m typed_jaxpr, (flat_args, in_tree, out_tree)\n",
      "File \u001b[0;32m~/bayes3d_genjax/genjax/src/genjax/_src/core/interpreters/staging.py:58\u001b[0m, in \u001b[0;36mcached_stage_dynamic\u001b[0;34m()\u001b[0m\n\u001b[1;32m     56\u001b[0m \u001b[38;5;129m@lu\u001b[39m\u001b[38;5;241m.\u001b[39mcache\n\u001b[1;32m     57\u001b[0m \u001b[38;5;28;01mdef\u001b[39;00m \u001b[38;5;21mcached_stage_dynamic\u001b[39m(flat_fun, in_avals):\n\u001b[0;32m---> 58\u001b[0m     jaxpr, _, consts \u001b[38;5;241m=\u001b[39m pe\u001b[38;5;241m.\u001b[39mtrace_to_jaxpr_dynamic(flat_fun, in_avals)\n\u001b[1;32m     59\u001b[0m     typed_jaxpr \u001b[38;5;241m=\u001b[39m jax_core\u001b[38;5;241m.\u001b[39mClosedJaxpr(jaxpr, consts)\n",
      "File \u001b[0;32m~/bayes3d_genjax/genjax/src/genjax/_src/core/interpreters/forward.py:225\u001b[0m, in \u001b[0;36m_inner\u001b[0;34m()\u001b[0m\n\u001b[1;32m    224\u001b[0m \u001b[38;5;28;01mdef\u001b[39;00m \u001b[38;5;21m_inner\u001b[39m(\u001b[38;5;241m*\u001b[39margs):\n\u001b[0;32m--> 225\u001b[0m     \u001b[38;5;28;01mreturn\u001b[39;00m fn(\u001b[38;5;241m*\u001b[39margs, \u001b[38;5;241m*\u001b[39m\u001b[38;5;241m*\u001b[39mkwargs)\n",
      "File \u001b[0;32m~/bayes3d_genjax/genjax/src/genjax/_src/generative_functions/supports_callees.py:46\u001b[0m, in \u001b[0;36mwrapped\u001b[0;34m()\u001b[0m\n\u001b[1;32m     45\u001b[0m GLOBAL_TRACE_HANDLER_STACK\u001b[38;5;241m.\u001b[39mappend(handler)\n\u001b[0;32m---> 46\u001b[0m ret \u001b[38;5;241m=\u001b[39m fn(\u001b[38;5;241m*\u001b[39margs)\n\u001b[1;32m     47\u001b[0m GLOBAL_TRACE_HANDLER_STACK\u001b[38;5;241m.\u001b[39mpop()\n",
      "File \u001b[0;32m~/bayes3d_genjax/experiments/src/model2.py:147\u001b[0m, in \u001b[0;36mmodel\u001b[0;34m()\u001b[0m\n\u001b[1;32m    136\u001b[0m poses \u001b[38;5;241m=\u001b[39m jnp\u001b[38;5;241m.\u001b[39mwhere(\n\u001b[1;32m    137\u001b[0m     is_valid(object_info)[:, \u001b[38;5;28;01mNone\u001b[39;00m, \u001b[38;5;28;01mNone\u001b[39;00m],\n\u001b[1;32m    138\u001b[0m     b\u001b[38;5;241m.\u001b[39mscene_graph\u001b[38;5;241m.\u001b[39mposes_from_scene_graph(\n\u001b[0;32m   (...)\u001b[0m\n\u001b[1;32m    144\u001b[0m     jnp\u001b[38;5;241m.\u001b[39mzeros((max_n_objects, \u001b[38;5;241m4\u001b[39m, \u001b[38;5;241m4\u001b[39m))\n\u001b[1;32m    145\u001b[0m )\n\u001b[0;32m--> 147\u001b[0m rendered \u001b[38;5;241m=\u001b[39m call_renderer(jnp\u001b[38;5;241m.\u001b[39mlinalg\u001b[38;5;241m.\u001b[39minv(camera_pose) \u001b[38;5;241m@\u001b[39m poses, object_info\u001b[38;5;241m.\u001b[39mcategory_index)[\u001b[38;5;241m.\u001b[39m\u001b[38;5;241m.\u001b[39m\u001b[38;5;241m.\u001b[39m, :\u001b[38;5;241m3\u001b[39m]\\\n\u001b[1;32m    149\u001b[0m variance \u001b[38;5;241m=\u001b[39m genjax\u001b[38;5;241m.\u001b[39muniform(\u001b[38;5;241m0.00000000001\u001b[39m, \u001b[38;5;241m10000.0\u001b[39m) \u001b[38;5;241m@\u001b[39m \u001b[38;5;124m\"\u001b[39m\u001b[38;5;124mvariance\u001b[39m\u001b[38;5;124m\"\u001b[39m\n",
      "File \u001b[0;32m~/bayes3d_genjax/experiments/src/model2.py:95\u001b[0m, in \u001b[0;36mcall_renderer\u001b[0;34m()\u001b[0m\n\u001b[1;32m     94\u001b[0m \u001b[38;5;28mprint\u001b[39m(\u001b[38;5;124m\"\u001b[39m\u001b[38;5;124mCalling renderer...\u001b[39m\u001b[38;5;124m\"\u001b[39m)\n\u001b[0;32m---> 95\u001b[0m \u001b[38;5;28;01mreturn\u001b[39;00m b\u001b[38;5;241m.\u001b[39mRENDERER\u001b[38;5;241m.\u001b[39mrender(\u001b[38;5;241m*\u001b[39margs)\n",
      "File \u001b[0;32m/opt/conda/envs/bayes3d_genjax_2/lib/python3.9/site-packages/bayes3d/renderer.py:175\u001b[0m, in \u001b[0;36mrender\u001b[0;34m()\u001b[0m\n\u001b[1;32m    174\u001b[0m \u001b[38;5;28;01mdef\u001b[39;00m \u001b[38;5;21mrender\u001b[39m(\u001b[38;5;28mself\u001b[39m, poses, indices):\n\u001b[0;32m--> 175\u001b[0m     \u001b[38;5;28;01mreturn\u001b[39;00m \u001b[38;5;28mself\u001b[39m\u001b[38;5;241m.\u001b[39mrender_many(poses[\u001b[38;5;28;01mNone\u001b[39;00m, \u001b[38;5;241m.\u001b[39m\u001b[38;5;241m.\u001b[39m\u001b[38;5;241m.\u001b[39m], indices)[\u001b[38;5;241m0\u001b[39m]\n",
      "File \u001b[0;32m/opt/conda/envs/bayes3d_genjax_2/lib/python3.9/site-packages/bayes3d/renderer.py:172\u001b[0m, in \u001b[0;36mrender_many\u001b[0;34m()\u001b[0m\n\u001b[1;32m    160\u001b[0m \u001b[38;5;250m\u001b[39m\u001b[38;5;124;03m\"\"\"Render many scenes in parallel.\u001b[39;00m\n\u001b[1;32m    161\u001b[0m \n\u001b[1;32m    162\u001b[0m \u001b[38;5;124;03mArgs:\u001b[39;00m\n\u001b[0;32m   (...)\u001b[0m\n\u001b[1;32m    170\u001b[0m \u001b[38;5;124;03m                 the final dimension is the segmentation image.\u001b[39;00m\n\u001b[1;32m    171\u001b[0m \u001b[38;5;124;03m\"\"\"\u001b[39;00m\n\u001b[0;32m--> 172\u001b[0m \u001b[38;5;28;01mreturn\u001b[39;00m \u001b[38;5;28mself\u001b[39m\u001b[38;5;241m.\u001b[39mrender_many_custom_intrinsics(poses, indices, \u001b[38;5;28mself\u001b[39m\u001b[38;5;241m.\u001b[39mintrinsics)\n",
      "File \u001b[0;32m/opt/conda/envs/bayes3d_genjax_2/lib/python3.9/site-packages/bayes3d/renderer.py:156\u001b[0m, in \u001b[0;36mrender_many_custom_intrinsics\u001b[0;34m()\u001b[0m\n\u001b[1;32m    146\u001b[0m proj_matrix \u001b[38;5;241m=\u001b[39m b\u001b[38;5;241m.\u001b[39mcamera\u001b[38;5;241m.\u001b[39m_open_gl_projection_matrix(\n\u001b[1;32m    147\u001b[0m     intrinsics\u001b[38;5;241m.\u001b[39mheight,\n\u001b[1;32m    148\u001b[0m     intrinsics\u001b[38;5;241m.\u001b[39mwidth,\n\u001b[0;32m   (...)\u001b[0m\n\u001b[1;32m    154\u001b[0m     intrinsics\u001b[38;5;241m.\u001b[39mfar,\n\u001b[1;32m    155\u001b[0m )\n\u001b[0;32m--> 156\u001b[0m images_jnp \u001b[38;5;241m=\u001b[39m _render_custom_call(\u001b[38;5;28mself\u001b[39m, poses, indices, proj_matrix)[\u001b[38;5;241m0\u001b[39m]\n\u001b[1;32m    157\u001b[0m \u001b[38;5;28;01mreturn\u001b[39;00m _transform_image_zeros_parallel(images_jnp, intrinsics)\n",
      "File \u001b[0;32m/opt/conda/envs/bayes3d_genjax_2/lib/python3.9/site-packages/bayes3d/renderer.py:195\u001b[0m, in \u001b[0;36m_render_custom_call\u001b[0;34m()\u001b[0m\n\u001b[1;32m    193\u001b[0m \u001b[38;5;129m@functools\u001b[39m\u001b[38;5;241m.\u001b[39mpartial(jax\u001b[38;5;241m.\u001b[39mjit, static_argnums\u001b[38;5;241m=\u001b[39m(\u001b[38;5;241m0\u001b[39m,))\n\u001b[1;32m    194\u001b[0m \u001b[38;5;28;01mdef\u001b[39;00m \u001b[38;5;21m_render_custom_call\u001b[39m(r: \u001b[38;5;124m\"\u001b[39m\u001b[38;5;124mRenderer\u001b[39m\u001b[38;5;124m\"\u001b[39m, poses, indices, intrinsics_matrix):\n\u001b[0;32m--> 195\u001b[0m     \u001b[38;5;28;01mreturn\u001b[39;00m _build_render_primitive(r)\u001b[38;5;241m.\u001b[39mbind(poses, indices, intrinsics_matrix)\n",
      "\u001b[0;31mJaxStackTraceBeforeTransformation\u001b[0m: ValueError: Poses Original Shape: (2, 1, 8, 4, 4) Poses Shape:  (2, 8, 4, 4) Indices Shape: (2, 8)\n\nThe preceding stack trace is the source of the JAX operation that, once transformed by JAX, triggered the following exception.\n\n--------------------",
      "\nThe above exception was the direct cause of the following exception:\n",
      "\u001b[0;31mValueError\u001b[0m                                Traceback (most recent call last)",
      "Cell \u001b[0;32mIn[37], line 2\u001b[0m\n\u001b[1;32m      1\u001b[0m indices \u001b[38;5;241m=\u001b[39m jnp\u001b[38;5;241m.\u001b[39marray([\u001b[38;5;241m2\u001b[39m, \u001b[38;5;241m3\u001b[39m])\n\u001b[0;32m----> 2\u001b[0m trs \u001b[38;5;241m=\u001b[39m \u001b[43mjax\u001b[49m\u001b[38;5;241;43m.\u001b[39;49m\u001b[43mvmap\u001b[49m\u001b[43m(\u001b[49m\u001b[43madd_object\u001b[49m\u001b[43m,\u001b[49m\u001b[43m \u001b[49m\u001b[43min_axes\u001b[49m\u001b[38;5;241;43m=\u001b[39;49m\u001b[43m(\u001b[49m\u001b[38;5;28;43;01mNone\u001b[39;49;00m\u001b[43m,\u001b[49m\u001b[43m \u001b[49m\u001b[38;5;241;43m0\u001b[39;49m\u001b[43m)\u001b[49m\u001b[43m)\u001b[49m\u001b[43m(\u001b[49m\u001b[43mtr1\u001b[49m\u001b[43m,\u001b[49m\u001b[43m \u001b[49m\u001b[43mindices\u001b[49m\u001b[43m)\u001b[49m\n",
      "    \u001b[0;31m[... skipping hidden 3 frame]\u001b[0m\n",
      "Cell \u001b[0;32mIn[20], line 5\u001b[0m, in \u001b[0;36madd_object\u001b[0;34m(tr, cat_idx)\u001b[0m\n\u001b[1;32m      3\u001b[0m nochange_args \u001b[38;5;241m=\u001b[39m \u001b[38;5;28mtuple\u001b[39m(\u001b[38;5;28mmap\u001b[39m(\u001b[38;5;28;01mlambda\u001b[39;00m v: Diff(v, NoChange), tr\u001b[38;5;241m.\u001b[39mget_args()))\n\u001b[1;32m      4\u001b[0m new_args \u001b[38;5;241m=\u001b[39m (nochange_args[\u001b[38;5;241m0\u001b[39m], Diff(n_objects\u001b[38;5;241m+\u001b[39m\u001b[38;5;241m1\u001b[39m, UnknownChange), \u001b[38;5;241m*\u001b[39mnochange_args[\u001b[38;5;241m2\u001b[39m:])\n\u001b[0;32m----> 5\u001b[0m newtr, _, _, _ \u001b[38;5;241m=\u001b[39m \u001b[43mtr\u001b[49m\u001b[38;5;241;43m.\u001b[39;49m\u001b[43mupdate\u001b[49m\u001b[43m(\u001b[49m\n\u001b[1;32m      6\u001b[0m \u001b[43m    \u001b[49m\u001b[43mkey\u001b[49m\u001b[43m,\u001b[49m\n\u001b[1;32m      7\u001b[0m \u001b[43m    \u001b[49m\u001b[43mupdate_choicemap\u001b[49m\u001b[43m(\u001b[49m\u001b[43mn_objects\u001b[49m\u001b[43m,\u001b[49m\u001b[43m \u001b[49m\u001b[43mcat_idx\u001b[49m\u001b[43m)\u001b[49m\u001b[43m,\u001b[49m\n\u001b[1;32m      8\u001b[0m \u001b[43m    \u001b[49m\u001b[43mnew_args\u001b[49m\u001b[43m)\u001b[49m\n\u001b[1;32m      9\u001b[0m \u001b[38;5;28;01mreturn\u001b[39;00m newtr\n",
      "File \u001b[0;32m~/.local/lib/python3.9/site-packages/plum/function.py:484\u001b[0m, in \u001b[0;36m_BoundFunction.__call__\u001b[0;34m(self, _, *args, **kw_args)\u001b[0m\n\u001b[1;32m    483\u001b[0m \u001b[38;5;28;01mdef\u001b[39;00m \u001b[38;5;21m__call__\u001b[39m(\u001b[38;5;28mself\u001b[39m, _, \u001b[38;5;241m*\u001b[39margs, \u001b[38;5;241m*\u001b[39m\u001b[38;5;241m*\u001b[39mkw_args):\n\u001b[0;32m--> 484\u001b[0m     \u001b[38;5;28;01mreturn\u001b[39;00m \u001b[38;5;28;43mself\u001b[39;49m\u001b[38;5;241;43m.\u001b[39;49m\u001b[43m_f\u001b[49m\u001b[43m(\u001b[49m\u001b[38;5;28;43mself\u001b[39;49m\u001b[38;5;241;43m.\u001b[39;49m\u001b[43m_instance\u001b[49m\u001b[43m,\u001b[49m\u001b[43m \u001b[49m\u001b[38;5;241;43m*\u001b[39;49m\u001b[43margs\u001b[49m\u001b[43m,\u001b[49m\u001b[43m \u001b[49m\u001b[38;5;241;43m*\u001b[39;49m\u001b[38;5;241;43m*\u001b[39;49m\u001b[43mkw_args\u001b[49m\u001b[43m)\u001b[49m\n",
      "    \u001b[0;31m[... skipping hidden 1 frame]\u001b[0m\n",
      "File \u001b[0;32m~/bayes3d_genjax/genjax/src/genjax/_src/core/datatypes/generative.py:566\u001b[0m, in \u001b[0;36mTrace.update\u001b[0;34m(self, key, choices, argdiffs)\u001b[0m\n\u001b[1;32m    558\u001b[0m \u001b[38;5;129m@dispatch\u001b[39m\n\u001b[1;32m    559\u001b[0m \u001b[38;5;28;01mdef\u001b[39;00m \u001b[38;5;21mupdate\u001b[39m(\n\u001b[1;32m    560\u001b[0m     \u001b[38;5;28mself\u001b[39m,\n\u001b[0;32m   (...)\u001b[0m\n\u001b[1;32m    563\u001b[0m     argdiffs: Tuple,\n\u001b[1;32m    564\u001b[0m ):\n\u001b[1;32m    565\u001b[0m     gen_fn \u001b[38;5;241m=\u001b[39m \u001b[38;5;28mself\u001b[39m\u001b[38;5;241m.\u001b[39mget_gen_fn()\n\u001b[0;32m--> 566\u001b[0m     \u001b[38;5;28;01mreturn\u001b[39;00m \u001b[43mgen_fn\u001b[49m\u001b[38;5;241;43m.\u001b[39;49m\u001b[43mupdate\u001b[49m\u001b[43m(\u001b[49m\u001b[43mkey\u001b[49m\u001b[43m,\u001b[49m\u001b[43m \u001b[49m\u001b[38;5;28;43mself\u001b[39;49m\u001b[43m,\u001b[49m\u001b[43m \u001b[49m\u001b[43mchoices\u001b[49m\u001b[43m,\u001b[49m\u001b[43m \u001b[49m\u001b[43margdiffs\u001b[49m\u001b[43m)\u001b[49m\n",
      "File \u001b[0;32m~/.local/lib/python3.9/site-packages/plum/function.py:484\u001b[0m, in \u001b[0;36m_BoundFunction.__call__\u001b[0;34m(self, _, *args, **kw_args)\u001b[0m\n\u001b[1;32m    483\u001b[0m \u001b[38;5;28;01mdef\u001b[39;00m \u001b[38;5;21m__call__\u001b[39m(\u001b[38;5;28mself\u001b[39m, _, \u001b[38;5;241m*\u001b[39margs, \u001b[38;5;241m*\u001b[39m\u001b[38;5;241m*\u001b[39mkw_args):\n\u001b[0;32m--> 484\u001b[0m     \u001b[38;5;28;01mreturn\u001b[39;00m \u001b[38;5;28;43mself\u001b[39;49m\u001b[38;5;241;43m.\u001b[39;49m\u001b[43m_f\u001b[49m\u001b[43m(\u001b[49m\u001b[38;5;28;43mself\u001b[39;49m\u001b[38;5;241;43m.\u001b[39;49m\u001b[43m_instance\u001b[49m\u001b[43m,\u001b[49m\u001b[43m \u001b[49m\u001b[38;5;241;43m*\u001b[39;49m\u001b[43margs\u001b[49m\u001b[43m,\u001b[49m\u001b[43m \u001b[49m\u001b[38;5;241;43m*\u001b[39;49m\u001b[38;5;241;43m*\u001b[39;49m\u001b[43mkw_args\u001b[49m\u001b[43m)\u001b[49m\n",
      "    \u001b[0;31m[... skipping hidden 1 frame]\u001b[0m\n",
      "File \u001b[0;32m~/bayes3d_genjax/genjax/src/genjax/_src/generative_functions/static/static_gen_fn.py:199\u001b[0m, in \u001b[0;36mStaticGenerativeFunction.update\u001b[0;34m(self, key, prev, constraints, argdiffs)\u001b[0m\n\u001b[1;32m    182\u001b[0m \u001b[38;5;28;01massert\u001b[39;00m static_check_tree_leaves_diff(argdiffs)\n\u001b[1;32m    183\u001b[0m syntax_sugar_handled \u001b[38;5;241m=\u001b[39m push_trace_overload_stack(\n\u001b[1;32m    184\u001b[0m     handler_trace_with_static, \u001b[38;5;28mself\u001b[39m\u001b[38;5;241m.\u001b[39msource\n\u001b[1;32m    185\u001b[0m )\n\u001b[1;32m    186\u001b[0m (\n\u001b[1;32m    187\u001b[0m     (\n\u001b[1;32m    188\u001b[0m         retval_diffs,\n\u001b[1;32m    189\u001b[0m         weight,\n\u001b[1;32m    190\u001b[0m         (\n\u001b[1;32m    191\u001b[0m             arg_primals,\n\u001b[1;32m    192\u001b[0m             retval_primals,\n\u001b[1;32m    193\u001b[0m             address_choices,\n\u001b[1;32m    194\u001b[0m             score,\n\u001b[1;32m    195\u001b[0m         ),\n\u001b[1;32m    196\u001b[0m         discard,\n\u001b[1;32m    197\u001b[0m     ),\n\u001b[1;32m    198\u001b[0m     cache_state,\n\u001b[0;32m--> 199\u001b[0m ) \u001b[38;5;241m=\u001b[39m \u001b[43mupdate_transform\u001b[49m\u001b[43m(\u001b[49m\u001b[43msyntax_sugar_handled\u001b[49m\u001b[43m)\u001b[49m\u001b[43m(\u001b[49m\u001b[43mkey\u001b[49m\u001b[43m,\u001b[49m\u001b[43m \u001b[49m\u001b[43mprev\u001b[49m\u001b[43m,\u001b[49m\u001b[43m \u001b[49m\u001b[43mconstraints\u001b[49m\u001b[43m,\u001b[49m\u001b[43m \u001b[49m\u001b[43margdiffs\u001b[49m\u001b[43m)\u001b[49m\n\u001b[1;32m    200\u001b[0m \u001b[38;5;28;01mreturn\u001b[39;00m (\n\u001b[1;32m    201\u001b[0m     StaticTrace(\n\u001b[1;32m    202\u001b[0m         \u001b[38;5;28mself\u001b[39m,\n\u001b[0;32m   (...)\u001b[0m\n\u001b[1;32m    211\u001b[0m     HierarchicalChoiceMap(discard),\n\u001b[1;32m    212\u001b[0m )\n",
      "File \u001b[0;32m<@beartype(genjax._src.generative_functions.static.static_transforms.update_transform.wrapper) at 0x7f3e600f3d30>:30\u001b[0m, in \u001b[0;36mwrapper\u001b[0;34m(__beartype_func, __beartype_conf, __beartype_get_violation, *args, **kwargs)\u001b[0m\n",
      "File \u001b[0;32m~/bayes3d_genjax/genjax/src/genjax/_src/generative_functions/static/static_transforms.py:459\u001b[0m, in \u001b[0;36mupdate_transform.<locals>.wrapper\u001b[0;34m(key, previous_trace, constraints, diffs)\u001b[0m\n\u001b[1;32m    457\u001b[0m diff_primals \u001b[38;5;241m=\u001b[39m tree_diff_primal(diffs)\n\u001b[1;32m    458\u001b[0m diff_tangents \u001b[38;5;241m=\u001b[39m tree_diff_tangent(diffs)\n\u001b[0;32m--> 459\u001b[0m retval_diffs \u001b[38;5;241m=\u001b[39m \u001b[43mincremental\u001b[49m\u001b[43m(\u001b[49m\u001b[43msource_fn\u001b[49m\u001b[43m)\u001b[49m\u001b[43m(\u001b[49m\n\u001b[1;32m    460\u001b[0m \u001b[43m    \u001b[49m\u001b[43mstateful_handler\u001b[49m\u001b[43m,\u001b[49m\u001b[43m \u001b[49m\u001b[43mdiff_primals\u001b[49m\u001b[43m,\u001b[49m\u001b[43m \u001b[49m\u001b[43mdiff_tangents\u001b[49m\n\u001b[1;32m    461\u001b[0m \u001b[43m\u001b[49m\u001b[43m)\u001b[49m\n\u001b[1;32m    462\u001b[0m retval_primals \u001b[38;5;241m=\u001b[39m tree_diff_primal(retval_diffs)\n\u001b[1;32m    463\u001b[0m (\n\u001b[1;32m    464\u001b[0m     score,\n\u001b[1;32m    465\u001b[0m     weight,\n\u001b[0;32m   (...)\u001b[0m\n\u001b[1;32m    468\u001b[0m     cache_state,\n\u001b[1;32m    469\u001b[0m ) \u001b[38;5;241m=\u001b[39m stateful_handler\u001b[38;5;241m.\u001b[39myield_state()\n",
      "File \u001b[0;32m<@beartype(genjax._src.core.interpreters.incremental.incremental.wrapped) at 0x7f3e605e5280>:67\u001b[0m, in \u001b[0;36mwrapped\u001b[0;34m(__beartype_func, __beartype_conf, __beartype_get_violation, __beartype_object_94441565670544, *args, **kwargs)\u001b[0m\n",
      "File \u001b[0;32m~/bayes3d_genjax/genjax/src/genjax/_src/core/interpreters/incremental.py:288\u001b[0m, in \u001b[0;36mincremental.<locals>.wrapped\u001b[0;34m(_stateful_handler, primals, tangents)\u001b[0m\n\u001b[1;32m    280\u001b[0m \u001b[38;5;129m@functools\u001b[39m\u001b[38;5;241m.\u001b[39mwraps(f)\n\u001b[1;32m    281\u001b[0m \u001b[38;5;129m@typecheck\u001b[39m\n\u001b[1;32m    282\u001b[0m \u001b[38;5;28;01mdef\u001b[39;00m \u001b[38;5;21mwrapped\u001b[39m(\n\u001b[0;32m   (...)\u001b[0m\n\u001b[1;32m    285\u001b[0m     tangents: Tuple,\n\u001b[1;32m    286\u001b[0m ):\n\u001b[1;32m    287\u001b[0m     interpreter \u001b[38;5;241m=\u001b[39m IncrementalInterpreter(hashable_dict())\n\u001b[0;32m--> 288\u001b[0m     \u001b[38;5;28;01mreturn\u001b[39;00m \u001b[43minterpreter\u001b[49m\u001b[38;5;241;43m.\u001b[39;49m\u001b[43mrun_interpreter\u001b[49m\u001b[43m(\u001b[49m\n\u001b[1;32m    289\u001b[0m \u001b[43m        \u001b[49m\u001b[43m_stateful_handler\u001b[49m\u001b[43m,\u001b[49m\n\u001b[1;32m    290\u001b[0m \u001b[43m        \u001b[49m\u001b[43mf\u001b[49m\u001b[43m,\u001b[49m\n\u001b[1;32m    291\u001b[0m \u001b[43m        \u001b[49m\u001b[43mprimals\u001b[49m\u001b[43m,\u001b[49m\n\u001b[1;32m    292\u001b[0m \u001b[43m        \u001b[49m\u001b[43mtangents\u001b[49m\u001b[43m,\u001b[49m\n\u001b[1;32m    293\u001b[0m \u001b[43m    \u001b[49m\u001b[43m)\u001b[49m\n",
      "    \u001b[0;31m[... skipping hidden 1 frame]\u001b[0m\n",
      "File \u001b[0;32m~/bayes3d_genjax/genjax/src/genjax/_src/core/interpreters/incremental.py:268\u001b[0m, in \u001b[0;36mIncrementalInterpreter.run_interpreter\u001b[0;34m(self, _stateful_handler, fn, primals, tangents, **kwargs)\u001b[0m\n\u001b[1;32m    264\u001b[0m flat_tangents \u001b[38;5;241m=\u001b[39m jtu\u001b[38;5;241m.\u001b[39mtree_leaves(\n\u001b[1;32m    265\u001b[0m     tangents, is_leaf\u001b[38;5;241m=\u001b[39m\u001b[38;5;28;01mlambda\u001b[39;00m v: \u001b[38;5;28misinstance\u001b[39m(v, ChangeTangent)\n\u001b[1;32m    266\u001b[0m )\n\u001b[1;32m    267\u001b[0m _jaxpr, consts \u001b[38;5;241m=\u001b[39m _closed_jaxpr\u001b[38;5;241m.\u001b[39mjaxpr, _closed_jaxpr\u001b[38;5;241m.\u001b[39mliterals\n\u001b[0;32m--> 268\u001b[0m flat_out \u001b[38;5;241m=\u001b[39m \u001b[38;5;28;43mself\u001b[39;49m\u001b[38;5;241;43m.\u001b[39;49m\u001b[43m_eval_jaxpr_forward\u001b[49m\u001b[43m(\u001b[49m\n\u001b[1;32m    269\u001b[0m \u001b[43m    \u001b[49m\u001b[43m_stateful_handler\u001b[49m\u001b[43m,\u001b[49m\n\u001b[1;32m    270\u001b[0m \u001b[43m    \u001b[49m\u001b[43m_jaxpr\u001b[49m\u001b[43m,\u001b[49m\n\u001b[1;32m    271\u001b[0m \u001b[43m    \u001b[49m\u001b[43mconsts\u001b[49m\u001b[43m,\u001b[49m\n\u001b[1;32m    272\u001b[0m \u001b[43m    \u001b[49m\u001b[43mflat_primals\u001b[49m\u001b[43m,\u001b[49m\n\u001b[1;32m    273\u001b[0m \u001b[43m    \u001b[49m\u001b[43mflat_tangents\u001b[49m\u001b[43m,\u001b[49m\n\u001b[1;32m    274\u001b[0m \u001b[43m\u001b[49m\u001b[43m)\u001b[49m\n\u001b[1;32m    275\u001b[0m \u001b[38;5;28;01mreturn\u001b[39;00m jtu\u001b[38;5;241m.\u001b[39mtree_unflatten(out_tree(), flat_out)\n",
      "    \u001b[0;31m[... skipping hidden 1 frame]\u001b[0m\n",
      "File \u001b[0;32m~/bayes3d_genjax/genjax/src/genjax/_src/core/interpreters/incremental.py:252\u001b[0m, in \u001b[0;36mIncrementalInterpreter._eval_jaxpr_forward\u001b[0;34m(self, _stateful_handler, _jaxpr, consts, primals, tangents)\u001b[0m\n\u001b[1;32m    250\u001b[0m     outduals \u001b[38;5;241m=\u001b[39m _stateful_handler\u001b[38;5;241m.\u001b[39mdispatch(_eqn\u001b[38;5;241m.\u001b[39mprimitive, \u001b[38;5;241m*\u001b[39margs, \u001b[38;5;241m*\u001b[39m\u001b[38;5;241m*\u001b[39m_params)\n\u001b[1;32m    251\u001b[0m \u001b[38;5;28;01melse\u001b[39;00m:\n\u001b[0;32m--> 252\u001b[0m     outduals \u001b[38;5;241m=\u001b[39m \u001b[43mdefault_propagation_rule\u001b[49m\u001b[43m(\u001b[49m\u001b[43m_eqn\u001b[49m\u001b[38;5;241;43m.\u001b[39;49m\u001b[43mprimitive\u001b[49m\u001b[43m,\u001b[49m\u001b[43m \u001b[49m\u001b[38;5;241;43m*\u001b[39;49m\u001b[43margs\u001b[49m\u001b[43m,\u001b[49m\u001b[43m \u001b[49m\u001b[38;5;241;43m*\u001b[39;49m\u001b[38;5;241;43m*\u001b[39;49m\u001b[43m_params\u001b[49m\u001b[43m)\u001b[49m\n\u001b[1;32m    253\u001b[0m \u001b[38;5;28;01mif\u001b[39;00m \u001b[38;5;129;01mnot\u001b[39;00m _eqn\u001b[38;5;241m.\u001b[39mprimitive\u001b[38;5;241m.\u001b[39mmultiple_results:\n\u001b[1;32m    254\u001b[0m     outduals \u001b[38;5;241m=\u001b[39m [outduals]\n",
      "File \u001b[0;32m~/bayes3d_genjax/genjax/src/genjax/_src/core/interpreters/incremental.py:219\u001b[0m, in \u001b[0;36mdefault_propagation_rule\u001b[0;34m(prim, *args, **_params)\u001b[0m\n\u001b[1;32m    217\u001b[0m check \u001b[38;5;241m=\u001b[39m static_check_no_change(args)\n\u001b[1;32m    218\u001b[0m args \u001b[38;5;241m=\u001b[39m tree_diff_primal(args)\n\u001b[0;32m--> 219\u001b[0m outval \u001b[38;5;241m=\u001b[39m \u001b[43mprim\u001b[49m\u001b[38;5;241;43m.\u001b[39;49m\u001b[43mbind\u001b[49m\u001b[43m(\u001b[49m\u001b[38;5;241;43m*\u001b[39;49m\u001b[43margs\u001b[49m\u001b[43m,\u001b[49m\u001b[43m \u001b[49m\u001b[38;5;241;43m*\u001b[39;49m\u001b[38;5;241;43m*\u001b[39;49m\u001b[43m_params\u001b[49m\u001b[43m)\u001b[49m\n\u001b[1;32m    220\u001b[0m \u001b[38;5;28;01mif\u001b[39;00m check:\n\u001b[1;32m    221\u001b[0m     \u001b[38;5;28;01mreturn\u001b[39;00m tree_diff_no_change(outval)\n",
      "    \u001b[0;31m[... skipping hidden 15 frame]\u001b[0m\n",
      "File \u001b[0;32m/opt/conda/envs/bayes3d_genjax_2/lib/python3.9/site-packages/bayes3d/renderer.py:288\u001b[0m, in \u001b[0;36m_build_render_primitive.<locals>._render_batch\u001b[0;34m(args, axes)\u001b[0m\n\u001b[1;32m    285\u001b[0m poses \u001b[38;5;241m=\u001b[39m poses\u001b[38;5;241m.\u001b[39mreshape(size_1 \u001b[38;5;241m*\u001b[39m size_2, num_objects, \u001b[38;5;241m4\u001b[39m, \u001b[38;5;241m4\u001b[39m)\n\u001b[1;32m    287\u001b[0m \u001b[38;5;28;01mif\u001b[39;00m poses\u001b[38;5;241m.\u001b[39mshape[\u001b[38;5;241m1\u001b[39m] \u001b[38;5;241m!=\u001b[39m indices\u001b[38;5;241m.\u001b[39mshape[\u001b[38;5;241m0\u001b[39m]:\n\u001b[0;32m--> 288\u001b[0m     \u001b[38;5;28;01mraise\u001b[39;00m \u001b[38;5;167;01mValueError\u001b[39;00m(\n\u001b[1;32m    289\u001b[0m         \u001b[38;5;124mf\u001b[39m\u001b[38;5;124m\"\u001b[39m\u001b[38;5;124mPoses Original Shape: \u001b[39m\u001b[38;5;132;01m{\u001b[39;00moriginal_shape\u001b[38;5;132;01m}\u001b[39;00m\u001b[38;5;124m Poses Shape:  \u001b[39m\u001b[38;5;132;01m{\u001b[39;00mposes\u001b[38;5;241m.\u001b[39mshape\u001b[38;5;132;01m}\u001b[39;00m\u001b[38;5;124m Indices Shape: \u001b[39m\u001b[38;5;132;01m{\u001b[39;00mindices\u001b[38;5;241m.\u001b[39mshape\u001b[38;5;132;01m}\u001b[39;00m\u001b[38;5;124m\"\u001b[39m\n\u001b[1;32m    290\u001b[0m     )\n\u001b[1;32m    291\u001b[0m \u001b[38;5;28;01mif\u001b[39;00m poses\u001b[38;5;241m.\u001b[39mshape[\u001b[38;5;241m-\u001b[39m\u001b[38;5;241m2\u001b[39m:] \u001b[38;5;241m!=\u001b[39m (\u001b[38;5;241m4\u001b[39m, \u001b[38;5;241m4\u001b[39m):\n\u001b[1;32m    292\u001b[0m     \u001b[38;5;28;01mraise\u001b[39;00m \u001b[38;5;167;01mValueError\u001b[39;00m(\n\u001b[1;32m    293\u001b[0m         \u001b[38;5;124mf\u001b[39m\u001b[38;5;124m\"\u001b[39m\u001b[38;5;124mPoses Original Shape: \u001b[39m\u001b[38;5;132;01m{\u001b[39;00moriginal_shape\u001b[38;5;132;01m}\u001b[39;00m\u001b[38;5;124m Poses Shape:  \u001b[39m\u001b[38;5;132;01m{\u001b[39;00mposes\u001b[38;5;241m.\u001b[39mshape\u001b[38;5;132;01m}\u001b[39;00m\u001b[38;5;124m Indices Shape: \u001b[39m\u001b[38;5;132;01m{\u001b[39;00mindices\u001b[38;5;241m.\u001b[39mshape\u001b[38;5;132;01m}\u001b[39;00m\u001b[38;5;124m\"\u001b[39m\n\u001b[1;32m    294\u001b[0m     )\n",
      "\u001b[0;31mValueError\u001b[0m: Poses Original Shape: (2, 1, 8, 4, 4) Poses Shape:  (2, 8, 4, 4) Indices Shape: (2, 8)"
     ]
    }
   ],
   "source": [
    "indices = jnp.array([2, 3])\n",
    "trs = jax.vmap(add_object, in_axes=(None, 0))(tr1, indices)"
   ]
  },
  {
   "cell_type": "code",
   "execution_count": null,
   "metadata": {},
   "outputs": [
    {
     "ename": "ValueError",
     "evalue": "Poses Original Shape: (2, 1, 8, 4, 4) Poses Shape:  (2, 8, 4, 4) Indices Shape: (2, 8)",
     "output_type": "error",
     "traceback": [
      "\u001b[0;31m---------------------------------------------------------------------------\u001b[0m",
      "\u001b[0;31mJaxStackTraceBeforeTransformation\u001b[0m         Traceback (most recent call last)",
      "File \u001b[0;32m/opt/conda/envs/bayes3d_genjax_2/lib/python3.9/runpy.py:197\u001b[0m, in \u001b[0;36m_run_module_as_main\u001b[0;34m()\u001b[0m\n\u001b[1;32m    196\u001b[0m     sys\u001b[38;5;241m.\u001b[39margv[\u001b[38;5;241m0\u001b[39m] \u001b[38;5;241m=\u001b[39m mod_spec\u001b[38;5;241m.\u001b[39morigin\n\u001b[0;32m--> 197\u001b[0m \u001b[38;5;28;01mreturn\u001b[39;00m _run_code(code, main_globals, \u001b[38;5;28;01mNone\u001b[39;00m,\n\u001b[1;32m    198\u001b[0m                  \u001b[38;5;124m\"\u001b[39m\u001b[38;5;124m__main__\u001b[39m\u001b[38;5;124m\"\u001b[39m, mod_spec)\n",
      "File \u001b[0;32m/opt/conda/envs/bayes3d_genjax_2/lib/python3.9/runpy.py:87\u001b[0m, in \u001b[0;36m_run_code\u001b[0;34m()\u001b[0m\n\u001b[1;32m     80\u001b[0m run_globals\u001b[38;5;241m.\u001b[39mupdate(\u001b[38;5;18m__name__\u001b[39m \u001b[38;5;241m=\u001b[39m mod_name,\n\u001b[1;32m     81\u001b[0m                    \u001b[38;5;18m__file__\u001b[39m \u001b[38;5;241m=\u001b[39m fname,\n\u001b[1;32m     82\u001b[0m                    __cached__ \u001b[38;5;241m=\u001b[39m cached,\n\u001b[0;32m   (...)\u001b[0m\n\u001b[1;32m     85\u001b[0m                    __package__ \u001b[38;5;241m=\u001b[39m pkg_name,\n\u001b[1;32m     86\u001b[0m                    __spec__ \u001b[38;5;241m=\u001b[39m mod_spec)\n\u001b[0;32m---> 87\u001b[0m exec(code, run_globals)\n\u001b[1;32m     88\u001b[0m \u001b[38;5;28;01mreturn\u001b[39;00m run_globals\n",
      "File \u001b[0;32m~/.local/lib/python3.9/site-packages/ipykernel_launcher.py:17\u001b[0m\n\u001b[1;32m     15\u001b[0m \u001b[38;5;28;01mfrom\u001b[39;00m \u001b[38;5;21;01mipykernel\u001b[39;00m \u001b[38;5;28;01mimport\u001b[39;00m kernelapp \u001b[38;5;28;01mas\u001b[39;00m app\n\u001b[0;32m---> 17\u001b[0m app\u001b[38;5;241m.\u001b[39mlaunch_new_instance()\n",
      "File \u001b[0;32m~/.local/lib/python3.9/site-packages/traitlets/config/application.py:1053\u001b[0m, in \u001b[0;36mlaunch_instance\u001b[0;34m()\u001b[0m\n\u001b[1;32m   1052\u001b[0m app\u001b[38;5;241m.\u001b[39minitialize(argv)\n\u001b[0;32m-> 1053\u001b[0m app\u001b[38;5;241m.\u001b[39mstart()\n",
      "File \u001b[0;32m~/.local/lib/python3.9/site-packages/ipykernel/kernelapp.py:736\u001b[0m, in \u001b[0;36mstart\u001b[0;34m()\u001b[0m\n\u001b[1;32m    735\u001b[0m \u001b[38;5;28;01mtry\u001b[39;00m:\n\u001b[0;32m--> 736\u001b[0m     \u001b[38;5;28mself\u001b[39m\u001b[38;5;241m.\u001b[39mio_loop\u001b[38;5;241m.\u001b[39mstart()\n\u001b[1;32m    737\u001b[0m \u001b[38;5;28;01mexcept\u001b[39;00m \u001b[38;5;167;01mKeyboardInterrupt\u001b[39;00m:\n",
      "File \u001b[0;32m~/.local/lib/python3.9/site-packages/tornado/platform/asyncio.py:195\u001b[0m, in \u001b[0;36mstart\u001b[0;34m()\u001b[0m\n\u001b[1;32m    194\u001b[0m \u001b[38;5;28;01mdef\u001b[39;00m \u001b[38;5;21mstart\u001b[39m(\u001b[38;5;28mself\u001b[39m) \u001b[38;5;241m-\u001b[39m\u001b[38;5;241m>\u001b[39m \u001b[38;5;28;01mNone\u001b[39;00m:\n\u001b[0;32m--> 195\u001b[0m     \u001b[38;5;28mself\u001b[39m\u001b[38;5;241m.\u001b[39masyncio_loop\u001b[38;5;241m.\u001b[39mrun_forever()\n",
      "File \u001b[0;32m/opt/conda/envs/bayes3d_genjax_2/lib/python3.9/asyncio/base_events.py:601\u001b[0m, in \u001b[0;36mrun_forever\u001b[0;34m()\u001b[0m\n\u001b[1;32m    600\u001b[0m \u001b[38;5;28;01mwhile\u001b[39;00m \u001b[38;5;28;01mTrue\u001b[39;00m:\n\u001b[0;32m--> 601\u001b[0m     \u001b[38;5;28mself\u001b[39m\u001b[38;5;241m.\u001b[39m_run_once()\n\u001b[1;32m    602\u001b[0m     \u001b[38;5;28;01mif\u001b[39;00m \u001b[38;5;28mself\u001b[39m\u001b[38;5;241m.\u001b[39m_stopping:\n",
      "File \u001b[0;32m/opt/conda/envs/bayes3d_genjax_2/lib/python3.9/asyncio/base_events.py:1905\u001b[0m, in \u001b[0;36m_run_once\u001b[0;34m()\u001b[0m\n\u001b[1;32m   1904\u001b[0m     \u001b[38;5;28;01melse\u001b[39;00m:\n\u001b[0;32m-> 1905\u001b[0m         handle\u001b[38;5;241m.\u001b[39m_run()\n\u001b[1;32m   1906\u001b[0m handle \u001b[38;5;241m=\u001b[39m \u001b[38;5;28;01mNone\u001b[39;00m\n",
      "File \u001b[0;32m/opt/conda/envs/bayes3d_genjax_2/lib/python3.9/asyncio/events.py:80\u001b[0m, in \u001b[0;36m_run\u001b[0;34m()\u001b[0m\n\u001b[1;32m     79\u001b[0m \u001b[38;5;28;01mtry\u001b[39;00m:\n\u001b[0;32m---> 80\u001b[0m     \u001b[38;5;28mself\u001b[39m\u001b[38;5;241m.\u001b[39m_context\u001b[38;5;241m.\u001b[39mrun(\u001b[38;5;28mself\u001b[39m\u001b[38;5;241m.\u001b[39m_callback, \u001b[38;5;241m*\u001b[39m\u001b[38;5;28mself\u001b[39m\u001b[38;5;241m.\u001b[39m_args)\n\u001b[1;32m     81\u001b[0m \u001b[38;5;28;01mexcept\u001b[39;00m (\u001b[38;5;167;01mSystemExit\u001b[39;00m, \u001b[38;5;167;01mKeyboardInterrupt\u001b[39;00m):\n",
      "File \u001b[0;32m~/.local/lib/python3.9/site-packages/ipykernel/kernelbase.py:516\u001b[0m, in \u001b[0;36mdispatch_queue\u001b[0;34m()\u001b[0m\n\u001b[1;32m    515\u001b[0m \u001b[38;5;28;01mtry\u001b[39;00m:\n\u001b[0;32m--> 516\u001b[0m     \u001b[38;5;28;01mawait\u001b[39;00m \u001b[38;5;28mself\u001b[39m\u001b[38;5;241m.\u001b[39mprocess_one()\n\u001b[1;32m    517\u001b[0m \u001b[38;5;28;01mexcept\u001b[39;00m \u001b[38;5;167;01mException\u001b[39;00m:\n",
      "File \u001b[0;32m~/.local/lib/python3.9/site-packages/ipykernel/kernelbase.py:505\u001b[0m, in \u001b[0;36mprocess_one\u001b[0;34m()\u001b[0m\n\u001b[1;32m    504\u001b[0m         \u001b[38;5;28;01mreturn\u001b[39;00m \u001b[38;5;28;01mNone\u001b[39;00m\n\u001b[0;32m--> 505\u001b[0m \u001b[38;5;28;01mawait\u001b[39;00m dispatch(\u001b[38;5;241m*\u001b[39margs)\n",
      "File \u001b[0;32m~/.local/lib/python3.9/site-packages/ipykernel/kernelbase.py:412\u001b[0m, in \u001b[0;36mdispatch_shell\u001b[0;34m()\u001b[0m\n\u001b[1;32m    411\u001b[0m     \u001b[38;5;28;01mif\u001b[39;00m inspect\u001b[38;5;241m.\u001b[39misawaitable(result):\n\u001b[0;32m--> 412\u001b[0m         \u001b[38;5;28;01mawait\u001b[39;00m result\n\u001b[1;32m    413\u001b[0m \u001b[38;5;28;01mexcept\u001b[39;00m \u001b[38;5;167;01mException\u001b[39;00m:\n",
      "File \u001b[0;32m~/.local/lib/python3.9/site-packages/ipykernel/kernelbase.py:740\u001b[0m, in \u001b[0;36mexecute_request\u001b[0;34m()\u001b[0m\n\u001b[1;32m    739\u001b[0m \u001b[38;5;28;01mif\u001b[39;00m inspect\u001b[38;5;241m.\u001b[39misawaitable(reply_content):\n\u001b[0;32m--> 740\u001b[0m     reply_content \u001b[38;5;241m=\u001b[39m \u001b[38;5;28;01mawait\u001b[39;00m reply_content\n\u001b[1;32m    742\u001b[0m \u001b[38;5;66;03m# Flush output before sending the reply.\u001b[39;00m\n",
      "File \u001b[0;32m~/.local/lib/python3.9/site-packages/ipykernel/ipkernel.py:422\u001b[0m, in \u001b[0;36mdo_execute\u001b[0;34m()\u001b[0m\n\u001b[1;32m    421\u001b[0m \u001b[38;5;28;01mif\u001b[39;00m with_cell_id:\n\u001b[0;32m--> 422\u001b[0m     res \u001b[38;5;241m=\u001b[39m shell\u001b[38;5;241m.\u001b[39mrun_cell(\n\u001b[1;32m    423\u001b[0m         code,\n\u001b[1;32m    424\u001b[0m         store_history\u001b[38;5;241m=\u001b[39mstore_history,\n\u001b[1;32m    425\u001b[0m         silent\u001b[38;5;241m=\u001b[39msilent,\n\u001b[1;32m    426\u001b[0m         cell_id\u001b[38;5;241m=\u001b[39mcell_id,\n\u001b[1;32m    427\u001b[0m     )\n\u001b[1;32m    428\u001b[0m \u001b[38;5;28;01melse\u001b[39;00m:\n",
      "File \u001b[0;32m~/.local/lib/python3.9/site-packages/ipykernel/zmqshell.py:546\u001b[0m, in \u001b[0;36mrun_cell\u001b[0;34m()\u001b[0m\n\u001b[1;32m    545\u001b[0m \u001b[38;5;28mself\u001b[39m\u001b[38;5;241m.\u001b[39m_last_traceback \u001b[38;5;241m=\u001b[39m \u001b[38;5;28;01mNone\u001b[39;00m\n\u001b[0;32m--> 546\u001b[0m \u001b[38;5;28;01mreturn\u001b[39;00m \u001b[38;5;28msuper\u001b[39m()\u001b[38;5;241m.\u001b[39mrun_cell(\u001b[38;5;241m*\u001b[39margs, \u001b[38;5;241m*\u001b[39m\u001b[38;5;241m*\u001b[39mkwargs)\n",
      "File \u001b[0;32m~/.local/lib/python3.9/site-packages/IPython/core/interactiveshell.py:3024\u001b[0m, in \u001b[0;36mrun_cell\u001b[0;34m()\u001b[0m\n\u001b[1;32m   3023\u001b[0m \u001b[38;5;28;01mtry\u001b[39;00m:\n\u001b[0;32m-> 3024\u001b[0m     result \u001b[38;5;241m=\u001b[39m \u001b[38;5;28mself\u001b[39m\u001b[38;5;241m.\u001b[39m_run_cell(\n\u001b[1;32m   3025\u001b[0m         raw_cell, store_history, silent, shell_futures, cell_id\n\u001b[1;32m   3026\u001b[0m     )\n\u001b[1;32m   3027\u001b[0m \u001b[38;5;28;01mfinally\u001b[39;00m:\n",
      "File \u001b[0;32m~/.local/lib/python3.9/site-packages/IPython/core/interactiveshell.py:3079\u001b[0m, in \u001b[0;36m_run_cell\u001b[0;34m()\u001b[0m\n\u001b[1;32m   3078\u001b[0m \u001b[38;5;28;01mtry\u001b[39;00m:\n\u001b[0;32m-> 3079\u001b[0m     result \u001b[38;5;241m=\u001b[39m runner(coro)\n\u001b[1;32m   3080\u001b[0m \u001b[38;5;28;01mexcept\u001b[39;00m \u001b[38;5;167;01mBaseException\u001b[39;00m \u001b[38;5;28;01mas\u001b[39;00m e:\n",
      "File \u001b[0;32m~/.local/lib/python3.9/site-packages/IPython/core/async_helpers.py:129\u001b[0m, in \u001b[0;36m_pseudo_sync_runner\u001b[0;34m()\u001b[0m\n\u001b[1;32m    128\u001b[0m \u001b[38;5;28;01mtry\u001b[39;00m:\n\u001b[0;32m--> 129\u001b[0m     coro\u001b[38;5;241m.\u001b[39msend(\u001b[38;5;28;01mNone\u001b[39;00m)\n\u001b[1;32m    130\u001b[0m \u001b[38;5;28;01mexcept\u001b[39;00m \u001b[38;5;167;01mStopIteration\u001b[39;00m \u001b[38;5;28;01mas\u001b[39;00m exc:\n",
      "File \u001b[0;32m~/.local/lib/python3.9/site-packages/IPython/core/interactiveshell.py:3284\u001b[0m, in \u001b[0;36mrun_cell_async\u001b[0;34m()\u001b[0m\n\u001b[1;32m   3281\u001b[0m interactivity \u001b[38;5;241m=\u001b[39m \u001b[38;5;124m\"\u001b[39m\u001b[38;5;124mnone\u001b[39m\u001b[38;5;124m\"\u001b[39m \u001b[38;5;28;01mif\u001b[39;00m silent \u001b[38;5;28;01melse\u001b[39;00m \u001b[38;5;28mself\u001b[39m\u001b[38;5;241m.\u001b[39mast_node_interactivity\n\u001b[0;32m-> 3284\u001b[0m has_raised \u001b[38;5;241m=\u001b[39m \u001b[38;5;28;01mawait\u001b[39;00m \u001b[38;5;28mself\u001b[39m\u001b[38;5;241m.\u001b[39mrun_ast_nodes(code_ast\u001b[38;5;241m.\u001b[39mbody, cell_name,\n\u001b[1;32m   3285\u001b[0m        interactivity\u001b[38;5;241m=\u001b[39minteractivity, compiler\u001b[38;5;241m=\u001b[39mcompiler, result\u001b[38;5;241m=\u001b[39mresult)\n\u001b[1;32m   3287\u001b[0m \u001b[38;5;28mself\u001b[39m\u001b[38;5;241m.\u001b[39mlast_execution_succeeded \u001b[38;5;241m=\u001b[39m \u001b[38;5;129;01mnot\u001b[39;00m has_raised\n",
      "File \u001b[0;32m~/.local/lib/python3.9/site-packages/IPython/core/interactiveshell.py:3466\u001b[0m, in \u001b[0;36mrun_ast_nodes\u001b[0;34m()\u001b[0m\n\u001b[1;32m   3465\u001b[0m     asy \u001b[38;5;241m=\u001b[39m compare(code)\n\u001b[0;32m-> 3466\u001b[0m \u001b[38;5;28;01mif\u001b[39;00m \u001b[38;5;28;01mawait\u001b[39;00m \u001b[38;5;28mself\u001b[39m\u001b[38;5;241m.\u001b[39mrun_code(code, result, async_\u001b[38;5;241m=\u001b[39masy):\n\u001b[1;32m   3467\u001b[0m     \u001b[38;5;28;01mreturn\u001b[39;00m \u001b[38;5;28;01mTrue\u001b[39;00m\n",
      "File \u001b[0;32m~/.local/lib/python3.9/site-packages/IPython/core/interactiveshell.py:3526\u001b[0m, in \u001b[0;36mrun_code\u001b[0;34m()\u001b[0m\n\u001b[1;32m   3525\u001b[0m     \u001b[38;5;28;01melse\u001b[39;00m:\n\u001b[0;32m-> 3526\u001b[0m         exec(code_obj, \u001b[38;5;28mself\u001b[39m\u001b[38;5;241m.\u001b[39muser_global_ns, \u001b[38;5;28mself\u001b[39m\u001b[38;5;241m.\u001b[39muser_ns)\n\u001b[1;32m   3527\u001b[0m \u001b[38;5;28;01mfinally\u001b[39;00m:\n\u001b[1;32m   3528\u001b[0m     \u001b[38;5;66;03m# Reset our crash handler in place\u001b[39;00m\n",
      "Cell \u001b[0;32mIn[123], line 2\u001b[0m\n\u001b[1;32m      1\u001b[0m subkey, key \u001b[38;5;241m=\u001b[39m jax\u001b[38;5;241m.\u001b[39mrandom\u001b[38;5;241m.\u001b[39msplit(key)\n\u001b[0;32m----> 2\u001b[0m tr1, w1 \u001b[38;5;241m=\u001b[39m model\u001b[38;5;241m.\u001b[39mimportance(subkey, constraints, model_args)\n\u001b[1;32m      3\u001b[0m viz_trace_meshcat(tr1)\n",
      "File \u001b[0;32m~/.local/lib/python3.9/site-packages/plum/function.py:484\u001b[0m, in \u001b[0;36m__call__\u001b[0;34m()\u001b[0m\n\u001b[1;32m    483\u001b[0m \u001b[38;5;28;01mdef\u001b[39;00m \u001b[38;5;21m__call__\u001b[39m(\u001b[38;5;28mself\u001b[39m, _, \u001b[38;5;241m*\u001b[39margs, \u001b[38;5;241m*\u001b[39m\u001b[38;5;241m*\u001b[39mkw_args):\n\u001b[0;32m--> 484\u001b[0m     \u001b[38;5;28;01mreturn\u001b[39;00m \u001b[38;5;28mself\u001b[39m\u001b[38;5;241m.\u001b[39m_f(\u001b[38;5;28mself\u001b[39m\u001b[38;5;241m.\u001b[39m_instance, \u001b[38;5;241m*\u001b[39margs, \u001b[38;5;241m*\u001b[39m\u001b[38;5;241m*\u001b[39mkw_args)\n",
      "File \u001b[0;32m~/.local/lib/python3.9/site-packages/plum/function.py:368\u001b[0m, in \u001b[0;36m__call__\u001b[0;34m()\u001b[0m\n\u001b[1;32m    367\u001b[0m method, return_type \u001b[38;5;241m=\u001b[39m \u001b[38;5;28mself\u001b[39m\u001b[38;5;241m.\u001b[39m_resolve_method_with_cache(args\u001b[38;5;241m=\u001b[39margs)\n\u001b[0;32m--> 368\u001b[0m \u001b[38;5;28;01mreturn\u001b[39;00m _convert(method(\u001b[38;5;241m*\u001b[39margs, \u001b[38;5;241m*\u001b[39m\u001b[38;5;241m*\u001b[39mkw_args), return_type)\n",
      "File \u001b[0;32m~/bayes3d_genjax/genjax/src/genjax/_src/generative_functions/static/static_gen_fn.py:161\u001b[0m, in \u001b[0;36mimportance\u001b[0;34m()\u001b[0m\n\u001b[1;32m    147\u001b[0m syntax_sugar_handled \u001b[38;5;241m=\u001b[39m push_trace_overload_stack(\n\u001b[1;32m    148\u001b[0m     handler_trace_with_static, \u001b[38;5;28mself\u001b[39m\u001b[38;5;241m.\u001b[39msource\n\u001b[1;32m    149\u001b[0m )\n\u001b[1;32m    150\u001b[0m (\n\u001b[1;32m    151\u001b[0m     (\n\u001b[1;32m    152\u001b[0m         w,\n\u001b[1;32m    153\u001b[0m         (\n\u001b[1;32m    154\u001b[0m             args,\n\u001b[1;32m    155\u001b[0m             retval,\n\u001b[1;32m    156\u001b[0m             address_choices,\n\u001b[1;32m    157\u001b[0m             score,\n\u001b[1;32m    158\u001b[0m         ),\n\u001b[1;32m    159\u001b[0m     ),\n\u001b[1;32m    160\u001b[0m     cache_state,\n\u001b[0;32m--> 161\u001b[0m ) \u001b[38;5;241m=\u001b[39m importance_transform(syntax_sugar_handled)(key, chm, args)\n\u001b[1;32m    162\u001b[0m \u001b[38;5;28;01mreturn\u001b[39;00m (\n\u001b[1;32m    163\u001b[0m     StaticTrace(\n\u001b[1;32m    164\u001b[0m         \u001b[38;5;28mself\u001b[39m,\n\u001b[0;32m   (...)\u001b[0m\n\u001b[1;32m    171\u001b[0m     w,\n\u001b[1;32m    172\u001b[0m )\n",
      "File \u001b[0;32m~/bayes3d_genjax/genjax/src/genjax/_src/generative_functions/static/static_transforms.py:359\u001b[0m, in \u001b[0;36mwrapper\u001b[0;34m()\u001b[0m\n\u001b[1;32m    358\u001b[0m stateful_handler \u001b[38;5;241m=\u001b[39m ImportanceHandler(key, constraints)\n\u001b[0;32m--> 359\u001b[0m retval \u001b[38;5;241m=\u001b[39m forward(source_fn)(stateful_handler, \u001b[38;5;241m*\u001b[39margs)\n\u001b[1;32m    360\u001b[0m (\n\u001b[1;32m    361\u001b[0m     score,\n\u001b[1;32m    362\u001b[0m     weight,\n\u001b[1;32m    363\u001b[0m     address_choices,\n\u001b[1;32m    364\u001b[0m     cache_state,\n\u001b[1;32m    365\u001b[0m ) \u001b[38;5;241m=\u001b[39m stateful_handler\u001b[38;5;241m.\u001b[39myield_state()\n",
      "File \u001b[0;32m<@beartype(genjax._src.core.interpreters.forward.forward.wrapped) at 0x7f8e486ff550>:31\u001b[0m, in \u001b[0;36mwrapped\u001b[0;34m()\u001b[0m\n",
      "File \u001b[0;32m~/bayes3d_genjax/genjax/src/genjax/_src/core/interpreters/forward.py:244\u001b[0m, in \u001b[0;36mwrapped\u001b[0;34m()\u001b[0m\n\u001b[1;32m    243\u001b[0m interpreter \u001b[38;5;241m=\u001b[39m ForwardInterpreter()\n\u001b[0;32m--> 244\u001b[0m \u001b[38;5;28;01mreturn\u001b[39;00m interpreter\u001b[38;5;241m.\u001b[39mrun_interpreter(\n\u001b[1;32m    245\u001b[0m     stateful_handler,\n\u001b[1;32m    246\u001b[0m     f,\n\u001b[1;32m    247\u001b[0m     \u001b[38;5;241m*\u001b[39margs,\n\u001b[1;32m    248\u001b[0m )\n",
      "File \u001b[0;32m~/bayes3d_genjax/genjax/src/genjax/_src/core/interpreters/forward.py:227\u001b[0m, in \u001b[0;36mrun_interpreter\u001b[0;34m()\u001b[0m\n\u001b[1;32m    225\u001b[0m     \u001b[38;5;28;01mreturn\u001b[39;00m fn(\u001b[38;5;241m*\u001b[39margs, \u001b[38;5;241m*\u001b[39m\u001b[38;5;241m*\u001b[39mkwargs)\n\u001b[0;32m--> 227\u001b[0m _closed_jaxpr, (flat_args, _, out_tree) \u001b[38;5;241m=\u001b[39m stage(_inner)(\u001b[38;5;241m*\u001b[39margs)\n\u001b[1;32m    228\u001b[0m _jaxpr, consts \u001b[38;5;241m=\u001b[39m _closed_jaxpr\u001b[38;5;241m.\u001b[39mjaxpr, _closed_jaxpr\u001b[38;5;241m.\u001b[39mliterals\n",
      "File \u001b[0;32m~/bayes3d_genjax/genjax/src/genjax/_src/core/interpreters/staging.py:71\u001b[0m, in \u001b[0;36mwrapped\u001b[0;34m()\u001b[0m\n\u001b[1;32m     70\u001b[0m flat_avals \u001b[38;5;241m=\u001b[39m safe_map(get_shaped_aval, flat_args)\n\u001b[0;32m---> 71\u001b[0m typed_jaxpr \u001b[38;5;241m=\u001b[39m cached_stage_dynamic(flat_fun, \u001b[38;5;28mtuple\u001b[39m(flat_avals))\n\u001b[1;32m     72\u001b[0m \u001b[38;5;28;01mreturn\u001b[39;00m typed_jaxpr, (flat_args, in_tree, out_tree)\n",
      "File \u001b[0;32m~/bayes3d_genjax/genjax/src/genjax/_src/core/interpreters/staging.py:58\u001b[0m, in \u001b[0;36mcached_stage_dynamic\u001b[0;34m()\u001b[0m\n\u001b[1;32m     56\u001b[0m \u001b[38;5;129m@lu\u001b[39m\u001b[38;5;241m.\u001b[39mcache\n\u001b[1;32m     57\u001b[0m \u001b[38;5;28;01mdef\u001b[39;00m \u001b[38;5;21mcached_stage_dynamic\u001b[39m(flat_fun, in_avals):\n\u001b[0;32m---> 58\u001b[0m     jaxpr, _, consts \u001b[38;5;241m=\u001b[39m pe\u001b[38;5;241m.\u001b[39mtrace_to_jaxpr_dynamic(flat_fun, in_avals)\n\u001b[1;32m     59\u001b[0m     typed_jaxpr \u001b[38;5;241m=\u001b[39m jax_core\u001b[38;5;241m.\u001b[39mClosedJaxpr(jaxpr, consts)\n",
      "File \u001b[0;32m~/bayes3d_genjax/genjax/src/genjax/_src/core/interpreters/forward.py:225\u001b[0m, in \u001b[0;36m_inner\u001b[0;34m()\u001b[0m\n\u001b[1;32m    224\u001b[0m \u001b[38;5;28;01mdef\u001b[39;00m \u001b[38;5;21m_inner\u001b[39m(\u001b[38;5;241m*\u001b[39margs):\n\u001b[0;32m--> 225\u001b[0m     \u001b[38;5;28;01mreturn\u001b[39;00m fn(\u001b[38;5;241m*\u001b[39margs, \u001b[38;5;241m*\u001b[39m\u001b[38;5;241m*\u001b[39mkwargs)\n",
      "File \u001b[0;32m~/bayes3d_genjax/genjax/src/genjax/_src/generative_functions/supports_callees.py:46\u001b[0m, in \u001b[0;36mwrapped\u001b[0;34m()\u001b[0m\n\u001b[1;32m     45\u001b[0m GLOBAL_TRACE_HANDLER_STACK\u001b[38;5;241m.\u001b[39mappend(handler)\n\u001b[0;32m---> 46\u001b[0m ret \u001b[38;5;241m=\u001b[39m fn(\u001b[38;5;241m*\u001b[39margs)\n\u001b[1;32m     47\u001b[0m GLOBAL_TRACE_HANDLER_STACK\u001b[38;5;241m.\u001b[39mpop()\n",
      "File \u001b[0;32m~/bayes3d_genjax/experiments/src/model2.py:143\u001b[0m, in \u001b[0;36mmodel\u001b[0;34m()\u001b[0m\n\u001b[1;32m    131\u001b[0m valid_box_dims \u001b[38;5;241m=\u001b[39m jnp\u001b[38;5;241m.\u001b[39mwhere(\n\u001b[1;32m    132\u001b[0m     is_valid(object_info)[:, \u001b[38;5;28;01mNone\u001b[39;00m],\n\u001b[1;32m    133\u001b[0m     all_box_dims[object_info\u001b[38;5;241m.\u001b[39mcategory_index],\n\u001b[1;32m    134\u001b[0m     jnp\u001b[38;5;241m.\u001b[39mzeros(\u001b[38;5;241m3\u001b[39m)\n\u001b[1;32m    135\u001b[0m )\n\u001b[1;32m    136\u001b[0m poses \u001b[38;5;241m=\u001b[39m jnp\u001b[38;5;241m.\u001b[39mwhere(\n\u001b[1;32m    137\u001b[0m     is_valid(object_info)[:, \u001b[38;5;28;01mNone\u001b[39;00m, \u001b[38;5;28;01mNone\u001b[39;00m],\n\u001b[1;32m    138\u001b[0m     b\u001b[38;5;241m.\u001b[39mscene_graph\u001b[38;5;241m.\u001b[39mposes_from_scene_graph(\n\u001b[1;32m    139\u001b[0m         object_info\u001b[38;5;241m.\u001b[39mroot_pose,\n\u001b[1;32m    140\u001b[0m         valid_box_dims,\n\u001b[1;32m    141\u001b[0m         object_info\u001b[38;5;241m.\u001b[39mparent_obj, object_info\u001b[38;5;241m.\u001b[39mparams,\n\u001b[1;32m    142\u001b[0m         object_info\u001b[38;5;241m.\u001b[39mparent_face, object_info\u001b[38;5;241m.\u001b[39mchild_face\n\u001b[0;32m--> 143\u001b[0m     ),\n\u001b[1;32m    144\u001b[0m     jnp\u001b[38;5;241m.\u001b[39mzeros((max_n_objects, \u001b[38;5;241m4\u001b[39m, \u001b[38;5;241m4\u001b[39m))\n\u001b[1;32m    145\u001b[0m )\n\u001b[1;32m    147\u001b[0m rendered \u001b[38;5;241m=\u001b[39m call_renderer(jnp\u001b[38;5;241m.\u001b[39mlinalg\u001b[38;5;241m.\u001b[39minv(camera_pose) \u001b[38;5;241m@\u001b[39m poses, object_info\u001b[38;5;241m.\u001b[39mcategory_index)[\u001b[38;5;241m.\u001b[39m\u001b[38;5;241m.\u001b[39m\u001b[38;5;241m.\u001b[39m, :\u001b[38;5;241m3\u001b[39m]\\\n",
      "File \u001b[0;32m/opt/conda/envs/bayes3d_genjax_2/lib/python3.9/site-packages/bayes3d/renderer.py:175\u001b[0m, in \u001b[0;36mrender\u001b[0;34m()\u001b[0m\n\u001b[1;32m    174\u001b[0m \u001b[38;5;28;01mdef\u001b[39;00m \u001b[38;5;21mrender\u001b[39m(\u001b[38;5;28mself\u001b[39m, poses, indices):\n\u001b[0;32m--> 175\u001b[0m     \u001b[38;5;28;01mreturn\u001b[39;00m \u001b[38;5;28mself\u001b[39m\u001b[38;5;241m.\u001b[39mrender_many(poses[\u001b[38;5;28;01mNone\u001b[39;00m, \u001b[38;5;241m.\u001b[39m\u001b[38;5;241m.\u001b[39m\u001b[38;5;241m.\u001b[39m], indices)[\u001b[38;5;241m0\u001b[39m]\n",
      "File \u001b[0;32m/opt/conda/envs/bayes3d_genjax_2/lib/python3.9/site-packages/bayes3d/renderer.py:172\u001b[0m, in \u001b[0;36mrender_many\u001b[0;34m()\u001b[0m\n\u001b[1;32m    160\u001b[0m \u001b[38;5;250m\u001b[39m\u001b[38;5;124;03m\"\"\"Render many scenes in parallel.\u001b[39;00m\n\u001b[1;32m    161\u001b[0m \n\u001b[1;32m    162\u001b[0m \u001b[38;5;124;03mArgs:\u001b[39;00m\n\u001b[0;32m   (...)\u001b[0m\n\u001b[1;32m    170\u001b[0m \u001b[38;5;124;03m                 the final dimension is the segmentation image.\u001b[39;00m\n\u001b[1;32m    171\u001b[0m \u001b[38;5;124;03m\"\"\"\u001b[39;00m\n\u001b[0;32m--> 172\u001b[0m \u001b[38;5;28;01mreturn\u001b[39;00m \u001b[38;5;28mself\u001b[39m\u001b[38;5;241m.\u001b[39mrender_many_custom_intrinsics(poses, indices, \u001b[38;5;28mself\u001b[39m\u001b[38;5;241m.\u001b[39mintrinsics)\n",
      "File \u001b[0;32m/opt/conda/envs/bayes3d_genjax_2/lib/python3.9/site-packages/bayes3d/renderer.py:156\u001b[0m, in \u001b[0;36mrender_many_custom_intrinsics\u001b[0;34m()\u001b[0m\n\u001b[1;32m    146\u001b[0m proj_matrix \u001b[38;5;241m=\u001b[39m b\u001b[38;5;241m.\u001b[39mcamera\u001b[38;5;241m.\u001b[39m_open_gl_projection_matrix(\n\u001b[1;32m    147\u001b[0m     intrinsics\u001b[38;5;241m.\u001b[39mheight,\n\u001b[1;32m    148\u001b[0m     intrinsics\u001b[38;5;241m.\u001b[39mwidth,\n\u001b[0;32m   (...)\u001b[0m\n\u001b[1;32m    154\u001b[0m     intrinsics\u001b[38;5;241m.\u001b[39mfar,\n\u001b[1;32m    155\u001b[0m )\n\u001b[0;32m--> 156\u001b[0m images_jnp \u001b[38;5;241m=\u001b[39m _render_custom_call(\u001b[38;5;28mself\u001b[39m, poses, indices, proj_matrix)[\u001b[38;5;241m0\u001b[39m]\n\u001b[1;32m    157\u001b[0m \u001b[38;5;28;01mreturn\u001b[39;00m _transform_image_zeros_parallel(images_jnp, intrinsics)\n",
      "File \u001b[0;32m/opt/conda/envs/bayes3d_genjax_2/lib/python3.9/site-packages/bayes3d/renderer.py:195\u001b[0m, in \u001b[0;36m_render_custom_call\u001b[0;34m()\u001b[0m\n\u001b[1;32m    193\u001b[0m \u001b[38;5;129m@functools\u001b[39m\u001b[38;5;241m.\u001b[39mpartial(jax\u001b[38;5;241m.\u001b[39mjit, static_argnums\u001b[38;5;241m=\u001b[39m(\u001b[38;5;241m0\u001b[39m,))\n\u001b[1;32m    194\u001b[0m \u001b[38;5;28;01mdef\u001b[39;00m \u001b[38;5;21m_render_custom_call\u001b[39m(r: \u001b[38;5;124m\"\u001b[39m\u001b[38;5;124mRenderer\u001b[39m\u001b[38;5;124m\"\u001b[39m, poses, indices, intrinsics_matrix):\n\u001b[0;32m--> 195\u001b[0m     \u001b[38;5;28;01mreturn\u001b[39;00m _build_render_primitive(r)\u001b[38;5;241m.\u001b[39mbind(poses, indices, intrinsics_matrix)\n",
      "\u001b[0;31mJaxStackTraceBeforeTransformation\u001b[0m: ValueError: Poses Original Shape: (2, 1, 8, 4, 4) Poses Shape:  (2, 8, 4, 4) Indices Shape: (2, 8)\n\nThe preceding stack trace is the source of the JAX operation that, once transformed by JAX, triggered the following exception.\n\n--------------------",
      "\nThe above exception was the direct cause of the following exception:\n",
      "\u001b[0;31mValueError\u001b[0m                                Traceback (most recent call last)",
      "Cell \u001b[0;32mIn[173], line 10\u001b[0m\n\u001b[1;32m      5\u001b[0m     newtr, _, _, _ \u001b[38;5;241m=\u001b[39m tr1\u001b[38;5;241m.\u001b[39mupdate(\n\u001b[1;32m      6\u001b[0m         key,\n\u001b[1;32m      7\u001b[0m         update_choicemap(n_objects, cat_idx),\n\u001b[1;32m      8\u001b[0m         new_args)\n\u001b[1;32m      9\u001b[0m     \u001b[38;5;28;01mreturn\u001b[39;00m newtr\n\u001b[0;32m---> 10\u001b[0m newtrs \u001b[38;5;241m=\u001b[39m \u001b[43mjax\u001b[49m\u001b[38;5;241;43m.\u001b[39;49m\u001b[43mvmap\u001b[49m\u001b[43m(\u001b[49m\u001b[43mget_newtr\u001b[49m\u001b[43m)\u001b[49m\u001b[43m(\u001b[49m\u001b[43mindices\u001b[49m\u001b[43m)\u001b[49m\n",
      "    \u001b[0;31m[... skipping hidden 3 frame]\u001b[0m\n",
      "Cell \u001b[0;32mIn[173], line 5\u001b[0m, in \u001b[0;36mget_newtr\u001b[0;34m(cat_idx)\u001b[0m\n\u001b[1;32m      4\u001b[0m \u001b[38;5;28;01mdef\u001b[39;00m \u001b[38;5;21mget_newtr\u001b[39m(cat_idx):\n\u001b[0;32m----> 5\u001b[0m     newtr, _, _, _ \u001b[38;5;241m=\u001b[39m \u001b[43mtr1\u001b[49m\u001b[38;5;241;43m.\u001b[39;49m\u001b[43mupdate\u001b[49m\u001b[43m(\u001b[49m\n\u001b[1;32m      6\u001b[0m \u001b[43m        \u001b[49m\u001b[43mkey\u001b[49m\u001b[43m,\u001b[49m\n\u001b[1;32m      7\u001b[0m \u001b[43m        \u001b[49m\u001b[43mupdate_choicemap\u001b[49m\u001b[43m(\u001b[49m\u001b[43mn_objects\u001b[49m\u001b[43m,\u001b[49m\u001b[43m \u001b[49m\u001b[43mcat_idx\u001b[49m\u001b[43m)\u001b[49m\u001b[43m,\u001b[49m\n\u001b[1;32m      8\u001b[0m \u001b[43m        \u001b[49m\u001b[43mnew_args\u001b[49m\u001b[43m)\u001b[49m\n\u001b[1;32m      9\u001b[0m     \u001b[38;5;28;01mreturn\u001b[39;00m newtr\n",
      "File \u001b[0;32m~/.local/lib/python3.9/site-packages/plum/function.py:484\u001b[0m, in \u001b[0;36m_BoundFunction.__call__\u001b[0;34m(self, _, *args, **kw_args)\u001b[0m\n\u001b[1;32m    483\u001b[0m \u001b[38;5;28;01mdef\u001b[39;00m \u001b[38;5;21m__call__\u001b[39m(\u001b[38;5;28mself\u001b[39m, _, \u001b[38;5;241m*\u001b[39margs, \u001b[38;5;241m*\u001b[39m\u001b[38;5;241m*\u001b[39mkw_args):\n\u001b[0;32m--> 484\u001b[0m     \u001b[38;5;28;01mreturn\u001b[39;00m \u001b[38;5;28;43mself\u001b[39;49m\u001b[38;5;241;43m.\u001b[39;49m\u001b[43m_f\u001b[49m\u001b[43m(\u001b[49m\u001b[38;5;28;43mself\u001b[39;49m\u001b[38;5;241;43m.\u001b[39;49m\u001b[43m_instance\u001b[49m\u001b[43m,\u001b[49m\u001b[43m \u001b[49m\u001b[38;5;241;43m*\u001b[39;49m\u001b[43margs\u001b[49m\u001b[43m,\u001b[49m\u001b[43m \u001b[49m\u001b[38;5;241;43m*\u001b[39;49m\u001b[38;5;241;43m*\u001b[39;49m\u001b[43mkw_args\u001b[49m\u001b[43m)\u001b[49m\n",
      "    \u001b[0;31m[... skipping hidden 1 frame]\u001b[0m\n",
      "File \u001b[0;32m~/bayes3d_genjax/genjax/src/genjax/_src/core/datatypes/generative.py:566\u001b[0m, in \u001b[0;36mTrace.update\u001b[0;34m(self, key, choices, argdiffs)\u001b[0m\n\u001b[1;32m    558\u001b[0m \u001b[38;5;129m@dispatch\u001b[39m\n\u001b[1;32m    559\u001b[0m \u001b[38;5;28;01mdef\u001b[39;00m \u001b[38;5;21mupdate\u001b[39m(\n\u001b[1;32m    560\u001b[0m     \u001b[38;5;28mself\u001b[39m,\n\u001b[0;32m   (...)\u001b[0m\n\u001b[1;32m    563\u001b[0m     argdiffs: Tuple,\n\u001b[1;32m    564\u001b[0m ):\n\u001b[1;32m    565\u001b[0m     gen_fn \u001b[38;5;241m=\u001b[39m \u001b[38;5;28mself\u001b[39m\u001b[38;5;241m.\u001b[39mget_gen_fn()\n\u001b[0;32m--> 566\u001b[0m     \u001b[38;5;28;01mreturn\u001b[39;00m \u001b[43mgen_fn\u001b[49m\u001b[38;5;241;43m.\u001b[39;49m\u001b[43mupdate\u001b[49m\u001b[43m(\u001b[49m\u001b[43mkey\u001b[49m\u001b[43m,\u001b[49m\u001b[43m \u001b[49m\u001b[38;5;28;43mself\u001b[39;49m\u001b[43m,\u001b[49m\u001b[43m \u001b[49m\u001b[43mchoices\u001b[49m\u001b[43m,\u001b[49m\u001b[43m \u001b[49m\u001b[43margdiffs\u001b[49m\u001b[43m)\u001b[49m\n",
      "File \u001b[0;32m~/.local/lib/python3.9/site-packages/plum/function.py:484\u001b[0m, in \u001b[0;36m_BoundFunction.__call__\u001b[0;34m(self, _, *args, **kw_args)\u001b[0m\n\u001b[1;32m    483\u001b[0m \u001b[38;5;28;01mdef\u001b[39;00m \u001b[38;5;21m__call__\u001b[39m(\u001b[38;5;28mself\u001b[39m, _, \u001b[38;5;241m*\u001b[39margs, \u001b[38;5;241m*\u001b[39m\u001b[38;5;241m*\u001b[39mkw_args):\n\u001b[0;32m--> 484\u001b[0m     \u001b[38;5;28;01mreturn\u001b[39;00m \u001b[38;5;28;43mself\u001b[39;49m\u001b[38;5;241;43m.\u001b[39;49m\u001b[43m_f\u001b[49m\u001b[43m(\u001b[49m\u001b[38;5;28;43mself\u001b[39;49m\u001b[38;5;241;43m.\u001b[39;49m\u001b[43m_instance\u001b[49m\u001b[43m,\u001b[49m\u001b[43m \u001b[49m\u001b[38;5;241;43m*\u001b[39;49m\u001b[43margs\u001b[49m\u001b[43m,\u001b[49m\u001b[43m \u001b[49m\u001b[38;5;241;43m*\u001b[39;49m\u001b[38;5;241;43m*\u001b[39;49m\u001b[43mkw_args\u001b[49m\u001b[43m)\u001b[49m\n",
      "    \u001b[0;31m[... skipping hidden 1 frame]\u001b[0m\n",
      "File \u001b[0;32m~/bayes3d_genjax/genjax/src/genjax/_src/generative_functions/static/static_gen_fn.py:199\u001b[0m, in \u001b[0;36mStaticGenerativeFunction.update\u001b[0;34m(self, key, prev, constraints, argdiffs)\u001b[0m\n\u001b[1;32m    182\u001b[0m \u001b[38;5;28;01massert\u001b[39;00m static_check_tree_leaves_diff(argdiffs)\n\u001b[1;32m    183\u001b[0m syntax_sugar_handled \u001b[38;5;241m=\u001b[39m push_trace_overload_stack(\n\u001b[1;32m    184\u001b[0m     handler_trace_with_static, \u001b[38;5;28mself\u001b[39m\u001b[38;5;241m.\u001b[39msource\n\u001b[1;32m    185\u001b[0m )\n\u001b[1;32m    186\u001b[0m (\n\u001b[1;32m    187\u001b[0m     (\n\u001b[1;32m    188\u001b[0m         retval_diffs,\n\u001b[1;32m    189\u001b[0m         weight,\n\u001b[1;32m    190\u001b[0m         (\n\u001b[1;32m    191\u001b[0m             arg_primals,\n\u001b[1;32m    192\u001b[0m             retval_primals,\n\u001b[1;32m    193\u001b[0m             address_choices,\n\u001b[1;32m    194\u001b[0m             score,\n\u001b[1;32m    195\u001b[0m         ),\n\u001b[1;32m    196\u001b[0m         discard,\n\u001b[1;32m    197\u001b[0m     ),\n\u001b[1;32m    198\u001b[0m     cache_state,\n\u001b[0;32m--> 199\u001b[0m ) \u001b[38;5;241m=\u001b[39m \u001b[43mupdate_transform\u001b[49m\u001b[43m(\u001b[49m\u001b[43msyntax_sugar_handled\u001b[49m\u001b[43m)\u001b[49m\u001b[43m(\u001b[49m\u001b[43mkey\u001b[49m\u001b[43m,\u001b[49m\u001b[43m \u001b[49m\u001b[43mprev\u001b[49m\u001b[43m,\u001b[49m\u001b[43m \u001b[49m\u001b[43mconstraints\u001b[49m\u001b[43m,\u001b[49m\u001b[43m \u001b[49m\u001b[43margdiffs\u001b[49m\u001b[43m)\u001b[49m\n\u001b[1;32m    200\u001b[0m \u001b[38;5;28;01mreturn\u001b[39;00m (\n\u001b[1;32m    201\u001b[0m     StaticTrace(\n\u001b[1;32m    202\u001b[0m         \u001b[38;5;28mself\u001b[39m,\n\u001b[0;32m   (...)\u001b[0m\n\u001b[1;32m    211\u001b[0m     HierarchicalChoiceMap(discard),\n\u001b[1;32m    212\u001b[0m )\n",
      "File \u001b[0;32m<@beartype(genjax._src.generative_functions.static.static_transforms.update_transform.wrapper) at 0x7f8a29c363a0>:30\u001b[0m, in \u001b[0;36mwrapper\u001b[0;34m(__beartype_func, __beartype_conf, __beartype_get_violation, *args, **kwargs)\u001b[0m\n",
      "File \u001b[0;32m~/bayes3d_genjax/genjax/src/genjax/_src/generative_functions/static/static_transforms.py:459\u001b[0m, in \u001b[0;36mupdate_transform.<locals>.wrapper\u001b[0;34m(key, previous_trace, constraints, diffs)\u001b[0m\n\u001b[1;32m    457\u001b[0m diff_primals \u001b[38;5;241m=\u001b[39m tree_diff_primal(diffs)\n\u001b[1;32m    458\u001b[0m diff_tangents \u001b[38;5;241m=\u001b[39m tree_diff_tangent(diffs)\n\u001b[0;32m--> 459\u001b[0m retval_diffs \u001b[38;5;241m=\u001b[39m \u001b[43mincremental\u001b[49m\u001b[43m(\u001b[49m\u001b[43msource_fn\u001b[49m\u001b[43m)\u001b[49m\u001b[43m(\u001b[49m\n\u001b[1;32m    460\u001b[0m \u001b[43m    \u001b[49m\u001b[43mstateful_handler\u001b[49m\u001b[43m,\u001b[49m\u001b[43m \u001b[49m\u001b[43mdiff_primals\u001b[49m\u001b[43m,\u001b[49m\u001b[43m \u001b[49m\u001b[43mdiff_tangents\u001b[49m\n\u001b[1;32m    461\u001b[0m \u001b[43m\u001b[49m\u001b[43m)\u001b[49m\n\u001b[1;32m    462\u001b[0m retval_primals \u001b[38;5;241m=\u001b[39m tree_diff_primal(retval_diffs)\n\u001b[1;32m    463\u001b[0m (\n\u001b[1;32m    464\u001b[0m     score,\n\u001b[1;32m    465\u001b[0m     weight,\n\u001b[0;32m   (...)\u001b[0m\n\u001b[1;32m    468\u001b[0m     cache_state,\n\u001b[1;32m    469\u001b[0m ) \u001b[38;5;241m=\u001b[39m stateful_handler\u001b[38;5;241m.\u001b[39myield_state()\n",
      "File \u001b[0;32m<@beartype(genjax._src.core.interpreters.incremental.incremental.wrapped) at 0x7f8a2990b4c0>:67\u001b[0m, in \u001b[0;36mwrapped\u001b[0;34m(__beartype_func, __beartype_conf, __beartype_get_violation, __beartype_object_94256624174656, *args, **kwargs)\u001b[0m\n",
      "File \u001b[0;32m~/bayes3d_genjax/genjax/src/genjax/_src/core/interpreters/incremental.py:288\u001b[0m, in \u001b[0;36mincremental.<locals>.wrapped\u001b[0;34m(_stateful_handler, primals, tangents)\u001b[0m\n\u001b[1;32m    280\u001b[0m \u001b[38;5;129m@functools\u001b[39m\u001b[38;5;241m.\u001b[39mwraps(f)\n\u001b[1;32m    281\u001b[0m \u001b[38;5;129m@typecheck\u001b[39m\n\u001b[1;32m    282\u001b[0m \u001b[38;5;28;01mdef\u001b[39;00m \u001b[38;5;21mwrapped\u001b[39m(\n\u001b[0;32m   (...)\u001b[0m\n\u001b[1;32m    285\u001b[0m     tangents: Tuple,\n\u001b[1;32m    286\u001b[0m ):\n\u001b[1;32m    287\u001b[0m     interpreter \u001b[38;5;241m=\u001b[39m IncrementalInterpreter(hashable_dict())\n\u001b[0;32m--> 288\u001b[0m     \u001b[38;5;28;01mreturn\u001b[39;00m \u001b[43minterpreter\u001b[49m\u001b[38;5;241;43m.\u001b[39;49m\u001b[43mrun_interpreter\u001b[49m\u001b[43m(\u001b[49m\n\u001b[1;32m    289\u001b[0m \u001b[43m        \u001b[49m\u001b[43m_stateful_handler\u001b[49m\u001b[43m,\u001b[49m\n\u001b[1;32m    290\u001b[0m \u001b[43m        \u001b[49m\u001b[43mf\u001b[49m\u001b[43m,\u001b[49m\n\u001b[1;32m    291\u001b[0m \u001b[43m        \u001b[49m\u001b[43mprimals\u001b[49m\u001b[43m,\u001b[49m\n\u001b[1;32m    292\u001b[0m \u001b[43m        \u001b[49m\u001b[43mtangents\u001b[49m\u001b[43m,\u001b[49m\n\u001b[1;32m    293\u001b[0m \u001b[43m    \u001b[49m\u001b[43m)\u001b[49m\n",
      "    \u001b[0;31m[... skipping hidden 1 frame]\u001b[0m\n",
      "File \u001b[0;32m~/bayes3d_genjax/genjax/src/genjax/_src/core/interpreters/incremental.py:268\u001b[0m, in \u001b[0;36mIncrementalInterpreter.run_interpreter\u001b[0;34m(self, _stateful_handler, fn, primals, tangents, **kwargs)\u001b[0m\n\u001b[1;32m    264\u001b[0m flat_tangents \u001b[38;5;241m=\u001b[39m jtu\u001b[38;5;241m.\u001b[39mtree_leaves(\n\u001b[1;32m    265\u001b[0m     tangents, is_leaf\u001b[38;5;241m=\u001b[39m\u001b[38;5;28;01mlambda\u001b[39;00m v: \u001b[38;5;28misinstance\u001b[39m(v, ChangeTangent)\n\u001b[1;32m    266\u001b[0m )\n\u001b[1;32m    267\u001b[0m _jaxpr, consts \u001b[38;5;241m=\u001b[39m _closed_jaxpr\u001b[38;5;241m.\u001b[39mjaxpr, _closed_jaxpr\u001b[38;5;241m.\u001b[39mliterals\n\u001b[0;32m--> 268\u001b[0m flat_out \u001b[38;5;241m=\u001b[39m \u001b[38;5;28;43mself\u001b[39;49m\u001b[38;5;241;43m.\u001b[39;49m\u001b[43m_eval_jaxpr_forward\u001b[49m\u001b[43m(\u001b[49m\n\u001b[1;32m    269\u001b[0m \u001b[43m    \u001b[49m\u001b[43m_stateful_handler\u001b[49m\u001b[43m,\u001b[49m\n\u001b[1;32m    270\u001b[0m \u001b[43m    \u001b[49m\u001b[43m_jaxpr\u001b[49m\u001b[43m,\u001b[49m\n\u001b[1;32m    271\u001b[0m \u001b[43m    \u001b[49m\u001b[43mconsts\u001b[49m\u001b[43m,\u001b[49m\n\u001b[1;32m    272\u001b[0m \u001b[43m    \u001b[49m\u001b[43mflat_primals\u001b[49m\u001b[43m,\u001b[49m\n\u001b[1;32m    273\u001b[0m \u001b[43m    \u001b[49m\u001b[43mflat_tangents\u001b[49m\u001b[43m,\u001b[49m\n\u001b[1;32m    274\u001b[0m \u001b[43m\u001b[49m\u001b[43m)\u001b[49m\n\u001b[1;32m    275\u001b[0m \u001b[38;5;28;01mreturn\u001b[39;00m jtu\u001b[38;5;241m.\u001b[39mtree_unflatten(out_tree(), flat_out)\n",
      "    \u001b[0;31m[... skipping hidden 1 frame]\u001b[0m\n",
      "File \u001b[0;32m~/bayes3d_genjax/genjax/src/genjax/_src/core/interpreters/incremental.py:252\u001b[0m, in \u001b[0;36mIncrementalInterpreter._eval_jaxpr_forward\u001b[0;34m(self, _stateful_handler, _jaxpr, consts, primals, tangents)\u001b[0m\n\u001b[1;32m    250\u001b[0m     outduals \u001b[38;5;241m=\u001b[39m _stateful_handler\u001b[38;5;241m.\u001b[39mdispatch(_eqn\u001b[38;5;241m.\u001b[39mprimitive, \u001b[38;5;241m*\u001b[39margs, \u001b[38;5;241m*\u001b[39m\u001b[38;5;241m*\u001b[39m_params)\n\u001b[1;32m    251\u001b[0m \u001b[38;5;28;01melse\u001b[39;00m:\n\u001b[0;32m--> 252\u001b[0m     outduals \u001b[38;5;241m=\u001b[39m \u001b[43mdefault_propagation_rule\u001b[49m\u001b[43m(\u001b[49m\u001b[43m_eqn\u001b[49m\u001b[38;5;241;43m.\u001b[39;49m\u001b[43mprimitive\u001b[49m\u001b[43m,\u001b[49m\u001b[43m \u001b[49m\u001b[38;5;241;43m*\u001b[39;49m\u001b[43margs\u001b[49m\u001b[43m,\u001b[49m\u001b[43m \u001b[49m\u001b[38;5;241;43m*\u001b[39;49m\u001b[38;5;241;43m*\u001b[39;49m\u001b[43m_params\u001b[49m\u001b[43m)\u001b[49m\n\u001b[1;32m    253\u001b[0m \u001b[38;5;28;01mif\u001b[39;00m \u001b[38;5;129;01mnot\u001b[39;00m _eqn\u001b[38;5;241m.\u001b[39mprimitive\u001b[38;5;241m.\u001b[39mmultiple_results:\n\u001b[1;32m    254\u001b[0m     outduals \u001b[38;5;241m=\u001b[39m [outduals]\n",
      "File \u001b[0;32m~/bayes3d_genjax/genjax/src/genjax/_src/core/interpreters/incremental.py:219\u001b[0m, in \u001b[0;36mdefault_propagation_rule\u001b[0;34m(prim, *args, **_params)\u001b[0m\n\u001b[1;32m    217\u001b[0m check \u001b[38;5;241m=\u001b[39m static_check_no_change(args)\n\u001b[1;32m    218\u001b[0m args \u001b[38;5;241m=\u001b[39m tree_diff_primal(args)\n\u001b[0;32m--> 219\u001b[0m outval \u001b[38;5;241m=\u001b[39m \u001b[43mprim\u001b[49m\u001b[38;5;241;43m.\u001b[39;49m\u001b[43mbind\u001b[49m\u001b[43m(\u001b[49m\u001b[38;5;241;43m*\u001b[39;49m\u001b[43margs\u001b[49m\u001b[43m,\u001b[49m\u001b[43m \u001b[49m\u001b[38;5;241;43m*\u001b[39;49m\u001b[38;5;241;43m*\u001b[39;49m\u001b[43m_params\u001b[49m\u001b[43m)\u001b[49m\n\u001b[1;32m    220\u001b[0m \u001b[38;5;28;01mif\u001b[39;00m check:\n\u001b[1;32m    221\u001b[0m     \u001b[38;5;28;01mreturn\u001b[39;00m tree_diff_no_change(outval)\n",
      "    \u001b[0;31m[... skipping hidden 15 frame]\u001b[0m\n",
      "File \u001b[0;32m/opt/conda/envs/bayes3d_genjax_2/lib/python3.9/site-packages/bayes3d/renderer.py:288\u001b[0m, in \u001b[0;36m_build_render_primitive.<locals>._render_batch\u001b[0;34m(args, axes)\u001b[0m\n\u001b[1;32m    285\u001b[0m poses \u001b[38;5;241m=\u001b[39m poses\u001b[38;5;241m.\u001b[39mreshape(size_1 \u001b[38;5;241m*\u001b[39m size_2, num_objects, \u001b[38;5;241m4\u001b[39m, \u001b[38;5;241m4\u001b[39m)\n\u001b[1;32m    287\u001b[0m \u001b[38;5;28;01mif\u001b[39;00m poses\u001b[38;5;241m.\u001b[39mshape[\u001b[38;5;241m1\u001b[39m] \u001b[38;5;241m!=\u001b[39m indices\u001b[38;5;241m.\u001b[39mshape[\u001b[38;5;241m0\u001b[39m]:\n\u001b[0;32m--> 288\u001b[0m     \u001b[38;5;28;01mraise\u001b[39;00m \u001b[38;5;167;01mValueError\u001b[39;00m(\n\u001b[1;32m    289\u001b[0m         \u001b[38;5;124mf\u001b[39m\u001b[38;5;124m\"\u001b[39m\u001b[38;5;124mPoses Original Shape: \u001b[39m\u001b[38;5;132;01m{\u001b[39;00moriginal_shape\u001b[38;5;132;01m}\u001b[39;00m\u001b[38;5;124m Poses Shape:  \u001b[39m\u001b[38;5;132;01m{\u001b[39;00mposes\u001b[38;5;241m.\u001b[39mshape\u001b[38;5;132;01m}\u001b[39;00m\u001b[38;5;124m Indices Shape: \u001b[39m\u001b[38;5;132;01m{\u001b[39;00mindices\u001b[38;5;241m.\u001b[39mshape\u001b[38;5;132;01m}\u001b[39;00m\u001b[38;5;124m\"\u001b[39m\n\u001b[1;32m    290\u001b[0m     )\n\u001b[1;32m    291\u001b[0m \u001b[38;5;28;01mif\u001b[39;00m poses\u001b[38;5;241m.\u001b[39mshape[\u001b[38;5;241m-\u001b[39m\u001b[38;5;241m2\u001b[39m:] \u001b[38;5;241m!=\u001b[39m (\u001b[38;5;241m4\u001b[39m, \u001b[38;5;241m4\u001b[39m):\n\u001b[1;32m    292\u001b[0m     \u001b[38;5;28;01mraise\u001b[39;00m \u001b[38;5;167;01mValueError\u001b[39;00m(\n\u001b[1;32m    293\u001b[0m         \u001b[38;5;124mf\u001b[39m\u001b[38;5;124m\"\u001b[39m\u001b[38;5;124mPoses Original Shape: \u001b[39m\u001b[38;5;132;01m{\u001b[39;00moriginal_shape\u001b[38;5;132;01m}\u001b[39;00m\u001b[38;5;124m Poses Shape:  \u001b[39m\u001b[38;5;132;01m{\u001b[39;00mposes\u001b[38;5;241m.\u001b[39mshape\u001b[38;5;132;01m}\u001b[39;00m\u001b[38;5;124m Indices Shape: \u001b[39m\u001b[38;5;132;01m{\u001b[39;00mindices\u001b[38;5;241m.\u001b[39mshape\u001b[38;5;132;01m}\u001b[39;00m\u001b[38;5;124m\"\u001b[39m\n\u001b[1;32m    294\u001b[0m     )\n",
      "\u001b[0;31mValueError\u001b[0m: Poses Original Shape: (2, 1, 8, 4, 4) Poses Shape:  (2, 8, 4, 4) Indices Shape: (2, 8)"
     ]
    }
   ],
   "source": [
    "n_objects = tr1.get_args()[1]\n",
    "nochange_args = tuple(map(lambda v: Diff(v, NoChange), tr1.get_args()))\n",
    "new_args = (nochange_args[0], Diff(n_objects+1, UnknownChange), *nochange_args[2:])\n",
    "def get_newtr(cat_idx):\n",
    "    newtr, _, _, _ = tr1.update(\n",
    "        key,\n",
    "        update_choicemap(n_objects, cat_idx),\n",
    "        new_args)\n",
    "    return newtr\n",
    "newtrs = jax.vmap(get_newtr)(indices)"
   ]
  },
  {
   "cell_type": "code",
   "execution_count": null,
   "metadata": {},
   "outputs": [
    {
     "data": {
      "text/html": [
       "<pre style=\"white-space:pre;overflow-x:auto;line-height:normal;font-family:Menlo,'DejaVu Sans Mono',consolas,'Courier New',monospace\"><span style=\"font-weight: bold\">(HierarchicalChoiceMap)</span>\n",
       "└── <span style=\"font-weight: bold\">:objects</span>\n",
       "    └── <span style=\"font-weight: bold\">(IndexedChoiceMap,  i32[2,1])</span>\n",
       "        └── <span style=\"font-weight: bold\">(HierarchicalChoiceMap)</span>\n",
       "            ├── <span style=\"font-weight: bold\">:root_pose</span>\n",
       "            │   └── <span style=\"font-weight: bold\">(ValueChoice)</span>\n",
       "            │       └──  f32[2,1,4,4]\n",
       "            ├── <span style=\"font-weight: bold\">:category_index</span>\n",
       "            │   └── <span style=\"font-weight: bold\">(ValueChoice)</span>\n",
       "            │       └──  i32[2,1]\n",
       "            ├── <span style=\"font-weight: bold\">:contact_params</span>\n",
       "            │   └── <span style=\"font-weight: bold\">(ValueChoice)</span>\n",
       "            │       └──  f32[2,1,3]\n",
       "            ├── <span style=\"font-weight: bold\">:face_child</span>\n",
       "            │   └── <span style=\"font-weight: bold\">(ValueChoice)</span>\n",
       "            │       └──  i32[2,1]\n",
       "            ├── <span style=\"font-weight: bold\">:face_parent</span>\n",
       "            │   └── <span style=\"font-weight: bold\">(ValueChoice)</span>\n",
       "            │       └──  i32[2,1]\n",
       "            └── <span style=\"font-weight: bold\">:parent_obj</span>\n",
       "                └── <span style=\"font-weight: bold\">(ValueChoice)</span>\n",
       "                    └──  i32[2,1]\n",
       "</pre>\n"
      ],
      "text/plain": [
       "\u001b[1m(HierarchicalChoiceMap)\u001b[0m\n",
       "└── \u001b[1m:objects\u001b[0m\n",
       "    └── \u001b[1m(IndexedChoiceMap,  i32[2,1])\u001b[0m\n",
       "        └── \u001b[1m(HierarchicalChoiceMap)\u001b[0m\n",
       "            ├── \u001b[1m:root_pose\u001b[0m\n",
       "            │   └── \u001b[1m(ValueChoice)\u001b[0m\n",
       "            │       └──  f32[2,1,4,4]\n",
       "            ├── \u001b[1m:category_index\u001b[0m\n",
       "            │   └── \u001b[1m(ValueChoice)\u001b[0m\n",
       "            │       └──  i32[2,1]\n",
       "            ├── \u001b[1m:contact_params\u001b[0m\n",
       "            │   └── \u001b[1m(ValueChoice)\u001b[0m\n",
       "            │       └──  f32[2,1,3]\n",
       "            ├── \u001b[1m:face_child\u001b[0m\n",
       "            │   └── \u001b[1m(ValueChoice)\u001b[0m\n",
       "            │       └──  i32[2,1]\n",
       "            ├── \u001b[1m:face_parent\u001b[0m\n",
       "            │   └── \u001b[1m(ValueChoice)\u001b[0m\n",
       "            │       └──  i32[2,1]\n",
       "            └── \u001b[1m:parent_obj\u001b[0m\n",
       "                └── \u001b[1m(ValueChoice)\u001b[0m\n",
       "                    └──  i32[2,1]\n"
      ]
     },
     "metadata": {},
     "output_type": "display_data"
    }
   ],
   "source": [
    "console.print(jax.vmap(update_choicemap, in_axes=(None, 0))(2, indices))"
   ]
  },
  {
   "cell_type": "code",
   "execution_count": null,
   "metadata": {},
   "outputs": [
    {
     "data": {
      "text/html": [
       "<pre style=\"white-space:pre;overflow-x:auto;line-height:normal;font-family:Menlo,'DejaVu Sans Mono',consolas,'Courier New',monospace\"><span style=\"font-weight: bold\">(HierarchicalChoiceMap)</span>\n",
       "└── <span style=\"font-weight: bold\">:objects</span>\n",
       "    └── <span style=\"font-weight: bold\">(IndexedChoiceMap,  i32[1])</span>\n",
       "        └── <span style=\"font-weight: bold\">(HierarchicalChoiceMap)</span>\n",
       "            ├── <span style=\"font-weight: bold\">:root_pose</span>\n",
       "            │   └── <span style=\"font-weight: bold\">(ValueChoice)</span>\n",
       "            │       └──  f32[1,4,4]\n",
       "            ├── <span style=\"font-weight: bold\">:category_index</span>\n",
       "            │   └── <span style=\"font-weight: bold\">(ValueChoice)</span>\n",
       "            │       └──  i32[1]\n",
       "            ├── <span style=\"font-weight: bold\">:parent_obj</span>\n",
       "            │   └── <span style=\"font-weight: bold\">(ValueChoice)</span>\n",
       "            │       └──  i32[1]\n",
       "            ├── <span style=\"font-weight: bold\">:face_parent</span>\n",
       "            │   └── <span style=\"font-weight: bold\">(ValueChoice)</span>\n",
       "            │       └──  i32[1]\n",
       "            ├── <span style=\"font-weight: bold\">:face_child</span>\n",
       "            │   └── <span style=\"font-weight: bold\">(ValueChoice)</span>\n",
       "            │       └──  i32[1]\n",
       "            └── <span style=\"font-weight: bold\">:contact_params</span>\n",
       "                └── <span style=\"font-weight: bold\">(ValueChoice)</span>\n",
       "                    └──  f32[1,3]\n",
       "</pre>\n"
      ],
      "text/plain": [
       "\u001b[1m(HierarchicalChoiceMap)\u001b[0m\n",
       "└── \u001b[1m:objects\u001b[0m\n",
       "    └── \u001b[1m(IndexedChoiceMap,  i32[1])\u001b[0m\n",
       "        └── \u001b[1m(HierarchicalChoiceMap)\u001b[0m\n",
       "            ├── \u001b[1m:root_pose\u001b[0m\n",
       "            │   └── \u001b[1m(ValueChoice)\u001b[0m\n",
       "            │       └──  f32[1,4,4]\n",
       "            ├── \u001b[1m:category_index\u001b[0m\n",
       "            │   └── \u001b[1m(ValueChoice)\u001b[0m\n",
       "            │       └──  i32[1]\n",
       "            ├── \u001b[1m:parent_obj\u001b[0m\n",
       "            │   └── \u001b[1m(ValueChoice)\u001b[0m\n",
       "            │       └──  i32[1]\n",
       "            ├── \u001b[1m:face_parent\u001b[0m\n",
       "            │   └── \u001b[1m(ValueChoice)\u001b[0m\n",
       "            │       └──  i32[1]\n",
       "            ├── \u001b[1m:face_child\u001b[0m\n",
       "            │   └── \u001b[1m(ValueChoice)\u001b[0m\n",
       "            │       └──  i32[1]\n",
       "            └── \u001b[1m:contact_params\u001b[0m\n",
       "                └── \u001b[1m(ValueChoice)\u001b[0m\n",
       "                    └──  f32[1,3]\n"
      ]
     },
     "metadata": {},
     "output_type": "display_data"
    }
   ],
   "source": [
    "console.print(update_choicemap(2, indices[0]))"
   ]
  },
  {
   "cell_type": "code",
   "execution_count": null,
   "metadata": {},
   "outputs": [],
   "source": [
    "tr2 = c2f_given_cat(key, tr1, 1, 2, contact_param_gridding_schedule)"
   ]
  },
  {
   "cell_type": "code",
   "execution_count": null,
   "metadata": {},
   "outputs": [],
   "source": [
    "viz_trace_meshcat(tr2)"
   ]
  },
  {
   "cell_type": "code",
   "execution_count": null,
   "metadata": {},
   "outputs": [
    {
     "ename": "ValueError",
     "evalue": "Poses Original Shape: (2, 1, 8, 4, 4) Poses Shape:  (2, 8, 4, 4) Indices Shape: (2, 8)",
     "output_type": "error",
     "traceback": [
      "\u001b[0;31m---------------------------------------------------------------------------\u001b[0m",
      "\u001b[0;31mJaxStackTraceBeforeTransformation\u001b[0m         Traceback (most recent call last)",
      "File \u001b[0;32m/opt/conda/envs/bayes3d_genjax_2/lib/python3.9/runpy.py:197\u001b[0m, in \u001b[0;36m_run_module_as_main\u001b[0;34m()\u001b[0m\n\u001b[1;32m    196\u001b[0m     sys\u001b[38;5;241m.\u001b[39margv[\u001b[38;5;241m0\u001b[39m] \u001b[38;5;241m=\u001b[39m mod_spec\u001b[38;5;241m.\u001b[39morigin\n\u001b[0;32m--> 197\u001b[0m \u001b[38;5;28;01mreturn\u001b[39;00m _run_code(code, main_globals, \u001b[38;5;28;01mNone\u001b[39;00m,\n\u001b[1;32m    198\u001b[0m                  \u001b[38;5;124m\"\u001b[39m\u001b[38;5;124m__main__\u001b[39m\u001b[38;5;124m\"\u001b[39m, mod_spec)\n",
      "File \u001b[0;32m/opt/conda/envs/bayes3d_genjax_2/lib/python3.9/runpy.py:87\u001b[0m, in \u001b[0;36m_run_code\u001b[0;34m()\u001b[0m\n\u001b[1;32m     80\u001b[0m run_globals\u001b[38;5;241m.\u001b[39mupdate(\u001b[38;5;18m__name__\u001b[39m \u001b[38;5;241m=\u001b[39m mod_name,\n\u001b[1;32m     81\u001b[0m                    \u001b[38;5;18m__file__\u001b[39m \u001b[38;5;241m=\u001b[39m fname,\n\u001b[1;32m     82\u001b[0m                    __cached__ \u001b[38;5;241m=\u001b[39m cached,\n\u001b[0;32m   (...)\u001b[0m\n\u001b[1;32m     85\u001b[0m                    __package__ \u001b[38;5;241m=\u001b[39m pkg_name,\n\u001b[1;32m     86\u001b[0m                    __spec__ \u001b[38;5;241m=\u001b[39m mod_spec)\n\u001b[0;32m---> 87\u001b[0m exec(code, run_globals)\n\u001b[1;32m     88\u001b[0m \u001b[38;5;28;01mreturn\u001b[39;00m run_globals\n",
      "File \u001b[0;32m~/.local/lib/python3.9/site-packages/ipykernel_launcher.py:17\u001b[0m\n\u001b[1;32m     15\u001b[0m \u001b[38;5;28;01mfrom\u001b[39;00m \u001b[38;5;21;01mipykernel\u001b[39;00m \u001b[38;5;28;01mimport\u001b[39;00m kernelapp \u001b[38;5;28;01mas\u001b[39;00m app\n\u001b[0;32m---> 17\u001b[0m app\u001b[38;5;241m.\u001b[39mlaunch_new_instance()\n",
      "File \u001b[0;32m~/.local/lib/python3.9/site-packages/traitlets/config/application.py:1053\u001b[0m, in \u001b[0;36mlaunch_instance\u001b[0;34m()\u001b[0m\n\u001b[1;32m   1052\u001b[0m app\u001b[38;5;241m.\u001b[39minitialize(argv)\n\u001b[0;32m-> 1053\u001b[0m app\u001b[38;5;241m.\u001b[39mstart()\n",
      "File \u001b[0;32m~/.local/lib/python3.9/site-packages/ipykernel/kernelapp.py:736\u001b[0m, in \u001b[0;36mstart\u001b[0;34m()\u001b[0m\n\u001b[1;32m    735\u001b[0m \u001b[38;5;28;01mtry\u001b[39;00m:\n\u001b[0;32m--> 736\u001b[0m     \u001b[38;5;28mself\u001b[39m\u001b[38;5;241m.\u001b[39mio_loop\u001b[38;5;241m.\u001b[39mstart()\n\u001b[1;32m    737\u001b[0m \u001b[38;5;28;01mexcept\u001b[39;00m \u001b[38;5;167;01mKeyboardInterrupt\u001b[39;00m:\n",
      "File \u001b[0;32m~/.local/lib/python3.9/site-packages/tornado/platform/asyncio.py:195\u001b[0m, in \u001b[0;36mstart\u001b[0;34m()\u001b[0m\n\u001b[1;32m    194\u001b[0m \u001b[38;5;28;01mdef\u001b[39;00m \u001b[38;5;21mstart\u001b[39m(\u001b[38;5;28mself\u001b[39m) \u001b[38;5;241m-\u001b[39m\u001b[38;5;241m>\u001b[39m \u001b[38;5;28;01mNone\u001b[39;00m:\n\u001b[0;32m--> 195\u001b[0m     \u001b[38;5;28mself\u001b[39m\u001b[38;5;241m.\u001b[39masyncio_loop\u001b[38;5;241m.\u001b[39mrun_forever()\n",
      "File \u001b[0;32m/opt/conda/envs/bayes3d_genjax_2/lib/python3.9/asyncio/base_events.py:601\u001b[0m, in \u001b[0;36mrun_forever\u001b[0;34m()\u001b[0m\n\u001b[1;32m    600\u001b[0m \u001b[38;5;28;01mwhile\u001b[39;00m \u001b[38;5;28;01mTrue\u001b[39;00m:\n\u001b[0;32m--> 601\u001b[0m     \u001b[38;5;28mself\u001b[39m\u001b[38;5;241m.\u001b[39m_run_once()\n\u001b[1;32m    602\u001b[0m     \u001b[38;5;28;01mif\u001b[39;00m \u001b[38;5;28mself\u001b[39m\u001b[38;5;241m.\u001b[39m_stopping:\n",
      "File \u001b[0;32m/opt/conda/envs/bayes3d_genjax_2/lib/python3.9/asyncio/base_events.py:1905\u001b[0m, in \u001b[0;36m_run_once\u001b[0;34m()\u001b[0m\n\u001b[1;32m   1904\u001b[0m     \u001b[38;5;28;01melse\u001b[39;00m:\n\u001b[0;32m-> 1905\u001b[0m         handle\u001b[38;5;241m.\u001b[39m_run()\n\u001b[1;32m   1906\u001b[0m handle \u001b[38;5;241m=\u001b[39m \u001b[38;5;28;01mNone\u001b[39;00m\n",
      "File \u001b[0;32m/opt/conda/envs/bayes3d_genjax_2/lib/python3.9/asyncio/events.py:80\u001b[0m, in \u001b[0;36m_run\u001b[0;34m()\u001b[0m\n\u001b[1;32m     79\u001b[0m \u001b[38;5;28;01mtry\u001b[39;00m:\n\u001b[0;32m---> 80\u001b[0m     \u001b[38;5;28mself\u001b[39m\u001b[38;5;241m.\u001b[39m_context\u001b[38;5;241m.\u001b[39mrun(\u001b[38;5;28mself\u001b[39m\u001b[38;5;241m.\u001b[39m_callback, \u001b[38;5;241m*\u001b[39m\u001b[38;5;28mself\u001b[39m\u001b[38;5;241m.\u001b[39m_args)\n\u001b[1;32m     81\u001b[0m \u001b[38;5;28;01mexcept\u001b[39;00m (\u001b[38;5;167;01mSystemExit\u001b[39;00m, \u001b[38;5;167;01mKeyboardInterrupt\u001b[39;00m):\n",
      "File \u001b[0;32m~/.local/lib/python3.9/site-packages/ipykernel/kernelbase.py:516\u001b[0m, in \u001b[0;36mdispatch_queue\u001b[0;34m()\u001b[0m\n\u001b[1;32m    515\u001b[0m \u001b[38;5;28;01mtry\u001b[39;00m:\n\u001b[0;32m--> 516\u001b[0m     \u001b[38;5;28;01mawait\u001b[39;00m \u001b[38;5;28mself\u001b[39m\u001b[38;5;241m.\u001b[39mprocess_one()\n\u001b[1;32m    517\u001b[0m \u001b[38;5;28;01mexcept\u001b[39;00m \u001b[38;5;167;01mException\u001b[39;00m:\n",
      "File \u001b[0;32m~/.local/lib/python3.9/site-packages/ipykernel/kernelbase.py:505\u001b[0m, in \u001b[0;36mprocess_one\u001b[0;34m()\u001b[0m\n\u001b[1;32m    504\u001b[0m         \u001b[38;5;28;01mreturn\u001b[39;00m \u001b[38;5;28;01mNone\u001b[39;00m\n\u001b[0;32m--> 505\u001b[0m \u001b[38;5;28;01mawait\u001b[39;00m dispatch(\u001b[38;5;241m*\u001b[39margs)\n",
      "File \u001b[0;32m~/.local/lib/python3.9/site-packages/ipykernel/kernelbase.py:412\u001b[0m, in \u001b[0;36mdispatch_shell\u001b[0;34m()\u001b[0m\n\u001b[1;32m    411\u001b[0m     \u001b[38;5;28;01mif\u001b[39;00m inspect\u001b[38;5;241m.\u001b[39misawaitable(result):\n\u001b[0;32m--> 412\u001b[0m         \u001b[38;5;28;01mawait\u001b[39;00m result\n\u001b[1;32m    413\u001b[0m \u001b[38;5;28;01mexcept\u001b[39;00m \u001b[38;5;167;01mException\u001b[39;00m:\n",
      "File \u001b[0;32m~/.local/lib/python3.9/site-packages/ipykernel/kernelbase.py:740\u001b[0m, in \u001b[0;36mexecute_request\u001b[0;34m()\u001b[0m\n\u001b[1;32m    739\u001b[0m \u001b[38;5;28;01mif\u001b[39;00m inspect\u001b[38;5;241m.\u001b[39misawaitable(reply_content):\n\u001b[0;32m--> 740\u001b[0m     reply_content \u001b[38;5;241m=\u001b[39m \u001b[38;5;28;01mawait\u001b[39;00m reply_content\n\u001b[1;32m    742\u001b[0m \u001b[38;5;66;03m# Flush output before sending the reply.\u001b[39;00m\n",
      "File \u001b[0;32m~/.local/lib/python3.9/site-packages/ipykernel/ipkernel.py:422\u001b[0m, in \u001b[0;36mdo_execute\u001b[0;34m()\u001b[0m\n\u001b[1;32m    421\u001b[0m \u001b[38;5;28;01mif\u001b[39;00m with_cell_id:\n\u001b[0;32m--> 422\u001b[0m     res \u001b[38;5;241m=\u001b[39m shell\u001b[38;5;241m.\u001b[39mrun_cell(\n\u001b[1;32m    423\u001b[0m         code,\n\u001b[1;32m    424\u001b[0m         store_history\u001b[38;5;241m=\u001b[39mstore_history,\n\u001b[1;32m    425\u001b[0m         silent\u001b[38;5;241m=\u001b[39msilent,\n\u001b[1;32m    426\u001b[0m         cell_id\u001b[38;5;241m=\u001b[39mcell_id,\n\u001b[1;32m    427\u001b[0m     )\n\u001b[1;32m    428\u001b[0m \u001b[38;5;28;01melse\u001b[39;00m:\n",
      "File \u001b[0;32m~/.local/lib/python3.9/site-packages/ipykernel/zmqshell.py:546\u001b[0m, in \u001b[0;36mrun_cell\u001b[0;34m()\u001b[0m\n\u001b[1;32m    545\u001b[0m \u001b[38;5;28mself\u001b[39m\u001b[38;5;241m.\u001b[39m_last_traceback \u001b[38;5;241m=\u001b[39m \u001b[38;5;28;01mNone\u001b[39;00m\n\u001b[0;32m--> 546\u001b[0m \u001b[38;5;28;01mreturn\u001b[39;00m \u001b[38;5;28msuper\u001b[39m()\u001b[38;5;241m.\u001b[39mrun_cell(\u001b[38;5;241m*\u001b[39margs, \u001b[38;5;241m*\u001b[39m\u001b[38;5;241m*\u001b[39mkwargs)\n",
      "File \u001b[0;32m~/.local/lib/python3.9/site-packages/IPython/core/interactiveshell.py:3024\u001b[0m, in \u001b[0;36mrun_cell\u001b[0;34m()\u001b[0m\n\u001b[1;32m   3023\u001b[0m \u001b[38;5;28;01mtry\u001b[39;00m:\n\u001b[0;32m-> 3024\u001b[0m     result \u001b[38;5;241m=\u001b[39m \u001b[38;5;28mself\u001b[39m\u001b[38;5;241m.\u001b[39m_run_cell(\n\u001b[1;32m   3025\u001b[0m         raw_cell, store_history, silent, shell_futures, cell_id\n\u001b[1;32m   3026\u001b[0m     )\n\u001b[1;32m   3027\u001b[0m \u001b[38;5;28;01mfinally\u001b[39;00m:\n",
      "File \u001b[0;32m~/.local/lib/python3.9/site-packages/IPython/core/interactiveshell.py:3079\u001b[0m, in \u001b[0;36m_run_cell\u001b[0;34m()\u001b[0m\n\u001b[1;32m   3078\u001b[0m \u001b[38;5;28;01mtry\u001b[39;00m:\n\u001b[0;32m-> 3079\u001b[0m     result \u001b[38;5;241m=\u001b[39m runner(coro)\n\u001b[1;32m   3080\u001b[0m \u001b[38;5;28;01mexcept\u001b[39;00m \u001b[38;5;167;01mBaseException\u001b[39;00m \u001b[38;5;28;01mas\u001b[39;00m e:\n",
      "File \u001b[0;32m~/.local/lib/python3.9/site-packages/IPython/core/async_helpers.py:129\u001b[0m, in \u001b[0;36m_pseudo_sync_runner\u001b[0;34m()\u001b[0m\n\u001b[1;32m    128\u001b[0m \u001b[38;5;28;01mtry\u001b[39;00m:\n\u001b[0;32m--> 129\u001b[0m     coro\u001b[38;5;241m.\u001b[39msend(\u001b[38;5;28;01mNone\u001b[39;00m)\n\u001b[1;32m    130\u001b[0m \u001b[38;5;28;01mexcept\u001b[39;00m \u001b[38;5;167;01mStopIteration\u001b[39;00m \u001b[38;5;28;01mas\u001b[39;00m exc:\n",
      "File \u001b[0;32m~/.local/lib/python3.9/site-packages/IPython/core/interactiveshell.py:3284\u001b[0m, in \u001b[0;36mrun_cell_async\u001b[0;34m()\u001b[0m\n\u001b[1;32m   3281\u001b[0m interactivity \u001b[38;5;241m=\u001b[39m \u001b[38;5;124m\"\u001b[39m\u001b[38;5;124mnone\u001b[39m\u001b[38;5;124m\"\u001b[39m \u001b[38;5;28;01mif\u001b[39;00m silent \u001b[38;5;28;01melse\u001b[39;00m \u001b[38;5;28mself\u001b[39m\u001b[38;5;241m.\u001b[39mast_node_interactivity\n\u001b[0;32m-> 3284\u001b[0m has_raised \u001b[38;5;241m=\u001b[39m \u001b[38;5;28;01mawait\u001b[39;00m \u001b[38;5;28mself\u001b[39m\u001b[38;5;241m.\u001b[39mrun_ast_nodes(code_ast\u001b[38;5;241m.\u001b[39mbody, cell_name,\n\u001b[1;32m   3285\u001b[0m        interactivity\u001b[38;5;241m=\u001b[39minteractivity, compiler\u001b[38;5;241m=\u001b[39mcompiler, result\u001b[38;5;241m=\u001b[39mresult)\n\u001b[1;32m   3287\u001b[0m \u001b[38;5;28mself\u001b[39m\u001b[38;5;241m.\u001b[39mlast_execution_succeeded \u001b[38;5;241m=\u001b[39m \u001b[38;5;129;01mnot\u001b[39;00m has_raised\n",
      "File \u001b[0;32m~/.local/lib/python3.9/site-packages/IPython/core/interactiveshell.py:3466\u001b[0m, in \u001b[0;36mrun_ast_nodes\u001b[0;34m()\u001b[0m\n\u001b[1;32m   3465\u001b[0m     asy \u001b[38;5;241m=\u001b[39m compare(code)\n\u001b[0;32m-> 3466\u001b[0m \u001b[38;5;28;01mif\u001b[39;00m \u001b[38;5;28;01mawait\u001b[39;00m \u001b[38;5;28mself\u001b[39m\u001b[38;5;241m.\u001b[39mrun_code(code, result, async_\u001b[38;5;241m=\u001b[39masy):\n\u001b[1;32m   3467\u001b[0m     \u001b[38;5;28;01mreturn\u001b[39;00m \u001b[38;5;28;01mTrue\u001b[39;00m\n",
      "File \u001b[0;32m~/.local/lib/python3.9/site-packages/IPython/core/interactiveshell.py:3526\u001b[0m, in \u001b[0;36mrun_code\u001b[0;34m()\u001b[0m\n\u001b[1;32m   3525\u001b[0m     \u001b[38;5;28;01melse\u001b[39;00m:\n\u001b[0;32m-> 3526\u001b[0m         exec(code_obj, \u001b[38;5;28mself\u001b[39m\u001b[38;5;241m.\u001b[39muser_global_ns, \u001b[38;5;28mself\u001b[39m\u001b[38;5;241m.\u001b[39muser_ns)\n\u001b[1;32m   3527\u001b[0m \u001b[38;5;28;01mfinally\u001b[39;00m:\n\u001b[1;32m   3528\u001b[0m     \u001b[38;5;66;03m# Reset our crash handler in place\u001b[39;00m\n",
      "Cell \u001b[0;32mIn[123], line 2\u001b[0m\n\u001b[1;32m      1\u001b[0m subkey, key \u001b[38;5;241m=\u001b[39m jax\u001b[38;5;241m.\u001b[39mrandom\u001b[38;5;241m.\u001b[39msplit(key)\n\u001b[0;32m----> 2\u001b[0m tr1, w1 \u001b[38;5;241m=\u001b[39m model\u001b[38;5;241m.\u001b[39mimportance(subkey, constraints, model_args)\n\u001b[1;32m      3\u001b[0m viz_trace_meshcat(tr1)\n",
      "File \u001b[0;32m~/.local/lib/python3.9/site-packages/plum/function.py:484\u001b[0m, in \u001b[0;36m__call__\u001b[0;34m()\u001b[0m\n\u001b[1;32m    483\u001b[0m \u001b[38;5;28;01mdef\u001b[39;00m \u001b[38;5;21m__call__\u001b[39m(\u001b[38;5;28mself\u001b[39m, _, \u001b[38;5;241m*\u001b[39margs, \u001b[38;5;241m*\u001b[39m\u001b[38;5;241m*\u001b[39mkw_args):\n\u001b[0;32m--> 484\u001b[0m     \u001b[38;5;28;01mreturn\u001b[39;00m \u001b[38;5;28mself\u001b[39m\u001b[38;5;241m.\u001b[39m_f(\u001b[38;5;28mself\u001b[39m\u001b[38;5;241m.\u001b[39m_instance, \u001b[38;5;241m*\u001b[39margs, \u001b[38;5;241m*\u001b[39m\u001b[38;5;241m*\u001b[39mkw_args)\n",
      "File \u001b[0;32m~/.local/lib/python3.9/site-packages/plum/function.py:368\u001b[0m, in \u001b[0;36m__call__\u001b[0;34m()\u001b[0m\n\u001b[1;32m    367\u001b[0m method, return_type \u001b[38;5;241m=\u001b[39m \u001b[38;5;28mself\u001b[39m\u001b[38;5;241m.\u001b[39m_resolve_method_with_cache(args\u001b[38;5;241m=\u001b[39margs)\n\u001b[0;32m--> 368\u001b[0m \u001b[38;5;28;01mreturn\u001b[39;00m _convert(method(\u001b[38;5;241m*\u001b[39margs, \u001b[38;5;241m*\u001b[39m\u001b[38;5;241m*\u001b[39mkw_args), return_type)\n",
      "File \u001b[0;32m~/bayes3d_genjax/genjax/src/genjax/_src/generative_functions/static/static_gen_fn.py:161\u001b[0m, in \u001b[0;36mimportance\u001b[0;34m()\u001b[0m\n\u001b[1;32m    147\u001b[0m syntax_sugar_handled \u001b[38;5;241m=\u001b[39m push_trace_overload_stack(\n\u001b[1;32m    148\u001b[0m     handler_trace_with_static, \u001b[38;5;28mself\u001b[39m\u001b[38;5;241m.\u001b[39msource\n\u001b[1;32m    149\u001b[0m )\n\u001b[1;32m    150\u001b[0m (\n\u001b[1;32m    151\u001b[0m     (\n\u001b[1;32m    152\u001b[0m         w,\n\u001b[1;32m    153\u001b[0m         (\n\u001b[1;32m    154\u001b[0m             args,\n\u001b[1;32m    155\u001b[0m             retval,\n\u001b[1;32m    156\u001b[0m             address_choices,\n\u001b[1;32m    157\u001b[0m             score,\n\u001b[1;32m    158\u001b[0m         ),\n\u001b[1;32m    159\u001b[0m     ),\n\u001b[1;32m    160\u001b[0m     cache_state,\n\u001b[0;32m--> 161\u001b[0m ) \u001b[38;5;241m=\u001b[39m importance_transform(syntax_sugar_handled)(key, chm, args)\n\u001b[1;32m    162\u001b[0m \u001b[38;5;28;01mreturn\u001b[39;00m (\n\u001b[1;32m    163\u001b[0m     StaticTrace(\n\u001b[1;32m    164\u001b[0m         \u001b[38;5;28mself\u001b[39m,\n\u001b[0;32m   (...)\u001b[0m\n\u001b[1;32m    171\u001b[0m     w,\n\u001b[1;32m    172\u001b[0m )\n",
      "File \u001b[0;32m~/bayes3d_genjax/genjax/src/genjax/_src/generative_functions/static/static_transforms.py:359\u001b[0m, in \u001b[0;36mwrapper\u001b[0;34m()\u001b[0m\n\u001b[1;32m    358\u001b[0m stateful_handler \u001b[38;5;241m=\u001b[39m ImportanceHandler(key, constraints)\n\u001b[0;32m--> 359\u001b[0m retval \u001b[38;5;241m=\u001b[39m forward(source_fn)(stateful_handler, \u001b[38;5;241m*\u001b[39margs)\n\u001b[1;32m    360\u001b[0m (\n\u001b[1;32m    361\u001b[0m     score,\n\u001b[1;32m    362\u001b[0m     weight,\n\u001b[1;32m    363\u001b[0m     address_choices,\n\u001b[1;32m    364\u001b[0m     cache_state,\n\u001b[1;32m    365\u001b[0m ) \u001b[38;5;241m=\u001b[39m stateful_handler\u001b[38;5;241m.\u001b[39myield_state()\n",
      "File \u001b[0;32m<@beartype(genjax._src.core.interpreters.forward.forward.wrapped) at 0x7f8e486ff550>:31\u001b[0m, in \u001b[0;36mwrapped\u001b[0;34m()\u001b[0m\n",
      "File \u001b[0;32m~/bayes3d_genjax/genjax/src/genjax/_src/core/interpreters/forward.py:244\u001b[0m, in \u001b[0;36mwrapped\u001b[0;34m()\u001b[0m\n\u001b[1;32m    243\u001b[0m interpreter \u001b[38;5;241m=\u001b[39m ForwardInterpreter()\n\u001b[0;32m--> 244\u001b[0m \u001b[38;5;28;01mreturn\u001b[39;00m interpreter\u001b[38;5;241m.\u001b[39mrun_interpreter(\n\u001b[1;32m    245\u001b[0m     stateful_handler,\n\u001b[1;32m    246\u001b[0m     f,\n\u001b[1;32m    247\u001b[0m     \u001b[38;5;241m*\u001b[39margs,\n\u001b[1;32m    248\u001b[0m )\n",
      "File \u001b[0;32m~/bayes3d_genjax/genjax/src/genjax/_src/core/interpreters/forward.py:227\u001b[0m, in \u001b[0;36mrun_interpreter\u001b[0;34m()\u001b[0m\n\u001b[1;32m    225\u001b[0m     \u001b[38;5;28;01mreturn\u001b[39;00m fn(\u001b[38;5;241m*\u001b[39margs, \u001b[38;5;241m*\u001b[39m\u001b[38;5;241m*\u001b[39mkwargs)\n\u001b[0;32m--> 227\u001b[0m _closed_jaxpr, (flat_args, _, out_tree) \u001b[38;5;241m=\u001b[39m stage(_inner)(\u001b[38;5;241m*\u001b[39margs)\n\u001b[1;32m    228\u001b[0m _jaxpr, consts \u001b[38;5;241m=\u001b[39m _closed_jaxpr\u001b[38;5;241m.\u001b[39mjaxpr, _closed_jaxpr\u001b[38;5;241m.\u001b[39mliterals\n",
      "File \u001b[0;32m~/bayes3d_genjax/genjax/src/genjax/_src/core/interpreters/staging.py:71\u001b[0m, in \u001b[0;36mwrapped\u001b[0;34m()\u001b[0m\n\u001b[1;32m     70\u001b[0m flat_avals \u001b[38;5;241m=\u001b[39m safe_map(get_shaped_aval, flat_args)\n\u001b[0;32m---> 71\u001b[0m typed_jaxpr \u001b[38;5;241m=\u001b[39m cached_stage_dynamic(flat_fun, \u001b[38;5;28mtuple\u001b[39m(flat_avals))\n\u001b[1;32m     72\u001b[0m \u001b[38;5;28;01mreturn\u001b[39;00m typed_jaxpr, (flat_args, in_tree, out_tree)\n",
      "File \u001b[0;32m~/bayes3d_genjax/genjax/src/genjax/_src/core/interpreters/staging.py:58\u001b[0m, in \u001b[0;36mcached_stage_dynamic\u001b[0;34m()\u001b[0m\n\u001b[1;32m     56\u001b[0m \u001b[38;5;129m@lu\u001b[39m\u001b[38;5;241m.\u001b[39mcache\n\u001b[1;32m     57\u001b[0m \u001b[38;5;28;01mdef\u001b[39;00m \u001b[38;5;21mcached_stage_dynamic\u001b[39m(flat_fun, in_avals):\n\u001b[0;32m---> 58\u001b[0m     jaxpr, _, consts \u001b[38;5;241m=\u001b[39m pe\u001b[38;5;241m.\u001b[39mtrace_to_jaxpr_dynamic(flat_fun, in_avals)\n\u001b[1;32m     59\u001b[0m     typed_jaxpr \u001b[38;5;241m=\u001b[39m jax_core\u001b[38;5;241m.\u001b[39mClosedJaxpr(jaxpr, consts)\n",
      "File \u001b[0;32m~/bayes3d_genjax/genjax/src/genjax/_src/core/interpreters/forward.py:225\u001b[0m, in \u001b[0;36m_inner\u001b[0;34m()\u001b[0m\n\u001b[1;32m    224\u001b[0m \u001b[38;5;28;01mdef\u001b[39;00m \u001b[38;5;21m_inner\u001b[39m(\u001b[38;5;241m*\u001b[39margs):\n\u001b[0;32m--> 225\u001b[0m     \u001b[38;5;28;01mreturn\u001b[39;00m fn(\u001b[38;5;241m*\u001b[39margs, \u001b[38;5;241m*\u001b[39m\u001b[38;5;241m*\u001b[39mkwargs)\n",
      "File \u001b[0;32m~/bayes3d_genjax/genjax/src/genjax/_src/generative_functions/supports_callees.py:46\u001b[0m, in \u001b[0;36mwrapped\u001b[0;34m()\u001b[0m\n\u001b[1;32m     45\u001b[0m GLOBAL_TRACE_HANDLER_STACK\u001b[38;5;241m.\u001b[39mappend(handler)\n\u001b[0;32m---> 46\u001b[0m ret \u001b[38;5;241m=\u001b[39m fn(\u001b[38;5;241m*\u001b[39margs)\n\u001b[1;32m     47\u001b[0m GLOBAL_TRACE_HANDLER_STACK\u001b[38;5;241m.\u001b[39mpop()\n",
      "File \u001b[0;32m~/bayes3d_genjax/experiments/src/model2.py:143\u001b[0m, in \u001b[0;36mmodel\u001b[0;34m()\u001b[0m\n\u001b[1;32m    131\u001b[0m valid_box_dims \u001b[38;5;241m=\u001b[39m jnp\u001b[38;5;241m.\u001b[39mwhere(\n\u001b[1;32m    132\u001b[0m     is_valid(object_info)[:, \u001b[38;5;28;01mNone\u001b[39;00m],\n\u001b[1;32m    133\u001b[0m     all_box_dims[object_info\u001b[38;5;241m.\u001b[39mcategory_index],\n\u001b[1;32m    134\u001b[0m     jnp\u001b[38;5;241m.\u001b[39mzeros(\u001b[38;5;241m3\u001b[39m)\n\u001b[1;32m    135\u001b[0m )\n\u001b[1;32m    136\u001b[0m poses \u001b[38;5;241m=\u001b[39m jnp\u001b[38;5;241m.\u001b[39mwhere(\n\u001b[1;32m    137\u001b[0m     is_valid(object_info)[:, \u001b[38;5;28;01mNone\u001b[39;00m, \u001b[38;5;28;01mNone\u001b[39;00m],\n\u001b[1;32m    138\u001b[0m     b\u001b[38;5;241m.\u001b[39mscene_graph\u001b[38;5;241m.\u001b[39mposes_from_scene_graph(\n\u001b[1;32m    139\u001b[0m         object_info\u001b[38;5;241m.\u001b[39mroot_pose,\n\u001b[1;32m    140\u001b[0m         valid_box_dims,\n\u001b[1;32m    141\u001b[0m         object_info\u001b[38;5;241m.\u001b[39mparent_obj, object_info\u001b[38;5;241m.\u001b[39mparams,\n\u001b[1;32m    142\u001b[0m         object_info\u001b[38;5;241m.\u001b[39mparent_face, object_info\u001b[38;5;241m.\u001b[39mchild_face\n\u001b[0;32m--> 143\u001b[0m     ),\n\u001b[1;32m    144\u001b[0m     jnp\u001b[38;5;241m.\u001b[39mzeros((max_n_objects, \u001b[38;5;241m4\u001b[39m, \u001b[38;5;241m4\u001b[39m))\n\u001b[1;32m    145\u001b[0m )\n\u001b[1;32m    147\u001b[0m rendered \u001b[38;5;241m=\u001b[39m call_renderer(jnp\u001b[38;5;241m.\u001b[39mlinalg\u001b[38;5;241m.\u001b[39minv(camera_pose) \u001b[38;5;241m@\u001b[39m poses, object_info\u001b[38;5;241m.\u001b[39mcategory_index)[\u001b[38;5;241m.\u001b[39m\u001b[38;5;241m.\u001b[39m\u001b[38;5;241m.\u001b[39m, :\u001b[38;5;241m3\u001b[39m]\\\n",
      "File \u001b[0;32m/opt/conda/envs/bayes3d_genjax_2/lib/python3.9/site-packages/bayes3d/renderer.py:175\u001b[0m, in \u001b[0;36mrender\u001b[0;34m()\u001b[0m\n\u001b[1;32m    174\u001b[0m \u001b[38;5;28;01mdef\u001b[39;00m \u001b[38;5;21mrender\u001b[39m(\u001b[38;5;28mself\u001b[39m, poses, indices):\n\u001b[0;32m--> 175\u001b[0m     \u001b[38;5;28;01mreturn\u001b[39;00m \u001b[38;5;28mself\u001b[39m\u001b[38;5;241m.\u001b[39mrender_many(poses[\u001b[38;5;28;01mNone\u001b[39;00m, \u001b[38;5;241m.\u001b[39m\u001b[38;5;241m.\u001b[39m\u001b[38;5;241m.\u001b[39m], indices)[\u001b[38;5;241m0\u001b[39m]\n",
      "File \u001b[0;32m/opt/conda/envs/bayes3d_genjax_2/lib/python3.9/site-packages/bayes3d/renderer.py:172\u001b[0m, in \u001b[0;36mrender_many\u001b[0;34m()\u001b[0m\n\u001b[1;32m    160\u001b[0m \u001b[38;5;250m\u001b[39m\u001b[38;5;124;03m\"\"\"Render many scenes in parallel.\u001b[39;00m\n\u001b[1;32m    161\u001b[0m \n\u001b[1;32m    162\u001b[0m \u001b[38;5;124;03mArgs:\u001b[39;00m\n\u001b[0;32m   (...)\u001b[0m\n\u001b[1;32m    170\u001b[0m \u001b[38;5;124;03m                 the final dimension is the segmentation image.\u001b[39;00m\n\u001b[1;32m    171\u001b[0m \u001b[38;5;124;03m\"\"\"\u001b[39;00m\n\u001b[0;32m--> 172\u001b[0m \u001b[38;5;28;01mreturn\u001b[39;00m \u001b[38;5;28mself\u001b[39m\u001b[38;5;241m.\u001b[39mrender_many_custom_intrinsics(poses, indices, \u001b[38;5;28mself\u001b[39m\u001b[38;5;241m.\u001b[39mintrinsics)\n",
      "File \u001b[0;32m/opt/conda/envs/bayes3d_genjax_2/lib/python3.9/site-packages/bayes3d/renderer.py:156\u001b[0m, in \u001b[0;36mrender_many_custom_intrinsics\u001b[0;34m()\u001b[0m\n\u001b[1;32m    146\u001b[0m proj_matrix \u001b[38;5;241m=\u001b[39m b\u001b[38;5;241m.\u001b[39mcamera\u001b[38;5;241m.\u001b[39m_open_gl_projection_matrix(\n\u001b[1;32m    147\u001b[0m     intrinsics\u001b[38;5;241m.\u001b[39mheight,\n\u001b[1;32m    148\u001b[0m     intrinsics\u001b[38;5;241m.\u001b[39mwidth,\n\u001b[0;32m   (...)\u001b[0m\n\u001b[1;32m    154\u001b[0m     intrinsics\u001b[38;5;241m.\u001b[39mfar,\n\u001b[1;32m    155\u001b[0m )\n\u001b[0;32m--> 156\u001b[0m images_jnp \u001b[38;5;241m=\u001b[39m _render_custom_call(\u001b[38;5;28mself\u001b[39m, poses, indices, proj_matrix)[\u001b[38;5;241m0\u001b[39m]\n\u001b[1;32m    157\u001b[0m \u001b[38;5;28;01mreturn\u001b[39;00m _transform_image_zeros_parallel(images_jnp, intrinsics)\n",
      "File \u001b[0;32m/opt/conda/envs/bayes3d_genjax_2/lib/python3.9/site-packages/bayes3d/renderer.py:195\u001b[0m, in \u001b[0;36m_render_custom_call\u001b[0;34m()\u001b[0m\n\u001b[1;32m    193\u001b[0m \u001b[38;5;129m@functools\u001b[39m\u001b[38;5;241m.\u001b[39mpartial(jax\u001b[38;5;241m.\u001b[39mjit, static_argnums\u001b[38;5;241m=\u001b[39m(\u001b[38;5;241m0\u001b[39m,))\n\u001b[1;32m    194\u001b[0m \u001b[38;5;28;01mdef\u001b[39;00m \u001b[38;5;21m_render_custom_call\u001b[39m(r: \u001b[38;5;124m\"\u001b[39m\u001b[38;5;124mRenderer\u001b[39m\u001b[38;5;124m\"\u001b[39m, poses, indices, intrinsics_matrix):\n\u001b[0;32m--> 195\u001b[0m     \u001b[38;5;28;01mreturn\u001b[39;00m _build_render_primitive(r)\u001b[38;5;241m.\u001b[39mbind(poses, indices, intrinsics_matrix)\n",
      "\u001b[0;31mJaxStackTraceBeforeTransformation\u001b[0m: ValueError: Poses Original Shape: (2, 1, 8, 4, 4) Poses Shape:  (2, 8, 4, 4) Indices Shape: (2, 8)\n\nThe preceding stack trace is the source of the JAX operation that, once transformed by JAX, triggered the following exception.\n\n--------------------",
      "\nThe above exception was the direct cause of the following exception:\n",
      "\u001b[0;31mValueError\u001b[0m                                Traceback (most recent call last)",
      "Cell \u001b[0;32mIn[168], line 1\u001b[0m\n\u001b[0;32m----> 1\u001b[0m potential_traces \u001b[38;5;241m=\u001b[39m \u001b[43m__c2f_and_catsearch\u001b[49m\u001b[43m(\u001b[49m\u001b[43mkey\u001b[49m\u001b[43m,\u001b[49m\u001b[43m \u001b[49m\u001b[43mtr1\u001b[49m\u001b[43m,\u001b[49m\u001b[43m \u001b[49m\u001b[38;5;241;43m1\u001b[39;49m\u001b[43m,\u001b[49m\u001b[43m \u001b[49m\u001b[43mjnp\u001b[49m\u001b[38;5;241;43m.\u001b[39;49m\u001b[43marray\u001b[49m\u001b[43m(\u001b[49m\u001b[43m[\u001b[49m\u001b[38;5;241;43m2\u001b[39;49m\u001b[43m,\u001b[49m\u001b[43m \u001b[49m\u001b[38;5;241;43m3\u001b[39;49m\u001b[43m]\u001b[49m\u001b[43m)\u001b[49m\u001b[43m,\u001b[49m\u001b[43m \u001b[49m\u001b[43mcontact_param_gridding_schedule\u001b[49m\u001b[43m)\u001b[49m\n",
      "    \u001b[0;31m[... skipping hidden 33 frame]\u001b[0m\n",
      "File \u001b[0;32m/opt/conda/envs/bayes3d_genjax_2/lib/python3.9/site-packages/bayes3d/renderer.py:288\u001b[0m, in \u001b[0;36m_build_render_primitive.<locals>._render_batch\u001b[0;34m(args, axes)\u001b[0m\n\u001b[1;32m    285\u001b[0m poses \u001b[38;5;241m=\u001b[39m poses\u001b[38;5;241m.\u001b[39mreshape(size_1 \u001b[38;5;241m*\u001b[39m size_2, num_objects, \u001b[38;5;241m4\u001b[39m, \u001b[38;5;241m4\u001b[39m)\n\u001b[1;32m    287\u001b[0m \u001b[38;5;28;01mif\u001b[39;00m poses\u001b[38;5;241m.\u001b[39mshape[\u001b[38;5;241m1\u001b[39m] \u001b[38;5;241m!=\u001b[39m indices\u001b[38;5;241m.\u001b[39mshape[\u001b[38;5;241m0\u001b[39m]:\n\u001b[0;32m--> 288\u001b[0m     \u001b[38;5;28;01mraise\u001b[39;00m \u001b[38;5;167;01mValueError\u001b[39;00m(\n\u001b[1;32m    289\u001b[0m         \u001b[38;5;124mf\u001b[39m\u001b[38;5;124m\"\u001b[39m\u001b[38;5;124mPoses Original Shape: \u001b[39m\u001b[38;5;132;01m{\u001b[39;00moriginal_shape\u001b[38;5;132;01m}\u001b[39;00m\u001b[38;5;124m Poses Shape:  \u001b[39m\u001b[38;5;132;01m{\u001b[39;00mposes\u001b[38;5;241m.\u001b[39mshape\u001b[38;5;132;01m}\u001b[39;00m\u001b[38;5;124m Indices Shape: \u001b[39m\u001b[38;5;132;01m{\u001b[39;00mindices\u001b[38;5;241m.\u001b[39mshape\u001b[38;5;132;01m}\u001b[39;00m\u001b[38;5;124m\"\u001b[39m\n\u001b[1;32m    290\u001b[0m     )\n\u001b[1;32m    291\u001b[0m \u001b[38;5;28;01mif\u001b[39;00m poses\u001b[38;5;241m.\u001b[39mshape[\u001b[38;5;241m-\u001b[39m\u001b[38;5;241m2\u001b[39m:] \u001b[38;5;241m!=\u001b[39m (\u001b[38;5;241m4\u001b[39m, \u001b[38;5;241m4\u001b[39m):\n\u001b[1;32m    292\u001b[0m     \u001b[38;5;28;01mraise\u001b[39;00m \u001b[38;5;167;01mValueError\u001b[39;00m(\n\u001b[1;32m    293\u001b[0m         \u001b[38;5;124mf\u001b[39m\u001b[38;5;124m\"\u001b[39m\u001b[38;5;124mPoses Original Shape: \u001b[39m\u001b[38;5;132;01m{\u001b[39;00moriginal_shape\u001b[38;5;132;01m}\u001b[39;00m\u001b[38;5;124m Poses Shape:  \u001b[39m\u001b[38;5;132;01m{\u001b[39;00mposes\u001b[38;5;241m.\u001b[39mshape\u001b[38;5;132;01m}\u001b[39;00m\u001b[38;5;124m Indices Shape: \u001b[39m\u001b[38;5;132;01m{\u001b[39;00mindices\u001b[38;5;241m.\u001b[39mshape\u001b[38;5;132;01m}\u001b[39;00m\u001b[38;5;124m\"\u001b[39m\n\u001b[1;32m    294\u001b[0m     )\n",
      "\u001b[0;31mValueError\u001b[0m: Poses Original Shape: (2, 1, 8, 4, 4) Poses Shape:  (2, 8, 4, 4) Indices Shape: (2, 8)"
     ]
    }
   ],
   "source": [
    "potential_traces = __c2f_and_catsearch(key, tr1, 1, jnp.array([2, 3]), contact_param_gridding_schedule)"
   ]
  },
  {
   "cell_type": "code",
   "execution_count": null,
   "metadata": {},
   "outputs": [
    {
     "ename": "ValueError",
     "evalue": "Poses Original Shape: (7, 1, 8, 4, 4) Poses Shape:  (7, 8, 4, 4) Indices Shape: (7, 8)",
     "output_type": "error",
     "traceback": [
      "\u001b[0;31m---------------------------------------------------------------------------\u001b[0m",
      "\u001b[0;31mJaxStackTraceBeforeTransformation\u001b[0m         Traceback (most recent call last)",
      "File \u001b[0;32m/opt/conda/envs/bayes3d_genjax_2/lib/python3.9/runpy.py:197\u001b[0m, in \u001b[0;36m_run_module_as_main\u001b[0;34m()\u001b[0m\n\u001b[1;32m    196\u001b[0m     sys\u001b[38;5;241m.\u001b[39margv[\u001b[38;5;241m0\u001b[39m] \u001b[38;5;241m=\u001b[39m mod_spec\u001b[38;5;241m.\u001b[39morigin\n\u001b[0;32m--> 197\u001b[0m \u001b[38;5;28;01mreturn\u001b[39;00m _run_code(code, main_globals, \u001b[38;5;28;01mNone\u001b[39;00m,\n\u001b[1;32m    198\u001b[0m                  \u001b[38;5;124m\"\u001b[39m\u001b[38;5;124m__main__\u001b[39m\u001b[38;5;124m\"\u001b[39m, mod_spec)\n",
      "File \u001b[0;32m/opt/conda/envs/bayes3d_genjax_2/lib/python3.9/runpy.py:87\u001b[0m, in \u001b[0;36m_run_code\u001b[0;34m()\u001b[0m\n\u001b[1;32m     80\u001b[0m run_globals\u001b[38;5;241m.\u001b[39mupdate(\u001b[38;5;18m__name__\u001b[39m \u001b[38;5;241m=\u001b[39m mod_name,\n\u001b[1;32m     81\u001b[0m                    \u001b[38;5;18m__file__\u001b[39m \u001b[38;5;241m=\u001b[39m fname,\n\u001b[1;32m     82\u001b[0m                    __cached__ \u001b[38;5;241m=\u001b[39m cached,\n\u001b[0;32m   (...)\u001b[0m\n\u001b[1;32m     85\u001b[0m                    __package__ \u001b[38;5;241m=\u001b[39m pkg_name,\n\u001b[1;32m     86\u001b[0m                    __spec__ \u001b[38;5;241m=\u001b[39m mod_spec)\n\u001b[0;32m---> 87\u001b[0m exec(code, run_globals)\n\u001b[1;32m     88\u001b[0m \u001b[38;5;28;01mreturn\u001b[39;00m run_globals\n",
      "File \u001b[0;32m~/.local/lib/python3.9/site-packages/ipykernel_launcher.py:17\u001b[0m\n\u001b[1;32m     15\u001b[0m \u001b[38;5;28;01mfrom\u001b[39;00m \u001b[38;5;21;01mipykernel\u001b[39;00m \u001b[38;5;28;01mimport\u001b[39;00m kernelapp \u001b[38;5;28;01mas\u001b[39;00m app\n\u001b[0;32m---> 17\u001b[0m app\u001b[38;5;241m.\u001b[39mlaunch_new_instance()\n",
      "File \u001b[0;32m~/.local/lib/python3.9/site-packages/traitlets/config/application.py:1053\u001b[0m, in \u001b[0;36mlaunch_instance\u001b[0;34m()\u001b[0m\n\u001b[1;32m   1052\u001b[0m app\u001b[38;5;241m.\u001b[39minitialize(argv)\n\u001b[0;32m-> 1053\u001b[0m app\u001b[38;5;241m.\u001b[39mstart()\n",
      "File \u001b[0;32m~/.local/lib/python3.9/site-packages/ipykernel/kernelapp.py:736\u001b[0m, in \u001b[0;36mstart\u001b[0;34m()\u001b[0m\n\u001b[1;32m    735\u001b[0m \u001b[38;5;28;01mtry\u001b[39;00m:\n\u001b[0;32m--> 736\u001b[0m     \u001b[38;5;28mself\u001b[39m\u001b[38;5;241m.\u001b[39mio_loop\u001b[38;5;241m.\u001b[39mstart()\n\u001b[1;32m    737\u001b[0m \u001b[38;5;28;01mexcept\u001b[39;00m \u001b[38;5;167;01mKeyboardInterrupt\u001b[39;00m:\n",
      "File \u001b[0;32m~/.local/lib/python3.9/site-packages/tornado/platform/asyncio.py:195\u001b[0m, in \u001b[0;36mstart\u001b[0;34m()\u001b[0m\n\u001b[1;32m    194\u001b[0m \u001b[38;5;28;01mdef\u001b[39;00m \u001b[38;5;21mstart\u001b[39m(\u001b[38;5;28mself\u001b[39m) \u001b[38;5;241m-\u001b[39m\u001b[38;5;241m>\u001b[39m \u001b[38;5;28;01mNone\u001b[39;00m:\n\u001b[0;32m--> 195\u001b[0m     \u001b[38;5;28mself\u001b[39m\u001b[38;5;241m.\u001b[39masyncio_loop\u001b[38;5;241m.\u001b[39mrun_forever()\n",
      "File \u001b[0;32m/opt/conda/envs/bayes3d_genjax_2/lib/python3.9/asyncio/base_events.py:601\u001b[0m, in \u001b[0;36mrun_forever\u001b[0;34m()\u001b[0m\n\u001b[1;32m    600\u001b[0m \u001b[38;5;28;01mwhile\u001b[39;00m \u001b[38;5;28;01mTrue\u001b[39;00m:\n\u001b[0;32m--> 601\u001b[0m     \u001b[38;5;28mself\u001b[39m\u001b[38;5;241m.\u001b[39m_run_once()\n\u001b[1;32m    602\u001b[0m     \u001b[38;5;28;01mif\u001b[39;00m \u001b[38;5;28mself\u001b[39m\u001b[38;5;241m.\u001b[39m_stopping:\n",
      "File \u001b[0;32m/opt/conda/envs/bayes3d_genjax_2/lib/python3.9/asyncio/base_events.py:1905\u001b[0m, in \u001b[0;36m_run_once\u001b[0;34m()\u001b[0m\n\u001b[1;32m   1904\u001b[0m     \u001b[38;5;28;01melse\u001b[39;00m:\n\u001b[0;32m-> 1905\u001b[0m         handle\u001b[38;5;241m.\u001b[39m_run()\n\u001b[1;32m   1906\u001b[0m handle \u001b[38;5;241m=\u001b[39m \u001b[38;5;28;01mNone\u001b[39;00m\n",
      "File \u001b[0;32m/opt/conda/envs/bayes3d_genjax_2/lib/python3.9/asyncio/events.py:80\u001b[0m, in \u001b[0;36m_run\u001b[0;34m()\u001b[0m\n\u001b[1;32m     79\u001b[0m \u001b[38;5;28;01mtry\u001b[39;00m:\n\u001b[0;32m---> 80\u001b[0m     \u001b[38;5;28mself\u001b[39m\u001b[38;5;241m.\u001b[39m_context\u001b[38;5;241m.\u001b[39mrun(\u001b[38;5;28mself\u001b[39m\u001b[38;5;241m.\u001b[39m_callback, \u001b[38;5;241m*\u001b[39m\u001b[38;5;28mself\u001b[39m\u001b[38;5;241m.\u001b[39m_args)\n\u001b[1;32m     81\u001b[0m \u001b[38;5;28;01mexcept\u001b[39;00m (\u001b[38;5;167;01mSystemExit\u001b[39;00m, \u001b[38;5;167;01mKeyboardInterrupt\u001b[39;00m):\n",
      "File \u001b[0;32m~/.local/lib/python3.9/site-packages/ipykernel/kernelbase.py:516\u001b[0m, in \u001b[0;36mdispatch_queue\u001b[0;34m()\u001b[0m\n\u001b[1;32m    515\u001b[0m \u001b[38;5;28;01mtry\u001b[39;00m:\n\u001b[0;32m--> 516\u001b[0m     \u001b[38;5;28;01mawait\u001b[39;00m \u001b[38;5;28mself\u001b[39m\u001b[38;5;241m.\u001b[39mprocess_one()\n\u001b[1;32m    517\u001b[0m \u001b[38;5;28;01mexcept\u001b[39;00m \u001b[38;5;167;01mException\u001b[39;00m:\n",
      "File \u001b[0;32m~/.local/lib/python3.9/site-packages/ipykernel/kernelbase.py:505\u001b[0m, in \u001b[0;36mprocess_one\u001b[0;34m()\u001b[0m\n\u001b[1;32m    504\u001b[0m         \u001b[38;5;28;01mreturn\u001b[39;00m \u001b[38;5;28;01mNone\u001b[39;00m\n\u001b[0;32m--> 505\u001b[0m \u001b[38;5;28;01mawait\u001b[39;00m dispatch(\u001b[38;5;241m*\u001b[39margs)\n",
      "File \u001b[0;32m~/.local/lib/python3.9/site-packages/ipykernel/kernelbase.py:412\u001b[0m, in \u001b[0;36mdispatch_shell\u001b[0;34m()\u001b[0m\n\u001b[1;32m    411\u001b[0m     \u001b[38;5;28;01mif\u001b[39;00m inspect\u001b[38;5;241m.\u001b[39misawaitable(result):\n\u001b[0;32m--> 412\u001b[0m         \u001b[38;5;28;01mawait\u001b[39;00m result\n\u001b[1;32m    413\u001b[0m \u001b[38;5;28;01mexcept\u001b[39;00m \u001b[38;5;167;01mException\u001b[39;00m:\n",
      "File \u001b[0;32m~/.local/lib/python3.9/site-packages/ipykernel/kernelbase.py:740\u001b[0m, in \u001b[0;36mexecute_request\u001b[0;34m()\u001b[0m\n\u001b[1;32m    739\u001b[0m \u001b[38;5;28;01mif\u001b[39;00m inspect\u001b[38;5;241m.\u001b[39misawaitable(reply_content):\n\u001b[0;32m--> 740\u001b[0m     reply_content \u001b[38;5;241m=\u001b[39m \u001b[38;5;28;01mawait\u001b[39;00m reply_content\n\u001b[1;32m    742\u001b[0m \u001b[38;5;66;03m# Flush output before sending the reply.\u001b[39;00m\n",
      "File \u001b[0;32m~/.local/lib/python3.9/site-packages/ipykernel/ipkernel.py:422\u001b[0m, in \u001b[0;36mdo_execute\u001b[0;34m()\u001b[0m\n\u001b[1;32m    421\u001b[0m \u001b[38;5;28;01mif\u001b[39;00m with_cell_id:\n\u001b[0;32m--> 422\u001b[0m     res \u001b[38;5;241m=\u001b[39m shell\u001b[38;5;241m.\u001b[39mrun_cell(\n\u001b[1;32m    423\u001b[0m         code,\n\u001b[1;32m    424\u001b[0m         store_history\u001b[38;5;241m=\u001b[39mstore_history,\n\u001b[1;32m    425\u001b[0m         silent\u001b[38;5;241m=\u001b[39msilent,\n\u001b[1;32m    426\u001b[0m         cell_id\u001b[38;5;241m=\u001b[39mcell_id,\n\u001b[1;32m    427\u001b[0m     )\n\u001b[1;32m    428\u001b[0m \u001b[38;5;28;01melse\u001b[39;00m:\n",
      "File \u001b[0;32m~/.local/lib/python3.9/site-packages/ipykernel/zmqshell.py:546\u001b[0m, in \u001b[0;36mrun_cell\u001b[0;34m()\u001b[0m\n\u001b[1;32m    545\u001b[0m \u001b[38;5;28mself\u001b[39m\u001b[38;5;241m.\u001b[39m_last_traceback \u001b[38;5;241m=\u001b[39m \u001b[38;5;28;01mNone\u001b[39;00m\n\u001b[0;32m--> 546\u001b[0m \u001b[38;5;28;01mreturn\u001b[39;00m \u001b[38;5;28msuper\u001b[39m()\u001b[38;5;241m.\u001b[39mrun_cell(\u001b[38;5;241m*\u001b[39margs, \u001b[38;5;241m*\u001b[39m\u001b[38;5;241m*\u001b[39mkwargs)\n",
      "File \u001b[0;32m~/.local/lib/python3.9/site-packages/IPython/core/interactiveshell.py:3024\u001b[0m, in \u001b[0;36mrun_cell\u001b[0;34m()\u001b[0m\n\u001b[1;32m   3023\u001b[0m \u001b[38;5;28;01mtry\u001b[39;00m:\n\u001b[0;32m-> 3024\u001b[0m     result \u001b[38;5;241m=\u001b[39m \u001b[38;5;28mself\u001b[39m\u001b[38;5;241m.\u001b[39m_run_cell(\n\u001b[1;32m   3025\u001b[0m         raw_cell, store_history, silent, shell_futures, cell_id\n\u001b[1;32m   3026\u001b[0m     )\n\u001b[1;32m   3027\u001b[0m \u001b[38;5;28;01mfinally\u001b[39;00m:\n",
      "File \u001b[0;32m~/.local/lib/python3.9/site-packages/IPython/core/interactiveshell.py:3079\u001b[0m, in \u001b[0;36m_run_cell\u001b[0;34m()\u001b[0m\n\u001b[1;32m   3078\u001b[0m \u001b[38;5;28;01mtry\u001b[39;00m:\n\u001b[0;32m-> 3079\u001b[0m     result \u001b[38;5;241m=\u001b[39m runner(coro)\n\u001b[1;32m   3080\u001b[0m \u001b[38;5;28;01mexcept\u001b[39;00m \u001b[38;5;167;01mBaseException\u001b[39;00m \u001b[38;5;28;01mas\u001b[39;00m e:\n",
      "File \u001b[0;32m~/.local/lib/python3.9/site-packages/IPython/core/async_helpers.py:129\u001b[0m, in \u001b[0;36m_pseudo_sync_runner\u001b[0;34m()\u001b[0m\n\u001b[1;32m    128\u001b[0m \u001b[38;5;28;01mtry\u001b[39;00m:\n\u001b[0;32m--> 129\u001b[0m     coro\u001b[38;5;241m.\u001b[39msend(\u001b[38;5;28;01mNone\u001b[39;00m)\n\u001b[1;32m    130\u001b[0m \u001b[38;5;28;01mexcept\u001b[39;00m \u001b[38;5;167;01mStopIteration\u001b[39;00m \u001b[38;5;28;01mas\u001b[39;00m exc:\n",
      "File \u001b[0;32m~/.local/lib/python3.9/site-packages/IPython/core/interactiveshell.py:3284\u001b[0m, in \u001b[0;36mrun_cell_async\u001b[0;34m()\u001b[0m\n\u001b[1;32m   3281\u001b[0m interactivity \u001b[38;5;241m=\u001b[39m \u001b[38;5;124m\"\u001b[39m\u001b[38;5;124mnone\u001b[39m\u001b[38;5;124m\"\u001b[39m \u001b[38;5;28;01mif\u001b[39;00m silent \u001b[38;5;28;01melse\u001b[39;00m \u001b[38;5;28mself\u001b[39m\u001b[38;5;241m.\u001b[39mast_node_interactivity\n\u001b[0;32m-> 3284\u001b[0m has_raised \u001b[38;5;241m=\u001b[39m \u001b[38;5;28;01mawait\u001b[39;00m \u001b[38;5;28mself\u001b[39m\u001b[38;5;241m.\u001b[39mrun_ast_nodes(code_ast\u001b[38;5;241m.\u001b[39mbody, cell_name,\n\u001b[1;32m   3285\u001b[0m        interactivity\u001b[38;5;241m=\u001b[39minteractivity, compiler\u001b[38;5;241m=\u001b[39mcompiler, result\u001b[38;5;241m=\u001b[39mresult)\n\u001b[1;32m   3287\u001b[0m \u001b[38;5;28mself\u001b[39m\u001b[38;5;241m.\u001b[39mlast_execution_succeeded \u001b[38;5;241m=\u001b[39m \u001b[38;5;129;01mnot\u001b[39;00m has_raised\n",
      "File \u001b[0;32m~/.local/lib/python3.9/site-packages/IPython/core/interactiveshell.py:3466\u001b[0m, in \u001b[0;36mrun_ast_nodes\u001b[0;34m()\u001b[0m\n\u001b[1;32m   3465\u001b[0m     asy \u001b[38;5;241m=\u001b[39m compare(code)\n\u001b[0;32m-> 3466\u001b[0m \u001b[38;5;28;01mif\u001b[39;00m \u001b[38;5;28;01mawait\u001b[39;00m \u001b[38;5;28mself\u001b[39m\u001b[38;5;241m.\u001b[39mrun_code(code, result, async_\u001b[38;5;241m=\u001b[39masy):\n\u001b[1;32m   3467\u001b[0m     \u001b[38;5;28;01mreturn\u001b[39;00m \u001b[38;5;28;01mTrue\u001b[39;00m\n",
      "File \u001b[0;32m~/.local/lib/python3.9/site-packages/IPython/core/interactiveshell.py:3526\u001b[0m, in \u001b[0;36mrun_code\u001b[0;34m()\u001b[0m\n\u001b[1;32m   3525\u001b[0m     \u001b[38;5;28;01melse\u001b[39;00m:\n\u001b[0;32m-> 3526\u001b[0m         exec(code_obj, \u001b[38;5;28mself\u001b[39m\u001b[38;5;241m.\u001b[39muser_global_ns, \u001b[38;5;28mself\u001b[39m\u001b[38;5;241m.\u001b[39muser_ns)\n\u001b[1;32m   3527\u001b[0m \u001b[38;5;28;01mfinally\u001b[39;00m:\n\u001b[1;32m   3528\u001b[0m     \u001b[38;5;66;03m# Reset our crash handler in place\u001b[39;00m\n",
      "Cell \u001b[0;32mIn[123], line 2\u001b[0m\n\u001b[1;32m      1\u001b[0m subkey, key \u001b[38;5;241m=\u001b[39m jax\u001b[38;5;241m.\u001b[39mrandom\u001b[38;5;241m.\u001b[39msplit(key)\n\u001b[0;32m----> 2\u001b[0m tr1, w1 \u001b[38;5;241m=\u001b[39m model\u001b[38;5;241m.\u001b[39mimportance(subkey, constraints, model_args)\n\u001b[1;32m      3\u001b[0m viz_trace_meshcat(tr1)\n",
      "File \u001b[0;32m~/.local/lib/python3.9/site-packages/plum/function.py:484\u001b[0m, in \u001b[0;36m__call__\u001b[0;34m()\u001b[0m\n\u001b[1;32m    483\u001b[0m \u001b[38;5;28;01mdef\u001b[39;00m \u001b[38;5;21m__call__\u001b[39m(\u001b[38;5;28mself\u001b[39m, _, \u001b[38;5;241m*\u001b[39margs, \u001b[38;5;241m*\u001b[39m\u001b[38;5;241m*\u001b[39mkw_args):\n\u001b[0;32m--> 484\u001b[0m     \u001b[38;5;28;01mreturn\u001b[39;00m \u001b[38;5;28mself\u001b[39m\u001b[38;5;241m.\u001b[39m_f(\u001b[38;5;28mself\u001b[39m\u001b[38;5;241m.\u001b[39m_instance, \u001b[38;5;241m*\u001b[39margs, \u001b[38;5;241m*\u001b[39m\u001b[38;5;241m*\u001b[39mkw_args)\n",
      "File \u001b[0;32m~/.local/lib/python3.9/site-packages/plum/function.py:368\u001b[0m, in \u001b[0;36m__call__\u001b[0;34m()\u001b[0m\n\u001b[1;32m    367\u001b[0m method, return_type \u001b[38;5;241m=\u001b[39m \u001b[38;5;28mself\u001b[39m\u001b[38;5;241m.\u001b[39m_resolve_method_with_cache(args\u001b[38;5;241m=\u001b[39margs)\n\u001b[0;32m--> 368\u001b[0m \u001b[38;5;28;01mreturn\u001b[39;00m _convert(method(\u001b[38;5;241m*\u001b[39margs, \u001b[38;5;241m*\u001b[39m\u001b[38;5;241m*\u001b[39mkw_args), return_type)\n",
      "File \u001b[0;32m~/bayes3d_genjax/genjax/src/genjax/_src/generative_functions/static/static_gen_fn.py:161\u001b[0m, in \u001b[0;36mimportance\u001b[0;34m()\u001b[0m\n\u001b[1;32m    147\u001b[0m syntax_sugar_handled \u001b[38;5;241m=\u001b[39m push_trace_overload_stack(\n\u001b[1;32m    148\u001b[0m     handler_trace_with_static, \u001b[38;5;28mself\u001b[39m\u001b[38;5;241m.\u001b[39msource\n\u001b[1;32m    149\u001b[0m )\n\u001b[1;32m    150\u001b[0m (\n\u001b[1;32m    151\u001b[0m     (\n\u001b[1;32m    152\u001b[0m         w,\n\u001b[1;32m    153\u001b[0m         (\n\u001b[1;32m    154\u001b[0m             args,\n\u001b[1;32m    155\u001b[0m             retval,\n\u001b[1;32m    156\u001b[0m             address_choices,\n\u001b[1;32m    157\u001b[0m             score,\n\u001b[1;32m    158\u001b[0m         ),\n\u001b[1;32m    159\u001b[0m     ),\n\u001b[1;32m    160\u001b[0m     cache_state,\n\u001b[0;32m--> 161\u001b[0m ) \u001b[38;5;241m=\u001b[39m importance_transform(syntax_sugar_handled)(key, chm, args)\n\u001b[1;32m    162\u001b[0m \u001b[38;5;28;01mreturn\u001b[39;00m (\n\u001b[1;32m    163\u001b[0m     StaticTrace(\n\u001b[1;32m    164\u001b[0m         \u001b[38;5;28mself\u001b[39m,\n\u001b[0;32m   (...)\u001b[0m\n\u001b[1;32m    171\u001b[0m     w,\n\u001b[1;32m    172\u001b[0m )\n",
      "File \u001b[0;32m~/bayes3d_genjax/genjax/src/genjax/_src/generative_functions/static/static_transforms.py:359\u001b[0m, in \u001b[0;36mwrapper\u001b[0;34m()\u001b[0m\n\u001b[1;32m    358\u001b[0m stateful_handler \u001b[38;5;241m=\u001b[39m ImportanceHandler(key, constraints)\n\u001b[0;32m--> 359\u001b[0m retval \u001b[38;5;241m=\u001b[39m forward(source_fn)(stateful_handler, \u001b[38;5;241m*\u001b[39margs)\n\u001b[1;32m    360\u001b[0m (\n\u001b[1;32m    361\u001b[0m     score,\n\u001b[1;32m    362\u001b[0m     weight,\n\u001b[1;32m    363\u001b[0m     address_choices,\n\u001b[1;32m    364\u001b[0m     cache_state,\n\u001b[1;32m    365\u001b[0m ) \u001b[38;5;241m=\u001b[39m stateful_handler\u001b[38;5;241m.\u001b[39myield_state()\n",
      "File \u001b[0;32m<@beartype(genjax._src.core.interpreters.forward.forward.wrapped) at 0x7f8e486ff550>:31\u001b[0m, in \u001b[0;36mwrapped\u001b[0;34m()\u001b[0m\n",
      "File \u001b[0;32m~/bayes3d_genjax/genjax/src/genjax/_src/core/interpreters/forward.py:244\u001b[0m, in \u001b[0;36mwrapped\u001b[0;34m()\u001b[0m\n\u001b[1;32m    243\u001b[0m interpreter \u001b[38;5;241m=\u001b[39m ForwardInterpreter()\n\u001b[0;32m--> 244\u001b[0m \u001b[38;5;28;01mreturn\u001b[39;00m interpreter\u001b[38;5;241m.\u001b[39mrun_interpreter(\n\u001b[1;32m    245\u001b[0m     stateful_handler,\n\u001b[1;32m    246\u001b[0m     f,\n\u001b[1;32m    247\u001b[0m     \u001b[38;5;241m*\u001b[39margs,\n\u001b[1;32m    248\u001b[0m )\n",
      "File \u001b[0;32m~/bayes3d_genjax/genjax/src/genjax/_src/core/interpreters/forward.py:227\u001b[0m, in \u001b[0;36mrun_interpreter\u001b[0;34m()\u001b[0m\n\u001b[1;32m    225\u001b[0m     \u001b[38;5;28;01mreturn\u001b[39;00m fn(\u001b[38;5;241m*\u001b[39margs, \u001b[38;5;241m*\u001b[39m\u001b[38;5;241m*\u001b[39mkwargs)\n\u001b[0;32m--> 227\u001b[0m _closed_jaxpr, (flat_args, _, out_tree) \u001b[38;5;241m=\u001b[39m stage(_inner)(\u001b[38;5;241m*\u001b[39margs)\n\u001b[1;32m    228\u001b[0m _jaxpr, consts \u001b[38;5;241m=\u001b[39m _closed_jaxpr\u001b[38;5;241m.\u001b[39mjaxpr, _closed_jaxpr\u001b[38;5;241m.\u001b[39mliterals\n",
      "File \u001b[0;32m~/bayes3d_genjax/genjax/src/genjax/_src/core/interpreters/staging.py:71\u001b[0m, in \u001b[0;36mwrapped\u001b[0;34m()\u001b[0m\n\u001b[1;32m     70\u001b[0m flat_avals \u001b[38;5;241m=\u001b[39m safe_map(get_shaped_aval, flat_args)\n\u001b[0;32m---> 71\u001b[0m typed_jaxpr \u001b[38;5;241m=\u001b[39m cached_stage_dynamic(flat_fun, \u001b[38;5;28mtuple\u001b[39m(flat_avals))\n\u001b[1;32m     72\u001b[0m \u001b[38;5;28;01mreturn\u001b[39;00m typed_jaxpr, (flat_args, in_tree, out_tree)\n",
      "File \u001b[0;32m~/bayes3d_genjax/genjax/src/genjax/_src/core/interpreters/staging.py:58\u001b[0m, in \u001b[0;36mcached_stage_dynamic\u001b[0;34m()\u001b[0m\n\u001b[1;32m     56\u001b[0m \u001b[38;5;129m@lu\u001b[39m\u001b[38;5;241m.\u001b[39mcache\n\u001b[1;32m     57\u001b[0m \u001b[38;5;28;01mdef\u001b[39;00m \u001b[38;5;21mcached_stage_dynamic\u001b[39m(flat_fun, in_avals):\n\u001b[0;32m---> 58\u001b[0m     jaxpr, _, consts \u001b[38;5;241m=\u001b[39m pe\u001b[38;5;241m.\u001b[39mtrace_to_jaxpr_dynamic(flat_fun, in_avals)\n\u001b[1;32m     59\u001b[0m     typed_jaxpr \u001b[38;5;241m=\u001b[39m jax_core\u001b[38;5;241m.\u001b[39mClosedJaxpr(jaxpr, consts)\n",
      "File \u001b[0;32m~/bayes3d_genjax/genjax/src/genjax/_src/core/interpreters/forward.py:225\u001b[0m, in \u001b[0;36m_inner\u001b[0;34m()\u001b[0m\n\u001b[1;32m    224\u001b[0m \u001b[38;5;28;01mdef\u001b[39;00m \u001b[38;5;21m_inner\u001b[39m(\u001b[38;5;241m*\u001b[39margs):\n\u001b[0;32m--> 225\u001b[0m     \u001b[38;5;28;01mreturn\u001b[39;00m fn(\u001b[38;5;241m*\u001b[39margs, \u001b[38;5;241m*\u001b[39m\u001b[38;5;241m*\u001b[39mkwargs)\n",
      "File \u001b[0;32m~/bayes3d_genjax/genjax/src/genjax/_src/generative_functions/supports_callees.py:46\u001b[0m, in \u001b[0;36mwrapped\u001b[0;34m()\u001b[0m\n\u001b[1;32m     45\u001b[0m GLOBAL_TRACE_HANDLER_STACK\u001b[38;5;241m.\u001b[39mappend(handler)\n\u001b[0;32m---> 46\u001b[0m ret \u001b[38;5;241m=\u001b[39m fn(\u001b[38;5;241m*\u001b[39margs)\n\u001b[1;32m     47\u001b[0m GLOBAL_TRACE_HANDLER_STACK\u001b[38;5;241m.\u001b[39mpop()\n",
      "File \u001b[0;32m~/bayes3d_genjax/experiments/src/model2.py:143\u001b[0m, in \u001b[0;36mmodel\u001b[0;34m()\u001b[0m\n\u001b[1;32m    131\u001b[0m valid_box_dims \u001b[38;5;241m=\u001b[39m jnp\u001b[38;5;241m.\u001b[39mwhere(\n\u001b[1;32m    132\u001b[0m     is_valid(object_info)[:, \u001b[38;5;28;01mNone\u001b[39;00m],\n\u001b[1;32m    133\u001b[0m     all_box_dims[object_info\u001b[38;5;241m.\u001b[39mcategory_index],\n\u001b[1;32m    134\u001b[0m     jnp\u001b[38;5;241m.\u001b[39mzeros(\u001b[38;5;241m3\u001b[39m)\n\u001b[1;32m    135\u001b[0m )\n\u001b[1;32m    136\u001b[0m poses \u001b[38;5;241m=\u001b[39m jnp\u001b[38;5;241m.\u001b[39mwhere(\n\u001b[1;32m    137\u001b[0m     is_valid(object_info)[:, \u001b[38;5;28;01mNone\u001b[39;00m, \u001b[38;5;28;01mNone\u001b[39;00m],\n\u001b[1;32m    138\u001b[0m     b\u001b[38;5;241m.\u001b[39mscene_graph\u001b[38;5;241m.\u001b[39mposes_from_scene_graph(\n\u001b[1;32m    139\u001b[0m         object_info\u001b[38;5;241m.\u001b[39mroot_pose,\n\u001b[1;32m    140\u001b[0m         valid_box_dims,\n\u001b[1;32m    141\u001b[0m         object_info\u001b[38;5;241m.\u001b[39mparent_obj, object_info\u001b[38;5;241m.\u001b[39mparams,\n\u001b[1;32m    142\u001b[0m         object_info\u001b[38;5;241m.\u001b[39mparent_face, object_info\u001b[38;5;241m.\u001b[39mchild_face\n\u001b[0;32m--> 143\u001b[0m     ),\n\u001b[1;32m    144\u001b[0m     jnp\u001b[38;5;241m.\u001b[39mzeros((max_n_objects, \u001b[38;5;241m4\u001b[39m, \u001b[38;5;241m4\u001b[39m))\n\u001b[1;32m    145\u001b[0m )\n\u001b[1;32m    147\u001b[0m rendered \u001b[38;5;241m=\u001b[39m call_renderer(jnp\u001b[38;5;241m.\u001b[39mlinalg\u001b[38;5;241m.\u001b[39minv(camera_pose) \u001b[38;5;241m@\u001b[39m poses, object_info\u001b[38;5;241m.\u001b[39mcategory_index)[\u001b[38;5;241m.\u001b[39m\u001b[38;5;241m.\u001b[39m\u001b[38;5;241m.\u001b[39m, :\u001b[38;5;241m3\u001b[39m]\\\n",
      "File \u001b[0;32m/opt/conda/envs/bayes3d_genjax_2/lib/python3.9/site-packages/bayes3d/renderer.py:175\u001b[0m, in \u001b[0;36mrender\u001b[0;34m()\u001b[0m\n\u001b[1;32m    174\u001b[0m \u001b[38;5;28;01mdef\u001b[39;00m \u001b[38;5;21mrender\u001b[39m(\u001b[38;5;28mself\u001b[39m, poses, indices):\n\u001b[0;32m--> 175\u001b[0m     \u001b[38;5;28;01mreturn\u001b[39;00m \u001b[38;5;28mself\u001b[39m\u001b[38;5;241m.\u001b[39mrender_many(poses[\u001b[38;5;28;01mNone\u001b[39;00m, \u001b[38;5;241m.\u001b[39m\u001b[38;5;241m.\u001b[39m\u001b[38;5;241m.\u001b[39m], indices)[\u001b[38;5;241m0\u001b[39m]\n",
      "File \u001b[0;32m/opt/conda/envs/bayes3d_genjax_2/lib/python3.9/site-packages/bayes3d/renderer.py:172\u001b[0m, in \u001b[0;36mrender_many\u001b[0;34m()\u001b[0m\n\u001b[1;32m    160\u001b[0m \u001b[38;5;250m\u001b[39m\u001b[38;5;124;03m\"\"\"Render many scenes in parallel.\u001b[39;00m\n\u001b[1;32m    161\u001b[0m \n\u001b[1;32m    162\u001b[0m \u001b[38;5;124;03mArgs:\u001b[39;00m\n\u001b[0;32m   (...)\u001b[0m\n\u001b[1;32m    170\u001b[0m \u001b[38;5;124;03m                 the final dimension is the segmentation image.\u001b[39;00m\n\u001b[1;32m    171\u001b[0m \u001b[38;5;124;03m\"\"\"\u001b[39;00m\n\u001b[0;32m--> 172\u001b[0m \u001b[38;5;28;01mreturn\u001b[39;00m \u001b[38;5;28mself\u001b[39m\u001b[38;5;241m.\u001b[39mrender_many_custom_intrinsics(poses, indices, \u001b[38;5;28mself\u001b[39m\u001b[38;5;241m.\u001b[39mintrinsics)\n",
      "File \u001b[0;32m/opt/conda/envs/bayes3d_genjax_2/lib/python3.9/site-packages/bayes3d/renderer.py:156\u001b[0m, in \u001b[0;36mrender_many_custom_intrinsics\u001b[0;34m()\u001b[0m\n\u001b[1;32m    146\u001b[0m proj_matrix \u001b[38;5;241m=\u001b[39m b\u001b[38;5;241m.\u001b[39mcamera\u001b[38;5;241m.\u001b[39m_open_gl_projection_matrix(\n\u001b[1;32m    147\u001b[0m     intrinsics\u001b[38;5;241m.\u001b[39mheight,\n\u001b[1;32m    148\u001b[0m     intrinsics\u001b[38;5;241m.\u001b[39mwidth,\n\u001b[0;32m   (...)\u001b[0m\n\u001b[1;32m    154\u001b[0m     intrinsics\u001b[38;5;241m.\u001b[39mfar,\n\u001b[1;32m    155\u001b[0m )\n\u001b[0;32m--> 156\u001b[0m images_jnp \u001b[38;5;241m=\u001b[39m _render_custom_call(\u001b[38;5;28mself\u001b[39m, poses, indices, proj_matrix)[\u001b[38;5;241m0\u001b[39m]\n\u001b[1;32m    157\u001b[0m \u001b[38;5;28;01mreturn\u001b[39;00m _transform_image_zeros_parallel(images_jnp, intrinsics)\n",
      "File \u001b[0;32m/opt/conda/envs/bayes3d_genjax_2/lib/python3.9/site-packages/bayes3d/renderer.py:195\u001b[0m, in \u001b[0;36m_render_custom_call\u001b[0;34m()\u001b[0m\n\u001b[1;32m    193\u001b[0m \u001b[38;5;129m@functools\u001b[39m\u001b[38;5;241m.\u001b[39mpartial(jax\u001b[38;5;241m.\u001b[39mjit, static_argnums\u001b[38;5;241m=\u001b[39m(\u001b[38;5;241m0\u001b[39m,))\n\u001b[1;32m    194\u001b[0m \u001b[38;5;28;01mdef\u001b[39;00m \u001b[38;5;21m_render_custom_call\u001b[39m(r: \u001b[38;5;124m\"\u001b[39m\u001b[38;5;124mRenderer\u001b[39m\u001b[38;5;124m\"\u001b[39m, poses, indices, intrinsics_matrix):\n\u001b[0;32m--> 195\u001b[0m     \u001b[38;5;28;01mreturn\u001b[39;00m _build_render_primitive(r)\u001b[38;5;241m.\u001b[39mbind(poses, indices, intrinsics_matrix)\n",
      "\u001b[0;31mJaxStackTraceBeforeTransformation\u001b[0m: ValueError: Poses Original Shape: (7, 1, 8, 4, 4) Poses Shape:  (7, 8, 4, 4) Indices Shape: (7, 8)\n\nThe preceding stack trace is the source of the JAX operation that, once transformed by JAX, triggered the following exception.\n\n--------------------",
      "\nThe above exception was the direct cause of the following exception:\n",
      "\u001b[0;31mValueError\u001b[0m                                Traceback (most recent call last)",
      "Cell \u001b[0;32mIn[166], line 1\u001b[0m\n\u001b[0;32m----> 1\u001b[0m tr2 \u001b[38;5;241m=\u001b[39m \u001b[43mc2f_and_catsearch\u001b[49m\u001b[43m(\u001b[49m\u001b[43mkey\u001b[49m\u001b[43m,\u001b[49m\u001b[43m \u001b[49m\u001b[43mtr1\u001b[49m\u001b[43m,\u001b[49m\u001b[43m \u001b[49m\u001b[38;5;241;43m1\u001b[39;49m\u001b[43m,\u001b[49m\u001b[43m \u001b[49m\u001b[43mcontact_param_gridding_schedule\u001b[49m\u001b[43m)\u001b[49m\n",
      "    \u001b[0;31m[... skipping hidden 12 frame]\u001b[0m\n",
      "Cell \u001b[0;32mIn[163], line 29\u001b[0m, in \u001b[0;36m_c2f_and_catsearch\u001b[0;34m(key, tr, object_idx, contact_param_gridding_schedule)\u001b[0m\n\u001b[1;32m     28\u001b[0m \u001b[38;5;28;01mdef\u001b[39;00m \u001b[38;5;21m_c2f_and_catsearch\u001b[39m(key, tr, object_idx, contact_param_gridding_schedule):\n\u001b[0;32m---> 29\u001b[0m     trs \u001b[38;5;241m=\u001b[39m \u001b[43m__c2f_and_catsearch\u001b[49m\u001b[43m(\u001b[49m\n\u001b[1;32m     30\u001b[0m \u001b[43m        \u001b[49m\u001b[43mkey\u001b[49m\u001b[43m,\u001b[49m\u001b[43m \u001b[49m\u001b[43mtr\u001b[49m\u001b[43m,\u001b[49m\u001b[43m \u001b[49m\u001b[43mobject_idx\u001b[49m\u001b[43m,\u001b[49m\n\u001b[1;32m     31\u001b[0m \u001b[43m        \u001b[49m\u001b[43mjnp\u001b[49m\u001b[38;5;241;43m.\u001b[39;49m\u001b[43marange\u001b[49m\u001b[43m(\u001b[49m\u001b[38;5;28;43mlen\u001b[39;49m\u001b[43m(\u001b[49m\u001b[43mb\u001b[49m\u001b[38;5;241;43m.\u001b[39;49m\u001b[43mRENDERER\u001b[49m\u001b[38;5;241;43m.\u001b[39;49m\u001b[43mmeshes\u001b[49m\u001b[43m)\u001b[49m\u001b[43m)\u001b[49m\u001b[43m,\u001b[49m\n\u001b[1;32m     32\u001b[0m \u001b[43m        \u001b[49m\u001b[43mcontact_param_gridding_schedule\u001b[49m\n\u001b[1;32m     33\u001b[0m \u001b[43m    \u001b[49m\u001b[43m)\u001b[49m\n\u001b[1;32m     34\u001b[0m     scores \u001b[38;5;241m=\u001b[39m jax\u001b[38;5;241m.\u001b[39mvmap(\u001b[38;5;28;01mlambda\u001b[39;00m tr: tr\u001b[38;5;241m.\u001b[39mget_score())(trs)\n\u001b[1;32m     35\u001b[0m     best_idx \u001b[38;5;241m=\u001b[39m scores\u001b[38;5;241m.\u001b[39margmax()\n",
      "    \u001b[0;31m[... skipping hidden 33 frame]\u001b[0m\n",
      "File \u001b[0;32m/opt/conda/envs/bayes3d_genjax_2/lib/python3.9/site-packages/bayes3d/renderer.py:288\u001b[0m, in \u001b[0;36m_build_render_primitive.<locals>._render_batch\u001b[0;34m(args, axes)\u001b[0m\n\u001b[1;32m    285\u001b[0m poses \u001b[38;5;241m=\u001b[39m poses\u001b[38;5;241m.\u001b[39mreshape(size_1 \u001b[38;5;241m*\u001b[39m size_2, num_objects, \u001b[38;5;241m4\u001b[39m, \u001b[38;5;241m4\u001b[39m)\n\u001b[1;32m    287\u001b[0m \u001b[38;5;28;01mif\u001b[39;00m poses\u001b[38;5;241m.\u001b[39mshape[\u001b[38;5;241m1\u001b[39m] \u001b[38;5;241m!=\u001b[39m indices\u001b[38;5;241m.\u001b[39mshape[\u001b[38;5;241m0\u001b[39m]:\n\u001b[0;32m--> 288\u001b[0m     \u001b[38;5;28;01mraise\u001b[39;00m \u001b[38;5;167;01mValueError\u001b[39;00m(\n\u001b[1;32m    289\u001b[0m         \u001b[38;5;124mf\u001b[39m\u001b[38;5;124m\"\u001b[39m\u001b[38;5;124mPoses Original Shape: \u001b[39m\u001b[38;5;132;01m{\u001b[39;00moriginal_shape\u001b[38;5;132;01m}\u001b[39;00m\u001b[38;5;124m Poses Shape:  \u001b[39m\u001b[38;5;132;01m{\u001b[39;00mposes\u001b[38;5;241m.\u001b[39mshape\u001b[38;5;132;01m}\u001b[39;00m\u001b[38;5;124m Indices Shape: \u001b[39m\u001b[38;5;132;01m{\u001b[39;00mindices\u001b[38;5;241m.\u001b[39mshape\u001b[38;5;132;01m}\u001b[39;00m\u001b[38;5;124m\"\u001b[39m\n\u001b[1;32m    290\u001b[0m     )\n\u001b[1;32m    291\u001b[0m \u001b[38;5;28;01mif\u001b[39;00m poses\u001b[38;5;241m.\u001b[39mshape[\u001b[38;5;241m-\u001b[39m\u001b[38;5;241m2\u001b[39m:] \u001b[38;5;241m!=\u001b[39m (\u001b[38;5;241m4\u001b[39m, \u001b[38;5;241m4\u001b[39m):\n\u001b[1;32m    292\u001b[0m     \u001b[38;5;28;01mraise\u001b[39;00m \u001b[38;5;167;01mValueError\u001b[39;00m(\n\u001b[1;32m    293\u001b[0m         \u001b[38;5;124mf\u001b[39m\u001b[38;5;124m\"\u001b[39m\u001b[38;5;124mPoses Original Shape: \u001b[39m\u001b[38;5;132;01m{\u001b[39;00moriginal_shape\u001b[38;5;132;01m}\u001b[39;00m\u001b[38;5;124m Poses Shape:  \u001b[39m\u001b[38;5;132;01m{\u001b[39;00mposes\u001b[38;5;241m.\u001b[39mshape\u001b[38;5;132;01m}\u001b[39;00m\u001b[38;5;124m Indices Shape: \u001b[39m\u001b[38;5;132;01m{\u001b[39;00mindices\u001b[38;5;241m.\u001b[39mshape\u001b[38;5;132;01m}\u001b[39;00m\u001b[38;5;124m\"\u001b[39m\n\u001b[1;32m    294\u001b[0m     )\n",
      "\u001b[0;31mValueError\u001b[0m: Poses Original Shape: (7, 1, 8, 4, 4) Poses Shape:  (7, 8, 4, 4) Indices Shape: (7, 8)"
     ]
    }
   ],
   "source": [
    "tr2 = c2f_and_catsearch(key, tr1, 1, contact_param_gridding_schedule)"
   ]
  },
  {
   "cell_type": "code",
   "execution_count": null,
   "metadata": {},
   "outputs": [],
   "source": [
    "viz_trace_meshcat"
   ]
  },
  {
   "cell_type": "markdown",
   "metadata": {},
   "source": [
    "---"
   ]
  },
  {
   "cell_type": "code",
   "execution_count": null,
   "metadata": {},
   "outputs": [],
   "source": [
    "tr = tr2\n",
    "object_idx = 1\n",
    "updater = jax.vmap(lambda trace, v: trace.update(\n",
    "        key, cp_choicemap(object_idx, v)\n",
    "    )[0].get_score(), in_axes=(None, 0))\n",
    "cp = tr.get_retval().object_info.params[object_idx, ...]\n",
    "cp_grid = contact_param_gridding_schedule[0]\n",
    "cps = cp + cp_grid\n",
    "scores = updater(tr, cps)"
   ]
  },
  {
   "cell_type": "code",
   "execution_count": null,
   "metadata": {},
   "outputs": [],
   "source": [
    "key, _ = jax.random.split(key)\n",
    "i = jax.random.randint(key, (1,), 0, len(scores))[0]\n",
    "cp = cps[i]\n",
    "new_tr = tr.update(key, cp_choicemap(object_idx, cp))[0]\n",
    "viz_trace_meshcat(new_tr)"
   ]
  },
  {
   "cell_type": "code",
   "execution_count": null,
   "metadata": {},
   "outputs": [
    {
     "data": {
      "text/plain": [
       "Array([ nan,  nan, -inf, -inf], dtype=float32)"
      ]
     },
     "execution_count": 23,
     "metadata": {},
     "output_type": "execute_result"
    }
   ],
   "source": [
    "# check = jnp.array([False, False, True, True])\n",
    "check = jnp.array([0., 0., 1., 1.])\n",
    "vals = jnp.ones(4) * -jnp.inf\n",
    "check * vals"
   ]
  },
  {
   "cell_type": "code",
   "execution_count": null,
   "metadata": {},
   "outputs": [
    {
     "data": {
      "text/plain": [
       "Array(-27.04225, dtype=float32)"
      ]
     },
     "execution_count": 34,
     "metadata": {},
     "output_type": "execute_result"
    }
   ],
   "source": [
    "tr2.get_score()"
   ]
  },
  {
   "cell_type": "code",
   "execution_count": null,
   "metadata": {},
   "outputs": [],
   "source": [
    "viz_trace_meshcat(tr2)"
   ]
  },
  {
   "cell_type": "code",
   "execution_count": null,
   "metadata": {},
   "outputs": [
    {
     "data": {
      "text/html": [
       "<pre style=\"white-space:pre;overflow-x:auto;line-height:normal;font-family:Menlo,'DejaVu Sans Mono',consolas,'Courier New',monospace\"><span style=\"font-weight: bold\">(HierarchicalChoiceMap)</span>\n",
       "└── <span style=\"font-weight: bold\">:objects</span>\n",
       "    └── <span style=\"font-weight: bold\">(IndexedChoiceMap,  i32[1])</span>\n",
       "        └── <span style=\"font-weight: bold\">(HierarchicalChoiceMap)</span>\n",
       "            └── <span style=\"font-weight: bold\">:contact_params</span>\n",
       "                └── <span style=\"font-weight: bold\">(ValueChoice)</span>\n",
       "                    └──  f32[1,3]\n",
       "</pre>\n"
      ],
      "text/plain": [
       "\u001b[1m(HierarchicalChoiceMap)\u001b[0m\n",
       "└── \u001b[1m:objects\u001b[0m\n",
       "    └── \u001b[1m(IndexedChoiceMap,  i32[1])\u001b[0m\n",
       "        └── \u001b[1m(HierarchicalChoiceMap)\u001b[0m\n",
       "            └── \u001b[1m:contact_params\u001b[0m\n",
       "                └── \u001b[1m(ValueChoice)\u001b[0m\n",
       "                    └──  f32[1,3]\n"
      ]
     },
     "metadata": {},
     "output_type": "display_data"
    }
   ],
   "source": [
    "console.print(cp_choicemap(object_idx, cps[0]))"
   ]
  },
  {
   "cell_type": "markdown",
   "metadata": {},
   "source": [
    "---"
   ]
  },
  {
   "cell_type": "code",
   "execution_count": null,
   "metadata": {},
   "outputs": [],
   "source": [
    "tr2 = add_object(tr1, 2)\n",
    "viz_trace_meshcat(tr2)"
   ]
  },
  {
   "cell_type": "code",
   "execution_count": null,
   "metadata": {},
   "outputs": [],
   "source": [
    "tr = tr2\n",
    "object_idx = 1\n",
    "updater = jax.vmap(lambda trace, v: trace.update(\n",
    "        key, cp_choicemap(object_idx, v)\n",
    "    )[0].get_score(), in_axes=(None, 0))\n",
    "cp = tr.get_retval().object_info.params[object_idx, ...]\n",
    "cp_grid = contact_param_gridding_schedule[0]\n",
    "cps = cp + cp_grid\n",
    "scores = updater(tr, cps)"
   ]
  },
  {
   "cell_type": "code",
   "execution_count": null,
   "metadata": {},
   "outputs": [],
   "source": [
    "trs = jax.vmap(lambda v: tr.update(key, cp_choicemap(object_idx, v))[0], in_axes=(0))(cps)"
   ]
  },
  {
   "cell_type": "code",
   "execution_count": null,
   "metadata": {},
   "outputs": [
    {
     "data": {
      "text/html": [
       "<pre style=\"white-space:pre;overflow-x:auto;line-height:normal;font-family:Menlo,'DejaVu Sans Mono',consolas,'Courier New',monospace\"><span style=\"color: #008080; text-decoration-color: #008080; font-weight: bold\">8.1720376e-05</span>\n",
       "</pre>\n"
      ],
      "text/plain": [
       "\u001b[1;36m8.1720376e-05\u001b[0m\n"
      ]
     },
     "metadata": {},
     "output_type": "display_data"
    },
    {
     "data": {
      "text/html": [
       "<pre style=\"white-space:pre;overflow-x:auto;line-height:normal;font-family:Menlo,'DejaVu Sans Mono',consolas,'Courier New',monospace\"><span style=\"color: #008080; text-decoration-color: #008080; font-weight: bold\">8.672026e-05</span>\n",
       "</pre>\n"
      ],
      "text/plain": [
       "\u001b[1;36m8.672026e-05\u001b[0m\n"
      ]
     },
     "metadata": {},
     "output_type": "display_data"
    }
   ],
   "source": [
    "console.print(jnp.min(trs.get_subtrace(\"image\").get_score()))\n",
    "console.print(jnp.max(trs.get_subtrace(\"image\").get_score()))"
   ]
  },
  {
   "cell_type": "code",
   "execution_count": null,
   "metadata": {},
   "outputs": [],
   "source": [
    "tr_ = jax.tree_util.tree_map(lambda x: x[4000], trs)\n",
    "viz_trace_meshcat(tr_)"
   ]
  },
  {
   "cell_type": "code",
   "execution_count": null,
   "metadata": {},
   "outputs": [
    {
     "data": {
      "text/plain": [
       "Array([-0.65     , -0.65     , -3.1415927], dtype=float32)"
      ]
     },
     "execution_count": 49,
     "metadata": {},
     "output_type": "execute_result"
    }
   ],
   "source": [
    "cps[0]"
   ]
  },
  {
   "cell_type": "code",
   "execution_count": null,
   "metadata": {},
   "outputs": [
    {
     "data": {
      "text/plain": [
       "Array([-3.1415927, -2.6927936, -2.243995 , ...,  2.2439952,  2.692794 ,\n",
       "        3.1415927], dtype=float32)"
      ]
     },
     "execution_count": 57,
     "metadata": {},
     "output_type": "execute_result"
    }
   ],
   "source": [
    "cps[:, 2]"
   ]
  },
  {
   "cell_type": "code",
   "execution_count": null,
   "metadata": {},
   "outputs": [
    {
     "data": {
      "text/html": [
       "<pre style=\"white-space:pre;overflow-x:auto;line-height:normal;font-family:Menlo,'DejaVu Sans Mono',consolas,'Courier New',monospace\"><span style=\"font-weight: bold\">[</span><span style=\"color: #800080; text-decoration-color: #800080; font-weight: bold\">Array</span><span style=\"font-weight: bold\">(</span>-inf, <span style=\"color: #808000; text-decoration-color: #808000\">dtype</span>=<span style=\"color: #800080; text-decoration-color: #800080\">float32</span><span style=\"font-weight: bold\">)</span>, <span style=\"color: #800080; text-decoration-color: #800080; font-weight: bold\">Array</span><span style=\"font-weight: bold\">(</span>-inf, <span style=\"color: #808000; text-decoration-color: #808000\">dtype</span>=<span style=\"color: #800080; text-decoration-color: #800080\">float32</span><span style=\"font-weight: bold\">)</span>, <span style=\"color: #800080; text-decoration-color: #800080; font-weight: bold\">Array</span><span style=\"font-weight: bold\">(</span>-inf, <span style=\"color: #808000; text-decoration-color: #808000\">dtype</span>=<span style=\"color: #800080; text-decoration-color: #800080\">float32</span><span style=\"font-weight: bold\">)]</span>\n",
       "</pre>\n"
      ],
      "text/plain": [
       "\u001b[1m[\u001b[0m\u001b[1;35mArray\u001b[0m\u001b[1m(\u001b[0m-inf, \u001b[33mdtype\u001b[0m=\u001b[35mfloat32\u001b[0m\u001b[1m)\u001b[0m, \u001b[1;35mArray\u001b[0m\u001b[1m(\u001b[0m-inf, \u001b[33mdtype\u001b[0m=\u001b[35mfloat32\u001b[0m\u001b[1m)\u001b[0m, \u001b[1;35mArray\u001b[0m\u001b[1m(\u001b[0m-inf, \u001b[33mdtype\u001b[0m=\u001b[35mfloat32\u001b[0m\u001b[1m)\u001b[0m\u001b[1m]\u001b[0m\n"
      ]
     },
     "metadata": {},
     "output_type": "display_data"
    },
    {
     "data": {
      "text/html": [
       "<pre style=\"white-space:pre;overflow-x:auto;line-height:normal;font-family:Menlo,'DejaVu Sans Mono',consolas,'Courier New',monospace\"><span style=\"font-weight: bold\">[</span>-inf -inf -inf<span style=\"font-weight: bold\">]</span>\n",
       "</pre>\n"
      ],
      "text/plain": [
       "\u001b[1m[\u001b[0m-inf -inf -inf\u001b[1m]\u001b[0m\n"
      ]
     },
     "metadata": {},
     "output_type": "display_data"
    }
   ],
   "source": [
    "tr = tr2\n",
    "u = lambda v: tr.update(\n",
    "        key, cp_choicemap(object_idx, v)\n",
    "    )[0]\n",
    "ju = u\n",
    "console.print([ju(cps[i]).get_score() for i in range(3)])\n",
    "trs = jax.vmap(ju, in_axes=(0,))(cps[:3])\n",
    "console.print(trs.get_score())"
   ]
  },
  {
   "cell_type": "code",
   "execution_count": null,
   "metadata": {},
   "outputs": [],
   "source": [
    "u = lambda v: tr.update(\n",
    "        key, cp_choicemap(object_idx, v)\n",
    "    )[0:2]\n",
    "ju = u\n",
    "# console.print([ju(cps[i]).get_score() for i in range(3)])\n",
    "trs = jax.vmap(ju, in_axes=(0,))(cps[:3])"
   ]
  },
  {
   "cell_type": "code",
   "execution_count": null,
   "metadata": {},
   "outputs": [
    {
     "data": {
      "text/plain": [
       "Array([-inf, -inf, -inf], dtype=float32)"
      ]
     },
     "execution_count": 37,
     "metadata": {},
     "output_type": "execute_result"
    }
   ],
   "source": [
    "trs[0].get_score()"
   ]
  },
  {
   "cell_type": "code",
   "execution_count": null,
   "metadata": {},
   "outputs": [
    {
     "data": {
      "text/plain": [
       "Array([-5.7917523, -5.791752 ,  0.       ,  0.       ,  0.       ,\n",
       "        0.       ,  0.       ,  0.       ], dtype=float32)"
      ]
     },
     "execution_count": 42,
     "metadata": {},
     "output_type": "execute_result"
    }
   ],
   "source": [
    "tr2.get_subtrace(\"objects\").inner.get_score()"
   ]
  },
  {
   "cell_type": "code",
   "execution_count": null,
   "metadata": {},
   "outputs": [
    {
     "data": {
      "text/plain": [
       "Array([[-5.7917523,       -inf,  0.       ,  0.       ,  0.       ,\n",
       "         0.       ,  0.       ,  0.       ],\n",
       "       [-5.7917523,       -inf,  0.       ,  0.       ,  0.       ,\n",
       "         0.       ,  0.       ,  0.       ],\n",
       "       [-5.7917523,       -inf,  0.       ,  0.       ,  0.       ,\n",
       "         0.       ,  0.       ,  0.       ]], dtype=float32)"
      ]
     },
     "execution_count": 38,
     "metadata": {},
     "output_type": "execute_result"
    }
   ],
   "source": [
    "trs[0].get_subtrace(\"objects\").inner.get_score()"
   ]
  },
  {
   "cell_type": "code",
   "execution_count": null,
   "metadata": {},
   "outputs": [
    {
     "data": {
      "text/plain": [
       "Array([[-5.7917523,       -inf,  0.       ,  0.       ,  0.       ,\n",
       "         0.       ,  0.       ,  0.       ],\n",
       "       [-5.7917523,       -inf,  0.       ,  0.       ,  0.       ,\n",
       "         0.       ,  0.       ,  0.       ],\n",
       "       [-5.7917523,       -inf,  0.       ,  0.       ,  0.       ,\n",
       "         0.       ,  0.       ,  0.       ]], dtype=float32)"
      ]
     },
     "execution_count": 41,
     "metadata": {},
     "output_type": "execute_result"
    }
   ],
   "source": [
    "trs[0].get_subtrace(\"objects\").inner.get_score()"
   ]
  },
  {
   "cell_type": "code",
   "execution_count": null,
   "metadata": {},
   "outputs": [
    {
     "data": {
      "text/plain": [
       "Array([-11.583504, -11.583504, -11.583504], dtype=float32)"
      ]
     },
     "execution_count": 255,
     "metadata": {},
     "output_type": "execute_result"
    }
   ],
   "source": [
    "jax.vmap(jnp.sum)(trs.get_subtrace(\"objects\").inner.get_score())"
   ]
  },
  {
   "cell_type": "code",
   "execution_count": null,
   "metadata": {},
   "outputs": [
    {
     "data": {
      "text/plain": [
       "Array([nan, nan, nan], dtype=float32)"
      ]
     },
     "execution_count": 260,
     "metadata": {},
     "output_type": "execute_result"
    }
   ],
   "source": [
    "trs.get_subtrace(\"objects\").score"
   ]
  },
  {
   "cell_type": "code",
   "execution_count": null,
   "metadata": {},
   "outputs": [
    {
     "data": {
      "text/plain": [
       "Array([-27.042253], dtype=float32)"
      ]
     },
     "execution_count": 188,
     "metadata": {},
     "output_type": "execute_result"
    }
   ],
   "source": [
    "updater(tr, cps[:1])"
   ]
  },
  {
   "cell_type": "code",
   "execution_count": null,
   "metadata": {},
   "outputs": [],
   "source": [
    "potential_trace, w, _, _ = tr.update(key, cp_choicemap(object_idx, cps[40]))"
   ]
  },
  {
   "cell_type": "code",
   "execution_count": null,
   "metadata": {},
   "outputs": [
    {
     "data": {
      "text/plain": [
       "Array([-0.5603448, -0.65     ,  1.3463972], dtype=float32)"
      ]
     },
     "execution_count": 176,
     "metadata": {},
     "output_type": "execute_result"
    }
   ],
   "source": [
    "cps[40]"
   ]
  },
  {
   "cell_type": "code",
   "execution_count": null,
   "metadata": {},
   "outputs": [
    {
     "data": {
      "text/plain": [
       "Array([[ 0.0000000e+00,  0.0000000e+00,  0.0000000e+00],\n",
       "       [-5.6034482e-01, -6.4999998e-01,  1.3463972e+00],\n",
       "       [-1.0000000e+04, -1.0000000e+04, -1.0000000e+04],\n",
       "       [-1.0000000e+04, -1.0000000e+04, -1.0000000e+04],\n",
       "       [-1.0000000e+04, -1.0000000e+04, -1.0000000e+04],\n",
       "       [-1.0000000e+04, -1.0000000e+04, -1.0000000e+04],\n",
       "       [-1.0000000e+04, -1.0000000e+04, -1.0000000e+04],\n",
       "       [-1.0000000e+04, -1.0000000e+04, -1.0000000e+04]], dtype=float32)"
      ]
     },
     "execution_count": 175,
     "metadata": {},
     "output_type": "execute_result"
    }
   ],
   "source": [
    "potential_trace.get_retval().object_info.params"
   ]
  },
  {
   "cell_type": "code",
   "execution_count": null,
   "metadata": {},
   "outputs": [],
   "source": []
  }
 ],
 "metadata": {
  "kernelspec": {
   "display_name": "bayes3d_genjax_2",
   "language": "python",
   "name": "python3"
  },
  "language_info": {
   "codemirror_mode": {
    "name": "ipython",
    "version": 3
   },
   "file_extension": ".py",
   "mimetype": "text/x-python",
   "name": "python",
   "nbconvert_exporter": "python",
   "pygments_lexer": "ipython3",
   "version": "3.9.18"
  }
 },
 "nbformat": 4,
 "nbformat_minor": 2
}
