{
 "cells": [
  {
   "cell_type": "code",
   "execution_count": 1,
   "metadata": {},
   "outputs": [],
   "source": [
    "%load_ext autoreload\n",
    "%autoreload 2"
   ]
  },
  {
   "cell_type": "code",
   "execution_count": 2,
   "metadata": {},
   "outputs": [],
   "source": [
    "import os\n",
    "import glob\n",
    "import pickle\n",
    "import jax\n",
    "import jax.numpy as jnp\n",
    "import bayes3d as b\n",
    "import genjax\n",
    "import matplotlib.pyplot as plt"
   ]
  },
  {
   "cell_type": "code",
   "execution_count": 3,
   "metadata": {},
   "outputs": [
    {
     "name": "stdout",
     "output_type": "stream",
     "text": [
      "You can open the visualizer by visiting the following URL:\n",
      "http://127.0.0.1:7000/static/\n"
     ]
    }
   ],
   "source": [
    "b.setup_visualizer()"
   ]
  },
  {
   "cell_type": "code",
   "execution_count": 5,
   "metadata": {},
   "outputs": [
    {
     "name": "stdout",
     "output_type": "stream",
     "text": [
      "Got rgbd_original\n",
      "Got rgb immage scaled down.\n"
     ]
    }
   ],
   "source": [
    "with open('../data.pkl', 'rb') as f:\n",
    "    data = pickle.load(f)\n",
    "\n",
    "camera_image_1 = data[\"init\"][0]\n",
    "categories_on_table = data[\"init\"][1]\n",
    "target_category = data[\"init\"][2]\n",
    "table_info = data[\"init\"][3] # table pose and dimensions\n",
    "n_objects = 5\n",
    "\n",
    "X_WT = b.t3d.pybullet_pose_to_transform(table_info[0])\n",
    "X_WC = b.t3d.pybullet_pose_to_transform(camera_image_1[\"camera_pose\"])\n",
    "X_CT = b.t3d.inverse_pose(X_WC) @ X_WT\n",
    "\n",
    "def image_to_rgbd(camera_image_1):\n",
    "    K = camera_image_1['camera_matrix']\n",
    "    rgb = camera_image_1['rgbPixels']\n",
    "    depth = camera_image_1['depthPixels']\n",
    "    camera_pose = camera_image_1['camera_pose']\n",
    "    camera_pose = b.t3d.pybullet_pose_to_transform(camera_pose)\n",
    "    fx, fy, cx, cy = K[0,0],K[1,1],K[0,2],K[1,2]\n",
    "    h,w = depth.shape\n",
    "    rgbd_original = b.RGBD(rgb, depth, camera_pose, b.Intrinsics(h,w,fx,fy,cx,cy,0.001,10000.0))\n",
    "    return rgbd_original\n",
    "\n",
    "rgbd_original = image_to_rgbd(camera_image_1)\n",
    "print(\"Got rgbd_original\")\n",
    "\n",
    "scaling_factor = 0.2\n",
    "rgbd_scaled_down = b.RGBD.scale_rgbd(rgbd_original, scaling_factor)\n",
    "print(\"Got rgb immage scaled down.\")\n",
    "\n",
    "b.clear_visualizer()\n",
    "b.show_cloud(\"1\", b.unproject_depth(rgbd_scaled_down.depth, rgbd_scaled_down.intrinsics).reshape(-1,3))"
   ]
  },
  {
   "cell_type": "code",
   "execution_count": 6,
   "metadata": {},
   "outputs": [
    {
     "data": {
      "text/plain": [
       "'/home/georgematheos/bayes3d_genjax/bayes3d/assets/bop/ycbv/models'"
      ]
     },
     "execution_count": 6,
     "metadata": {},
     "output_type": "execute_result"
    }
   ],
   "source": [
    "model_dir = os.path.join(os.path.abspath('..'), 'bayes3d/assets/bop/ycbv/models')\n",
    "model_dir"
   ]
  },
  {
   "cell_type": "code",
   "execution_count": 7,
   "metadata": {},
   "outputs": [
    {
     "name": "stderr",
     "output_type": "stream",
     "text": [
      "[E rasterize_gl.cpp:121] OpenGL version reported as 4.6\n"
     ]
    },
    {
     "name": "stdout",
     "output_type": "stream",
     "text": [
      "Increasing frame buffer size to (width, height, depth) = (64, 64, 1024)\n",
      "Added table mesh.\n",
      "Added pillar mesh.\n",
      "Added mesh at path /home/georgematheos/bayes3d/assets/bop/ycbv/models/obj_000002.ply.\n",
      "Added mesh at path /home/georgematheos/bayes3d/assets/bop/ycbv/models/obj_000003.ply.\n",
      "Added mesh at path /home/georgematheos/bayes3d/assets/bop/ycbv/models/obj_000011.ply.\n",
      "Added mesh at path /home/georgematheos/bayes3d/assets/bop/ycbv/models/obj_000013.ply.\n",
      "Added mesh at path /home/georgematheos/bayes3d/assets/bop/ycbv/models/obj_000021.ply.\n"
     ]
    }
   ],
   "source": [
    "b.setup_renderer(rgbd_scaled_down.intrinsics)\n",
    "\n",
    "# os.path.join(os.path.abspath(''), 'bayes3d/assets/bop/ycbv/models')# \n",
    "model_dir = os.path.join(os.path.abspath('../..'), 'bayes3d/assets/bop/ycbv/models')\n",
    "mesh_path = os.path.join(model_dir,\"obj_\" + \"{}\".format(13+1).rjust(6, '0') + \".ply\")\n",
    "ycb_filenames = glob.glob(os.path.join(model_dir, \"*.ply\"))\n",
    "ycb_index_order = [int(s.split(\"/\")[-1].split(\"_\")[-1].split(\".\")[0]) for s in ycb_filenames]\n",
    "sorted_ycb_filenames = [s for _,s in sorted(zip(ycb_index_order, ycb_filenames))]\n",
    "\n",
    "relevant_objects = [any(x in name for x in categories_on_table) for (i, name) in enumerate(b.utils.ycb_loader.MODEL_NAMES)]\n",
    "relevant_object_names = [b.utils.ycb_loader.MODEL_NAMES[i] for i in range(len(b.utils.ycb_loader.MODEL_NAMES)) if relevant_objects[i]]\n",
    "filtered_filenames = [sorted_ycb_filenames[i] for i in range(len(sorted_ycb_filenames)) if relevant_objects[i]]\n",
    "\n",
    "table_dims = table_info[1:]\n",
    "table_mesh = b.utils.make_cuboid_mesh(table_dims)\n",
    "b.RENDERER.add_mesh(table_mesh, \"table\")\n",
    "print(\"Added table mesh.\")\n",
    "\n",
    "pillar_mesh = b.utils.make_cuboid_mesh(jnp.array([0.02, 0.02, 0.5]))\n",
    "b.RENDERER.add_mesh(pillar_mesh, \"pillar\")\n",
    "print(\"Added pillar mesh.\")\n",
    "\n",
    "for model_path in filtered_filenames:\n",
    "    b.RENDERER.add_mesh_from_file(model_path, scaling_factor=1.0/1000.0)\n",
    "    print(f\"Added mesh at path {model_path}.\")"
   ]
  },
  {
   "cell_type": "code",
   "execution_count": 23,
   "metadata": {},
   "outputs": [
    {
     "data": {
      "text/plain": [
       "['003_cracker_box',\n",
       " '004_sugar_box',\n",
       " '019_pitcher_base',\n",
       " '024_bowl',\n",
       " '061_foam_brick']"
      ]
     },
     "execution_count": 23,
     "metadata": {},
     "output_type": "execute_result"
    }
   ],
   "source": [
    "relevant_object_names"
   ]
  },
  {
   "cell_type": "code",
   "execution_count": 10,
   "metadata": {},
   "outputs": [],
   "source": [
    "from src.model import model, viz_trace_meshcat\n",
    "importance_jit = jax.jit(model.importance)\n",
    "key = jax.random.PRNGKey(0)"
   ]
  },
  {
   "cell_type": "code",
   "execution_count": 11,
   "metadata": {},
   "outputs": [],
   "source": [
    "obs_img = b.unproject_depth_jit(rgbd_scaled_down.depth, rgbd_scaled_down.intrinsics)\n",
    "\n",
    "trace, weight = importance_jit(key, genjax.choice_map({\n",
    "    \"parent_0\": -1,\n",
    "    \"parent_1\": 0,\n",
    "    \"id_0\": jnp.int32(0),\n",
    "    \"camera_pose\": jnp.eye(4),\n",
    "    \"root_pose_0\": X_CT,\n",
    "    \"face_parent_1\": 2,\n",
    "    \"face_child_1\": 3,\n",
    "    \"image\": obs_img,\n",
    "    \"variance\": 0.02,\n",
    "    \"outlier_prob\": 0.0001,\n",
    "    \"contact_params_1\": jnp.array([0.0, 0.0, 0.0])\n",
    "}), (\n",
    "    jnp.arange(1),\n",
    "    jnp.arange(5),\n",
    "    jnp.array([-jnp.ones(3)*100.0, jnp.ones(3)*100.0]),\n",
    "    jnp.array([jnp.array([-12.0, -12.0, -jnp.pi]), jnp.array([12.0, 12.0, jnp.pi])]),\n",
    "    b.RENDERER.model_box_dims\n",
    "))\n",
    "\n",
    "viz_trace_meshcat(trace)"
   ]
  },
  {
   "cell_type": "code",
   "execution_count": 12,
   "metadata": {},
   "outputs": [],
   "source": [
    "grid_params = [\n",
    "    (0.65, jnp.pi, (30,30,15)),\n",
    "    (0.2, jnp.pi, (15,15,15)),\n",
    "    (0.1, jnp.pi, (15,15,15)),\n",
    "    (0.05, jnp.pi/3, (15,15,15)),\n",
    "    # (0.02, jnp.pi, (9,9,51)),\n",
    "    # (0.01, jnp.pi/5, (15,15,15)),\n",
    "    # (0.05, 0.0, (31,31,1))\n",
    "]\n",
    "contact_param_gridding_schedule = [\n",
    "    b.utils.make_translation_grid_enumeration_3d(\n",
    "        -x, -x, -ang,\n",
    "        x, x, ang,\n",
    "        *nums\n",
    "    )\n",
    "    for (x,ang,nums) in grid_params\n",
    "]\n",
    "\n",
    "def _c2f(key, tr, object_idx, contact_param_gridding_schedule):\n",
    "    address = f\"contact_params_{object_idx}\"\n",
    "    print(address)\n",
    "    updater = jax.vmap(lambda trace, v: trace.update(\n",
    "        key, genjax.choice_map({address: v})\n",
    "    )[0].get_score(), in_axes=(None, 0))\n",
    "    cp = tr[address]\n",
    "    for cp_grid in contact_param_gridding_schedule:\n",
    "        cps = cp + cp_grid\n",
    "        scores = updater(tr, cps)\n",
    "        # key, _ = jax.random.split(key)\n",
    "        # i = jax.random.randint(key, (), 0, len(cp_grid) - 1)\n",
    "        cp = cps[scores.argmax()]\n",
    "        # cp = cps[i]\n",
    "    potential_trace = tr.update(key, genjax.choice_map({address: cp}))[0]\n",
    "    return potential_trace\n",
    "    \n",
    "\n",
    "c2f = jax.jit(_c2f, static_argnums=[2])"
   ]
  },
  {
   "cell_type": "code",
   "execution_count": 15,
   "metadata": {},
   "outputs": [],
   "source": [
    "from src.inference import add_object_jit"
   ]
  },
  {
   "cell_type": "code",
   "execution_count": 19,
   "metadata": {},
   "outputs": [
    {
     "name": "stdout",
     "output_type": "stream",
     "text": [
      "contact_params_1\n"
     ]
    }
   ],
   "source": [
    "# id = 2: cracker box\n",
    "tr2 = c2f(key, add_object_jit(trace, key, 2, 0, 2, 3), 1, contact_param_gridding_schedule)\n",
    "viz_trace_meshcat(tr2)"
   ]
  },
  {
   "cell_type": "code",
   "execution_count": 25,
   "metadata": {},
   "outputs": [],
   "source": [
    "# id = 4: pitcher base\n",
    "tr3 = c2f(key, add_object_jit(tr2, key, 4, 0, 2, 3), 2, contact_param_gridding_schedule)\n",
    "viz_trace_meshcat(tr3)"
   ]
  },
  {
   "cell_type": "code",
   "execution_count": 26,
   "metadata": {},
   "outputs": [
    {
     "name": "stdout",
     "output_type": "stream",
     "text": [
      "contact_params_3\n"
     ]
    }
   ],
   "source": [
    "# id = 3: sugar box\n",
    "tr4 = c2f(key, add_object_jit(tr3, key, 3, 0, 2, 3), 3, contact_param_gridding_schedule)\n",
    "viz_trace_meshcat(tr4)"
   ]
  },
  {
   "cell_type": "code",
   "execution_count": 28,
   "metadata": {},
   "outputs": [],
   "source": [
    "# id = 5: bowl\n",
    "tr5 = c2f(key, add_object_jit(tr4, key, 5, 0, 2, 3), 4, contact_param_gridding_schedule)\n",
    "viz_trace_meshcat(tr5)"
   ]
  },
  {
   "cell_type": "code",
   "execution_count": 29,
   "metadata": {},
   "outputs": [
    {
     "name": "stdout",
     "output_type": "stream",
     "text": [
      "contact_params_5\n",
      "contact_params_6\n"
     ]
    }
   ],
   "source": [
    "# id = 1: pillar\n",
    "tr6 = c2f(key, add_object_jit(tr5, key, 1, 0, 2, 3), 5, contact_param_gridding_schedule)\n",
    "tr7 = c2f(key, add_object_jit(tr6, key, 1, 0, 2, 3), 6, contact_param_gridding_schedule)\n",
    "viz_trace_meshcat(tr7)"
   ]
  },
  {
   "cell_type": "code",
   "execution_count": null,
   "metadata": {},
   "outputs": [],
   "source": []
  }
 ],
 "metadata": {
  "kernelspec": {
   "display_name": "bayes3d_genjax_2",
   "language": "python",
   "name": "python3"
  },
  "language_info": {
   "codemirror_mode": {
    "name": "ipython",
    "version": 3
   },
   "file_extension": ".py",
   "mimetype": "text/x-python",
   "name": "python",
   "nbconvert_exporter": "python",
   "pygments_lexer": "ipython3",
   "version": "3.9.18"
  }
 },
 "nbformat": 4,
 "nbformat_minor": 2
}
