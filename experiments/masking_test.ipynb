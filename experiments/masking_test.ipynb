{
 "cells": [
  {
   "cell_type": "code",
   "execution_count": 3,
   "metadata": {},
   "outputs": [],
   "source": [
    "%load_ext autoreload\n",
    "%autoreload 2"
   ]
  },
  {
   "cell_type": "code",
   "execution_count": 4,
   "metadata": {},
   "outputs": [],
   "source": [
    "from collections import namedtuple\n",
    "import jax\n",
    "import jax.numpy as jnp\n",
    "import genjax\n",
    "from src.genjax_distributions import (\n",
    "    uniform_discrete, uniform_pose,\n",
    "    uniform_choice, contact_params_uniform\n",
    ")"
   ]
  },
  {
   "cell_type": "code",
   "execution_count": 5,
   "metadata": {},
   "outputs": [],
   "source": [
    "ObjectInfo = namedtuple(\"ObjectInfo\", [\"parent_obj\", \"parent_face\", \"child_face\", \"category_index\", \"pose\", \"params\"])\n",
    "def empty_object_info():\n",
    "    return ObjectInfo(\n",
    "        jnp.array(-1),\n",
    "        jnp.array(-1),\n",
    "        jnp.array(-1),\n",
    "        jnp.array(-1),\n",
    "        jnp.nan * jnp.zeros((4, 4)),\n",
    "        jnp.nan * jnp.zeros(3)\n",
    "    )\n",
    "        \n",
    "\n",
    "@genjax.static_gen_fn\n",
    "def generate_object(\n",
    "    object_idx : int,\n",
    "    possible_category_indices,\n",
    "    pose_bounds,\n",
    "    contact_bounds,\n",
    "    all_box_dims\n",
    "):\n",
    "    i = object_idx\n",
    "    parent_obj = uniform_discrete(-1, object_idx) @ f\"parent_{i}\"\n",
    "    parent_face = uniform_discrete(0, 6) @ f\"face_parent_{i}\"\n",
    "    child_face = uniform_discrete(0, 6) @ f\"face_child_{i}\"\n",
    "    category_index = uniform_choice(possible_category_indices) @ f\"category_{i}\"\n",
    "    \n",
    "    pose = (\n",
    "            uniform_pose(\n",
    "                pose_bounds[0],\n",
    "                pose_bounds[1],\n",
    "            )\n",
    "            @ f\"root_pose_{i}\"\n",
    "        )\n",
    "\n",
    "    params = (\n",
    "        contact_params_uniform(contact_bounds[0], contact_bounds[1])\n",
    "        @ f\"contact_params_{i}\"\n",
    "    )\n",
    "\n",
    "    return ObjectInfo(parent_obj, parent_face, child_face, category_index, pose, params)"
   ]
  },
  {
   "cell_type": "code",
   "execution_count": 6,
   "metadata": {},
   "outputs": [
    {
     "data": {
      "text/plain": [
       "ObjectInfo(parent_obj=Array(-1, dtype=int32), parent_face=Array(0, dtype=int32), child_face=Array(2, dtype=int32), category_index=Array(1, dtype=int32), pose=Array([[ 2.1296251e-01,  8.5993189e-01,  4.6385771e-01, -7.2911598e+01],\n",
       "       [ 1.1613947e-01,  4.4910288e-01, -8.8589954e-01, -5.0466324e+01],\n",
       "       [-9.7013324e-01,  2.4253568e-01, -4.2299628e-03, -6.5908836e+01],\n",
       "       [ 0.0000000e+00,  0.0000000e+00,  0.0000000e+00,  1.0000000e+00]],      dtype=float32), params=Array([-2.178543  , -0.42150593,  1.5729983 ], dtype=float32))"
      ]
     },
     "execution_count": 6,
     "metadata": {},
     "output_type": "execute_result"
    }
   ],
   "source": [
    "key = jax.random.PRNGKey(0)\n",
    "key, subkey = jax.random.split(key)\n",
    "pose_bounds = jnp.array([-jnp.ones(3)*100.0, jnp.ones(3)*100.0])\n",
    "contact_bounds = jnp.array([jnp.array([-12.0, -12.0, -jnp.pi]), jnp.array([12.0, 12.0, jnp.pi])])\n",
    "all_box_dims = None\n",
    "args = (0, jnp.arange(5), pose_bounds, contact_bounds, all_box_dims)\n",
    "trace = generate_object.simulate(key, args)\n",
    "trace.get_retval()"
   ]
  },
  {
   "cell_type": "code",
   "execution_count": null,
   "metadata": {},
   "outputs": [],
   "source": []
  },
  {
   "cell_type": "code",
   "execution_count": 7,
   "metadata": {},
   "outputs": [],
   "source": [
    "import jax.experimental.checkify as checkify\n",
    "console = genjax.console(enforce_checkify=True)"
   ]
  },
  {
   "cell_type": "markdown",
   "metadata": {},
   "source": [
    "## Q: why is err appearing either way??:"
   ]
  },
  {
   "cell_type": "code",
   "execution_count": 8,
   "metadata": {},
   "outputs": [
    {
     "data": {
      "text/html": [
       "<pre style=\"white-space:pre;overflow-x:auto;line-height:normal;font-family:Menlo,'DejaVu Sans Mono',consolas,'Courier New',monospace\"><span style=\"color: #800080; text-decoration-color: #800080; font-weight: bold\">Error</span><span style=\"font-weight: bold\">(</span><span style=\"color: #808000; text-decoration-color: #808000\">_pred</span>=<span style=\"font-weight: bold\">{}</span>, <span style=\"color: #808000; text-decoration-color: #808000\">_code</span>=<span style=\"font-weight: bold\">{}</span>, <span style=\"color: #808000; text-decoration-color: #808000\">_metadata</span>=<span style=\"font-weight: bold\">{}</span>, <span style=\"color: #808000; text-decoration-color: #808000\">_payload</span>=<span style=\"font-weight: bold\">{})</span>\n",
       "</pre>\n"
      ],
      "text/plain": [
       "\u001b[1;35mError\u001b[0m\u001b[1m(\u001b[0m\u001b[33m_pred\u001b[0m=\u001b[1m{\u001b[0m\u001b[1m}\u001b[0m, \u001b[33m_code\u001b[0m=\u001b[1m{\u001b[0m\u001b[1m}\u001b[0m, \u001b[33m_metadata\u001b[0m=\u001b[1m{\u001b[0m\u001b[1m}\u001b[0m, \u001b[33m_payload\u001b[0m=\u001b[1m{\u001b[0m\u001b[1m}\u001b[0m\u001b[1m)\u001b[0m\n"
      ]
     },
     "metadata": {},
     "output_type": "display_data"
    },
    {
     "data": {
      "text/html": [
       "<pre style=\"white-space:pre;overflow-x:auto;line-height:normal;font-family:Menlo,'DejaVu Sans Mono',consolas,'Courier New',monospace\"><span style=\"color: #800080; text-decoration-color: #800080; font-weight: bold\">ObjectInfo</span><span style=\"font-weight: bold\">(</span>\n",
       "    <span style=\"color: #808000; text-decoration-color: #808000\">parent_obj</span>=<span style=\"color: #800080; text-decoration-color: #800080; font-weight: bold\">Array</span><span style=\"font-weight: bold\">(</span><span style=\"color: #008080; text-decoration-color: #008080; font-weight: bold\">-1</span>, <span style=\"color: #808000; text-decoration-color: #808000\">dtype</span>=<span style=\"color: #800080; text-decoration-color: #800080\">int32</span><span style=\"font-weight: bold\">)</span>,\n",
       "    <span style=\"color: #808000; text-decoration-color: #808000\">parent_face</span>=<span style=\"color: #800080; text-decoration-color: #800080; font-weight: bold\">Array</span><span style=\"font-weight: bold\">(</span><span style=\"color: #008080; text-decoration-color: #008080; font-weight: bold\">0</span>, <span style=\"color: #808000; text-decoration-color: #808000\">dtype</span>=<span style=\"color: #800080; text-decoration-color: #800080\">int32</span><span style=\"font-weight: bold\">)</span>,\n",
       "    <span style=\"color: #808000; text-decoration-color: #808000\">child_face</span>=<span style=\"color: #800080; text-decoration-color: #800080; font-weight: bold\">Array</span><span style=\"font-weight: bold\">(</span><span style=\"color: #008080; text-decoration-color: #008080; font-weight: bold\">2</span>, <span style=\"color: #808000; text-decoration-color: #808000\">dtype</span>=<span style=\"color: #800080; text-decoration-color: #800080\">int32</span><span style=\"font-weight: bold\">)</span>,\n",
       "    <span style=\"color: #808000; text-decoration-color: #808000\">category_index</span>=<span style=\"color: #800080; text-decoration-color: #800080; font-weight: bold\">Array</span><span style=\"font-weight: bold\">(</span><span style=\"color: #008080; text-decoration-color: #008080; font-weight: bold\">1</span>, <span style=\"color: #808000; text-decoration-color: #808000\">dtype</span>=<span style=\"color: #800080; text-decoration-color: #800080\">int32</span><span style=\"font-weight: bold\">)</span>,\n",
       "    <span style=\"color: #808000; text-decoration-color: #808000\">pose</span>=<span style=\"color: #800080; text-decoration-color: #800080; font-weight: bold\">Array</span><span style=\"font-weight: bold\">([[</span> <span style=\"color: #008080; text-decoration-color: #008080; font-weight: bold\">2.1296251e-01</span>,  <span style=\"color: #008080; text-decoration-color: #008080; font-weight: bold\">8.5993189e-01</span>,  <span style=\"color: #008080; text-decoration-color: #008080; font-weight: bold\">4.6385771e-01</span>, <span style=\"color: #008080; text-decoration-color: #008080; font-weight: bold\">-7.2911598e+01</span><span style=\"font-weight: bold\">]</span>,\n",
       "       <span style=\"font-weight: bold\">[</span> <span style=\"color: #008080; text-decoration-color: #008080; font-weight: bold\">1.1613947e-01</span>,  <span style=\"color: #008080; text-decoration-color: #008080; font-weight: bold\">4.4910288e-01</span>, <span style=\"color: #008080; text-decoration-color: #008080; font-weight: bold\">-8.8589954e-01</span>, <span style=\"color: #008080; text-decoration-color: #008080; font-weight: bold\">-5.0466324e+01</span><span style=\"font-weight: bold\">]</span>,\n",
       "       <span style=\"font-weight: bold\">[</span><span style=\"color: #008080; text-decoration-color: #008080; font-weight: bold\">-9.7013324e-01</span>,  <span style=\"color: #008080; text-decoration-color: #008080; font-weight: bold\">2.4253568e-01</span>, <span style=\"color: #008080; text-decoration-color: #008080; font-weight: bold\">-4.2299628e-03</span>, <span style=\"color: #008080; text-decoration-color: #008080; font-weight: bold\">-6.5908836e+01</span><span style=\"font-weight: bold\">]</span>,\n",
       "       <span style=\"font-weight: bold\">[</span> <span style=\"color: #008080; text-decoration-color: #008080; font-weight: bold\">0.0000000e+00</span>,  <span style=\"color: #008080; text-decoration-color: #008080; font-weight: bold\">0.0000000e+00</span>,  <span style=\"color: #008080; text-decoration-color: #008080; font-weight: bold\">0.0000000e+00</span>,  <span style=\"color: #008080; text-decoration-color: #008080; font-weight: bold\">1.0000000e+00</span><span style=\"font-weight: bold\">]]</span>,      <span style=\"color: #808000; text-decoration-color: #808000\">dtype</span>=<span style=\"color: #800080; text-decoration-color: #800080\">float32</span><span style=\"font-weight: bold\">)</span>,\n",
       "    <span style=\"color: #808000; text-decoration-color: #808000\">params</span>=<span style=\"color: #800080; text-decoration-color: #800080; font-weight: bold\">Array</span><span style=\"font-weight: bold\">([</span><span style=\"color: #008080; text-decoration-color: #008080; font-weight: bold\">-2.178543</span>  , <span style=\"color: #008080; text-decoration-color: #008080; font-weight: bold\">-0.42150593</span>,  <span style=\"color: #008080; text-decoration-color: #008080; font-weight: bold\">1.5729983</span> <span style=\"font-weight: bold\">]</span>, <span style=\"color: #808000; text-decoration-color: #808000\">dtype</span>=<span style=\"color: #800080; text-decoration-color: #800080\">float32</span><span style=\"font-weight: bold\">)</span>\n",
       "<span style=\"font-weight: bold\">)</span>\n",
       "</pre>\n"
      ],
      "text/plain": [
       "\u001b[1;35mObjectInfo\u001b[0m\u001b[1m(\u001b[0m\n",
       "    \u001b[33mparent_obj\u001b[0m=\u001b[1;35mArray\u001b[0m\u001b[1m(\u001b[0m\u001b[1;36m-1\u001b[0m, \u001b[33mdtype\u001b[0m=\u001b[35mint32\u001b[0m\u001b[1m)\u001b[0m,\n",
       "    \u001b[33mparent_face\u001b[0m=\u001b[1;35mArray\u001b[0m\u001b[1m(\u001b[0m\u001b[1;36m0\u001b[0m, \u001b[33mdtype\u001b[0m=\u001b[35mint32\u001b[0m\u001b[1m)\u001b[0m,\n",
       "    \u001b[33mchild_face\u001b[0m=\u001b[1;35mArray\u001b[0m\u001b[1m(\u001b[0m\u001b[1;36m2\u001b[0m, \u001b[33mdtype\u001b[0m=\u001b[35mint32\u001b[0m\u001b[1m)\u001b[0m,\n",
       "    \u001b[33mcategory_index\u001b[0m=\u001b[1;35mArray\u001b[0m\u001b[1m(\u001b[0m\u001b[1;36m1\u001b[0m, \u001b[33mdtype\u001b[0m=\u001b[35mint32\u001b[0m\u001b[1m)\u001b[0m,\n",
       "    \u001b[33mpose\u001b[0m=\u001b[1;35mArray\u001b[0m\u001b[1m(\u001b[0m\u001b[1m[\u001b[0m\u001b[1m[\u001b[0m \u001b[1;36m2.1296251e-01\u001b[0m,  \u001b[1;36m8.5993189e-01\u001b[0m,  \u001b[1;36m4.6385771e-01\u001b[0m, \u001b[1;36m-7.2911598e+01\u001b[0m\u001b[1m]\u001b[0m,\n",
       "       \u001b[1m[\u001b[0m \u001b[1;36m1.1613947e-01\u001b[0m,  \u001b[1;36m4.4910288e-01\u001b[0m, \u001b[1;36m-8.8589954e-01\u001b[0m, \u001b[1;36m-5.0466324e+01\u001b[0m\u001b[1m]\u001b[0m,\n",
       "       \u001b[1m[\u001b[0m\u001b[1;36m-9.7013324e-01\u001b[0m,  \u001b[1;36m2.4253568e-01\u001b[0m, \u001b[1;36m-4.2299628e-03\u001b[0m, \u001b[1;36m-6.5908836e+01\u001b[0m\u001b[1m]\u001b[0m,\n",
       "       \u001b[1m[\u001b[0m \u001b[1;36m0.0000000e+00\u001b[0m,  \u001b[1;36m0.0000000e+00\u001b[0m,  \u001b[1;36m0.0000000e+00\u001b[0m,  \u001b[1;36m1.0000000e+00\u001b[0m\u001b[1m]\u001b[0m\u001b[1m]\u001b[0m,      \u001b[33mdtype\u001b[0m=\u001b[35mfloat32\u001b[0m\u001b[1m)\u001b[0m,\n",
       "    \u001b[33mparams\u001b[0m=\u001b[1;35mArray\u001b[0m\u001b[1m(\u001b[0m\u001b[1m[\u001b[0m\u001b[1;36m-2.178543\u001b[0m  , \u001b[1;36m-0.42150593\u001b[0m,  \u001b[1;36m1.5729983\u001b[0m \u001b[1m]\u001b[0m, \u001b[33mdtype\u001b[0m=\u001b[35mfloat32\u001b[0m\u001b[1m)\u001b[0m\n",
       "\u001b[1m)\u001b[0m\n"
      ]
     },
     "metadata": {},
     "output_type": "display_data"
    }
   ],
   "source": [
    "masked = genjax.masking_combinator(generate_object)\n",
    "trace = masked.simulate(key, (jnp.array(True), args))\n",
    "err, val = checkify.checkify(trace.get_retval().unmask)()\n",
    "console.print(err)\n",
    "console.print(val)"
   ]
  },
  {
   "cell_type": "code",
   "execution_count": 9,
   "metadata": {},
   "outputs": [
    {
     "data": {
      "text/plain": [
       "ObjectInfo(parent_obj=Array(-1, dtype=int32, weak_type=True), parent_face=Array(0, dtype=int32, weak_type=True), child_face=Array(2, dtype=int32, weak_type=True), category_index=Array(1, dtype=int32, weak_type=True), pose=Array([[ 2.1296251e-01,  8.5993189e-01,  4.6385771e-01, -7.2911598e+01],\n",
       "       [ 1.1613947e-01,  4.4910288e-01, -8.8589954e-01, -5.0466324e+01],\n",
       "       [-9.7013324e-01,  2.4253568e-01, -4.2299628e-03, -6.5908836e+01],\n",
       "       [ 0.0000000e+00,  0.0000000e+00,  0.0000000e+00,  1.0000000e+00]],      dtype=float32), params=Array([-2.178543  , -0.42150593,  1.5729983 ], dtype=float32))"
      ]
     },
     "execution_count": 9,
     "metadata": {},
     "output_type": "execute_result"
    }
   ],
   "source": [
    "trace = masked.simulate(key, (jnp.array(True), args))\n",
    "trace.get_retval().match(lambda: empty_object_info(), lambda x: x)"
   ]
  },
  {
   "cell_type": "code",
   "execution_count": 10,
   "metadata": {},
   "outputs": [
    {
     "data": {
      "text/plain": [
       "ObjectInfo(parent_obj=Array(-1, dtype=int32, weak_type=True), parent_face=Array(-1, dtype=int32, weak_type=True), child_face=Array(-1, dtype=int32, weak_type=True), category_index=Array(-1, dtype=int32, weak_type=True), pose=Array([[nan, nan, nan, nan],\n",
       "       [nan, nan, nan, nan],\n",
       "       [nan, nan, nan, nan],\n",
       "       [nan, nan, nan, nan]], dtype=float32), params=Array([nan, nan, nan], dtype=float32))"
      ]
     },
     "execution_count": 10,
     "metadata": {},
     "output_type": "execute_result"
    }
   ],
   "source": [
    "trace = masked.simulate(key, (jnp.array(False), args))\n",
    "trace.get_retval().match(lambda: empty_object_info(), lambda x: x)"
   ]
  },
  {
   "cell_type": "code",
   "execution_count": 11,
   "metadata": {},
   "outputs": [],
   "source": [
    "object_indices = jnp.arange(5)\n",
    "possible_object_categories = jnp.tile(jnp.arange(4), (5, 1))\n",
    "pose_boundss = jnp.tile(pose_bounds, (5, 1, 1))\n",
    "contact_boundss = jnp.tile(contact_bounds, (5, 1, 1))\n",
    "all_box_dimss = jnp.nan * jnp.ones(5)\n",
    "argss = (object_indices, possible_object_categories, pose_boundss, contact_boundss, all_box_dimss)"
   ]
  },
  {
   "cell_type": "code",
   "execution_count": 12,
   "metadata": {},
   "outputs": [
    {
     "data": {
      "text/plain": [
       "ObjectInfo(parent_obj=Array([-1,  0,  0,  1,  0], dtype=int32), parent_face=Array([0, 4, 2, 1, 4], dtype=int32), child_face=Array([5, 2, 2, 2, 2], dtype=int32), category_index=Array([1, 1, 3, 3, 3], dtype=int32), pose=Array([[[ 5.2901769e-01,  1.5356764e-02, -8.4847188e-01, -7.7767326e+01],\n",
       "        [ 4.1145980e-01,  8.6980534e-01,  2.7228582e-01, -7.5854752e+01],\n",
       "        [ 7.4218678e-01, -4.9315608e-01,  4.5382369e-01,  5.0380249e+01],\n",
       "        [ 0.0000000e+00,  0.0000000e+00,  0.0000000e+00,  1.0000000e+00]],\n",
       "\n",
       "       [[-8.9460647e-01,  3.6910450e-01,  2.5187510e-01, -3.6411644e+01],\n",
       "        [-8.8158533e-02,  4.0679872e-01, -9.0925395e-01,  7.7249695e+01],\n",
       "        [-4.3807226e-01, -8.3562946e-01, -3.3138514e-01, -9.2919067e+01],\n",
       "        [ 0.0000000e+00,  0.0000000e+00,  0.0000000e+00,  1.0000000e+00]],\n",
       "\n",
       "       [[-5.4967666e-01,  2.1887279e-01,  8.0619496e-01, -2.7153946e+01],\n",
       "        [ 8.2270801e-01, -2.5605798e-02,  5.6788731e-01, -1.5467682e+00],\n",
       "        [ 1.4493835e-01,  9.7541738e-01, -1.6599345e-01, -6.2509369e+01],\n",
       "        [ 0.0000000e+00,  0.0000000e+00,  0.0000000e+00,  1.0000000e+00]],\n",
       "\n",
       "       [[-2.4042350e-01,  6.2120759e-01,  7.4585354e-01, -9.3371872e+01],\n",
       "        [-1.0066274e-01,  7.4829221e-01, -6.5568709e-01, -8.2976440e+01],\n",
       "        [-9.6543431e-01, -2.3272218e-01, -1.1737460e-01, -9.7619179e+01],\n",
       "        [ 0.0000000e+00,  0.0000000e+00,  0.0000000e+00,  1.0000000e+00]],\n",
       "\n",
       "       [[-6.8701494e-01,  3.4592286e-01,  6.3902104e-01,  3.7928314e+01],\n",
       "        [ 7.2289658e-01,  2.3618138e-01,  6.4933723e-01,  3.2143097e+01],\n",
       "        [ 7.3695719e-02,  9.0805048e-01, -4.1232663e-01,  9.5907669e+01],\n",
       "        [ 0.0000000e+00,  0.0000000e+00,  0.0000000e+00,  1.0000000e+00]]],      dtype=float32), params=Array([[  0.5064068 , -10.499242  ,  -1.9098758 ],\n",
       "       [ -0.15891552,   7.3495293 ,   0.40989113],\n",
       "       [  4.767601  ,   7.520262  ,   1.6121771 ],\n",
       "       [  8.645828  ,   4.524027  ,   0.82780147],\n",
       "       [ -7.236823  ,   8.477303  ,  -1.9348696 ]], dtype=float32))"
      ]
     },
     "execution_count": 12,
     "metadata": {},
     "output_type": "execute_result"
    }
   ],
   "source": [
    "mapped = genjax.map_combinator(in_axes=(0,0,0,0,0))(generate_object)\n",
    "trace = mapped.simulate(key, argss)\n",
    "trace.get_retval()"
   ]
  },
  {
   "cell_type": "code",
   "execution_count": 13,
   "metadata": {},
   "outputs": [
    {
     "data": {
      "text/plain": [
       "ObjectInfo(parent_obj=Array([-1, -1, -1, -1, -1], dtype=int32, weak_type=True), parent_face=Array([-1, -1, -1, -1, -1], dtype=int32, weak_type=True), child_face=Array([-1, -1, -1, -1, -1], dtype=int32, weak_type=True), category_index=Array([-1, -1, -1, -1, -1], dtype=int32, weak_type=True), pose=Array([[[nan, nan, nan, nan],\n",
       "        [nan, nan, nan, nan],\n",
       "        [nan, nan, nan, nan],\n",
       "        [nan, nan, nan, nan]],\n",
       "\n",
       "       [[nan, nan, nan, nan],\n",
       "        [nan, nan, nan, nan],\n",
       "        [nan, nan, nan, nan],\n",
       "        [nan, nan, nan, nan]],\n",
       "\n",
       "       [[nan, nan, nan, nan],\n",
       "        [nan, nan, nan, nan],\n",
       "        [nan, nan, nan, nan],\n",
       "        [nan, nan, nan, nan]],\n",
       "\n",
       "       [[nan, nan, nan, nan],\n",
       "        [nan, nan, nan, nan],\n",
       "        [nan, nan, nan, nan],\n",
       "        [nan, nan, nan, nan]],\n",
       "\n",
       "       [[nan, nan, nan, nan],\n",
       "        [nan, nan, nan, nan],\n",
       "        [nan, nan, nan, nan],\n",
       "        [nan, nan, nan, nan]]], dtype=float32), params=Array([[nan, nan, nan],\n",
       "       [nan, nan, nan],\n",
       "       [nan, nan, nan],\n",
       "       [nan, nan, nan],\n",
       "       [nan, nan, nan]], dtype=float32))"
      ]
     },
     "execution_count": 13,
     "metadata": {},
     "output_type": "execute_result"
    }
   ],
   "source": [
    "empty_iterated = jax.vmap(empty_object_info, axis_size=5)()\n",
    "empty_iterated"
   ]
  },
  {
   "cell_type": "code",
   "execution_count": 14,
   "metadata": {},
   "outputs": [
    {
     "ename": "TypeError",
     "evalue": "Value ObjectInfo(parent_obj=Traced<ShapedArray(int32[5], weak_type=True)>with<DynamicJaxprTrace(level=1/0)>, parent_face=Traced<ShapedArray(int32[5], weak_type=True)>with<DynamicJaxprTrace(level=1/0)>, child_face=Traced<ShapedArray(int32[5], weak_type=True)>with<DynamicJaxprTrace(level=1/0)>, category_index=Traced<ShapedArray(int32[5], weak_type=True)>with<DynamicJaxprTrace(level=1/0)>, pose=Traced<ShapedArray(float32[5,4,4])>with<DynamicJaxprTrace(level=1/0)>, params=Traced<ShapedArray(float32[5,3])>with<DynamicJaxprTrace(level=1/0)>) with type <class '__main__.ObjectInfo'> is not a valid JAX type",
     "output_type": "error",
     "traceback": [
      "\u001b[0;31m---------------------------------------------------------------------------\u001b[0m",
      "\u001b[0;31mTypeError\u001b[0m                                 Traceback (most recent call last)",
      "Cell \u001b[0;32mIn[14], line 5\u001b[0m\n\u001b[1;32m      3\u001b[0m mapped_masked \u001b[38;5;241m=\u001b[39m genjax\u001b[38;5;241m.\u001b[39mmap_combinator(in_axes\u001b[38;5;241m=\u001b[39m(\u001b[38;5;241m0\u001b[39m, (\u001b[38;5;241m0\u001b[39m,\u001b[38;5;241m0\u001b[39m,\u001b[38;5;241m0\u001b[39m,\u001b[38;5;241m0\u001b[39m,\u001b[38;5;241m0\u001b[39m)))(masked)\n\u001b[1;32m      4\u001b[0m trace \u001b[38;5;241m=\u001b[39m mapped_masked\u001b[38;5;241m.\u001b[39msimulate(key, (jnp\u001b[38;5;241m.\u001b[39mtile(jnp\u001b[38;5;241m.\u001b[39marray(\u001b[38;5;28;01mTrue\u001b[39;00m), (\u001b[38;5;241m5\u001b[39m,)), argss))\n\u001b[0;32m----> 5\u001b[0m \u001b[43mtrace\u001b[49m\u001b[38;5;241;43m.\u001b[39;49m\u001b[43mget_retval\u001b[49m\u001b[43m(\u001b[49m\u001b[43m)\u001b[49m\u001b[38;5;241;43m.\u001b[39;49m\u001b[43mmatch\u001b[49m\u001b[43m(\u001b[49m\u001b[38;5;28;43;01mlambda\u001b[39;49;00m\u001b[43m:\u001b[49m\u001b[43m \u001b[49m\u001b[43mxxval\u001b[49m\u001b[43m,\u001b[49m\u001b[43m \u001b[49m\u001b[38;5;28;43;01mlambda\u001b[39;49;00m\u001b[43m \u001b[49m\u001b[43mx\u001b[49m\u001b[43m:\u001b[49m\u001b[43m \u001b[49m\u001b[43mx\u001b[49m\u001b[43m)\u001b[49m\n",
      "    \u001b[0;31m[... skipping hidden 1 frame]\u001b[0m\n",
      "File \u001b[0;32m<@beartype(genjax._src.core.datatypes.generative.Mask.match) at 0x7ff4c98f6790>:49\u001b[0m, in \u001b[0;36mmatch\u001b[0;34m(__beartype_func, __beartype_conf, __beartype_get_violation, __beartype_object_94035654962016, *args, **kwargs)\u001b[0m\n",
      "File \u001b[0;32m~/bayes3d_genjax/genjax/src/genjax/_src/core/datatypes/generative.py:712\u001b[0m, in \u001b[0;36mMask.match\u001b[0;34m(self, none, some)\u001b[0m\n\u001b[1;32m    706\u001b[0m     \u001b[38;5;28;01mreturn\u001b[39;00m jax\u001b[38;5;241m.\u001b[39mlax\u001b[38;5;241m.\u001b[39mcond(\n\u001b[1;32m    707\u001b[0m         flag,\n\u001b[1;32m    708\u001b[0m         \u001b[38;5;28;01mlambda\u001b[39;00m: some(\u001b[38;5;28mself\u001b[39m\u001b[38;5;241m.\u001b[39mvalue),\n\u001b[1;32m    709\u001b[0m         \u001b[38;5;28;01mlambda\u001b[39;00m: none(),\n\u001b[1;32m    710\u001b[0m     )\n\u001b[1;32m    711\u001b[0m \u001b[38;5;28;01melse\u001b[39;00m:\n\u001b[0;32m--> 712\u001b[0m     \u001b[38;5;28;01mreturn\u001b[39;00m \u001b[43mjax\u001b[49m\u001b[38;5;241;43m.\u001b[39;49m\u001b[43mlax\u001b[49m\u001b[38;5;241;43m.\u001b[39;49m\u001b[43mselect\u001b[49m\u001b[43m(\u001b[49m\n\u001b[1;32m    713\u001b[0m \u001b[43m        \u001b[49m\u001b[43mflag\u001b[49m\u001b[43m,\u001b[49m\n\u001b[1;32m    714\u001b[0m \u001b[43m        \u001b[49m\u001b[43msome\u001b[49m\u001b[43m(\u001b[49m\u001b[38;5;28;43mself\u001b[39;49m\u001b[38;5;241;43m.\u001b[39;49m\u001b[43mvalue\u001b[49m\u001b[43m)\u001b[49m\u001b[43m,\u001b[49m\n\u001b[1;32m    715\u001b[0m \u001b[43m        \u001b[49m\u001b[43mnone\u001b[49m\u001b[43m(\u001b[49m\u001b[43m)\u001b[49m\u001b[43m,\u001b[49m\n\u001b[1;32m    716\u001b[0m \u001b[43m    \u001b[49m\u001b[43m)\u001b[49m\n",
      "File \u001b[0;32m~/.local/lib/python3.9/site-packages/jax/_src/lax/lax.py:928\u001b[0m, in \u001b[0;36mselect\u001b[0;34m(pred, on_true, on_false)\u001b[0m\n\u001b[1;32m    906\u001b[0m \u001b[38;5;250m\u001b[39m\u001b[38;5;124;03m\"\"\"Selects between two branches based on a boolean predicate.\u001b[39;00m\n\u001b[1;32m    907\u001b[0m \n\u001b[1;32m    908\u001b[0m \u001b[38;5;124;03mWraps XLA's `Select\u001b[39;00m\n\u001b[0;32m   (...)\u001b[0m\n\u001b[1;32m    924\u001b[0m \u001b[38;5;124;03m  result: array with same shape and dtype as ``on_true`` and ``on_false``.\u001b[39;00m\n\u001b[1;32m    925\u001b[0m \u001b[38;5;124;03m\"\"\"\u001b[39;00m\n\u001b[1;32m    926\u001b[0m \u001b[38;5;66;03m# Caution! The select_n_p primitive has the *opposite* order of arguments to\u001b[39;00m\n\u001b[1;32m    927\u001b[0m \u001b[38;5;66;03m# select(). This is because it implements `select_n`.\u001b[39;00m\n\u001b[0;32m--> 928\u001b[0m \u001b[38;5;28;01mreturn\u001b[39;00m \u001b[43mselect_n_p\u001b[49m\u001b[38;5;241;43m.\u001b[39;49m\u001b[43mbind\u001b[49m\u001b[43m(\u001b[49m\u001b[43mpred\u001b[49m\u001b[43m,\u001b[49m\u001b[43m \u001b[49m\u001b[43mon_false\u001b[49m\u001b[43m,\u001b[49m\u001b[43m \u001b[49m\u001b[43mon_true\u001b[49m\u001b[43m)\u001b[49m\n",
      "File \u001b[0;32m~/.local/lib/python3.9/site-packages/jax/_src/core.py:444\u001b[0m, in \u001b[0;36mPrimitive.bind\u001b[0;34m(self, *args, **params)\u001b[0m\n\u001b[1;32m    441\u001b[0m \u001b[38;5;28;01mdef\u001b[39;00m \u001b[38;5;21mbind\u001b[39m(\u001b[38;5;28mself\u001b[39m, \u001b[38;5;241m*\u001b[39margs, \u001b[38;5;241m*\u001b[39m\u001b[38;5;241m*\u001b[39mparams):\n\u001b[1;32m    442\u001b[0m   \u001b[38;5;28;01massert\u001b[39;00m (\u001b[38;5;129;01mnot\u001b[39;00m config\u001b[38;5;241m.\u001b[39menable_checks\u001b[38;5;241m.\u001b[39mvalue \u001b[38;5;129;01mor\u001b[39;00m\n\u001b[1;32m    443\u001b[0m           \u001b[38;5;28mall\u001b[39m(\u001b[38;5;28misinstance\u001b[39m(arg, Tracer) \u001b[38;5;129;01mor\u001b[39;00m valid_jaxtype(arg) \u001b[38;5;28;01mfor\u001b[39;00m arg \u001b[38;5;129;01min\u001b[39;00m args)), args\n\u001b[0;32m--> 444\u001b[0m   \u001b[38;5;28;01mreturn\u001b[39;00m \u001b[38;5;28;43mself\u001b[39;49m\u001b[38;5;241;43m.\u001b[39;49m\u001b[43mbind_with_trace\u001b[49m\u001b[43m(\u001b[49m\u001b[43mfind_top_trace\u001b[49m\u001b[43m(\u001b[49m\u001b[43margs\u001b[49m\u001b[43m)\u001b[49m\u001b[43m,\u001b[49m\u001b[43m \u001b[49m\u001b[43margs\u001b[49m\u001b[43m,\u001b[49m\u001b[43m \u001b[49m\u001b[43mparams\u001b[49m\u001b[43m)\u001b[49m\n",
      "File \u001b[0;32m~/.local/lib/python3.9/site-packages/jax/_src/core.py:447\u001b[0m, in \u001b[0;36mPrimitive.bind_with_trace\u001b[0;34m(self, trace, args, params)\u001b[0m\n\u001b[1;32m    446\u001b[0m \u001b[38;5;28;01mdef\u001b[39;00m \u001b[38;5;21mbind_with_trace\u001b[39m(\u001b[38;5;28mself\u001b[39m, trace, args, params):\n\u001b[0;32m--> 447\u001b[0m   out \u001b[38;5;241m=\u001b[39m \u001b[43mtrace\u001b[49m\u001b[38;5;241;43m.\u001b[39;49m\u001b[43mprocess_primitive\u001b[49m\u001b[43m(\u001b[49m\u001b[38;5;28;43mself\u001b[39;49m\u001b[43m,\u001b[49m\u001b[43m \u001b[49m\u001b[38;5;28;43mmap\u001b[39;49m\u001b[43m(\u001b[49m\u001b[43mtrace\u001b[49m\u001b[38;5;241;43m.\u001b[39;49m\u001b[43mfull_raise\u001b[49m\u001b[43m,\u001b[49m\u001b[43m \u001b[49m\u001b[43margs\u001b[49m\u001b[43m)\u001b[49m\u001b[43m,\u001b[49m\u001b[43m \u001b[49m\u001b[43mparams\u001b[49m\u001b[43m)\u001b[49m\n\u001b[1;32m    448\u001b[0m   \u001b[38;5;28;01mreturn\u001b[39;00m \u001b[38;5;28mmap\u001b[39m(full_lower, out) \u001b[38;5;28;01mif\u001b[39;00m \u001b[38;5;28mself\u001b[39m\u001b[38;5;241m.\u001b[39mmultiple_results \u001b[38;5;28;01melse\u001b[39;00m full_lower(out)\n",
      "File \u001b[0;32m~/.local/lib/python3.9/site-packages/jax/_src/core.py:935\u001b[0m, in \u001b[0;36mEvalTrace.process_primitive\u001b[0;34m(self, primitive, tracers, params)\u001b[0m\n\u001b[1;32m    934\u001b[0m \u001b[38;5;28;01mdef\u001b[39;00m \u001b[38;5;21mprocess_primitive\u001b[39m(\u001b[38;5;28mself\u001b[39m, primitive, tracers, params):\n\u001b[0;32m--> 935\u001b[0m   \u001b[38;5;28;01mreturn\u001b[39;00m \u001b[43mprimitive\u001b[49m\u001b[38;5;241;43m.\u001b[39;49m\u001b[43mimpl\u001b[49m\u001b[43m(\u001b[49m\u001b[38;5;241;43m*\u001b[39;49m\u001b[43mtracers\u001b[49m\u001b[43m,\u001b[49m\u001b[43m \u001b[49m\u001b[38;5;241;43m*\u001b[39;49m\u001b[38;5;241;43m*\u001b[39;49m\u001b[43mparams\u001b[49m\u001b[43m)\u001b[49m\n",
      "File \u001b[0;32m~/.local/lib/python3.9/site-packages/jax/_src/dispatch.py:87\u001b[0m, in \u001b[0;36mapply_primitive\u001b[0;34m(prim, *args, **params)\u001b[0m\n\u001b[1;32m     85\u001b[0m prev \u001b[38;5;241m=\u001b[39m lib\u001b[38;5;241m.\u001b[39mjax_jit\u001b[38;5;241m.\u001b[39mswap_thread_local_state_disable_jit(\u001b[38;5;28;01mFalse\u001b[39;00m)\n\u001b[1;32m     86\u001b[0m \u001b[38;5;28;01mtry\u001b[39;00m:\n\u001b[0;32m---> 87\u001b[0m   outs \u001b[38;5;241m=\u001b[39m \u001b[43mfun\u001b[49m\u001b[43m(\u001b[49m\u001b[38;5;241;43m*\u001b[39;49m\u001b[43margs\u001b[49m\u001b[43m)\u001b[49m\n\u001b[1;32m     88\u001b[0m \u001b[38;5;28;01mfinally\u001b[39;00m:\n\u001b[1;32m     89\u001b[0m   lib\u001b[38;5;241m.\u001b[39mjax_jit\u001b[38;5;241m.\u001b[39mswap_thread_local_state_disable_jit(prev)\n",
      "    \u001b[0;31m[... skipping hidden 18 frame]\u001b[0m\n",
      "File \u001b[0;32m~/.local/lib/python3.9/site-packages/jax/_src/core.py:1490\u001b[0m, in \u001b[0;36mconcrete_aval\u001b[0;34m(x)\u001b[0m\n\u001b[1;32m   1488\u001b[0m \u001b[38;5;28;01mif\u001b[39;00m \u001b[38;5;28mhasattr\u001b[39m(x, \u001b[38;5;124m'\u001b[39m\u001b[38;5;124m__jax_array__\u001b[39m\u001b[38;5;124m'\u001b[39m):\n\u001b[1;32m   1489\u001b[0m   \u001b[38;5;28;01mreturn\u001b[39;00m concrete_aval(x\u001b[38;5;241m.\u001b[39m__jax_array__())\n\u001b[0;32m-> 1490\u001b[0m \u001b[38;5;28;01mraise\u001b[39;00m \u001b[38;5;167;01mTypeError\u001b[39;00m(\u001b[38;5;124mf\u001b[39m\u001b[38;5;124m\"\u001b[39m\u001b[38;5;124mValue \u001b[39m\u001b[38;5;132;01m{\u001b[39;00mx\u001b[38;5;132;01m!r}\u001b[39;00m\u001b[38;5;124m with type \u001b[39m\u001b[38;5;132;01m{\u001b[39;00m\u001b[38;5;28mtype\u001b[39m(x)\u001b[38;5;132;01m}\u001b[39;00m\u001b[38;5;124m is not a valid JAX \u001b[39m\u001b[38;5;124m\"\u001b[39m\n\u001b[1;32m   1491\u001b[0m                  \u001b[38;5;124m\"\u001b[39m\u001b[38;5;124mtype\u001b[39m\u001b[38;5;124m\"\u001b[39m)\n",
      "\u001b[0;31mTypeError\u001b[0m: Value ObjectInfo(parent_obj=Traced<ShapedArray(int32[5], weak_type=True)>with<DynamicJaxprTrace(level=1/0)>, parent_face=Traced<ShapedArray(int32[5], weak_type=True)>with<DynamicJaxprTrace(level=1/0)>, child_face=Traced<ShapedArray(int32[5], weak_type=True)>with<DynamicJaxprTrace(level=1/0)>, category_index=Traced<ShapedArray(int32[5], weak_type=True)>with<DynamicJaxprTrace(level=1/0)>, pose=Traced<ShapedArray(float32[5,4,4])>with<DynamicJaxprTrace(level=1/0)>, params=Traced<ShapedArray(float32[5,3])>with<DynamicJaxprTrace(level=1/0)>) with type <class '__main__.ObjectInfo'> is not a valid JAX type"
     ]
    }
   ],
   "source": [
    "xval = empty_object_info()\n",
    "xxval = jax.vmap(empty_object_info, axis_size=5)()\n",
    "mapped_masked = genjax.map_combinator(in_axes=(0, (0,0,0,0,0)))(masked)\n",
    "trace = mapped_masked.simulate(key, (jnp.tile(jnp.array(True), (5,)), argss))\n",
    "trace.get_retval().match(lambda: xxval, lambda x: x)"
   ]
  },
  {
   "cell_type": "code",
   "execution_count": 15,
   "metadata": {},
   "outputs": [
    {
     "ename": "TypeError",
     "evalue": "Value ObjectInfo(parent_obj=Traced<ShapedArray(int32[5], weak_type=True)>with<DynamicJaxprTrace(level=1/0)>, parent_face=Traced<ShapedArray(int32[5], weak_type=True)>with<DynamicJaxprTrace(level=1/0)>, child_face=Traced<ShapedArray(int32[5], weak_type=True)>with<DynamicJaxprTrace(level=1/0)>, category_index=Traced<ShapedArray(int32[5], weak_type=True)>with<DynamicJaxprTrace(level=1/0)>, pose=Traced<ShapedArray(float32[5,4,4])>with<DynamicJaxprTrace(level=1/0)>, params=Traced<ShapedArray(float32[5,3])>with<DynamicJaxprTrace(level=1/0)>) with type <class '__main__.ObjectInfo'> is not a valid JAX type",
     "output_type": "error",
     "traceback": [
      "\u001b[0;31m---------------------------------------------------------------------------\u001b[0m",
      "\u001b[0;31mTypeError\u001b[0m                                 Traceback (most recent call last)",
      "Cell \u001b[0;32mIn[15], line 3\u001b[0m\n\u001b[1;32m      1\u001b[0m rv \u001b[38;5;241m=\u001b[39m trace\u001b[38;5;241m.\u001b[39mget_retval()\n\u001b[1;32m      2\u001b[0m flag \u001b[38;5;241m=\u001b[39m jnp\u001b[38;5;241m.\u001b[39marray(rv\u001b[38;5;241m.\u001b[39mmask)\n\u001b[0;32m----> 3\u001b[0m \u001b[43mjax\u001b[49m\u001b[38;5;241;43m.\u001b[39;49m\u001b[43mlax\u001b[49m\u001b[38;5;241;43m.\u001b[39;49m\u001b[43mselect\u001b[49m\u001b[43m(\u001b[49m\n\u001b[1;32m      4\u001b[0m \u001b[43m    \u001b[49m\u001b[43mflag\u001b[49m\u001b[43m,\u001b[49m\n\u001b[1;32m      5\u001b[0m \u001b[43m    \u001b[49m\u001b[43m(\u001b[49m\u001b[38;5;28;43;01mlambda\u001b[39;49;00m\u001b[43m \u001b[49m\u001b[43mx\u001b[49m\u001b[43m \u001b[49m\u001b[43m:\u001b[49m\u001b[43m \u001b[49m\u001b[43mx\u001b[49m\u001b[43m)\u001b[49m\u001b[43m(\u001b[49m\u001b[43mrv\u001b[49m\u001b[38;5;241;43m.\u001b[39;49m\u001b[43mvalue\u001b[49m\u001b[43m)\u001b[49m\u001b[43m,\u001b[49m\n\u001b[1;32m      6\u001b[0m \u001b[43m    \u001b[49m\u001b[43m(\u001b[49m\u001b[38;5;28;43;01mlambda\u001b[39;49;00m\u001b[43m:\u001b[49m\u001b[43m \u001b[49m\u001b[43mxxval\u001b[49m\u001b[43m)\u001b[49m\u001b[43m(\u001b[49m\u001b[43m)\u001b[49m\n\u001b[1;32m      7\u001b[0m \u001b[43m)\u001b[49m\n",
      "File \u001b[0;32m~/.local/lib/python3.9/site-packages/jax/_src/lax/lax.py:928\u001b[0m, in \u001b[0;36mselect\u001b[0;34m(pred, on_true, on_false)\u001b[0m\n\u001b[1;32m    906\u001b[0m \u001b[38;5;250m\u001b[39m\u001b[38;5;124;03m\"\"\"Selects between two branches based on a boolean predicate.\u001b[39;00m\n\u001b[1;32m    907\u001b[0m \n\u001b[1;32m    908\u001b[0m \u001b[38;5;124;03mWraps XLA's `Select\u001b[39;00m\n\u001b[0;32m   (...)\u001b[0m\n\u001b[1;32m    924\u001b[0m \u001b[38;5;124;03m  result: array with same shape and dtype as ``on_true`` and ``on_false``.\u001b[39;00m\n\u001b[1;32m    925\u001b[0m \u001b[38;5;124;03m\"\"\"\u001b[39;00m\n\u001b[1;32m    926\u001b[0m \u001b[38;5;66;03m# Caution! The select_n_p primitive has the *opposite* order of arguments to\u001b[39;00m\n\u001b[1;32m    927\u001b[0m \u001b[38;5;66;03m# select(). This is because it implements `select_n`.\u001b[39;00m\n\u001b[0;32m--> 928\u001b[0m \u001b[38;5;28;01mreturn\u001b[39;00m \u001b[43mselect_n_p\u001b[49m\u001b[38;5;241;43m.\u001b[39;49m\u001b[43mbind\u001b[49m\u001b[43m(\u001b[49m\u001b[43mpred\u001b[49m\u001b[43m,\u001b[49m\u001b[43m \u001b[49m\u001b[43mon_false\u001b[49m\u001b[43m,\u001b[49m\u001b[43m \u001b[49m\u001b[43mon_true\u001b[49m\u001b[43m)\u001b[49m\n",
      "File \u001b[0;32m~/.local/lib/python3.9/site-packages/jax/_src/core.py:444\u001b[0m, in \u001b[0;36mPrimitive.bind\u001b[0;34m(self, *args, **params)\u001b[0m\n\u001b[1;32m    441\u001b[0m \u001b[38;5;28;01mdef\u001b[39;00m \u001b[38;5;21mbind\u001b[39m(\u001b[38;5;28mself\u001b[39m, \u001b[38;5;241m*\u001b[39margs, \u001b[38;5;241m*\u001b[39m\u001b[38;5;241m*\u001b[39mparams):\n\u001b[1;32m    442\u001b[0m   \u001b[38;5;28;01massert\u001b[39;00m (\u001b[38;5;129;01mnot\u001b[39;00m config\u001b[38;5;241m.\u001b[39menable_checks\u001b[38;5;241m.\u001b[39mvalue \u001b[38;5;129;01mor\u001b[39;00m\n\u001b[1;32m    443\u001b[0m           \u001b[38;5;28mall\u001b[39m(\u001b[38;5;28misinstance\u001b[39m(arg, Tracer) \u001b[38;5;129;01mor\u001b[39;00m valid_jaxtype(arg) \u001b[38;5;28;01mfor\u001b[39;00m arg \u001b[38;5;129;01min\u001b[39;00m args)), args\n\u001b[0;32m--> 444\u001b[0m   \u001b[38;5;28;01mreturn\u001b[39;00m \u001b[38;5;28;43mself\u001b[39;49m\u001b[38;5;241;43m.\u001b[39;49m\u001b[43mbind_with_trace\u001b[49m\u001b[43m(\u001b[49m\u001b[43mfind_top_trace\u001b[49m\u001b[43m(\u001b[49m\u001b[43margs\u001b[49m\u001b[43m)\u001b[49m\u001b[43m,\u001b[49m\u001b[43m \u001b[49m\u001b[43margs\u001b[49m\u001b[43m,\u001b[49m\u001b[43m \u001b[49m\u001b[43mparams\u001b[49m\u001b[43m)\u001b[49m\n",
      "File \u001b[0;32m~/.local/lib/python3.9/site-packages/jax/_src/core.py:447\u001b[0m, in \u001b[0;36mPrimitive.bind_with_trace\u001b[0;34m(self, trace, args, params)\u001b[0m\n\u001b[1;32m    446\u001b[0m \u001b[38;5;28;01mdef\u001b[39;00m \u001b[38;5;21mbind_with_trace\u001b[39m(\u001b[38;5;28mself\u001b[39m, trace, args, params):\n\u001b[0;32m--> 447\u001b[0m   out \u001b[38;5;241m=\u001b[39m \u001b[43mtrace\u001b[49m\u001b[38;5;241;43m.\u001b[39;49m\u001b[43mprocess_primitive\u001b[49m\u001b[43m(\u001b[49m\u001b[38;5;28;43mself\u001b[39;49m\u001b[43m,\u001b[49m\u001b[43m \u001b[49m\u001b[38;5;28;43mmap\u001b[39;49m\u001b[43m(\u001b[49m\u001b[43mtrace\u001b[49m\u001b[38;5;241;43m.\u001b[39;49m\u001b[43mfull_raise\u001b[49m\u001b[43m,\u001b[49m\u001b[43m \u001b[49m\u001b[43margs\u001b[49m\u001b[43m)\u001b[49m\u001b[43m,\u001b[49m\u001b[43m \u001b[49m\u001b[43mparams\u001b[49m\u001b[43m)\u001b[49m\n\u001b[1;32m    448\u001b[0m   \u001b[38;5;28;01mreturn\u001b[39;00m \u001b[38;5;28mmap\u001b[39m(full_lower, out) \u001b[38;5;28;01mif\u001b[39;00m \u001b[38;5;28mself\u001b[39m\u001b[38;5;241m.\u001b[39mmultiple_results \u001b[38;5;28;01melse\u001b[39;00m full_lower(out)\n",
      "File \u001b[0;32m~/.local/lib/python3.9/site-packages/jax/_src/core.py:935\u001b[0m, in \u001b[0;36mEvalTrace.process_primitive\u001b[0;34m(self, primitive, tracers, params)\u001b[0m\n\u001b[1;32m    934\u001b[0m \u001b[38;5;28;01mdef\u001b[39;00m \u001b[38;5;21mprocess_primitive\u001b[39m(\u001b[38;5;28mself\u001b[39m, primitive, tracers, params):\n\u001b[0;32m--> 935\u001b[0m   \u001b[38;5;28;01mreturn\u001b[39;00m \u001b[43mprimitive\u001b[49m\u001b[38;5;241;43m.\u001b[39;49m\u001b[43mimpl\u001b[49m\u001b[43m(\u001b[49m\u001b[38;5;241;43m*\u001b[39;49m\u001b[43mtracers\u001b[49m\u001b[43m,\u001b[49m\u001b[43m \u001b[49m\u001b[38;5;241;43m*\u001b[39;49m\u001b[38;5;241;43m*\u001b[39;49m\u001b[43mparams\u001b[49m\u001b[43m)\u001b[49m\n",
      "File \u001b[0;32m~/.local/lib/python3.9/site-packages/jax/_src/dispatch.py:87\u001b[0m, in \u001b[0;36mapply_primitive\u001b[0;34m(prim, *args, **params)\u001b[0m\n\u001b[1;32m     85\u001b[0m prev \u001b[38;5;241m=\u001b[39m lib\u001b[38;5;241m.\u001b[39mjax_jit\u001b[38;5;241m.\u001b[39mswap_thread_local_state_disable_jit(\u001b[38;5;28;01mFalse\u001b[39;00m)\n\u001b[1;32m     86\u001b[0m \u001b[38;5;28;01mtry\u001b[39;00m:\n\u001b[0;32m---> 87\u001b[0m   outs \u001b[38;5;241m=\u001b[39m \u001b[43mfun\u001b[49m\u001b[43m(\u001b[49m\u001b[38;5;241;43m*\u001b[39;49m\u001b[43margs\u001b[49m\u001b[43m)\u001b[49m\n\u001b[1;32m     88\u001b[0m \u001b[38;5;28;01mfinally\u001b[39;00m:\n\u001b[1;32m     89\u001b[0m   lib\u001b[38;5;241m.\u001b[39mjax_jit\u001b[38;5;241m.\u001b[39mswap_thread_local_state_disable_jit(prev)\n",
      "    \u001b[0;31m[... skipping hidden 18 frame]\u001b[0m\n",
      "File \u001b[0;32m~/.local/lib/python3.9/site-packages/jax/_src/core.py:1490\u001b[0m, in \u001b[0;36mconcrete_aval\u001b[0;34m(x)\u001b[0m\n\u001b[1;32m   1488\u001b[0m \u001b[38;5;28;01mif\u001b[39;00m \u001b[38;5;28mhasattr\u001b[39m(x, \u001b[38;5;124m'\u001b[39m\u001b[38;5;124m__jax_array__\u001b[39m\u001b[38;5;124m'\u001b[39m):\n\u001b[1;32m   1489\u001b[0m   \u001b[38;5;28;01mreturn\u001b[39;00m concrete_aval(x\u001b[38;5;241m.\u001b[39m__jax_array__())\n\u001b[0;32m-> 1490\u001b[0m \u001b[38;5;28;01mraise\u001b[39;00m \u001b[38;5;167;01mTypeError\u001b[39;00m(\u001b[38;5;124mf\u001b[39m\u001b[38;5;124m\"\u001b[39m\u001b[38;5;124mValue \u001b[39m\u001b[38;5;132;01m{\u001b[39;00mx\u001b[38;5;132;01m!r}\u001b[39;00m\u001b[38;5;124m with type \u001b[39m\u001b[38;5;132;01m{\u001b[39;00m\u001b[38;5;28mtype\u001b[39m(x)\u001b[38;5;132;01m}\u001b[39;00m\u001b[38;5;124m is not a valid JAX \u001b[39m\u001b[38;5;124m\"\u001b[39m\n\u001b[1;32m   1491\u001b[0m                  \u001b[38;5;124m\"\u001b[39m\u001b[38;5;124mtype\u001b[39m\u001b[38;5;124m\"\u001b[39m)\n",
      "\u001b[0;31mTypeError\u001b[0m: Value ObjectInfo(parent_obj=Traced<ShapedArray(int32[5], weak_type=True)>with<DynamicJaxprTrace(level=1/0)>, parent_face=Traced<ShapedArray(int32[5], weak_type=True)>with<DynamicJaxprTrace(level=1/0)>, child_face=Traced<ShapedArray(int32[5], weak_type=True)>with<DynamicJaxprTrace(level=1/0)>, category_index=Traced<ShapedArray(int32[5], weak_type=True)>with<DynamicJaxprTrace(level=1/0)>, pose=Traced<ShapedArray(float32[5,4,4])>with<DynamicJaxprTrace(level=1/0)>, params=Traced<ShapedArray(float32[5,3])>with<DynamicJaxprTrace(level=1/0)>) with type <class '__main__.ObjectInfo'> is not a valid JAX type"
     ]
    }
   ],
   "source": [
    "rv = trace.get_retval()\n",
    "flag = jnp.array(rv.mask)\n",
    "jax.lax.select(\n",
    "    flag,\n",
    "    (lambda x : x)(rv.value),\n",
    "    (lambda: xxval)()\n",
    ")"
   ]
  },
  {
   "cell_type": "code",
   "execution_count": 42,
   "metadata": {},
   "outputs": [
    {
     "data": {
      "text/plain": [
       "ObjectInfo(parent_obj=Array([-1, -1, -1, -1, -1], dtype=int32), parent_face=Array([-1, -1, -1, -1, -1], dtype=int32), child_face=Array([-1, -1, -1, -1, -1], dtype=int32), category_index=Array([-1, -1, -1, -1, -1], dtype=int32), pose=Array([[[nan, nan, nan, nan],\n",
       "        [nan, nan, nan, nan],\n",
       "        [nan, nan, nan, nan],\n",
       "        [nan, nan, nan, nan]],\n",
       "\n",
       "       [[nan, nan, nan, nan],\n",
       "        [nan, nan, nan, nan],\n",
       "        [nan, nan, nan, nan],\n",
       "        [nan, nan, nan, nan]],\n",
       "\n",
       "       [[nan, nan, nan, nan],\n",
       "        [nan, nan, nan, nan],\n",
       "        [nan, nan, nan, nan],\n",
       "        [nan, nan, nan, nan]],\n",
       "\n",
       "       [[nan, nan, nan, nan],\n",
       "        [nan, nan, nan, nan],\n",
       "        [nan, nan, nan, nan],\n",
       "        [nan, nan, nan, nan]],\n",
       "\n",
       "       [[nan, nan, nan, nan],\n",
       "        [nan, nan, nan, nan],\n",
       "        [nan, nan, nan, nan],\n",
       "        [nan, nan, nan, nan]]], dtype=float32), params=Array([[nan, nan, nan],\n",
       "       [nan, nan, nan],\n",
       "       [nan, nan, nan],\n",
       "       [nan, nan, nan],\n",
       "       [nan, nan, nan]], dtype=float32))"
      ]
     },
     "execution_count": 42,
     "metadata": {},
     "output_type": "execute_result"
    }
   ],
   "source": [
    "# From ChatGPT\n",
    "def select_elements(cond, a, b):\n",
    "    \"\"\"\n",
    "    Select elements from a or b based on the condition.\n",
    "\n",
    "    Args:\n",
    "    cond (array): A 1D array of boolean values with length equal to the size of the first dimension of a and b.\n",
    "    a (array): An array of any shape, but its first dimension must be the same size as cond.\n",
    "    b (array): An array of the same shape as a.\n",
    "\n",
    "    Returns:\n",
    "    array: An array of the same shape as a and b, with elements selected from a or b based on cond.\n",
    "    \"\"\"\n",
    "    # Reshape cond to be broadcastable with a and b\n",
    "    new_shape = (-1,) + (1,) * (a.ndim - 1)\n",
    "    cond_broadcasted = cond.reshape(new_shape)\n",
    "\n",
    "    # Use jnp.where to select elements\n",
    "    return jnp.where(cond_broadcasted, a, b)\n",
    "\n",
    "def mymatch(masked, none, some):\n",
    "    flag = jnp.array(masked.mask)\n",
    "    sel_fn = lambda x, y : select_elements(flag, x, y)\n",
    "    return jax.tree_util.tree_map(sel_fn, some(masked.value), none())\n",
    "\n",
    "trace = mapped_masked.simulate(key, (jnp.tile(jnp.array(False), (5,)), argss))\n",
    "mymatch(trace.get_retval(), lambda: jax.vmap(empty_object_info, axis_size=5)(), lambda x: x)"
   ]
  },
  {
   "cell_type": "code",
   "execution_count": null,
   "metadata": {},
   "outputs": [],
   "source": [
    "Say "
   ]
  },
  {
   "cell_type": "code",
   "execution_count": 28,
   "metadata": {},
   "outputs": [
    {
     "data": {
      "text/plain": [
       "(5, 1, 1)"
      ]
     },
     "execution_count": 28,
     "metadata": {},
     "output_type": "execute_result"
    }
   ],
   "source": [
    "flag[:, None, None].shape"
   ]
  },
  {
   "cell_type": "code",
   "execution_count": 24,
   "metadata": {},
   "outputs": [],
   "source": [
    "a = jax.random.uniform(key, (5, 3))\n",
    "b = jax.random.uniform(key, (5, 3))\n",
    "cond = jax.random.bernoulli(key, 0.5, (5,))\n",
    "result = jnp.where(cond[:, None], a, b)"
   ]
  },
  {
   "cell_type": "code",
   "execution_count": 31,
   "metadata": {},
   "outputs": [
    {
     "data": {
      "text/plain": [
       "HierarchicalChoiceMap(\n",
       "  trie=Trie(inner={'a': Trie(inner={'b': ChoiceValue(value=5)})})\n",
       ")"
      ]
     },
     "execution_count": 31,
     "metadata": {},
     "output_type": "execute_result"
    }
   ],
   "source": [
    "x"
   ]
  },
  {
   "cell_type": "code",
   "execution_count": 28,
   "metadata": {},
   "outputs": [
    {
     "data": {
      "text/plain": [
       "Point(x=Array([0, 1, 2, 3, 4], dtype=int32), y=Array([0, 1, 2, 3, 4], dtype=int32))"
      ]
     },
     "execution_count": 28,
     "metadata": {},
     "output_type": "execute_result"
    }
   ],
   "source": [
    "Point = namedtuple(\"Point\", [\"x\", \"y\"])\n",
    "\n",
    "Point(jnp.arange(5), jnp.arange(5))"
   ]
  },
  {
   "cell_type": "code",
   "execution_count": 30,
   "metadata": {},
   "outputs": [
    {
     "data": {
      "text/plain": [
       "Array([0, 0], dtype=int32)"
      ]
     },
     "execution_count": 30,
     "metadata": {},
     "output_type": "execute_result"
    }
   ],
   "source": [
    "ar = jnp.array([Point(x, y) for x, y in zip(jnp.arange(5), jnp.arange(5))])\n",
    "ar[0]"
   ]
  },
  {
   "cell_type": "code",
   "execution_count": 25,
   "metadata": {},
   "outputs": [
    {
     "data": {
      "text/plain": [
       "ObjectInfo(parent_obj=Array([-1, -1, -1, -1, -1], dtype=int32, weak_type=True), parent_face=Array([-1, -1, -1, -1, -1], dtype=int32, weak_type=True), child_face=Array([-1, -1, -1, -1, -1], dtype=int32, weak_type=True), category_index=Array([-1, -1, -1, -1, -1], dtype=int32, weak_type=True), pose=Array([[[nan, nan, nan, nan],\n",
       "        [nan, nan, nan, nan],\n",
       "        [nan, nan, nan, nan],\n",
       "        [nan, nan, nan, nan]],\n",
       "\n",
       "       [[nan, nan, nan, nan],\n",
       "        [nan, nan, nan, nan],\n",
       "        [nan, nan, nan, nan],\n",
       "        [nan, nan, nan, nan]],\n",
       "\n",
       "       [[nan, nan, nan, nan],\n",
       "        [nan, nan, nan, nan],\n",
       "        [nan, nan, nan, nan],\n",
       "        [nan, nan, nan, nan]],\n",
       "\n",
       "       [[nan, nan, nan, nan],\n",
       "        [nan, nan, nan, nan],\n",
       "        [nan, nan, nan, nan],\n",
       "        [nan, nan, nan, nan]],\n",
       "\n",
       "       [[nan, nan, nan, nan],\n",
       "        [nan, nan, nan, nan],\n",
       "        [nan, nan, nan, nan],\n",
       "        [nan, nan, nan, nan]]], dtype=float32), params=Array([[nan, nan, nan],\n",
       "       [nan, nan, nan],\n",
       "       [nan, nan, nan],\n",
       "       [nan, nan, nan],\n",
       "       [nan, nan, nan]], dtype=float32))"
      ]
     },
     "execution_count": 25,
     "metadata": {},
     "output_type": "execute_result"
    }
   ],
   "source": [
    "(lambda: xxval)()"
   ]
  },
  {
   "cell_type": "code",
   "execution_count": null,
   "metadata": {},
   "outputs": [],
   "source": []
  },
  {
   "cell_type": "code",
   "execution_count": null,
   "metadata": {},
   "outputs": [],
   "source": []
  },
  {
   "cell_type": "code",
   "execution_count": 13,
   "metadata": {},
   "outputs": [
    {
     "data": {
      "text/plain": [
       "Mask(\n",
       "  mask=bool[5],\n",
       "  value=ObjectInfo(\n",
       "    parent_obj=i32[5],\n",
       "    parent_face=i32[5],\n",
       "    child_face=i32[5],\n",
       "    category_index=i32[5],\n",
       "    pose=f32[5,4,4],\n",
       "    params=f32[5,3]\n",
       "  )\n",
       ")"
      ]
     },
     "execution_count": 13,
     "metadata": {},
     "output_type": "execute_result"
    }
   ],
   "source": [
    "trace.get_retval()"
   ]
  },
  {
   "cell_type": "code",
   "execution_count": 15,
   "metadata": {},
   "outputs": [
    {
     "data": {
      "text/plain": [
       "Mask(\n",
       "  mask=bool[5],\n",
       "  value=ObjectInfo(\n",
       "    parent_obj=i32[5],\n",
       "    parent_face=i32[5],\n",
       "    child_face=i32[5],\n",
       "    category_index=i32[5],\n",
       "    pose=f32[5,4,4],\n",
       "    params=f32[5,3]\n",
       "  )\n",
       ")"
      ]
     },
     "execution_count": 15,
     "metadata": {},
     "output_type": "execute_result"
    }
   ],
   "source": [
    "genjax.Mask(jnp.tile(jnp.array((True)), (5)), jax.vmap(empty_object_info, axis_size=5)())"
   ]
  },
  {
   "cell_type": "code",
   "execution_count": 147,
   "metadata": {},
   "outputs": [
    {
     "data": {
      "text/plain": [
       "ObjectInfo(parent_obj=Array([-1,  0,  0,  1,  0], dtype=int32), parent_face=Array([0, 4, 2, 1, 4], dtype=int32), child_face=Array([5, 2, 2, 2, 2], dtype=int32), category_index=Array([1, 1, 3, 3, 3], dtype=int32), pose=Array([[[ 5.2901769e-01,  1.5356764e-02, -8.4847188e-01, -7.7767326e+01],\n",
       "        [ 4.1145980e-01,  8.6980534e-01,  2.7228582e-01, -7.5854752e+01],\n",
       "        [ 7.4218678e-01, -4.9315608e-01,  4.5382369e-01,  5.0380249e+01],\n",
       "        [ 0.0000000e+00,  0.0000000e+00,  0.0000000e+00,  1.0000000e+00]],\n",
       "\n",
       "       [[-8.9460647e-01,  3.6910450e-01,  2.5187510e-01, -3.6411644e+01],\n",
       "        [-8.8158533e-02,  4.0679872e-01, -9.0925395e-01,  7.7249695e+01],\n",
       "        [-4.3807226e-01, -8.3562946e-01, -3.3138514e-01, -9.2919067e+01],\n",
       "        [ 0.0000000e+00,  0.0000000e+00,  0.0000000e+00,  1.0000000e+00]],\n",
       "\n",
       "       [[-5.4967666e-01,  2.1887279e-01,  8.0619496e-01, -2.7153946e+01],\n",
       "        [ 8.2270801e-01, -2.5605798e-02,  5.6788731e-01, -1.5467682e+00],\n",
       "        [ 1.4493835e-01,  9.7541738e-01, -1.6599345e-01, -6.2509369e+01],\n",
       "        [ 0.0000000e+00,  0.0000000e+00,  0.0000000e+00,  1.0000000e+00]],\n",
       "\n",
       "       [[-2.4042350e-01,  6.2120759e-01,  7.4585354e-01, -9.3371872e+01],\n",
       "        [-1.0066274e-01,  7.4829221e-01, -6.5568709e-01, -8.2976440e+01],\n",
       "        [-9.6543431e-01, -2.3272218e-01, -1.1737460e-01, -9.7619179e+01],\n",
       "        [ 0.0000000e+00,  0.0000000e+00,  0.0000000e+00,  1.0000000e+00]],\n",
       "\n",
       "       [[-6.8701494e-01,  3.4592286e-01,  6.3902104e-01,  3.7928314e+01],\n",
       "        [ 7.2289658e-01,  2.3618138e-01,  6.4933723e-01,  3.2143097e+01],\n",
       "        [ 7.3695719e-02,  9.0805048e-01, -4.1232663e-01,  9.5907669e+01],\n",
       "        [ 0.0000000e+00,  0.0000000e+00,  0.0000000e+00,  1.0000000e+00]]],      dtype=float32), params=Array([[  0.5064068 , -10.499242  ,  -1.9098758 ],\n",
       "       [ -0.15891552,   7.3495293 ,   0.40989113],\n",
       "       [  4.767601  ,   7.520262  ,   1.6121771 ],\n",
       "       [  8.645828  ,   4.524027  ,   0.82780147],\n",
       "       [ -7.236823  ,   8.477303  ,  -1.9348696 ]], dtype=float32))"
      ]
     },
     "execution_count": 147,
     "metadata": {},
     "output_type": "execute_result"
    }
   ],
   "source": [
    "trace.get_retval().unmask()"
   ]
  },
  {
   "cell_type": "code",
   "execution_count": 141,
   "metadata": {},
   "outputs": [
    {
     "data": {
      "text/plain": [
       "ObjectInfo(parent_obj=Array([-1, -1, -1, -1, -1], dtype=int32, weak_type=True), parent_face=Array([-1, -1, -1, -1, -1], dtype=int32, weak_type=True), child_face=Array([-1, -1, -1, -1, -1], dtype=int32, weak_type=True), category_index=Array([-1, -1, -1, -1, -1], dtype=int32, weak_type=True), pose=Array([[[nan, nan, nan, nan],\n",
       "        [nan, nan, nan, nan],\n",
       "        [nan, nan, nan, nan],\n",
       "        [nan, nan, nan, nan]],\n",
       "\n",
       "       [[nan, nan, nan, nan],\n",
       "        [nan, nan, nan, nan],\n",
       "        [nan, nan, nan, nan],\n",
       "        [nan, nan, nan, nan]],\n",
       "\n",
       "       [[nan, nan, nan, nan],\n",
       "        [nan, nan, nan, nan],\n",
       "        [nan, nan, nan, nan],\n",
       "        [nan, nan, nan, nan]],\n",
       "\n",
       "       [[nan, nan, nan, nan],\n",
       "        [nan, nan, nan, nan],\n",
       "        [nan, nan, nan, nan],\n",
       "        [nan, nan, nan, nan]],\n",
       "\n",
       "       [[nan, nan, nan, nan],\n",
       "        [nan, nan, nan, nan],\n",
       "        [nan, nan, nan, nan],\n",
       "        [nan, nan, nan, nan]]], dtype=float32), params=Array([[nan, nan, nan],\n",
       "       [nan, nan, nan],\n",
       "       [nan, nan, nan],\n",
       "       [nan, nan, nan],\n",
       "       [nan, nan, nan]], dtype=float32))"
      ]
     },
     "execution_count": 141,
     "metadata": {},
     "output_type": "execute_result"
    }
   ],
   "source": [
    "jax.vmap(empty_object_info, axis_size=5)()"
   ]
  },
  {
   "cell_type": "code",
   "execution_count": 143,
   "metadata": {},
   "outputs": [
    {
     "data": {
      "text/plain": [
       "ObjectInfo(parent_obj=Array([-1,  0,  0,  1,  0], dtype=int32), parent_face=Array([0, 4, 2, 1, 4], dtype=int32), child_face=Array([5, 2, 2, 2, 2], dtype=int32), category_index=Array([1, 1, 3, 3, 3], dtype=int32), pose=Array([[[ 5.2901769e-01,  1.5356764e-02, -8.4847188e-01, -7.7767326e+01],\n",
       "        [ 4.1145980e-01,  8.6980534e-01,  2.7228582e-01, -7.5854752e+01],\n",
       "        [ 7.4218678e-01, -4.9315608e-01,  4.5382369e-01,  5.0380249e+01],\n",
       "        [ 0.0000000e+00,  0.0000000e+00,  0.0000000e+00,  1.0000000e+00]],\n",
       "\n",
       "       [[-8.9460647e-01,  3.6910450e-01,  2.5187510e-01, -3.6411644e+01],\n",
       "        [-8.8158533e-02,  4.0679872e-01, -9.0925395e-01,  7.7249695e+01],\n",
       "        [-4.3807226e-01, -8.3562946e-01, -3.3138514e-01, -9.2919067e+01],\n",
       "        [ 0.0000000e+00,  0.0000000e+00,  0.0000000e+00,  1.0000000e+00]],\n",
       "\n",
       "       [[-5.4967666e-01,  2.1887279e-01,  8.0619496e-01, -2.7153946e+01],\n",
       "        [ 8.2270801e-01, -2.5605798e-02,  5.6788731e-01, -1.5467682e+00],\n",
       "        [ 1.4493835e-01,  9.7541738e-01, -1.6599345e-01, -6.2509369e+01],\n",
       "        [ 0.0000000e+00,  0.0000000e+00,  0.0000000e+00,  1.0000000e+00]],\n",
       "\n",
       "       [[-2.4042350e-01,  6.2120759e-01,  7.4585354e-01, -9.3371872e+01],\n",
       "        [-1.0066274e-01,  7.4829221e-01, -6.5568709e-01, -8.2976440e+01],\n",
       "        [-9.6543431e-01, -2.3272218e-01, -1.1737460e-01, -9.7619179e+01],\n",
       "        [ 0.0000000e+00,  0.0000000e+00,  0.0000000e+00,  1.0000000e+00]],\n",
       "\n",
       "       [[-6.8701494e-01,  3.4592286e-01,  6.3902104e-01,  3.7928314e+01],\n",
       "        [ 7.2289658e-01,  2.3618138e-01,  6.4933723e-01,  3.2143097e+01],\n",
       "        [ 7.3695719e-02,  9.0805048e-01, -4.1232663e-01,  9.5907669e+01],\n",
       "        [ 0.0000000e+00,  0.0000000e+00,  0.0000000e+00,  1.0000000e+00]]],      dtype=float32), params=Array([[  0.5064068 , -10.499242  ,  -1.9098758 ],\n",
       "       [ -0.15891552,   7.3495293 ,   0.40989113],\n",
       "       [  4.767601  ,   7.520262  ,   1.6121771 ],\n",
       "       [  8.645828  ,   4.524027  ,   0.82780147],\n",
       "       [ -7.236823  ,   8.477303  ,  -1.9348696 ]], dtype=float32))"
      ]
     },
     "execution_count": 143,
     "metadata": {},
     "output_type": "execute_result"
    }
   ],
   "source": [
    "trace.get_retval().unmask()"
   ]
  },
  {
   "cell_type": "code",
   "execution_count": null,
   "metadata": {},
   "outputs": [],
   "source": []
  },
  {
   "cell_type": "code",
   "execution_count": null,
   "metadata": {},
   "outputs": [],
   "source": []
  },
  {
   "cell_type": "code",
   "execution_count": null,
   "metadata": {},
   "outputs": [],
   "source": []
  },
  {
   "cell_type": "code",
   "execution_count": 150,
   "metadata": {},
   "outputs": [
    {
     "data": {
      "text/plain": [
       "Array([1, 1, 3, 3, 3], dtype=int32)"
      ]
     },
     "execution_count": 150,
     "metadata": {},
     "output_type": "execute_result"
    }
   ],
   "source": [
    "trace = mapped.simulate(key, argss)\n",
    "category_indices = trace.get_retval().category_index\n",
    "category_indices"
   ]
  },
  {
   "cell_type": "code",
   "execution_count": 151,
   "metadata": {},
   "outputs": [],
   "source": [
    "import bayes3d as b"
   ]
  },
  {
   "cell_type": "code",
   "execution_count": 152,
   "metadata": {},
   "outputs": [
    {
     "data": {
      "text/plain": [
       "Array([[[ 5.2901769e-01,  1.5356764e-02, -8.4847188e-01, -7.7767326e+01],\n",
       "        [ 4.1145980e-01,  8.6980534e-01,  2.7228582e-01, -7.5854752e+01],\n",
       "        [ 7.4218678e-01, -4.9315608e-01,  4.5382369e-01,  5.0380249e+01],\n",
       "        [ 0.0000000e+00,  0.0000000e+00,  0.0000000e+00,  1.0000000e+00]],\n",
       "\n",
       "       [[-3.2403937e-01, -7.8430778e-01,  5.2901769e-01, -7.8048645e+01],\n",
       "        [ 9.0626264e-01, -9.6894860e-02,  4.1145986e-01, -6.9916824e+01],\n",
       "        [-2.7145207e-01,  6.1275822e-01,  7.4218673e-01,  4.5941475e+01],\n",
       "        [ 0.0000000e+00,  0.0000000e+00,  0.0000000e+00,  1.0000000e+00]],\n",
       "\n",
       "       [[ 5.2792960e-01, -3.7228465e-02,  8.4847176e-01, -7.5978165e+01],\n",
       "        [ 3.7512448e-01, -8.8608235e-01, -2.7228576e-01, -6.7079628e+01],\n",
       "        [ 7.6195282e-01,  4.6203038e-01, -4.5382375e-01,  5.0663860e+01],\n",
       "        [ 0.0000000e+00,  0.0000000e+00,  0.0000000e+00,  1.0000000e+00]],\n",
       "\n",
       "       [[ 1.1924115e-01, -6.0880446e-01, -7.8430772e-01, -7.7672638e+01],\n",
       "        [ 9.4576442e-01,  3.1006554e-01, -9.6894875e-02, -6.0123081e+01],\n",
       "        [ 3.0217689e-01, -7.3021668e-01,  6.1275828e-01,  4.6339462e+01],\n",
       "        [ 0.0000000e+00,  0.0000000e+00,  0.0000000e+00,  1.0000000e+00]],\n",
       "\n",
       "       [[ 7.8738970e-01,  3.1647700e-01,  5.2901769e-01, -7.2025917e+01],\n",
       "        [-5.6416178e-01,  7.1583658e-01,  4.1145986e-01, -7.0863091e+01],\n",
       "        [-2.4847272e-01, -6.2243086e-01,  7.4218673e-01,  4.2173187e+01],\n",
       "        [ 0.0000000e+00,  0.0000000e+00,  0.0000000e+00,  1.0000000e+00]]],      dtype=float32)"
      ]
     },
     "execution_count": 152,
     "metadata": {},
     "output_type": "execute_result"
    }
   ],
   "source": [
    "r = trace.get_retval()\n",
    "box_dims = jnp.tile(jnp.ones(3), (4, 1))\n",
    "poses = b.scene_graph.poses_from_scene_graph(\n",
    "    r.pose,\n",
    "    box_dims,\n",
    "    r.parent_obj,\n",
    "    r.params,\n",
    "    r.parent_face,\n",
    "    r.child_face\n",
    ")\n",
    "poses"
   ]
  },
  {
   "cell_type": "code",
   "execution_count": null,
   "metadata": {},
   "outputs": [],
   "source": []
  },
  {
   "cell_type": "markdown",
   "metadata": {},
   "source": [
    "set up bayes3d so I can play with the renderer a bit..."
   ]
  },
  {
   "cell_type": "code",
   "execution_count": 154,
   "metadata": {},
   "outputs": [
    {
     "name": "stdout",
     "output_type": "stream",
     "text": [
      "Got rgbd_original\n",
      "Got rgb immage scaled down.\n"
     ]
    },
    {
     "name": "stderr",
     "output_type": "stream",
     "text": [
      "[E rasterize_gl.cpp:121] OpenGL version reported as 4.6\n"
     ]
    },
    {
     "name": "stdout",
     "output_type": "stream",
     "text": [
      "Increasing frame buffer size to (width, height, depth) = (64, 64, 1024)\n",
      "Added table mesh.\n",
      "Added pillar mesh.\n",
      "Added mesh at path /home/georgematheos/bayes3d/assets/bop/ycbv/models/obj_000002.ply.\n",
      "Added mesh at path /home/georgematheos/bayes3d/assets/bop/ycbv/models/obj_000003.ply.\n",
      "Added mesh at path /home/georgematheos/bayes3d/assets/bop/ycbv/models/obj_000011.ply.\n",
      "Added mesh at path /home/georgematheos/bayes3d/assets/bop/ycbv/models/obj_000013.ply.\n",
      "Added mesh at path /home/georgematheos/bayes3d/assets/bop/ycbv/models/obj_000021.ply.\n"
     ]
    }
   ],
   "source": [
    "import pickle\n",
    "import glob\n",
    "import os\n",
    "with open('../data.pkl', 'rb') as f:\n",
    "    data = pickle.load(f)\n",
    "\n",
    "camera_image_1 = data[\"init\"][0]\n",
    "categories_on_table = data[\"init\"][1]\n",
    "target_category = data[\"init\"][2]\n",
    "table_info = data[\"init\"][3] # table pose and dimensions\n",
    "n_objects = 5\n",
    "\n",
    "X_WT = b.t3d.pybullet_pose_to_transform(table_info[0])\n",
    "X_WC = b.t3d.pybullet_pose_to_transform(camera_image_1[\"camera_pose\"])\n",
    "X_CT = b.t3d.inverse_pose(X_WC) @ X_WT\n",
    "\n",
    "def image_to_rgbd(camera_image_1):\n",
    "    K = camera_image_1['camera_matrix']\n",
    "    rgb = camera_image_1['rgbPixels']\n",
    "    depth = camera_image_1['depthPixels']\n",
    "    camera_pose = camera_image_1['camera_pose']\n",
    "    camera_pose = b.t3d.pybullet_pose_to_transform(camera_pose)\n",
    "    fx, fy, cx, cy = K[0,0],K[1,1],K[0,2],K[1,2]\n",
    "    h,w = depth.shape\n",
    "    rgbd_original = b.RGBD(rgb, depth, camera_pose, b.Intrinsics(h,w,fx,fy,cx,cy,0.001,10000.0))\n",
    "    return rgbd_original\n",
    "\n",
    "rgbd_original = image_to_rgbd(camera_image_1)\n",
    "print(\"Got rgbd_original\")\n",
    "\n",
    "scaling_factor = 0.2\n",
    "rgbd_scaled_down = b.RGBD.scale_rgbd(rgbd_original, scaling_factor)\n",
    "print(\"Got rgb immage scaled down.\")\n",
    "\n",
    "b.setup_renderer(rgbd_scaled_down.intrinsics)\n",
    "\n",
    "# os.path.join(os.path.abspath(''), 'bayes3d/assets/bop/ycbv/models')# \n",
    "model_dir = os.path.join(os.path.abspath('../..'), 'bayes3d/assets/bop/ycbv/models')\n",
    "mesh_path = os.path.join(model_dir,\"obj_\" + \"{}\".format(13+1).rjust(6, '0') + \".ply\")\n",
    "ycb_filenames = glob.glob(os.path.join(model_dir, \"*.ply\"))\n",
    "ycb_index_order = [int(s.split(\"/\")[-1].split(\"_\")[-1].split(\".\")[0]) for s in ycb_filenames]\n",
    "sorted_ycb_filenames = [s for _,s in sorted(zip(ycb_index_order, ycb_filenames))]\n",
    "\n",
    "relevant_objects = [any(x in name for x in categories_on_table) for (i, name) in enumerate(b.utils.ycb_loader.MODEL_NAMES)]\n",
    "relevant_object_names = [b.utils.ycb_loader.MODEL_NAMES[i] for i in range(len(b.utils.ycb_loader.MODEL_NAMES)) if relevant_objects[i]]\n",
    "filtered_filenames = [sorted_ycb_filenames[i] for i in range(len(sorted_ycb_filenames)) if relevant_objects[i]]\n",
    "\n",
    "table_dims = table_info[1:]\n",
    "table_mesh = b.utils.make_cuboid_mesh(table_dims)\n",
    "b.RENDERER.add_mesh(table_mesh, \"table\")\n",
    "print(\"Added table mesh.\")\n",
    "\n",
    "pillar_mesh = b.utils.make_cuboid_mesh(jnp.array([0.02, 0.02, 0.5]))\n",
    "b.RENDERER.add_mesh(pillar_mesh, \"pillar\")\n",
    "print(\"Added pillar mesh.\")\n",
    "\n",
    "for model_path in filtered_filenames:\n",
    "    b.RENDERER.add_mesh_from_file(model_path, scaling_factor=1.0/1000.0)\n",
    "    print(f\"Added mesh at path {model_path}.\")"
   ]
  },
  {
   "cell_type": "code",
   "execution_count": 175,
   "metadata": {},
   "outputs": [
    {
     "data": {
      "text/plain": [
       "Array([1, 1, 3, 3, 3], dtype=int32)"
      ]
     },
     "execution_count": 175,
     "metadata": {},
     "output_type": "execute_result"
    }
   ],
   "source": [
    "r.category_index"
   ]
  },
  {
   "cell_type": "code",
   "execution_count": 155,
   "metadata": {},
   "outputs": [
    {
     "data": {
      "text/plain": [
       "Array([[[ 5.2901769e-01,  1.5356764e-02, -8.4847188e-01, -7.7767326e+01],\n",
       "        [ 4.1145980e-01,  8.6980534e-01,  2.7228582e-01, -7.5854752e+01],\n",
       "        [ 7.4218678e-01, -4.9315608e-01,  4.5382369e-01,  5.0380249e+01],\n",
       "        [ 0.0000000e+00,  0.0000000e+00,  0.0000000e+00,  1.0000000e+00]],\n",
       "\n",
       "       [[-3.2403937e-01, -7.8430778e-01,  5.2901769e-01, -7.7850266e+01],\n",
       "        [ 9.0626264e-01, -9.6894860e-02,  4.1145986e-01, -6.9762527e+01],\n",
       "        [-2.7145207e-01,  6.1275822e-01,  7.4218673e-01,  4.6219795e+01],\n",
       "        [ 0.0000000e+00,  0.0000000e+00,  0.0000000e+00,  1.0000000e+00]],\n",
       "\n",
       "       [[ 5.2792960e-01, -3.7228465e-02,  8.4847176e-01, -7.5232986e+01],\n",
       "        [ 3.7512448e-01, -8.8608235e-01, -2.7228576e-01, -6.7318764e+01],\n",
       "        [ 7.6195282e-01,  4.6203038e-01, -4.5382375e-01,  5.0265285e+01],\n",
       "        [ 0.0000000e+00,  0.0000000e+00,  0.0000000e+00,  1.0000000e+00]],\n",
       "\n",
       "       [[ 1.1924115e-01, -6.0880446e-01, -7.8430772e-01, -7.8181702e+01],\n",
       "        [ 9.4576442e-01,  3.1006554e-01, -9.6894875e-02, -6.0056183e+01],\n",
       "        [ 3.0217689e-01, -7.3021668e-01,  6.1275828e-01,  4.7170486e+01],\n",
       "        [ 0.0000000e+00,  0.0000000e+00,  0.0000000e+00,  1.0000000e+00]],\n",
       "\n",
       "       [[ 7.8738970e-01,  3.1647700e-01,  5.2901769e-01, -7.1759460e+01],\n",
       "        [-5.6416178e-01,  7.1583658e-01,  4.1145986e-01, -7.0655846e+01],\n",
       "        [-2.4847272e-01, -6.2243086e-01,  7.4218673e-01,  4.2547012e+01],\n",
       "        [ 0.0000000e+00,  0.0000000e+00,  0.0000000e+00,  1.0000000e+00]]],      dtype=float32)"
      ]
     },
     "execution_count": 155,
     "metadata": {},
     "output_type": "execute_result"
    }
   ],
   "source": [
    "r = trace.get_retval()\n",
    "box_dims = b.RENDERER.model_box_dims\n",
    "poses = b.scene_graph.poses_from_scene_graph(\n",
    "    r.pose,\n",
    "    box_dims,\n",
    "    r.parent_obj,\n",
    "    r.params,\n",
    "    r.parent_face,\n",
    "    r.child_face\n",
    ")\n",
    "poses"
   ]
  },
  {
   "cell_type": "code",
   "execution_count": 171,
   "metadata": {},
   "outputs": [],
   "source": [
    "camera_pose = uniform_pose.sample(key, pose_bounds[0], pose_bounds[1])"
   ]
  },
  {
   "cell_type": "code",
   "execution_count": 177,
   "metadata": {},
   "outputs": [
    {
     "data": {
      "text/plain": [
       "Array([[-12152.381, -11771.429, -11390.477, ...,  11085.715,  11466.668,\n",
       "         11847.62 ],\n",
       "       [-12152.381, -11771.429, -11390.477, ...,  11085.715,  11466.668,\n",
       "         11847.62 ],\n",
       "       [-12152.381, -11771.429, -11390.477, ...,  11085.715,  11466.668,\n",
       "         11847.62 ],\n",
       "       ...,\n",
       "       [-12152.381, -11771.429, -11390.477, ...,  11085.715,  11466.668,\n",
       "         11847.62 ],\n",
       "       [-12152.381, -11771.429, -11390.477, ...,  11085.715,  11466.668,\n",
       "         11847.62 ],\n",
       "       [-12152.381, -11771.429, -11390.477, ...,  11085.715,  11466.668,\n",
       "         11847.62 ]], dtype=float32)"
      ]
     },
     "execution_count": 177,
     "metadata": {},
     "output_type": "execute_result"
    }
   ],
   "source": [
    "rendered = b.RENDERER.render(jnp.linalg.inv(camera_pose) @ poses, -1 * jnp.ones(5, dtype=int))[..., :3]\n",
    "rendered[:, :, 0]"
   ]
  },
  {
   "cell_type": "code",
   "execution_count": 173,
   "metadata": {},
   "outputs": [
    {
     "name": "stderr",
     "output_type": "stream",
     "text": [
      "Clipping input data to the valid range for imshow with RGB data ([0..1] for floats or [0..255] for integers).\n"
     ]
    },
    {
     "data": {
      "text/plain": [
       "<matplotlib.image.AxesImage at 0x7fce712d2520>"
      ]
     },
     "execution_count": 173,
     "metadata": {},
     "output_type": "execute_result"
    },
    {
     "data": {
      "image/png": "[encoded data removed]",
      "text/plain": [
       "<Figure size 640x480 with 1 Axes>"
      ]
     },
     "metadata": {},
     "output_type": "display_data"
    }
   ],
   "source": [
    "import matplotlib.pyplot as plt\n",
    "plt.imshow(rendered)"
   ]
  },
  {
   "cell_type": "code",
   "execution_count": null,
   "metadata": {},
   "outputs": [],
   "source": []
  }
 ],
 "metadata": {
  "kernelspec": {
   "display_name": "bayes3d_genjax_2",
   "language": "python",
   "name": "python3"
  },
  "language_info": {
   "codemirror_mode": {
    "name": "ipython",
    "version": 3
   },
   "file_extension": ".py",
   "mimetype": "text/x-python",
   "name": "python",
   "nbconvert_exporter": "python",
   "pygments_lexer": "ipython3",
   "version": "3.9.18"
  }
 },
 "nbformat": 4,
 "nbformat_minor": 2
}
