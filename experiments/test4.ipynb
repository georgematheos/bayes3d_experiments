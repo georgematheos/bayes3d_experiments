{
 "cells": [
  {
   "cell_type": "code",
   "execution_count": 1,
   "metadata": {},
   "outputs": [],
   "source": [
    "%load_ext autoreload\n",
    "%autoreload 2"
   ]
  },
  {
   "cell_type": "code",
   "execution_count": 2,
   "metadata": {},
   "outputs": [],
   "source": [
    "import os\n",
    "import glob\n",
    "import pickle\n",
    "import jax\n",
    "import jax.numpy as jnp\n",
    "import bayes3d as b\n",
    "import genjax\n",
    "import matplotlib.pyplot as plt"
   ]
  },
  {
   "cell_type": "code",
   "execution_count": 3,
   "metadata": {},
   "outputs": [],
   "source": [
    "console = genjax.console(enforce_checkify=True)"
   ]
  },
  {
   "cell_type": "code",
   "execution_count": 4,
   "metadata": {},
   "outputs": [
    {
     "name": "stdout",
     "output_type": "stream",
     "text": [
      "You can open the visualizer by visiting the following URL:\n",
      "http://127.0.0.1:7000/static/\n"
     ]
    }
   ],
   "source": [
    "b.setup_visualizer()"
   ]
  },
  {
   "cell_type": "code",
   "execution_count": 5,
   "metadata": {},
   "outputs": [
    {
     "name": "stdout",
     "output_type": "stream",
     "text": [
      "Got rgbd_original\n",
      "Got rgb immage scaled down.\n"
     ]
    },
    {
     "name": "stderr",
     "output_type": "stream",
     "text": [
      "[E rasterize_gl.cpp:121] OpenGL version reported as 4.6\n"
     ]
    },
    {
     "name": "stdout",
     "output_type": "stream",
     "text": [
      "Increasing frame buffer size to (width, height, depth) = (64, 64, 1024)\n",
      "Added table mesh.\n",
      "Added pillar mesh.\n",
      "Added mesh at path /home/georgematheos/bayes3d/assets/bop/ycbv/models/obj_000002.ply.\n",
      "Added mesh at path /home/georgematheos/bayes3d/assets/bop/ycbv/models/obj_000003.ply.\n",
      "Added mesh at path /home/georgematheos/bayes3d/assets/bop/ycbv/models/obj_000011.ply.\n",
      "Added mesh at path /home/georgematheos/bayes3d/assets/bop/ycbv/models/obj_000013.ply.\n",
      "Added mesh at path /home/georgematheos/bayes3d/assets/bop/ycbv/models/obj_000021.ply.\n"
     ]
    }
   ],
   "source": [
    "with open('../data.pkl', 'rb') as f:\n",
    "    data = pickle.load(f)\n",
    "\n",
    "camera_image_1 = data[\"init\"][0]\n",
    "categories_on_table = data[\"init\"][1]\n",
    "target_category = data[\"init\"][2]\n",
    "table_info = data[\"init\"][3] # table pose and dimensions\n",
    "n_objects = 5\n",
    "\n",
    "X_WT = b.t3d.pybullet_pose_to_transform(table_info[0])\n",
    "X_WC = b.t3d.pybullet_pose_to_transform(camera_image_1[\"camera_pose\"])\n",
    "X_CT = b.t3d.inverse_pose(X_WC) @ X_WT\n",
    "\n",
    "def image_to_rgbd(camera_image_1):\n",
    "    K = camera_image_1['camera_matrix']\n",
    "    rgb = camera_image_1['rgbPixels']\n",
    "    depth = camera_image_1['depthPixels']\n",
    "    camera_pose = camera_image_1['camera_pose']\n",
    "    camera_pose = b.t3d.pybullet_pose_to_transform(camera_pose)\n",
    "    fx, fy, cx, cy = K[0,0],K[1,1],K[0,2],K[1,2]\n",
    "    h,w = depth.shape\n",
    "    rgbd_original = b.RGBD(rgb, depth, camera_pose, b.Intrinsics(h,w,fx,fy,cx,cy,0.001,10000.0))\n",
    "    return rgbd_original\n",
    "\n",
    "rgbd_original = image_to_rgbd(camera_image_1)\n",
    "print(\"Got rgbd_original\")\n",
    "\n",
    "scaling_factor = 0.2\n",
    "rgbd_scaled_down = b.RGBD.scale_rgbd(rgbd_original, scaling_factor)\n",
    "print(\"Got rgb immage scaled down.\")\n",
    "\n",
    "b.setup_renderer(rgbd_scaled_down.intrinsics)\n",
    "\n",
    "# os.path.join(os.path.abspath(''), 'bayes3d/assets/bop/ycbv/models')# \n",
    "model_dir = os.path.join(os.path.abspath('../..'), 'bayes3d/assets/bop/ycbv/models')\n",
    "mesh_path = os.path.join(model_dir,\"obj_\" + \"{}\".format(13+1).rjust(6, '0') + \".ply\")\n",
    "ycb_filenames = glob.glob(os.path.join(model_dir, \"*.ply\"))\n",
    "ycb_index_order = [int(s.split(\"/\")[-1].split(\"_\")[-1].split(\".\")[0]) for s in ycb_filenames]\n",
    "sorted_ycb_filenames = [s for _,s in sorted(zip(ycb_index_order, ycb_filenames))]\n",
    "\n",
    "relevant_objects = [any(x in name for x in categories_on_table) for (i, name) in enumerate(b.utils.ycb_loader.MODEL_NAMES)]\n",
    "relevant_object_names = [b.utils.ycb_loader.MODEL_NAMES[i] for i in range(len(b.utils.ycb_loader.MODEL_NAMES)) if relevant_objects[i]]\n",
    "filtered_filenames = [sorted_ycb_filenames[i] for i in range(len(sorted_ycb_filenames)) if relevant_objects[i]]\n",
    "\n",
    "table_dims = table_info[1:]\n",
    "table_mesh = b.utils.make_cuboid_mesh(table_dims)\n",
    "b.RENDERER.add_mesh(table_mesh, \"table\")\n",
    "print(\"Added table mesh.\")\n",
    "\n",
    "pillar_mesh = b.utils.make_cuboid_mesh(jnp.array([0.02, 0.02, 0.5]))\n",
    "b.RENDERER.add_mesh(pillar_mesh, \"pillar\")\n",
    "print(\"Added pillar mesh.\")\n",
    "\n",
    "for model_path in filtered_filenames:\n",
    "    b.RENDERER.add_mesh_from_file(model_path, scaling_factor=1.0/1000.0)\n",
    "    print(f\"Added mesh at path {model_path}.\")"
   ]
  },
  {
   "cell_type": "code",
   "execution_count": null,
   "metadata": {},
   "outputs": [],
   "source": []
  },
  {
   "cell_type": "markdown",
   "metadata": {},
   "source": [
    "# Start using the model"
   ]
  },
  {
   "cell_type": "code",
   "execution_count": 6,
   "metadata": {},
   "outputs": [],
   "source": [
    "from src.model2 import model, viz_trace_meshcat"
   ]
  },
  {
   "cell_type": "code",
   "execution_count": 7,
   "metadata": {},
   "outputs": [],
   "source": [
    "importance_jit = jax.jit(model.importance)\n",
    "key = jax.random.PRNGKey(0)"
   ]
  },
  {
   "cell_type": "code",
   "execution_count": 8,
   "metadata": {},
   "outputs": [
    {
     "data": {
      "text/plain": [
       "IndexedChoiceMap(\n",
       "  indices=i32[2],\n",
       "  inner=HierarchicalChoiceMap(trie=Trie(inner={'a': ChoiceValue(value=i32[2])}))\n",
       ")"
      ]
     },
     "execution_count": 8,
     "metadata": {},
     "output_type": "execute_result"
    }
   ],
   "source": [
    "genjax.indexed_choice_map(\n",
    "    [0, 1],\n",
    "    genjax.choice_map({\"a\": jnp.array([3, 2])})\n",
    ")"
   ]
  },
  {
   "cell_type": "code",
   "execution_count": 9,
   "metadata": {},
   "outputs": [
    {
     "data": {
      "text/html": [
       "<pre style=\"white-space:pre;overflow-x:auto;line-height:normal;font-family:Menlo,'DejaVu Sans Mono',consolas,'Courier New',monospace\"><span style=\"font-weight: bold\">(HierarchicalChoiceMap)</span>\n",
       "├── <span style=\"font-weight: bold\">:a</span>\n",
       "│   └── <span style=\"font-weight: bold\">(ValueChoice)</span>\n",
       "│       └──  i32[2,2]\n",
       "└── <span style=\"font-weight: bold\">:b</span>\n",
       "    └── <span style=\"font-weight: bold\">(ValueChoice)</span>\n",
       "        └──  i32[2,2]\n",
       "</pre>\n"
      ],
      "text/plain": [
       "\u001b[1m(HierarchicalChoiceMap)\u001b[0m\n",
       "├── \u001b[1m:a\u001b[0m\n",
       "│   └── \u001b[1m(ValueChoice)\u001b[0m\n",
       "│       └──  i32[2,2]\n",
       "└── \u001b[1m:b\u001b[0m\n",
       "    └── \u001b[1m(ValueChoice)\u001b[0m\n",
       "        └──  i32[2,2]\n"
      ]
     },
     "metadata": {},
     "output_type": "display_data"
    }
   ],
   "source": [
    "def flat_choicemaps_to_vector_choicemap(choicemaps):\n",
    "    cm = genjax.choice_map({\n",
    "        k : jnp.array([c.get_submap(k).get_value() for c in choicemaps])\n",
    "        for (k, _) in choicemaps[0].get_submaps_shallow()\n",
    "    })\n",
    "    return cm\n",
    "\n",
    "cm = flat_choicemaps_to_vector_choicemap([\n",
    "    genjax.choice_map({\"a\": jnp.array([3, 2]), \"b\": jnp.array([1, 0])}),\n",
    "    genjax.choice_map({\"a\": jnp.array([5, 4]), \"b\": jnp.array([3, 2])}),\n",
    "])\n",
    "console.print(cm)"
   ]
  },
  {
   "cell_type": "code",
   "execution_count": 10,
   "metadata": {},
   "outputs": [
    {
     "data": {
      "text/plain": [
       "ChoiceValue(value=i32[2])"
      ]
     },
     "execution_count": 10,
     "metadata": {},
     "output_type": "execute_result"
    }
   ],
   "source": [
    "cm = genjax.choice_map({\"a\": jnp.array([3, 2])})\n",
    "cm.get_submap(\"a\")"
   ]
  },
  {
   "cell_type": "code",
   "execution_count": 11,
   "metadata": {},
   "outputs": [
    {
     "data": {
      "text/html": [
       "<pre style=\"white-space:pre;overflow-x:auto;line-height:normal;font-family:Menlo,'DejaVu Sans Mono',consolas,'Courier New',monospace\"><span style=\"font-weight: bold\">(IndexedChoiceMap,  i32[2])</span>\n",
       "└── <span style=\"font-weight: bold\">(HierarchicalChoiceMap)</span>\n",
       "    ├── <span style=\"font-weight: bold\">:root_pose</span>\n",
       "    │   └── <span style=\"font-weight: bold\">(ValueChoice)</span>\n",
       "    │       └──  f32[2,4,4]\n",
       "    ├── <span style=\"font-weight: bold\">:category_index</span>\n",
       "    │   └── <span style=\"font-weight: bold\">(ValueChoice)</span>\n",
       "    │       └──  i32[2]\n",
       "    ├── <span style=\"font-weight: bold\">:parent_obj</span>\n",
       "    │   └── <span style=\"font-weight: bold\">(ValueChoice)</span>\n",
       "    │       └──  i32[2]\n",
       "    ├── <span style=\"font-weight: bold\">:face_parent</span>\n",
       "    │   └── <span style=\"font-weight: bold\">(ValueChoice)</span>\n",
       "    │       └──  i32[2]\n",
       "    ├── <span style=\"font-weight: bold\">:face_child</span>\n",
       "    │   └── <span style=\"font-weight: bold\">(ValueChoice)</span>\n",
       "    │       └──  i32[2]\n",
       "    └── <span style=\"font-weight: bold\">:contact_params</span>\n",
       "        └── <span style=\"font-weight: bold\">(ValueChoice)</span>\n",
       "            └──  f32[2,3]\n",
       "</pre>\n"
      ],
      "text/plain": [
       "\u001b[1m(IndexedChoiceMap,  i32[2])\u001b[0m\n",
       "└── \u001b[1m(HierarchicalChoiceMap)\u001b[0m\n",
       "    ├── \u001b[1m:root_pose\u001b[0m\n",
       "    │   └── \u001b[1m(ValueChoice)\u001b[0m\n",
       "    │       └──  f32[2,4,4]\n",
       "    ├── \u001b[1m:category_index\u001b[0m\n",
       "    │   └── \u001b[1m(ValueChoice)\u001b[0m\n",
       "    │       └──  i32[2]\n",
       "    ├── \u001b[1m:parent_obj\u001b[0m\n",
       "    │   └── \u001b[1m(ValueChoice)\u001b[0m\n",
       "    │       └──  i32[2]\n",
       "    ├── \u001b[1m:face_parent\u001b[0m\n",
       "    │   └── \u001b[1m(ValueChoice)\u001b[0m\n",
       "    │       └──  i32[2]\n",
       "    ├── \u001b[1m:face_child\u001b[0m\n",
       "    │   └── \u001b[1m(ValueChoice)\u001b[0m\n",
       "    │       └──  i32[2]\n",
       "    └── \u001b[1m:contact_params\u001b[0m\n",
       "        └── \u001b[1m(ValueChoice)\u001b[0m\n",
       "            └──  f32[2,3]\n"
      ]
     },
     "metadata": {},
     "output_type": "display_data"
    }
   ],
   "source": [
    "map_choicemap = genjax.indexed_choice_map(\n",
    "            jnp.array([0, 1]),\n",
    "            flat_choicemaps_to_vector_choicemap([\n",
    "                genjax.choice_map({\n",
    "                    \"root_pose\": X_CT,\n",
    "                    \"category_index\": 0,\n",
    "                    \"parent_obj\": -1,\n",
    "                    \"face_parent\": 2,\n",
    "                    \"face_child\": 3,\n",
    "                    \"contact_params\": jnp.zeros(3)\n",
    "                }),\n",
    "                genjax.choice_map({\n",
    "                    \"root_pose\": jnp.eye(4),\n",
    "                    \"parent_obj\": 0,\n",
    "                    \"category_index\": 2,\n",
    "                    \"face_parent\": 2,\n",
    "                    \"face_child\": 3,\n",
    "                    \"contact_params\": jnp.zeros(3)\n",
    "                })\n",
    "            ])\n",
    "        )\n",
    "\n",
    "console.print(map_choicemap)"
   ]
  },
  {
   "cell_type": "code",
   "execution_count": 31,
   "metadata": {},
   "outputs": [
    {
     "name": "stdout",
     "output_type": "stream",
     "text": [
      "Got rendered.\n",
      "Traced<ShapedArray(float32[48,64,3])>with<DynamicJaxprTrace(level=2/0)>\n",
      "Got noisy image.\n",
      "<class 'jax._src.interpreters.batching.BatchTracer'>\n"
     ]
    }
   ],
   "source": [
    "trace, _ = importance_jit(key, genjax.choice_map({\n",
    "        \"camera_pose\": jnp.eye(4),\n",
    "        \"objects\": map_choicemap,\n",
    "        # (\"objects\", 0): genjax.choice_map({\n",
    "        #     \"root_pose\": X_CT,\n",
    "        #     \"category_index\": 0,\n",
    "        #     \"parent_obj\": -1\n",
    "        # }),\n",
    "        # (\"objects\", 1): genjax.choice_map({\n",
    "        #     \"parent_obj\": -0,\n",
    "        #     \"category_index\": 2,\n",
    "        #     \"face_parent\": 2,\n",
    "        #     \"face_child\": 3,\n",
    "        #     \"contact_params\": jnp.zeros(3)\n",
    "        # })\n",
    "    }), (\n",
    "        genjax.const(5), # max_n_objects\n",
    "        5,               # n_objects\n",
    "        # possible_object_indices\n",
    "        jnp.arange(len(b.RENDERER.meshes)),\n",
    "        # pose_bounds\n",
    "        jnp.array([-jnp.ones(3)*5.0, jnp.ones(3)*5.0]),\n",
    "        # contact_bounds\n",
    "        jnp.array([jnp.array([-2, -2, -jnp.pi]), jnp.array([2.0, 2.0, jnp.pi])]),\n",
    "        # all_box_dims\n",
    "        b.RENDERER.model_box_dims\n",
    "    )\n",
    ")"
   ]
  },
  {
   "cell_type": "code",
   "execution_count": null,
   "metadata": {},
   "outputs": [
    {
     "data": {
      "text/plain": [
       "5"
      ]
     },
     "execution_count": 13,
     "metadata": {},
     "output_type": "execute_result"
    }
   ],
   "source": [
    "genjax.const(5).const"
   ]
  },
  {
   "cell_type": "code",
   "execution_count": null,
   "metadata": {},
   "outputs": [],
   "source": []
  },
  {
   "cell_type": "markdown",
   "metadata": {},
   "source": [
    "# Walk through the model..."
   ]
  },
  {
   "cell_type": "code",
   "execution_count": 13,
   "metadata": {},
   "outputs": [],
   "source": [
    "from src.model2 import generate_objects"
   ]
  },
  {
   "cell_type": "code",
   "execution_count": 14,
   "metadata": {},
   "outputs": [],
   "source": [
    "(\n",
    "    max_n_objects,\n",
    "    n_objects,\n",
    "    possible_object_indices,\n",
    "    pose_bounds,\n",
    "    contact_bounds,\n",
    "    all_box_dims\n",
    ") = (\n",
    "    genjax.const(2), # max_n_objects\n",
    "    2,               # n_objects\n",
    "    # possible_object_indices\n",
    "    jnp.arange(len(b.RENDERER.meshes)),\n",
    "    # pose_bounds\n",
    "    jnp.array([-jnp.ones(3)*5.0, jnp.ones(3)*5.0]),\n",
    "    # contact_bounds\n",
    "    jnp.array([jnp.array([-2, -2, -jnp.pi]), jnp.array([2.0, 2.0, jnp.pi])]),\n",
    "    # all_box_dims\n",
    "    b.RENDERER.model_box_dims\n",
    ")"
   ]
  },
  {
   "cell_type": "code",
   "execution_count": 15,
   "metadata": {},
   "outputs": [
    {
     "data": {
      "text/plain": [
       "Array([-5., -5., -5., -5., -5., -5., -5., -5., -5., -5., -5., -5., -5.,\n",
       "       -5., -5.,  5.,  5.,  5.,  5.,  5.,  5.,  5.,  5.,  5.,  5.,  5.,\n",
       "        5.,  5.,  5.,  5.], dtype=float32)"
      ]
     },
     "execution_count": 15,
     "metadata": {},
     "output_type": "execute_result"
    }
   ],
   "source": [
    "jnp.repeat(pose_bounds[None, ...], 5)"
   ]
  },
  {
   "cell_type": "code",
   "execution_count": 16,
   "metadata": {},
   "outputs": [],
   "source": [
    "generate_objects_args = (\n",
    "    jnp.arange(max_n_objects.const) < n_objects,\n",
    "    (\n",
    "        jnp.arange(max_n_objects.const),\n",
    "        jnp.repeat(possible_object_indices[None, ...], max_n_objects.const, 0),\n",
    "        jnp.repeat(pose_bounds[None, ...], max_n_objects.const, 0),\n",
    "        jnp.repeat(contact_bounds[None, ...], max_n_objects.const, 0),\n",
    "    )\n",
    ")"
   ]
  },
  {
   "cell_type": "code",
   "execution_count": 17,
   "metadata": {},
   "outputs": [
    {
     "data": {
      "text/html": [
       "<pre style=\"white-space:pre;overflow-x:auto;line-height:normal;font-family:Menlo,'DejaVu Sans Mono',consolas,'Courier New',monospace\"><span style=\"font-weight: bold\">(Mask,  bool[2])</span>\n",
       "└── <span style=\"font-weight: bold\">ObjectInfo</span>\n",
       "    ├── parent_obj\n",
       "    │   └──  i32[2]\n",
       "    ├── parent_face\n",
       "    │   └──  i32[2]\n",
       "    ├── child_face\n",
       "    │   └──  i32[2]\n",
       "    ├── category_index\n",
       "    │   └──  i32[2]\n",
       "    ├── pose\n",
       "    │   └──  f32[2,4,4]\n",
       "    └── params\n",
       "        └──  f32[2,3]\n",
       "</pre>\n"
      ],
      "text/plain": [
       "\u001b[1m(Mask,  bool[2])\u001b[0m\n",
       "└── \u001b[1mObjectInfo\u001b[0m\n",
       "    ├── parent_obj\n",
       "    │   └──  i32[2]\n",
       "    ├── parent_face\n",
       "    │   └──  i32[2]\n",
       "    ├── child_face\n",
       "    │   └──  i32[2]\n",
       "    ├── category_index\n",
       "    │   └──  i32[2]\n",
       "    ├── pose\n",
       "    │   └──  f32[2,4,4]\n",
       "    └── params\n",
       "        └──  f32[2,3]\n"
      ]
     },
     "metadata": {},
     "output_type": "display_data"
    }
   ],
   "source": [
    "tr = generate_objects.simulate(\n",
    "    key,\n",
    "    generate_objects_args\n",
    ")\n",
    "masked_object_info = tr.get_retval()\n",
    "console.print(masked_object_info)"
   ]
  },
  {
   "cell_type": "code",
   "execution_count": 18,
   "metadata": {},
   "outputs": [
    {
     "data": {
      "text/html": [
       "<pre style=\"white-space:pre;overflow-x:auto;line-height:normal;font-family:Menlo,'DejaVu Sans Mono',consolas,'Courier New',monospace\"><span style=\"font-weight: bold\">(VectorChoiceMap)</span>\n",
       "└── <span style=\"font-weight: bold\">(Mask,  bool[2])</span>\n",
       "    └── <span style=\"font-weight: bold\">(HierarchicalChoiceMap)</span>\n",
       "        ├── <span style=\"font-weight: bold\">:root_pose</span>\n",
       "        │   └── <span style=\"font-weight: bold\">(ValueChoice)</span>\n",
       "        │       └──  f32[2,4,4]\n",
       "        ├── <span style=\"font-weight: bold\">:contact_params</span>\n",
       "        │   └── <span style=\"font-weight: bold\">(ValueChoice)</span>\n",
       "        │       └──  f32[2,3]\n",
       "        ├── <span style=\"font-weight: bold\">:parent_obj</span>\n",
       "        │   └── <span style=\"font-weight: bold\">(ValueChoice)</span>\n",
       "        │       └──  i32[2]\n",
       "        ├── <span style=\"font-weight: bold\">:face_parent</span>\n",
       "        │   └── <span style=\"font-weight: bold\">(ValueChoice)</span>\n",
       "        │       └──  i32[2]\n",
       "        ├── <span style=\"font-weight: bold\">:category_index</span>\n",
       "        │   └── <span style=\"font-weight: bold\">(ValueChoice)</span>\n",
       "        │       └──  i32[2]\n",
       "        └── <span style=\"font-weight: bold\">:face_child</span>\n",
       "            └── <span style=\"font-weight: bold\">(ValueChoice)</span>\n",
       "                └──  i32[2]\n",
       "</pre>\n"
      ],
      "text/plain": [
       "\u001b[1m(VectorChoiceMap)\u001b[0m\n",
       "└── \u001b[1m(Mask,  bool[2])\u001b[0m\n",
       "    └── \u001b[1m(HierarchicalChoiceMap)\u001b[0m\n",
       "        ├── \u001b[1m:root_pose\u001b[0m\n",
       "        │   └── \u001b[1m(ValueChoice)\u001b[0m\n",
       "        │       └──  f32[2,4,4]\n",
       "        ├── \u001b[1m:contact_params\u001b[0m\n",
       "        │   └── \u001b[1m(ValueChoice)\u001b[0m\n",
       "        │       └──  f32[2,3]\n",
       "        ├── \u001b[1m:parent_obj\u001b[0m\n",
       "        │   └── \u001b[1m(ValueChoice)\u001b[0m\n",
       "        │       └──  i32[2]\n",
       "        ├── \u001b[1m:face_parent\u001b[0m\n",
       "        │   └── \u001b[1m(ValueChoice)\u001b[0m\n",
       "        │       └──  i32[2]\n",
       "        ├── \u001b[1m:category_index\u001b[0m\n",
       "        │   └── \u001b[1m(ValueChoice)\u001b[0m\n",
       "        │       └──  i32[2]\n",
       "        └── \u001b[1m:face_child\u001b[0m\n",
       "            └── \u001b[1m(ValueChoice)\u001b[0m\n",
       "                └──  i32[2]\n"
      ]
     },
     "metadata": {},
     "output_type": "display_data"
    }
   ],
   "source": [
    "console.print(tr.strip())"
   ]
  },
  {
   "cell_type": "code",
   "execution_count": 19,
   "metadata": {},
   "outputs": [
    {
     "data": {
      "text/html": [
       "<pre style=\"white-space:pre;overflow-x:auto;line-height:normal;font-family:Menlo,'DejaVu Sans Mono',consolas,'Courier New',monospace\"><span style=\"font-weight: bold\">(IndexedChoiceMap,  i32[2])</span>\n",
       "└── <span style=\"font-weight: bold\">(HierarchicalChoiceMap)</span>\n",
       "    ├── <span style=\"font-weight: bold\">:root_pose</span>\n",
       "    │   └── <span style=\"font-weight: bold\">(ValueChoice)</span>\n",
       "    │       └──  f32[2,4,4]\n",
       "    ├── <span style=\"font-weight: bold\">:category_index</span>\n",
       "    │   └── <span style=\"font-weight: bold\">(ValueChoice)</span>\n",
       "    │       └──  i32[2]\n",
       "    ├── <span style=\"font-weight: bold\">:parent_obj</span>\n",
       "    │   └── <span style=\"font-weight: bold\">(ValueChoice)</span>\n",
       "    │       └──  i32[2]\n",
       "    ├── <span style=\"font-weight: bold\">:face_parent</span>\n",
       "    │   └── <span style=\"font-weight: bold\">(ValueChoice)</span>\n",
       "    │       └──  i32[2]\n",
       "    ├── <span style=\"font-weight: bold\">:face_child</span>\n",
       "    │   └── <span style=\"font-weight: bold\">(ValueChoice)</span>\n",
       "    │       └──  i32[2]\n",
       "    └── <span style=\"font-weight: bold\">:contact_params</span>\n",
       "        └── <span style=\"font-weight: bold\">(ValueChoice)</span>\n",
       "            └──  f32[2,3]\n",
       "</pre>\n"
      ],
      "text/plain": [
       "\u001b[1m(IndexedChoiceMap,  i32[2])\u001b[0m\n",
       "└── \u001b[1m(HierarchicalChoiceMap)\u001b[0m\n",
       "    ├── \u001b[1m:root_pose\u001b[0m\n",
       "    │   └── \u001b[1m(ValueChoice)\u001b[0m\n",
       "    │       └──  f32[2,4,4]\n",
       "    ├── \u001b[1m:category_index\u001b[0m\n",
       "    │   └── \u001b[1m(ValueChoice)\u001b[0m\n",
       "    │       └──  i32[2]\n",
       "    ├── \u001b[1m:parent_obj\u001b[0m\n",
       "    │   └── \u001b[1m(ValueChoice)\u001b[0m\n",
       "    │       └──  i32[2]\n",
       "    ├── \u001b[1m:face_parent\u001b[0m\n",
       "    │   └── \u001b[1m(ValueChoice)\u001b[0m\n",
       "    │       └──  i32[2]\n",
       "    ├── \u001b[1m:face_child\u001b[0m\n",
       "    │   └── \u001b[1m(ValueChoice)\u001b[0m\n",
       "    │       └──  i32[2]\n",
       "    └── \u001b[1m:contact_params\u001b[0m\n",
       "        └── \u001b[1m(ValueChoice)\u001b[0m\n",
       "            └──  f32[2,3]\n"
      ]
     },
     "metadata": {},
     "output_type": "display_data"
    }
   ],
   "source": [
    "console.print(map_choicemap)"
   ]
  },
  {
   "cell_type": "code",
   "execution_count": 20,
   "metadata": {},
   "outputs": [],
   "source": [
    "from src.model2 import generate_object"
   ]
  },
  {
   "cell_type": "code",
   "execution_count": 21,
   "metadata": {},
   "outputs": [
    {
     "data": {
      "text/html": [
       "<pre style=\"white-space:pre;overflow-x:auto;line-height:normal;font-family:Menlo,'DejaVu Sans Mono',consolas,'Courier New',monospace\"><span style=\"font-weight: bold\">(HierarchicalChoiceMap)</span>\n",
       "├── <span style=\"font-weight: bold\">:root_pose</span>\n",
       "│   └── <span style=\"font-weight: bold\">(ValueChoice)</span>\n",
       "│       └──  f32[4,4]\n",
       "├── <span style=\"font-weight: bold\">:contact_params</span>\n",
       "│   └── <span style=\"font-weight: bold\">(ValueChoice)</span>\n",
       "│       └──  f32[3]\n",
       "├── <span style=\"font-weight: bold\">:parent_obj</span>\n",
       "│   └── <span style=\"font-weight: bold\">(ValueChoice)</span>\n",
       "│       └──  i32[]\n",
       "├── <span style=\"font-weight: bold\">:face_parent</span>\n",
       "│   └── <span style=\"font-weight: bold\">(ValueChoice)</span>\n",
       "│       └──  i32[]\n",
       "├── <span style=\"font-weight: bold\">:category_index</span>\n",
       "│   └── <span style=\"font-weight: bold\">(ValueChoice)</span>\n",
       "│       └──  i32[]\n",
       "└── <span style=\"font-weight: bold\">:face_child</span>\n",
       "    └── <span style=\"font-weight: bold\">(ValueChoice)</span>\n",
       "        └──  i32[]\n",
       "</pre>\n"
      ],
      "text/plain": [
       "\u001b[1m(HierarchicalChoiceMap)\u001b[0m\n",
       "├── \u001b[1m:root_pose\u001b[0m\n",
       "│   └── \u001b[1m(ValueChoice)\u001b[0m\n",
       "│       └──  f32[4,4]\n",
       "├── \u001b[1m:contact_params\u001b[0m\n",
       "│   └── \u001b[1m(ValueChoice)\u001b[0m\n",
       "│       └──  f32[3]\n",
       "├── \u001b[1m:parent_obj\u001b[0m\n",
       "│   └── \u001b[1m(ValueChoice)\u001b[0m\n",
       "│       └──  i32[]\n",
       "├── \u001b[1m:face_parent\u001b[0m\n",
       "│   └── \u001b[1m(ValueChoice)\u001b[0m\n",
       "│       └──  i32[]\n",
       "├── \u001b[1m:category_index\u001b[0m\n",
       "│   └── \u001b[1m(ValueChoice)\u001b[0m\n",
       "│       └──  i32[]\n",
       "└── \u001b[1m:face_child\u001b[0m\n",
       "    └── \u001b[1m(ValueChoice)\u001b[0m\n",
       "        └──  i32[]\n"
      ]
     },
     "metadata": {},
     "output_type": "display_data"
    }
   ],
   "source": [
    "mask_cm = tr.get_choices().get_submap(0).unmask()\n",
    "console.print(mask_cm)"
   ]
  },
  {
   "cell_type": "code",
   "execution_count": 22,
   "metadata": {},
   "outputs": [],
   "source": [
    "mask_args = (\n",
    "    True, (0, possible_object_indices, pose_bounds, contact_bounds)\n",
    ")"
   ]
  },
  {
   "cell_type": "code",
   "execution_count": 23,
   "metadata": {},
   "outputs": [],
   "source": [
    "masked = genjax.masking_combinator(generate_object)"
   ]
  },
  {
   "cell_type": "code",
   "execution_count": 24,
   "metadata": {},
   "outputs": [
    {
     "data": {
      "text/plain": [
       "True"
      ]
     },
     "execution_count": 24,
     "metadata": {},
     "output_type": "execute_result"
    }
   ],
   "source": [
    "isinstance(mask_cm, genjax.Choice)"
   ]
  },
  {
   "cell_type": "code",
   "execution_count": 25,
   "metadata": {},
   "outputs": [
    {
     "data": {
      "text/plain": [
       "genjax._src.core.datatypes.generative.HierarchicalChoiceMap"
      ]
     },
     "execution_count": 25,
     "metadata": {},
     "output_type": "execute_result"
    }
   ],
   "source": [
    "type(mask_cm)"
   ]
  },
  {
   "cell_type": "code",
   "execution_count": 26,
   "metadata": {},
   "outputs": [
    {
     "name": "stdout",
     "output_type": "stream",
     "text": [
      "<class 'jaxlib.xla_extension.ArrayImpl'>\n"
     ]
    }
   ],
   "source": [
    "tr_, weight = masked.importance(key, mask_cm, mask_args)"
   ]
  },
  {
   "cell_type": "code",
   "execution_count": null,
   "metadata": {},
   "outputs": [
    {
     "data": {
      "text/plain": [
       "jaxlib.xla_extension.ArrayImpl"
      ]
     },
     "execution_count": 28,
     "metadata": {},
     "output_type": "execute_result"
    }
   ],
   "source": [
    "type(weight)"
   ]
  },
  {
   "cell_type": "code",
   "execution_count": null,
   "metadata": {},
   "outputs": [],
   "source": [
    "from genjax._src.generative_functions.combinators.masking_combinator import MaskingTrace"
   ]
  },
  {
   "cell_type": "code",
   "execution_count": null,
   "metadata": {},
   "outputs": [
    {
     "data": {
      "text/plain": [
       "MaskingTrace(\n",
       "  mask_combinator=MaskingCombinator(\n",
       "    inner=StaticGenerativeFunction(source=<function generate_object>)\n",
       "  ),\n",
       "  inner=StaticTrace(\n",
       "    gen_fn=StaticGenerativeFunction(source=<function generate_object>),\n",
       "    args=(0, i32[7], f32[2,3], f32[2,3]),\n",
       "    retval=ObjectInfo(\n",
       "      parent_obj=i32[],\n",
       "      parent_face=i32[],\n",
       "      child_face=i32[],\n",
       "      category_index=i32[],\n",
       "      pose=f32[4,4],\n",
       "      params=f32[3]\n",
       "    ),\n",
       "    address_choices=Trie(\n",
       "      inner={\n",
       "        'parent_obj':\n",
       "        DistributionTrace(\n",
       "          gen_fn=UniformDiscrete(),\n",
       "          args=(-1, 0),\n",
       "          value=i32[],\n",
       "          score=f32[]\n",
       "        ),\n",
       "        'face_parent':\n",
       "        DistributionTrace(\n",
       "          gen_fn=UniformDiscrete(),\n",
       "          args=(0, 6),\n",
       "          value=i32[],\n",
       "          score=f32[]\n",
       "        ),\n",
       "        'face_child':\n",
       "        DistributionTrace(\n",
       "          gen_fn=UniformDiscrete(),\n",
       "          args=(0, 6),\n",
       "          value=i32[],\n",
       "          score=f32[]\n",
       "        ),\n",
       "        'category_index':\n",
       "        DistributionTrace(\n",
       "          gen_fn=UniformChoice(),\n",
       "          args=(i32[7],),\n",
       "          value=i32[],\n",
       "          score=f32[]\n",
       "        ),\n",
       "        'root_pose':\n",
       "        DistributionTrace(\n",
       "          gen_fn=UniformPose(),\n",
       "          args=(f32[3], f32[3]),\n",
       "          value=f32[4,4],\n",
       "          score=f32[]\n",
       "        ),\n",
       "        'contact_params':\n",
       "        DistributionTrace(\n",
       "          gen_fn=ContactParamsUniform(),\n",
       "          args=(f32[3], f32[3]),\n",
       "          value=f32[3],\n",
       "          score=f32[]\n",
       "        )\n",
       "      }\n",
       "    ),\n",
       "    cache=Trie(inner={}),\n",
       "    score=f32[]\n",
       "  ),\n",
       "  check=True\n",
       ")"
      ]
     },
     "execution_count": 30,
     "metadata": {},
     "output_type": "execute_result"
    }
   ],
   "source": [
    "(check, inner_args) = mask_args\n",
    "tr_, w_ = masked.inner.importance(key, mask_cm, inner_args)\n",
    "w_ = check * w_\n",
    "MaskingTrace(masked, tr_, check)"
   ]
  },
  {
   "cell_type": "code",
   "execution_count": 29,
   "metadata": {},
   "outputs": [
    {
     "data": {
      "text/plain": [
       "True"
      ]
     },
     "execution_count": 29,
     "metadata": {},
     "output_type": "execute_result"
    }
   ],
   "source": [
    "isinstance(map_choicemap, genjax.Choice)"
   ]
  },
  {
   "cell_type": "code",
   "execution_count": 30,
   "metadata": {},
   "outputs": [
    {
     "name": "stdout",
     "output_type": "stream",
     "text": [
      "<class 'jax._src.interpreters.batching.BatchTracer'>\n"
     ]
    },
    {
     "data": {
      "text/plain": [
       "(MapTrace(\n",
       "   gen_fn=MapCombinator(\n",
       "     kernel=MaskingCombinator(\n",
       "       inner=StaticGenerativeFunction(source=<function generate_object>)\n",
       "     ),\n",
       "     in_axes=(0, (0, 0, 0, 0))\n",
       "   ),\n",
       "   inner=MaskingTrace(\n",
       "     mask_combinator=MaskingCombinator(\n",
       "       inner=StaticGenerativeFunction(source=<function generate_object>)\n",
       "     ),\n",
       "     inner=StaticTrace(\n",
       "       gen_fn=StaticGenerativeFunction(source=<function generate_object>),\n",
       "       args=(i32[2], i32[2,7], f32[2,2,3], f32[2,2,3]),\n",
       "       retval=ObjectInfo(\n",
       "         parent_obj=i32[2],\n",
       "         parent_face=i32[2],\n",
       "         child_face=i32[2],\n",
       "         category_index=i32[2],\n",
       "         pose=f32[2,4,4],\n",
       "         params=f32[2,3]\n",
       "       ),\n",
       "       address_choices=Trie(\n",
       "         inner={\n",
       "           'root_pose':\n",
       "           DistributionTrace(\n",
       "             gen_fn=UniformPose(),\n",
       "             args=(f32[2,3], f32[2,3]),\n",
       "             value=f32[2,4,4],\n",
       "             score=f32[2]\n",
       "           ),\n",
       "           'contact_params':\n",
       "           DistributionTrace(\n",
       "             gen_fn=ContactParamsUniform(),\n",
       "             args=(f32[2,3], f32[2,3]),\n",
       "             value=f32[2,3],\n",
       "             score=f32[2]\n",
       "           ),\n",
       "           'parent_obj':\n",
       "           DistributionTrace(\n",
       "             gen_fn=UniformDiscrete(),\n",
       "             args=(i32[2], i32[2]),\n",
       "             value=i32[2],\n",
       "             score=f32[2]\n",
       "           ),\n",
       "           'face_parent':\n",
       "           DistributionTrace(\n",
       "             gen_fn=UniformDiscrete(),\n",
       "             args=(i32[2], i32[2]),\n",
       "             value=i32[2],\n",
       "             score=f32[2]\n",
       "           ),\n",
       "           'category_index':\n",
       "           DistributionTrace(\n",
       "             gen_fn=UniformChoice(),\n",
       "             args=(i32[2,7],),\n",
       "             value=i32[2],\n",
       "             score=f32[2]\n",
       "           ),\n",
       "           'face_child':\n",
       "           DistributionTrace(\n",
       "             gen_fn=UniformDiscrete(),\n",
       "             args=(i32[2], i32[2]),\n",
       "             value=i32[2],\n",
       "             score=f32[2]\n",
       "           )\n",
       "         }\n",
       "       ),\n",
       "       cache=Trie(inner={}),\n",
       "       score=f32[2]\n",
       "     ),\n",
       "     check=bool[2]\n",
       "   ),\n",
       "   args=(bool[2], (i32[2], i32[2,7], f32[2,2,3], f32[2,2,3])),\n",
       "   retval=Mask(\n",
       "     mask=bool[2],\n",
       "     value=ObjectInfo(\n",
       "       parent_obj=i32[2],\n",
       "       parent_face=i32[2],\n",
       "       child_face=i32[2],\n",
       "       category_index=i32[2],\n",
       "       pose=f32[2,4,4],\n",
       "       params=f32[2,3]\n",
       "     )\n",
       "   ),\n",
       "   score=f32[]\n",
       " ),\n",
       " Array(-15.04924, dtype=float32))"
      ]
     },
     "execution_count": 30,
     "metadata": {},
     "output_type": "execute_result"
    }
   ],
   "source": [
    "generate_objects.importance(\n",
    "    key,\n",
    "    map_choicemap,\n",
    "    generate_objects_args\n",
    ")"
   ]
  },
  {
   "cell_type": "code",
   "execution_count": null,
   "metadata": {},
   "outputs": [
    {
     "data": {
      "text/html": [
       "<pre style=\"white-space:pre;overflow-x:auto;line-height:normal;font-family:Menlo,'DejaVu Sans Mono',consolas,'Courier New',monospace\"><span style=\"color: #800080; text-decoration-color: #800080; font-weight: bold\">ObjectInfo</span><span style=\"font-weight: bold\">(</span>\n",
       "    <span style=\"color: #808000; text-decoration-color: #808000\">parent_obj</span>=<span style=\"color: #800080; text-decoration-color: #800080; font-weight: bold\">Array</span><span style=\"font-weight: bold\">([</span><span style=\"color: #008080; text-decoration-color: #008080; font-weight: bold\">-1</span>, <span style=\"color: #008080; text-decoration-color: #008080; font-weight: bold\">-1</span><span style=\"font-weight: bold\">]</span>, <span style=\"color: #808000; text-decoration-color: #808000\">dtype</span>=<span style=\"color: #800080; text-decoration-color: #800080\">int32</span><span style=\"font-weight: bold\">)</span>,\n",
       "    <span style=\"color: #808000; text-decoration-color: #808000\">parent_face</span>=<span style=\"color: #800080; text-decoration-color: #800080; font-weight: bold\">Array</span><span style=\"font-weight: bold\">([</span><span style=\"color: #008080; text-decoration-color: #008080; font-weight: bold\">0</span>, <span style=\"color: #008080; text-decoration-color: #008080; font-weight: bold\">0</span><span style=\"font-weight: bold\">]</span>, <span style=\"color: #808000; text-decoration-color: #808000\">dtype</span>=<span style=\"color: #800080; text-decoration-color: #800080\">int32</span><span style=\"font-weight: bold\">)</span>,\n",
       "    <span style=\"color: #808000; text-decoration-color: #808000\">child_face</span>=<span style=\"color: #800080; text-decoration-color: #800080; font-weight: bold\">Array</span><span style=\"font-weight: bold\">([</span><span style=\"color: #008080; text-decoration-color: #008080; font-weight: bold\">2</span>, <span style=\"color: #008080; text-decoration-color: #008080; font-weight: bold\">4</span><span style=\"font-weight: bold\">]</span>, <span style=\"color: #808000; text-decoration-color: #808000\">dtype</span>=<span style=\"color: #800080; text-decoration-color: #800080\">int32</span><span style=\"font-weight: bold\">)</span>,\n",
       "    <span style=\"color: #808000; text-decoration-color: #808000\">category_index</span>=<span style=\"color: #800080; text-decoration-color: #800080; font-weight: bold\">Array</span><span style=\"font-weight: bold\">([</span><span style=\"color: #008080; text-decoration-color: #008080; font-weight: bold\">6</span>, <span style=\"color: #008080; text-decoration-color: #008080; font-weight: bold\">5</span><span style=\"font-weight: bold\">]</span>, <span style=\"color: #808000; text-decoration-color: #808000\">dtype</span>=<span style=\"color: #800080; text-decoration-color: #800080\">int32</span><span style=\"font-weight: bold\">)</span>,\n",
       "    <span style=\"color: #808000; text-decoration-color: #808000\">pose</span>=<span style=\"color: #800080; text-decoration-color: #800080; font-weight: bold\">Array</span><span style=\"font-weight: bold\">([[[</span> <span style=\"color: #008080; text-decoration-color: #008080; font-weight: bold\">0.21296251</span>,  <span style=\"color: #008080; text-decoration-color: #008080; font-weight: bold\">0.8599319</span> ,  <span style=\"color: #008080; text-decoration-color: #008080; font-weight: bold\">0.4638577</span> , <span style=\"color: #008080; text-decoration-color: #008080; font-weight: bold\">-3.6455798</span> <span style=\"font-weight: bold\">]</span>,\n",
       "        <span style=\"font-weight: bold\">[</span> <span style=\"color: #008080; text-decoration-color: #008080; font-weight: bold\">0.11613947</span>,  <span style=\"color: #008080; text-decoration-color: #008080; font-weight: bold\">0.44910288</span>, <span style=\"color: #008080; text-decoration-color: #008080; font-weight: bold\">-0.88589954</span>, <span style=\"color: #008080; text-decoration-color: #008080; font-weight: bold\">-2.5233161</span> <span style=\"font-weight: bold\">]</span>,\n",
       "        <span style=\"font-weight: bold\">[</span><span style=\"color: #008080; text-decoration-color: #008080; font-weight: bold\">-0.97013324</span>,  <span style=\"color: #008080; text-decoration-color: #008080; font-weight: bold\">0.24253568</span>, <span style=\"color: #008080; text-decoration-color: #008080; font-weight: bold\">-0.00422996</span>, <span style=\"color: #008080; text-decoration-color: #008080; font-weight: bold\">-3.2954419</span> <span style=\"font-weight: bold\">]</span>,\n",
       "        <span style=\"font-weight: bold\">[</span> <span style=\"color: #008080; text-decoration-color: #008080; font-weight: bold\">0</span>.        ,  <span style=\"color: #008080; text-decoration-color: #008080; font-weight: bold\">0</span>.        ,  <span style=\"color: #008080; text-decoration-color: #008080; font-weight: bold\">0</span>.        ,  <span style=\"color: #008080; text-decoration-color: #008080; font-weight: bold\">1</span>.        <span style=\"font-weight: bold\">]]</span>,\n",
       "\n",
       "       <span style=\"font-weight: bold\">[[</span> <span style=\"color: #008080; text-decoration-color: #008080; font-weight: bold\">0.5552132</span> ,  <span style=\"color: #008080; text-decoration-color: #008080; font-weight: bold\">0.14355308</span>, <span style=\"color: #008080; text-decoration-color: #008080; font-weight: bold\">-0.8192253</span> , <span style=\"color: #008080; text-decoration-color: #008080; font-weight: bold\">-3.0910385</span> <span style=\"font-weight: bold\">]</span>,\n",
       "        <span style=\"font-weight: bold\">[</span> <span style=\"color: #008080; text-decoration-color: #008080; font-weight: bold\">0.40515423</span>,  <span style=\"color: #008080; text-decoration-color: #008080; font-weight: bold\">0.8135369</span> ,  <span style=\"color: #008080; text-decoration-color: #008080; font-weight: bold\">0.4171414</span> , <span style=\"color: #008080; text-decoration-color: #008080; font-weight: bold\">-3.0263913</span> <span style=\"font-weight: bold\">]</span>,\n",
       "        <span style=\"font-weight: bold\">[</span> <span style=\"color: #008080; text-decoration-color: #008080; font-weight: bold\">0.72635233</span>, <span style=\"color: #008080; text-decoration-color: #008080; font-weight: bold\">-0.56351525</span>,  <span style=\"color: #008080; text-decoration-color: #008080; font-weight: bold\">0.39352548</span>,  <span style=\"color: #008080; text-decoration-color: #008080; font-weight: bold\">1.8770814</span> <span style=\"font-weight: bold\">]</span>,\n",
       "        <span style=\"font-weight: bold\">[</span> <span style=\"color: #008080; text-decoration-color: #008080; font-weight: bold\">0</span>.        ,  <span style=\"color: #008080; text-decoration-color: #008080; font-weight: bold\">0</span>.        ,  <span style=\"color: #008080; text-decoration-color: #008080; font-weight: bold\">0</span>.        ,  <span style=\"color: #008080; text-decoration-color: #008080; font-weight: bold\">1</span>.        <span style=\"font-weight: bold\">]]]</span>,      <span style=\"color: #808000; text-decoration-color: #808000\">dtype</span>=<span style=\"color: #800080; text-decoration-color: #800080\">float32</span><span style=\"font-weight: bold\">)</span>,\n",
       "    <span style=\"color: #808000; text-decoration-color: #808000\">params</span>=<span style=\"color: #800080; text-decoration-color: #800080; font-weight: bold\">Array</span><span style=\"font-weight: bold\">([[</span><span style=\"color: #008080; text-decoration-color: #008080; font-weight: bold\">-0.36309052</span>, <span style=\"color: #008080; text-decoration-color: #008080; font-weight: bold\">-0.07025099</span>,  <span style=\"color: #008080; text-decoration-color: #008080; font-weight: bold\">1.5729983</span> <span style=\"font-weight: bold\">]</span>,\n",
       "       <span style=\"font-weight: bold\">[</span><span style=\"color: #008080; text-decoration-color: #008080; font-weight: bold\">-0.8348894</span> ,  <span style=\"color: #008080; text-decoration-color: #008080; font-weight: bold\">0.2492876</span> ,  <span style=\"color: #008080; text-decoration-color: #008080; font-weight: bold\">1.419142</span>  <span style=\"font-weight: bold\">]]</span>, <span style=\"color: #808000; text-decoration-color: #808000\">dtype</span>=<span style=\"color: #800080; text-decoration-color: #800080\">float32</span><span style=\"font-weight: bold\">)</span>\n",
       "<span style=\"font-weight: bold\">)</span>\n",
       "</pre>\n"
      ],
      "text/plain": [
       "\u001b[1;35mObjectInfo\u001b[0m\u001b[1m(\u001b[0m\n",
       "    \u001b[33mparent_obj\u001b[0m=\u001b[1;35mArray\u001b[0m\u001b[1m(\u001b[0m\u001b[1m[\u001b[0m\u001b[1;36m-1\u001b[0m, \u001b[1;36m-1\u001b[0m\u001b[1m]\u001b[0m, \u001b[33mdtype\u001b[0m=\u001b[35mint32\u001b[0m\u001b[1m)\u001b[0m,\n",
       "    \u001b[33mparent_face\u001b[0m=\u001b[1;35mArray\u001b[0m\u001b[1m(\u001b[0m\u001b[1m[\u001b[0m\u001b[1;36m0\u001b[0m, \u001b[1;36m0\u001b[0m\u001b[1m]\u001b[0m, \u001b[33mdtype\u001b[0m=\u001b[35mint32\u001b[0m\u001b[1m)\u001b[0m,\n",
       "    \u001b[33mchild_face\u001b[0m=\u001b[1;35mArray\u001b[0m\u001b[1m(\u001b[0m\u001b[1m[\u001b[0m\u001b[1;36m2\u001b[0m, \u001b[1;36m4\u001b[0m\u001b[1m]\u001b[0m, \u001b[33mdtype\u001b[0m=\u001b[35mint32\u001b[0m\u001b[1m)\u001b[0m,\n",
       "    \u001b[33mcategory_index\u001b[0m=\u001b[1;35mArray\u001b[0m\u001b[1m(\u001b[0m\u001b[1m[\u001b[0m\u001b[1;36m6\u001b[0m, \u001b[1;36m5\u001b[0m\u001b[1m]\u001b[0m, \u001b[33mdtype\u001b[0m=\u001b[35mint32\u001b[0m\u001b[1m)\u001b[0m,\n",
       "    \u001b[33mpose\u001b[0m=\u001b[1;35mArray\u001b[0m\u001b[1m(\u001b[0m\u001b[1m[\u001b[0m\u001b[1m[\u001b[0m\u001b[1m[\u001b[0m \u001b[1;36m0.21296251\u001b[0m,  \u001b[1;36m0.8599319\u001b[0m ,  \u001b[1;36m0.4638577\u001b[0m , \u001b[1;36m-3.6455798\u001b[0m \u001b[1m]\u001b[0m,\n",
       "        \u001b[1m[\u001b[0m \u001b[1;36m0.11613947\u001b[0m,  \u001b[1;36m0.44910288\u001b[0m, \u001b[1;36m-0.88589954\u001b[0m, \u001b[1;36m-2.5233161\u001b[0m \u001b[1m]\u001b[0m,\n",
       "        \u001b[1m[\u001b[0m\u001b[1;36m-0.97013324\u001b[0m,  \u001b[1;36m0.24253568\u001b[0m, \u001b[1;36m-0.00422996\u001b[0m, \u001b[1;36m-3.2954419\u001b[0m \u001b[1m]\u001b[0m,\n",
       "        \u001b[1m[\u001b[0m \u001b[1;36m0\u001b[0m.        ,  \u001b[1;36m0\u001b[0m.        ,  \u001b[1;36m0\u001b[0m.        ,  \u001b[1;36m1\u001b[0m.        \u001b[1m]\u001b[0m\u001b[1m]\u001b[0m,\n",
       "\n",
       "       \u001b[1m[\u001b[0m\u001b[1m[\u001b[0m \u001b[1;36m0.5552132\u001b[0m ,  \u001b[1;36m0.14355308\u001b[0m, \u001b[1;36m-0.8192253\u001b[0m , \u001b[1;36m-3.0910385\u001b[0m \u001b[1m]\u001b[0m,\n",
       "        \u001b[1m[\u001b[0m \u001b[1;36m0.40515423\u001b[0m,  \u001b[1;36m0.8135369\u001b[0m ,  \u001b[1;36m0.4171414\u001b[0m , \u001b[1;36m-3.0263913\u001b[0m \u001b[1m]\u001b[0m,\n",
       "        \u001b[1m[\u001b[0m \u001b[1;36m0.72635233\u001b[0m, \u001b[1;36m-0.56351525\u001b[0m,  \u001b[1;36m0.39352548\u001b[0m,  \u001b[1;36m1.8770814\u001b[0m \u001b[1m]\u001b[0m,\n",
       "        \u001b[1m[\u001b[0m \u001b[1;36m0\u001b[0m.        ,  \u001b[1;36m0\u001b[0m.        ,  \u001b[1;36m0\u001b[0m.        ,  \u001b[1;36m1\u001b[0m.        \u001b[1m]\u001b[0m\u001b[1m]\u001b[0m\u001b[1m]\u001b[0m,      \u001b[33mdtype\u001b[0m=\u001b[35mfloat32\u001b[0m\u001b[1m)\u001b[0m,\n",
       "    \u001b[33mparams\u001b[0m=\u001b[1;35mArray\u001b[0m\u001b[1m(\u001b[0m\u001b[1m[\u001b[0m\u001b[1m[\u001b[0m\u001b[1;36m-0.36309052\u001b[0m, \u001b[1;36m-0.07025099\u001b[0m,  \u001b[1;36m1.5729983\u001b[0m \u001b[1m]\u001b[0m,\n",
       "       \u001b[1m[\u001b[0m\u001b[1;36m-0.8348894\u001b[0m ,  \u001b[1;36m0.2492876\u001b[0m ,  \u001b[1;36m1.419142\u001b[0m  \u001b[1m]\u001b[0m\u001b[1m]\u001b[0m, \u001b[33mdtype\u001b[0m=\u001b[35mfloat32\u001b[0m\u001b[1m)\u001b[0m\n",
       "\u001b[1m)\u001b[0m\n"
      ]
     },
     "metadata": {},
     "output_type": "display_data"
    }
   ],
   "source": [
    "from src.model2 import empty_object_info\n",
    "from src.masking_utils import mymatch\n",
    "object_info = mymatch(\n",
    "    masked_object_info,\n",
    "    lambda: empty_object_info(),\n",
    "    lambda x: x\n",
    ")\n",
    "console.print(object_info)\n"
   ]
  },
  {
   "cell_type": "code",
   "execution_count": null,
   "metadata": {},
   "outputs": [],
   "source": [
    "camera_pose = jnp.eye(4)"
   ]
  },
  {
   "cell_type": "code",
   "execution_count": null,
   "metadata": {},
   "outputs": [],
   "source": [
    "valid_box_dims = jnp.where(\n",
    "    (object_info.category_index == -1)[:, None],\n",
    "    jnp.zeros(3),\n",
    "    all_box_dims[object_info.category_index]\n",
    ")"
   ]
  },
  {
   "cell_type": "code",
   "execution_count": null,
   "metadata": {},
   "outputs": [],
   "source": [
    "poses = b.scene_graph.poses_from_scene_graph(\n",
    "        object_info.pose,\n",
    "        valid_box_dims,\n",
    "        object_info.parent_obj, object_info.params,\n",
    "        object_info.parent_face, object_info.child_face\n",
    "    )"
   ]
  },
  {
   "cell_type": "code",
   "execution_count": null,
   "metadata": {},
   "outputs": [
    {
     "data": {
      "text/plain": [
       "Array([[[ 0.21296251,  0.8599319 ,  0.4638577 , -3.6455798 ],\n",
       "        [ 0.11613947,  0.44910288, -0.88589954, -2.5233161 ],\n",
       "        [-0.97013324,  0.24253568, -0.00422996, -3.2954419 ],\n",
       "        [ 0.        ,  0.        ,  0.        ,  1.        ]],\n",
       "\n",
       "       [[ 0.5552132 ,  0.14355308, -0.8192253 , -3.0910385 ],\n",
       "        [ 0.40515423,  0.8135369 ,  0.4171414 , -3.0263913 ],\n",
       "        [ 0.72635233, -0.56351525,  0.39352548,  1.8770814 ],\n",
       "        [ 0.        ,  0.        ,  0.        ,  1.        ]]],      dtype=float32)"
      ]
     },
     "execution_count": 36,
     "metadata": {},
     "output_type": "execute_result"
    }
   ],
   "source": [
    "jnp.linalg.inv(camera_pose) @ poses"
   ]
  },
  {
   "cell_type": "code",
   "execution_count": null,
   "metadata": {},
   "outputs": [
    {
     "data": {
      "text/plain": [
       "ObjectInfo(parent_obj=Array([-1, -1], dtype=int32), parent_face=Array([0, 0], dtype=int32), child_face=Array([2, 4], dtype=int32), category_index=Array([6, 5], dtype=int32), pose=Array([[[ 0.21296251,  0.8599319 ,  0.4638577 , -3.6455798 ],\n",
       "        [ 0.11613947,  0.44910288, -0.88589954, -2.5233161 ],\n",
       "        [-0.97013324,  0.24253568, -0.00422996, -3.2954419 ],\n",
       "        [ 0.        ,  0.        ,  0.        ,  1.        ]],\n",
       "\n",
       "       [[ 0.5552132 ,  0.14355308, -0.8192253 , -3.0910385 ],\n",
       "        [ 0.40515423,  0.8135369 ,  0.4171414 , -3.0263913 ],\n",
       "        [ 0.72635233, -0.56351525,  0.39352548,  1.8770814 ],\n",
       "        [ 0.        ,  0.        ,  0.        ,  1.        ]]],      dtype=float32), params=Array([[-0.36309052, -0.07025099,  1.5729983 ],\n",
       "       [-0.8348894 ,  0.2492876 ,  1.419142  ]], dtype=float32))"
      ]
     },
     "execution_count": 37,
     "metadata": {},
     "output_type": "execute_result"
    }
   ],
   "source": [
    "object_info"
   ]
  },
  {
   "cell_type": "code",
   "execution_count": null,
   "metadata": {},
   "outputs": [],
   "source": [
    "rendered = b.RENDERER.render(jnp.linalg.inv(camera_pose) @ poses, object_info.category_index)[..., :3]\n"
   ]
  },
  {
   "cell_type": "code",
   "execution_count": null,
   "metadata": {},
   "outputs": [],
   "source": []
  }
 ],
 "metadata": {
  "kernelspec": {
   "display_name": "bayes3d_genjax_2",
   "language": "python",
   "name": "python3"
  },
  "language_info": {
   "codemirror_mode": {
    "name": "ipython",
    "version": 3
   },
   "file_extension": ".py",
   "mimetype": "text/x-python",
   "name": "python",
   "nbconvert_exporter": "python",
   "pygments_lexer": "ipython3",
   "version": "3.9.18"
  }
 },
 "nbformat": 4,
 "nbformat_minor": 2
}
