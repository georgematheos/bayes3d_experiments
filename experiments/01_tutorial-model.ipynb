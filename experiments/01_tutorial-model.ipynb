{
 "cells": [
  {
   "cell_type": "code",
   "execution_count": 1,
   "metadata": {},
   "outputs": [],
   "source": [
    "%load_ext autoreload\n",
    "%autoreload 2"
   ]
  },
  {
   "cell_type": "code",
   "execution_count": 2,
   "metadata": {},
   "outputs": [],
   "source": [
    "from typing import NamedTuple\n",
    "import jax\n",
    "import jax.numpy as jnp\n",
    "import bayes3d\n",
    "import genjax\n",
    "import matplotlib.pyplot as plt\n",
    "\n",
    "from src.genjax_distributions import (\n",
    "    contact_params_uniform,\n",
    "    image_likelihood,\n",
    "    uniform_choice,\n",
    "    uniform_discrete,\n",
    "    uniform_pose\n",
    ")\n",
    "from src.masking_utils import mymatch"
   ]
  },
  {
   "cell_type": "markdown",
   "metadata": {},
   "source": [
    "Construct a `console` object used for genjax pretty-printing:"
   ]
  },
  {
   "cell_type": "code",
   "execution_count": 3,
   "metadata": {},
   "outputs": [],
   "source": [
    "console = genjax.console(enforce_checkify=True)"
   ]
  },
  {
   "cell_type": "markdown",
   "metadata": {},
   "source": [
    "Set up a meshcat visualizer for Bayes3D:"
   ]
  },
  {
   "cell_type": "code",
   "execution_count": 4,
   "metadata": {},
   "outputs": [
    {
     "name": "stdout",
     "output_type": "stream",
     "text": [
      "You can open the visualizer by visiting the following URL:\n",
      "http://127.0.0.1:7000/static/\n"
     ]
    }
   ],
   "source": [
    "bayes3d.setup_visualizer()"
   ]
  },
  {
   "cell_type": "markdown",
   "metadata": {},
   "source": [
    "# Object-generation model"
   ]
  },
  {
   "cell_type": "markdown",
   "metadata": {},
   "source": [
    "First we define a type to store information about a given object in the scene:"
   ]
  },
  {
   "cell_type": "code",
   "execution_count": 5,
   "metadata": {},
   "outputs": [],
   "source": [
    "class ObjectInfo(NamedTuple):\n",
    "    parent_obj: int # Index of parent object in scene graph\n",
    "                    # Is -1 if there is no parent object.\n",
    "    parent_face: int # Face of parent object that this object is attached to\n",
    "                     # 3 = top face\n",
    "    child_face: int # Face of this object that is attached to parent\n",
    "                    # 2 = bottom face\n",
    "    category_index: int # Index of mesh in Bayes3D renderer for this object\n",
    "    root_pose: jnp.ndarray # Object pose, if parent_object = -1\n",
    "                           # (4, 4) pose matrix\n",
    "    params: jnp.ndarray # (x, y, theta) coordinates of this object\n",
    "                        # in the parent object's frame, if parent_object != -1"
   ]
  },
  {
   "cell_type": "markdown",
   "metadata": {},
   "source": [
    "To best utilize GPU acceleration in GenJAX's model, we need a way to have a fixed memory layout throughout the inference process, even as the number of objects posited in the scene changes (as inference explores different possible numbers of latent objects).  To do this, we will allocate memory to store `max_n_object` ObjectInfo.  We will also set up a way of filling in a memory slot for an ObjectInfo with values that indicate that no actual object is represented."
   ]
  },
  {
   "cell_type": "code",
   "execution_count": 6,
   "metadata": {},
   "outputs": [],
   "source": [
    "def empty_object_info():\n",
    "    \"\"\"\n",
    "    Placeholder ObjectInfo for a nonexistant object.\n",
    "    (This way we can store \"no object\" instances in the same\n",
    "    memory layout of an ObjectInfo.)\n",
    "    \"\"\"\n",
    "    return ObjectInfo(\n",
    "        jnp.array(-1000),\n",
    "        jnp.array(-1000),\n",
    "        jnp.array(-1000),\n",
    "        jnp.array(-1000),\n",
    "        jnp.zeros((4, 4)),\n",
    "        -10000 * jnp.ones(3)\n",
    "    )\n",
    "def is_valid(obj: ObjectInfo):\n",
    "    \"\"\"\n",
    "    Check if an object is valid (i.e. exists).\n",
    "    \"\"\"\n",
    "    return obj.category_index >= 0"
   ]
  },
  {
   "cell_type": "code",
   "execution_count": 7,
   "metadata": {},
   "outputs": [],
   "source": [
    "@genjax.static_gen_fn\n",
    "def generate_object(\n",
    "    object_idx : int,\n",
    "    possible_category_indices, # Array of shape (n_categories, )\n",
    "    pose_bounds, # Array of shape (3, 2): [[minx, miny, minz], [maxx, maxy, maxz]]\n",
    "    contact_bounds # Array of shape (3, 2): [[minx, miny, mintheta], [maxx, maxy, maxtheta]]\n",
    "):\n",
    "\n",
    "    # Sample the index of a random object, lower than this object's index,\n",
    "    # to be the parent object, or sample -1 to indicate that this\n",
    "    # is a floating object.\n",
    "    # Here, we only allow -1 to be sampled for the 0th object,\n",
    "    # so that all subsequent objects are generated on the first object;\n",
    "    # in a more flexible variant of this model this would not be strictly\n",
    "    # enforced.\n",
    "    min = jax.lax.select(object_idx == 0, -1, 0)\n",
    "    parent_obj = uniform_discrete(min, object_idx) @ f\"parent_obj\"\n",
    "  \n",
    "    # Now sample the object category\n",
    "    category_index = uniform_choice(possible_category_indices) @ f\"category_index\"\n",
    "\n",
    "    # Sample the parent and child faces.\n",
    "    # (In this notebook we always constrain it so that child = 2 and parent = 3,\n",
    "    # so the child is on top of the parent.)\n",
    "    parent_face = uniform_discrete(0, 6) @ f\"face_parent\"\n",
    "    child_face = uniform_discrete(0, 6) @ f\"face_child\"\n",
    "    \n",
    "    # Generate a pose value.  If parent_obj = -1, ie. this object is floating,\n",
    "    # this will be the object's pose.  Otherwise, this pose value\n",
    "    # is ignored.\n",
    "    root_pose = (\n",
    "            uniform_pose(\n",
    "                pose_bounds[0],\n",
    "                pose_bounds[1],\n",
    "            )\n",
    "            @ f\"root_pose\"\n",
    "        )\n",
    "    \n",
    "    # Generate an (x, y, theta) describing the pose of this object on the parent object.\n",
    "    # If parent_obj = -1, this value will still be generated, but then ignored.\n",
    "    contact_params = (\n",
    "        contact_params_uniform(contact_bounds[0], contact_bounds[1])\n",
    "        @ f\"contact_params\"\n",
    "    )\n",
    "\n",
    "    return ObjectInfo(parent_obj, parent_face, child_face, category_index, root_pose, contact_params)"
   ]
  },
  {
   "cell_type": "markdown",
   "metadata": {},
   "source": [
    "Create a pseudo-random-number-generator (PRNG) key and generate a random trace from this generative function:"
   ]
  },
  {
   "cell_type": "code",
   "execution_count": 8,
   "metadata": {},
   "outputs": [],
   "source": [
    "key = jax.random.PRNGKey(123)\n",
    "\n",
    "generate_object_example_args = (\n",
    "        0, # object index\n",
    "        jnp.array([0, 1, 2, 3]), # possible_category_indices\n",
    "        jnp.array([-2 * jnp.ones(3), 2 * jnp.ones(3)]), # pose_bounds\n",
    "        jnp.array([jnp.array([-0.5, -0.5, -jnp.pi]), jnp.array([0.5, 0.5, jnp.pi])]) # contact_bounds\n",
    "    )\n",
    "trace = generate_object.simulate(\n",
    "    key, # PRNG key\n",
    "    generate_object_example_args\n",
    ")"
   ]
  },
  {
   "cell_type": "markdown",
   "metadata": {},
   "source": [
    "The trace stores a record of every random choice made during the generative process, and also the return value.\n",
    "Here, the return value is the generated ObjectInfo:"
   ]
  },
  {
   "cell_type": "code",
   "execution_count": 9,
   "metadata": {},
   "outputs": [
    {
     "data": {
      "text/html": [
       "<pre style=\"white-space:pre;overflow-x:auto;line-height:normal;font-family:Menlo,'DejaVu Sans Mono',consolas,'Courier New',monospace\"><span style=\"color: #800080; text-decoration-color: #800080; font-weight: bold\">ObjectInfo</span><span style=\"font-weight: bold\">(</span>\n",
       "    <span style=\"color: #808000; text-decoration-color: #808000\">parent_obj</span>=<span style=\"color: #800080; text-decoration-color: #800080; font-weight: bold\">Array</span><span style=\"font-weight: bold\">(</span><span style=\"color: #008080; text-decoration-color: #008080; font-weight: bold\">-1</span>, <span style=\"color: #808000; text-decoration-color: #808000\">dtype</span>=<span style=\"color: #800080; text-decoration-color: #800080\">int32</span><span style=\"font-weight: bold\">)</span>,\n",
       "    <span style=\"color: #808000; text-decoration-color: #808000\">parent_face</span>=<span style=\"color: #800080; text-decoration-color: #800080; font-weight: bold\">Array</span><span style=\"font-weight: bold\">(</span><span style=\"color: #008080; text-decoration-color: #008080; font-weight: bold\">4</span>, <span style=\"color: #808000; text-decoration-color: #808000\">dtype</span>=<span style=\"color: #800080; text-decoration-color: #800080\">int32</span><span style=\"font-weight: bold\">)</span>,\n",
       "    <span style=\"color: #808000; text-decoration-color: #808000\">child_face</span>=<span style=\"color: #800080; text-decoration-color: #800080; font-weight: bold\">Array</span><span style=\"font-weight: bold\">(</span><span style=\"color: #008080; text-decoration-color: #008080; font-weight: bold\">1</span>, <span style=\"color: #808000; text-decoration-color: #808000\">dtype</span>=<span style=\"color: #800080; text-decoration-color: #800080\">int32</span><span style=\"font-weight: bold\">)</span>,\n",
       "    <span style=\"color: #808000; text-decoration-color: #808000\">category_index</span>=<span style=\"color: #800080; text-decoration-color: #800080; font-weight: bold\">Array</span><span style=\"font-weight: bold\">(</span><span style=\"color: #008080; text-decoration-color: #008080; font-weight: bold\">1</span>, <span style=\"color: #808000; text-decoration-color: #808000\">dtype</span>=<span style=\"color: #800080; text-decoration-color: #800080\">int32</span><span style=\"font-weight: bold\">)</span>,\n",
       "    <span style=\"color: #808000; text-decoration-color: #808000\">root_pose</span>=<span style=\"color: #800080; text-decoration-color: #800080; font-weight: bold\">Array</span><span style=\"font-weight: bold\">([[</span><span style=\"color: #008080; text-decoration-color: #008080; font-weight: bold\">-0.28899407</span>,  <span style=\"color: #008080; text-decoration-color: #008080; font-weight: bold\">0.75022423</span>,  <span style=\"color: #008080; text-decoration-color: #008080; font-weight: bold\">0.5946814</span> ,  <span style=\"color: #008080; text-decoration-color: #008080; font-weight: bold\">1.0423379</span> <span style=\"font-weight: bold\">]</span>,\n",
       "       <span style=\"font-weight: bold\">[</span><span style=\"color: #008080; text-decoration-color: #008080; font-weight: bold\">-0.926945</span>  , <span style=\"color: #008080; text-decoration-color: #008080; font-weight: bold\">-0.0640226</span> , <span style=\"color: #008080; text-decoration-color: #008080; font-weight: bold\">-0.36969435</span>, <span style=\"color: #008080; text-decoration-color: #008080; font-weight: bold\">-0.49896955</span><span style=\"font-weight: bold\">]</span>,\n",
       "       <span style=\"font-weight: bold\">[</span><span style=\"color: #008080; text-decoration-color: #008080; font-weight: bold\">-0.23928067</span>, <span style=\"color: #008080; text-decoration-color: #008080; font-weight: bold\">-0.6580764</span> ,  <span style=\"color: #008080; text-decoration-color: #008080; font-weight: bold\">0.7139187</span> ,  <span style=\"color: #008080; text-decoration-color: #008080; font-weight: bold\">0.6713877</span> <span style=\"font-weight: bold\">]</span>,\n",
       "       <span style=\"font-weight: bold\">[</span> <span style=\"color: #008080; text-decoration-color: #008080; font-weight: bold\">0</span>.        ,  <span style=\"color: #008080; text-decoration-color: #008080; font-weight: bold\">0</span>.        ,  <span style=\"color: #008080; text-decoration-color: #008080; font-weight: bold\">0</span>.        ,  <span style=\"color: #008080; text-decoration-color: #008080; font-weight: bold\">1</span>.        <span style=\"font-weight: bold\">]]</span>,      <span style=\"color: #808000; text-decoration-color: #808000\">dtype</span>=<span style=\"color: #800080; text-decoration-color: #800080\">float32</span><span style=\"font-weight: bold\">)</span>,\n",
       "    <span style=\"color: #808000; text-decoration-color: #808000\">params</span>=<span style=\"color: #800080; text-decoration-color: #800080; font-weight: bold\">Array</span><span style=\"font-weight: bold\">([</span><span style=\"color: #008080; text-decoration-color: #008080; font-weight: bold\">-0.04788339</span>,  <span style=\"color: #008080; text-decoration-color: #008080; font-weight: bold\">0.2073009</span> ,  <span style=\"color: #008080; text-decoration-color: #008080; font-weight: bold\">1.5027282</span> <span style=\"font-weight: bold\">]</span>, <span style=\"color: #808000; text-decoration-color: #808000\">dtype</span>=<span style=\"color: #800080; text-decoration-color: #800080\">float32</span><span style=\"font-weight: bold\">)</span>\n",
       "<span style=\"font-weight: bold\">)</span>\n",
       "</pre>\n"
      ],
      "text/plain": [
       "\u001b[1;35mObjectInfo\u001b[0m\u001b[1m(\u001b[0m\n",
       "    \u001b[33mparent_obj\u001b[0m=\u001b[1;35mArray\u001b[0m\u001b[1m(\u001b[0m\u001b[1;36m-1\u001b[0m, \u001b[33mdtype\u001b[0m=\u001b[35mint32\u001b[0m\u001b[1m)\u001b[0m,\n",
       "    \u001b[33mparent_face\u001b[0m=\u001b[1;35mArray\u001b[0m\u001b[1m(\u001b[0m\u001b[1;36m4\u001b[0m, \u001b[33mdtype\u001b[0m=\u001b[35mint32\u001b[0m\u001b[1m)\u001b[0m,\n",
       "    \u001b[33mchild_face\u001b[0m=\u001b[1;35mArray\u001b[0m\u001b[1m(\u001b[0m\u001b[1;36m1\u001b[0m, \u001b[33mdtype\u001b[0m=\u001b[35mint32\u001b[0m\u001b[1m)\u001b[0m,\n",
       "    \u001b[33mcategory_index\u001b[0m=\u001b[1;35mArray\u001b[0m\u001b[1m(\u001b[0m\u001b[1;36m1\u001b[0m, \u001b[33mdtype\u001b[0m=\u001b[35mint32\u001b[0m\u001b[1m)\u001b[0m,\n",
       "    \u001b[33mroot_pose\u001b[0m=\u001b[1;35mArray\u001b[0m\u001b[1m(\u001b[0m\u001b[1m[\u001b[0m\u001b[1m[\u001b[0m\u001b[1;36m-0.28899407\u001b[0m,  \u001b[1;36m0.75022423\u001b[0m,  \u001b[1;36m0.5946814\u001b[0m ,  \u001b[1;36m1.0423379\u001b[0m \u001b[1m]\u001b[0m,\n",
       "       \u001b[1m[\u001b[0m\u001b[1;36m-0.926945\u001b[0m  , \u001b[1;36m-0.0640226\u001b[0m , \u001b[1;36m-0.36969435\u001b[0m, \u001b[1;36m-0.49896955\u001b[0m\u001b[1m]\u001b[0m,\n",
       "       \u001b[1m[\u001b[0m\u001b[1;36m-0.23928067\u001b[0m, \u001b[1;36m-0.6580764\u001b[0m ,  \u001b[1;36m0.7139187\u001b[0m ,  \u001b[1;36m0.6713877\u001b[0m \u001b[1m]\u001b[0m,\n",
       "       \u001b[1m[\u001b[0m \u001b[1;36m0\u001b[0m.        ,  \u001b[1;36m0\u001b[0m.        ,  \u001b[1;36m0\u001b[0m.        ,  \u001b[1;36m1\u001b[0m.        \u001b[1m]\u001b[0m\u001b[1m]\u001b[0m,      \u001b[33mdtype\u001b[0m=\u001b[35mfloat32\u001b[0m\u001b[1m)\u001b[0m,\n",
       "    \u001b[33mparams\u001b[0m=\u001b[1;35mArray\u001b[0m\u001b[1m(\u001b[0m\u001b[1m[\u001b[0m\u001b[1;36m-0.04788339\u001b[0m,  \u001b[1;36m0.2073009\u001b[0m ,  \u001b[1;36m1.5027282\u001b[0m \u001b[1m]\u001b[0m, \u001b[33mdtype\u001b[0m=\u001b[35mfloat32\u001b[0m\u001b[1m)\u001b[0m\n",
       "\u001b[1m)\u001b[0m\n"
      ]
     },
     "metadata": {},
     "output_type": "display_data"
    }
   ],
   "source": [
    "console.print(trace.get_retval())"
   ]
  },
  {
   "cell_type": "markdown",
   "metadata": {},
   "source": [
    "We can also see the Gen ChoiceMap, which stores the names and values of all the random choices made during the generative process:"
   ]
  },
  {
   "cell_type": "code",
   "execution_count": 10,
   "metadata": {},
   "outputs": [
    {
     "data": {
      "text/html": [
       "<pre style=\"white-space:pre;overflow-x:auto;line-height:normal;font-family:Menlo,'DejaVu Sans Mono',consolas,'Courier New',monospace\"><span style=\"font-weight: bold\">(HierarchicalChoiceMap)</span>\n",
       "├── <span style=\"font-weight: bold\">:category_index</span>\n",
       "│   └── <span style=\"font-weight: bold\">(ValueChoice)</span>\n",
       "│       └──  i32[]\n",
       "├── <span style=\"font-weight: bold\">:parent_obj</span>\n",
       "│   └── <span style=\"font-weight: bold\">(ValueChoice)</span>\n",
       "│       └──  i32[]\n",
       "├── <span style=\"font-weight: bold\">:face_parent</span>\n",
       "│   └── <span style=\"font-weight: bold\">(ValueChoice)</span>\n",
       "│       └──  i32[]\n",
       "├── <span style=\"font-weight: bold\">:contact_params</span>\n",
       "│   └── <span style=\"font-weight: bold\">(ValueChoice)</span>\n",
       "│       └──  f32[3]\n",
       "├── <span style=\"font-weight: bold\">:face_child</span>\n",
       "│   └── <span style=\"font-weight: bold\">(ValueChoice)</span>\n",
       "│       └──  i32[]\n",
       "└── <span style=\"font-weight: bold\">:root_pose</span>\n",
       "    └── <span style=\"font-weight: bold\">(ValueChoice)</span>\n",
       "        └──  f32[4,4]\n",
       "</pre>\n"
      ],
      "text/plain": [
       "\u001b[1m(HierarchicalChoiceMap)\u001b[0m\n",
       "├── \u001b[1m:category_index\u001b[0m\n",
       "│   └── \u001b[1m(ValueChoice)\u001b[0m\n",
       "│       └──  i32[]\n",
       "├── \u001b[1m:parent_obj\u001b[0m\n",
       "│   └── \u001b[1m(ValueChoice)\u001b[0m\n",
       "│       └──  i32[]\n",
       "├── \u001b[1m:face_parent\u001b[0m\n",
       "│   └── \u001b[1m(ValueChoice)\u001b[0m\n",
       "│       └──  i32[]\n",
       "├── \u001b[1m:contact_params\u001b[0m\n",
       "│   └── \u001b[1m(ValueChoice)\u001b[0m\n",
       "│       └──  f32[3]\n",
       "├── \u001b[1m:face_child\u001b[0m\n",
       "│   └── \u001b[1m(ValueChoice)\u001b[0m\n",
       "│       └──  i32[]\n",
       "└── \u001b[1m:root_pose\u001b[0m\n",
       "    └── \u001b[1m(ValueChoice)\u001b[0m\n",
       "        └──  f32[4,4]\n"
      ]
     },
     "metadata": {},
     "output_type": "display_data"
    }
   ],
   "source": [
    "console.print(trace.get_choices())"
   ]
  },
  {
   "cell_type": "code",
   "execution_count": 11,
   "metadata": {},
   "outputs": [
    {
     "data": {
      "text/html": [
       "<pre style=\"white-space:pre;overflow-x:auto;line-height:normal;font-family:Menlo,'DejaVu Sans Mono',consolas,'Courier New',monospace\"><span style=\"color: #008080; text-decoration-color: #008080; font-weight: bold\">-1</span>\n",
       "</pre>\n"
      ],
      "text/plain": [
       "\u001b[1;36m-1\u001b[0m\n"
      ]
     },
     "metadata": {},
     "output_type": "display_data"
    }
   ],
   "source": [
    "console.print(trace.get_choices()[\"parent_obj\"])"
   ]
  },
  {
   "cell_type": "code",
   "execution_count": 12,
   "metadata": {},
   "outputs": [
    {
     "data": {
      "text/html": [
       "<pre style=\"white-space:pre;overflow-x:auto;line-height:normal;font-family:Menlo,'DejaVu Sans Mono',consolas,'Courier New',monospace\"><span style=\"color: #008080; text-decoration-color: #008080; font-weight: bold\">-1</span>\n",
       "</pre>\n"
      ],
      "text/plain": [
       "\u001b[1;36m-1\u001b[0m\n"
      ]
     },
     "metadata": {},
     "output_type": "display_data"
    }
   ],
   "source": [
    "# Or, syntactic sugar for the above:\n",
    "console.print(trace[\"parent_obj\"])"
   ]
  },
  {
   "cell_type": "markdown",
   "metadata": {},
   "source": [
    "## Masked object generation\n",
    "\n",
    "We are ultimately going to write a model which generates a random number of objects, up to `max_n_objects`.\n",
    "To facilitate inference on the GPU, in this notebook, we will set up the model in such a way that the memory layout of a `trace` object for the generative model is fixed, regardless of the number of objects in the trace.  (That is, we will allocate enough memory to store the biggest possible trace, and have a way to store in memory flag that indicate that parts of the memory have garbage values.)\n",
    "\n",
    "To enable this, we are going to construct a _masked_ version of the `generate_object` function.  That is, we will construct a new generative function, `masked_generate_object`, which will accept as arguments:\n",
    "1. A boolean `is_active`\n",
    "2. A tuple of arguments to `generate_object`\n",
    "\n",
    "This `masked_generate_object` function defines the following family of distributions (indexed by the arguments to the generative function):\n",
    "\n",
    "1. If `is_active` is false, it is a distribution on the set `{Mask(false, None)}`.  That is, it is a distribution which always returns an object equivalent to the Python object `genjax.Mask(false, None)`.  In this case, the trace of the generative function will not contain any random choices, and the output probability is 1.0.\n",
    "2. If `is_active` is true, it is a distribution on a space of values of the form `Mask(true, ObjectInfo)`, where the `ObjectInfo` is distributed according to `generate_object`."
   ]
  },
  {
   "cell_type": "code",
   "execution_count": 13,
   "metadata": {},
   "outputs": [],
   "source": [
    "masked_generate_object = genjax.masking_combinator(generate_object)"
   ]
  },
  {
   "cell_type": "markdown",
   "metadata": {},
   "source": [
    "Let's generate a trace:"
   ]
  },
  {
   "cell_type": "code",
   "execution_count": 14,
   "metadata": {},
   "outputs": [],
   "source": [
    "masked_generate_object_example_args = (\n",
    "    True,\n",
    "    generate_object_example_args\n",
    ")\n",
    "masked_trace = masked_generate_object.simulate(\n",
    "    key, masked_generate_object_example_args\n",
    ")"
   ]
  },
  {
   "cell_type": "code",
   "execution_count": 15,
   "metadata": {},
   "outputs": [
    {
     "data": {
      "text/html": [
       "<pre style=\"white-space:pre;overflow-x:auto;line-height:normal;font-family:Menlo,'DejaVu Sans Mono',consolas,'Courier New',monospace\"><span style=\"font-weight: bold\">(Mask, True)</span>\n",
       "└── <span style=\"font-weight: bold\">ObjectInfo</span>\n",
       "    ├── parent_obj\n",
       "    │   └──  i32[]\n",
       "    ├── parent_face\n",
       "    │   └──  i32[]\n",
       "    ├── child_face\n",
       "    │   └──  i32[]\n",
       "    ├── category_index\n",
       "    │   └──  i32[]\n",
       "    ├── root_pose\n",
       "    │   └──  f32[4,4]\n",
       "    └── params\n",
       "        └──  f32[3]\n",
       "</pre>\n"
      ],
      "text/plain": [
       "\u001b[1m(Mask, True)\u001b[0m\n",
       "└── \u001b[1mObjectInfo\u001b[0m\n",
       "    ├── parent_obj\n",
       "    │   └──  i32[]\n",
       "    ├── parent_face\n",
       "    │   └──  i32[]\n",
       "    ├── child_face\n",
       "    │   └──  i32[]\n",
       "    ├── category_index\n",
       "    │   └──  i32[]\n",
       "    ├── root_pose\n",
       "    │   └──  f32[4,4]\n",
       "    └── params\n",
       "        └──  f32[3]\n"
      ]
     },
     "metadata": {},
     "output_type": "display_data"
    }
   ],
   "source": [
    "masked_object_info = masked_trace.get_retval()\n",
    "console.print(masked_object_info)"
   ]
  },
  {
   "cell_type": "markdown",
   "metadata": {},
   "source": [
    "This is a `genjax.Mask` object with `mask = True`, meaning it indeed stores an object:"
   ]
  },
  {
   "cell_type": "code",
   "execution_count": 16,
   "metadata": {},
   "outputs": [
    {
     "data": {
      "text/plain": [
       "True"
      ]
     },
     "execution_count": 16,
     "metadata": {},
     "output_type": "execute_result"
    }
   ],
   "source": [
    "masked_object_info.mask"
   ]
  },
  {
   "cell_type": "code",
   "execution_count": 17,
   "metadata": {},
   "outputs": [
    {
     "data": {
      "text/html": [
       "<pre style=\"white-space:pre;overflow-x:auto;line-height:normal;font-family:Menlo,'DejaVu Sans Mono',consolas,'Courier New',monospace\"><span style=\"color: #800080; text-decoration-color: #800080; font-weight: bold\">ObjectInfo</span><span style=\"font-weight: bold\">(</span>\n",
       "    <span style=\"color: #808000; text-decoration-color: #808000\">parent_obj</span>=<span style=\"color: #800080; text-decoration-color: #800080; font-weight: bold\">Array</span><span style=\"font-weight: bold\">(</span><span style=\"color: #008080; text-decoration-color: #008080; font-weight: bold\">-1</span>, <span style=\"color: #808000; text-decoration-color: #808000\">dtype</span>=<span style=\"color: #800080; text-decoration-color: #800080\">int32</span><span style=\"font-weight: bold\">)</span>,\n",
       "    <span style=\"color: #808000; text-decoration-color: #808000\">parent_face</span>=<span style=\"color: #800080; text-decoration-color: #800080; font-weight: bold\">Array</span><span style=\"font-weight: bold\">(</span><span style=\"color: #008080; text-decoration-color: #008080; font-weight: bold\">4</span>, <span style=\"color: #808000; text-decoration-color: #808000\">dtype</span>=<span style=\"color: #800080; text-decoration-color: #800080\">int32</span><span style=\"font-weight: bold\">)</span>,\n",
       "    <span style=\"color: #808000; text-decoration-color: #808000\">child_face</span>=<span style=\"color: #800080; text-decoration-color: #800080; font-weight: bold\">Array</span><span style=\"font-weight: bold\">(</span><span style=\"color: #008080; text-decoration-color: #008080; font-weight: bold\">1</span>, <span style=\"color: #808000; text-decoration-color: #808000\">dtype</span>=<span style=\"color: #800080; text-decoration-color: #800080\">int32</span><span style=\"font-weight: bold\">)</span>,\n",
       "    <span style=\"color: #808000; text-decoration-color: #808000\">category_index</span>=<span style=\"color: #800080; text-decoration-color: #800080; font-weight: bold\">Array</span><span style=\"font-weight: bold\">(</span><span style=\"color: #008080; text-decoration-color: #008080; font-weight: bold\">1</span>, <span style=\"color: #808000; text-decoration-color: #808000\">dtype</span>=<span style=\"color: #800080; text-decoration-color: #800080\">int32</span><span style=\"font-weight: bold\">)</span>,\n",
       "    <span style=\"color: #808000; text-decoration-color: #808000\">root_pose</span>=<span style=\"color: #800080; text-decoration-color: #800080; font-weight: bold\">Array</span><span style=\"font-weight: bold\">([[</span><span style=\"color: #008080; text-decoration-color: #008080; font-weight: bold\">-0.28899407</span>,  <span style=\"color: #008080; text-decoration-color: #008080; font-weight: bold\">0.75022423</span>,  <span style=\"color: #008080; text-decoration-color: #008080; font-weight: bold\">0.5946814</span> ,  <span style=\"color: #008080; text-decoration-color: #008080; font-weight: bold\">1.0423379</span> <span style=\"font-weight: bold\">]</span>,\n",
       "       <span style=\"font-weight: bold\">[</span><span style=\"color: #008080; text-decoration-color: #008080; font-weight: bold\">-0.926945</span>  , <span style=\"color: #008080; text-decoration-color: #008080; font-weight: bold\">-0.0640226</span> , <span style=\"color: #008080; text-decoration-color: #008080; font-weight: bold\">-0.36969435</span>, <span style=\"color: #008080; text-decoration-color: #008080; font-weight: bold\">-0.49896955</span><span style=\"font-weight: bold\">]</span>,\n",
       "       <span style=\"font-weight: bold\">[</span><span style=\"color: #008080; text-decoration-color: #008080; font-weight: bold\">-0.23928067</span>, <span style=\"color: #008080; text-decoration-color: #008080; font-weight: bold\">-0.6580764</span> ,  <span style=\"color: #008080; text-decoration-color: #008080; font-weight: bold\">0.7139187</span> ,  <span style=\"color: #008080; text-decoration-color: #008080; font-weight: bold\">0.6713877</span> <span style=\"font-weight: bold\">]</span>,\n",
       "       <span style=\"font-weight: bold\">[</span> <span style=\"color: #008080; text-decoration-color: #008080; font-weight: bold\">0</span>.        ,  <span style=\"color: #008080; text-decoration-color: #008080; font-weight: bold\">0</span>.        ,  <span style=\"color: #008080; text-decoration-color: #008080; font-weight: bold\">0</span>.        ,  <span style=\"color: #008080; text-decoration-color: #008080; font-weight: bold\">1</span>.        <span style=\"font-weight: bold\">]]</span>,      <span style=\"color: #808000; text-decoration-color: #808000\">dtype</span>=<span style=\"color: #800080; text-decoration-color: #800080\">float32</span><span style=\"font-weight: bold\">)</span>,\n",
       "    <span style=\"color: #808000; text-decoration-color: #808000\">params</span>=<span style=\"color: #800080; text-decoration-color: #800080; font-weight: bold\">Array</span><span style=\"font-weight: bold\">([</span><span style=\"color: #008080; text-decoration-color: #008080; font-weight: bold\">-0.04788339</span>,  <span style=\"color: #008080; text-decoration-color: #008080; font-weight: bold\">0.2073009</span> ,  <span style=\"color: #008080; text-decoration-color: #008080; font-weight: bold\">1.5027282</span> <span style=\"font-weight: bold\">]</span>, <span style=\"color: #808000; text-decoration-color: #808000\">dtype</span>=<span style=\"color: #800080; text-decoration-color: #800080\">float32</span><span style=\"font-weight: bold\">)</span>\n",
       "<span style=\"font-weight: bold\">)</span>\n",
       "</pre>\n"
      ],
      "text/plain": [
       "\u001b[1;35mObjectInfo\u001b[0m\u001b[1m(\u001b[0m\n",
       "    \u001b[33mparent_obj\u001b[0m=\u001b[1;35mArray\u001b[0m\u001b[1m(\u001b[0m\u001b[1;36m-1\u001b[0m, \u001b[33mdtype\u001b[0m=\u001b[35mint32\u001b[0m\u001b[1m)\u001b[0m,\n",
       "    \u001b[33mparent_face\u001b[0m=\u001b[1;35mArray\u001b[0m\u001b[1m(\u001b[0m\u001b[1;36m4\u001b[0m, \u001b[33mdtype\u001b[0m=\u001b[35mint32\u001b[0m\u001b[1m)\u001b[0m,\n",
       "    \u001b[33mchild_face\u001b[0m=\u001b[1;35mArray\u001b[0m\u001b[1m(\u001b[0m\u001b[1;36m1\u001b[0m, \u001b[33mdtype\u001b[0m=\u001b[35mint32\u001b[0m\u001b[1m)\u001b[0m,\n",
       "    \u001b[33mcategory_index\u001b[0m=\u001b[1;35mArray\u001b[0m\u001b[1m(\u001b[0m\u001b[1;36m1\u001b[0m, \u001b[33mdtype\u001b[0m=\u001b[35mint32\u001b[0m\u001b[1m)\u001b[0m,\n",
       "    \u001b[33mroot_pose\u001b[0m=\u001b[1;35mArray\u001b[0m\u001b[1m(\u001b[0m\u001b[1m[\u001b[0m\u001b[1m[\u001b[0m\u001b[1;36m-0.28899407\u001b[0m,  \u001b[1;36m0.75022423\u001b[0m,  \u001b[1;36m0.5946814\u001b[0m ,  \u001b[1;36m1.0423379\u001b[0m \u001b[1m]\u001b[0m,\n",
       "       \u001b[1m[\u001b[0m\u001b[1;36m-0.926945\u001b[0m  , \u001b[1;36m-0.0640226\u001b[0m , \u001b[1;36m-0.36969435\u001b[0m, \u001b[1;36m-0.49896955\u001b[0m\u001b[1m]\u001b[0m,\n",
       "       \u001b[1m[\u001b[0m\u001b[1;36m-0.23928067\u001b[0m, \u001b[1;36m-0.6580764\u001b[0m ,  \u001b[1;36m0.7139187\u001b[0m ,  \u001b[1;36m0.6713877\u001b[0m \u001b[1m]\u001b[0m,\n",
       "       \u001b[1m[\u001b[0m \u001b[1;36m0\u001b[0m.        ,  \u001b[1;36m0\u001b[0m.        ,  \u001b[1;36m0\u001b[0m.        ,  \u001b[1;36m1\u001b[0m.        \u001b[1m]\u001b[0m\u001b[1m]\u001b[0m,      \u001b[33mdtype\u001b[0m=\u001b[35mfloat32\u001b[0m\u001b[1m)\u001b[0m,\n",
       "    \u001b[33mparams\u001b[0m=\u001b[1;35mArray\u001b[0m\u001b[1m(\u001b[0m\u001b[1m[\u001b[0m\u001b[1;36m-0.04788339\u001b[0m,  \u001b[1;36m0.2073009\u001b[0m ,  \u001b[1;36m1.5027282\u001b[0m \u001b[1m]\u001b[0m, \u001b[33mdtype\u001b[0m=\u001b[35mfloat32\u001b[0m\u001b[1m)\u001b[0m\n",
       "\u001b[1m)\u001b[0m\n"
      ]
     },
     "metadata": {},
     "output_type": "display_data"
    }
   ],
   "source": [
    "console.print(masked_object_info.unmask())"
   ]
  },
  {
   "cell_type": "markdown",
   "metadata": {},
   "source": [
    "Now let's run this function with `is_active = False`:"
   ]
  },
  {
   "cell_type": "code",
   "execution_count": 18,
   "metadata": {},
   "outputs": [],
   "source": [
    "masked_trace_2 = masked_generate_object.simulate(\n",
    "    key, (False, generate_object_example_args)\n",
    ")"
   ]
  },
  {
   "cell_type": "code",
   "execution_count": 19,
   "metadata": {},
   "outputs": [
    {
     "data": {
      "text/html": [
       "<pre style=\"white-space:pre;overflow-x:auto;line-height:normal;font-family:Menlo,'DejaVu Sans Mono',consolas,'Courier New',monospace\"><span style=\"font-weight: bold\">(Mask, False)</span>\n",
       "└── <span style=\"font-weight: bold\">ObjectInfo</span>\n",
       "    ├── parent_obj\n",
       "    │   └──  i32[]\n",
       "    ├── parent_face\n",
       "    │   └──  i32[]\n",
       "    ├── child_face\n",
       "    │   └──  i32[]\n",
       "    ├── category_index\n",
       "    │   └──  i32[]\n",
       "    ├── root_pose\n",
       "    │   └──  f32[4,4]\n",
       "    └── params\n",
       "        └──  f32[3]\n",
       "</pre>\n"
      ],
      "text/plain": [
       "\u001b[1m(Mask, False)\u001b[0m\n",
       "└── \u001b[1mObjectInfo\u001b[0m\n",
       "    ├── parent_obj\n",
       "    │   └──  i32[]\n",
       "    ├── parent_face\n",
       "    │   └──  i32[]\n",
       "    ├── child_face\n",
       "    │   └──  i32[]\n",
       "    ├── category_index\n",
       "    │   └──  i32[]\n",
       "    ├── root_pose\n",
       "    │   └──  f32[4,4]\n",
       "    └── params\n",
       "        └──  f32[3]\n"
      ]
     },
     "metadata": {},
     "output_type": "display_data"
    }
   ],
   "source": [
    "masked_object_info_2 = masked_trace_2.get_retval()\n",
    "console.print(masked_object_info_2)"
   ]
  },
  {
   "cell_type": "markdown",
   "metadata": {},
   "source": [
    "This has masked_object_info_2.mask = False, meaning we should consider any bits stored in this `Mask` object to be garbage without semantic meaning."
   ]
  },
  {
   "cell_type": "code",
   "execution_count": 20,
   "metadata": {},
   "outputs": [
    {
     "data": {
      "text/plain": [
       "False"
      ]
     },
     "execution_count": 20,
     "metadata": {},
     "output_type": "execute_result"
    }
   ],
   "source": [
    "masked_object_info_2.mask"
   ]
  },
  {
   "cell_type": "markdown",
   "metadata": {},
   "source": [
    "The log probability of this trace is 0.0, that is, the probability of this trace is 1.0.  This is because no random choices were made in the generative process that produced this trace, which just returns a constant `Mask(false, None)` value (or some other sequence of bits considered semantically equivalent to this)."
   ]
  },
  {
   "cell_type": "code",
   "execution_count": 21,
   "metadata": {},
   "outputs": [
    {
     "data": {
      "text/html": [
       "<pre style=\"white-space:pre;overflow-x:auto;line-height:normal;font-family:Menlo,'DejaVu Sans Mono',consolas,'Courier New',monospace\"><span style=\"color: #008080; text-decoration-color: #008080; font-weight: bold\">0.0</span>\n",
       "</pre>\n"
      ],
      "text/plain": [
       "\u001b[1;36m0.0\u001b[0m\n"
      ]
     },
     "metadata": {},
     "output_type": "display_data"
    }
   ],
   "source": [
    "console.print(masked_trace_2.get_score())"
   ]
  },
  {
   "cell_type": "markdown",
   "metadata": {},
   "source": [
    "Conversely, the first trace has nonzero log probability:"
   ]
  },
  {
   "cell_type": "code",
   "execution_count": 22,
   "metadata": {},
   "outputs": [
    {
     "data": {
      "text/html": [
       "<pre style=\"white-space:pre;overflow-x:auto;line-height:normal;font-family:Menlo,'DejaVu Sans Mono',consolas,'Courier New',monospace\"><span style=\"color: #008080; text-decoration-color: #008080; font-weight: bold\">-1.0969695</span>\n",
       "</pre>\n"
      ],
      "text/plain": [
       "\u001b[1;36m-1.0969695\u001b[0m\n"
      ]
     },
     "metadata": {},
     "output_type": "display_data"
    }
   ],
   "source": [
    "console.print(masked_trace.get_score())"
   ]
  },
  {
   "cell_type": "markdown",
   "metadata": {},
   "source": [
    "It is unsafe to call `Mask.unmask` on `Mask` values with `mask = False`.  Instead, genjax provides a `Mask.match` function which can be used to safely extract values from a `Mask`.\n",
    "\n",
    "`Mask.match` accepts as input (1) a function that returns a default value to output when `mask = False`, and (2) a function of the data stored in the `Mask`, to output when `mask = True`."
   ]
  },
  {
   "cell_type": "code",
   "execution_count": 23,
   "metadata": {},
   "outputs": [
    {
     "data": {
      "text/html": [
       "<pre style=\"white-space:pre;overflow-x:auto;line-height:normal;font-family:Menlo,'DejaVu Sans Mono',consolas,'Courier New',monospace\"><span style=\"color: #008080; text-decoration-color: #008080; font-weight: bold\">1</span>\n",
       "</pre>\n"
      ],
      "text/plain": [
       "\u001b[1;36m1\u001b[0m\n"
      ]
     },
     "metadata": {},
     "output_type": "display_data"
    }
   ],
   "source": [
    "get_default = lambda: -1000\n",
    "get_cat_idx = lambda obj: obj.category_index\n",
    "console.print(\n",
    "    masked_object_info.match(get_default, get_cat_idx)\n",
    ")"
   ]
  },
  {
   "cell_type": "code",
   "execution_count": 24,
   "metadata": {},
   "outputs": [
    {
     "data": {
      "text/html": [
       "<pre style=\"white-space:pre;overflow-x:auto;line-height:normal;font-family:Menlo,'DejaVu Sans Mono',consolas,'Courier New',monospace\"><span style=\"color: #008080; text-decoration-color: #008080; font-weight: bold\">-1000</span>\n",
       "</pre>\n"
      ],
      "text/plain": [
       "\u001b[1;36m-1000\u001b[0m\n"
      ]
     },
     "metadata": {},
     "output_type": "display_data"
    }
   ],
   "source": [
    "console.print(\n",
    "    masked_object_info_2.match(get_default, get_cat_idx)\n",
    ")"
   ]
  },
  {
   "cell_type": "markdown",
   "metadata": {},
   "source": [
    "One restriction is that the two functions must return values which have the same \"shape\", meaning that Python and JAX understand how to fit the output values into the same memory layout.  This is why we defined the `empty_object_info` type above."
   ]
  },
  {
   "cell_type": "code",
   "execution_count": 25,
   "metadata": {},
   "outputs": [
    {
     "data": {
      "text/html": [
       "<pre style=\"white-space:pre;overflow-x:auto;line-height:normal;font-family:Menlo,'DejaVu Sans Mono',consolas,'Courier New',monospace\"><span style=\"color: #800080; text-decoration-color: #800080; font-weight: bold\">ObjectInfo</span><span style=\"font-weight: bold\">(</span>\n",
       "    <span style=\"color: #808000; text-decoration-color: #808000\">parent_obj</span>=<span style=\"color: #800080; text-decoration-color: #800080; font-weight: bold\">Array</span><span style=\"font-weight: bold\">(</span><span style=\"color: #008080; text-decoration-color: #008080; font-weight: bold\">-1</span>, <span style=\"color: #808000; text-decoration-color: #808000\">dtype</span>=<span style=\"color: #800080; text-decoration-color: #800080\">int32</span>, <span style=\"color: #808000; text-decoration-color: #808000\">weak_type</span>=<span style=\"color: #00ff00; text-decoration-color: #00ff00; font-style: italic\">True</span><span style=\"font-weight: bold\">)</span>,\n",
       "    <span style=\"color: #808000; text-decoration-color: #808000\">parent_face</span>=<span style=\"color: #800080; text-decoration-color: #800080; font-weight: bold\">Array</span><span style=\"font-weight: bold\">(</span><span style=\"color: #008080; text-decoration-color: #008080; font-weight: bold\">4</span>, <span style=\"color: #808000; text-decoration-color: #808000\">dtype</span>=<span style=\"color: #800080; text-decoration-color: #800080\">int32</span>, <span style=\"color: #808000; text-decoration-color: #808000\">weak_type</span>=<span style=\"color: #00ff00; text-decoration-color: #00ff00; font-style: italic\">True</span><span style=\"font-weight: bold\">)</span>,\n",
       "    <span style=\"color: #808000; text-decoration-color: #808000\">child_face</span>=<span style=\"color: #800080; text-decoration-color: #800080; font-weight: bold\">Array</span><span style=\"font-weight: bold\">(</span><span style=\"color: #008080; text-decoration-color: #008080; font-weight: bold\">1</span>, <span style=\"color: #808000; text-decoration-color: #808000\">dtype</span>=<span style=\"color: #800080; text-decoration-color: #800080\">int32</span>, <span style=\"color: #808000; text-decoration-color: #808000\">weak_type</span>=<span style=\"color: #00ff00; text-decoration-color: #00ff00; font-style: italic\">True</span><span style=\"font-weight: bold\">)</span>,\n",
       "    <span style=\"color: #808000; text-decoration-color: #808000\">category_index</span>=<span style=\"color: #800080; text-decoration-color: #800080; font-weight: bold\">Array</span><span style=\"font-weight: bold\">(</span><span style=\"color: #008080; text-decoration-color: #008080; font-weight: bold\">1</span>, <span style=\"color: #808000; text-decoration-color: #808000\">dtype</span>=<span style=\"color: #800080; text-decoration-color: #800080\">int32</span>, <span style=\"color: #808000; text-decoration-color: #808000\">weak_type</span>=<span style=\"color: #00ff00; text-decoration-color: #00ff00; font-style: italic\">True</span><span style=\"font-weight: bold\">)</span>,\n",
       "    <span style=\"color: #808000; text-decoration-color: #808000\">root_pose</span>=<span style=\"color: #800080; text-decoration-color: #800080; font-weight: bold\">Array</span><span style=\"font-weight: bold\">([[</span><span style=\"color: #008080; text-decoration-color: #008080; font-weight: bold\">-0.28899407</span>,  <span style=\"color: #008080; text-decoration-color: #008080; font-weight: bold\">0.75022423</span>,  <span style=\"color: #008080; text-decoration-color: #008080; font-weight: bold\">0.5946814</span> ,  <span style=\"color: #008080; text-decoration-color: #008080; font-weight: bold\">1.0423379</span> <span style=\"font-weight: bold\">]</span>,\n",
       "       <span style=\"font-weight: bold\">[</span><span style=\"color: #008080; text-decoration-color: #008080; font-weight: bold\">-0.926945</span>  , <span style=\"color: #008080; text-decoration-color: #008080; font-weight: bold\">-0.0640226</span> , <span style=\"color: #008080; text-decoration-color: #008080; font-weight: bold\">-0.36969435</span>, <span style=\"color: #008080; text-decoration-color: #008080; font-weight: bold\">-0.49896955</span><span style=\"font-weight: bold\">]</span>,\n",
       "       <span style=\"font-weight: bold\">[</span><span style=\"color: #008080; text-decoration-color: #008080; font-weight: bold\">-0.23928067</span>, <span style=\"color: #008080; text-decoration-color: #008080; font-weight: bold\">-0.6580764</span> ,  <span style=\"color: #008080; text-decoration-color: #008080; font-weight: bold\">0.7139187</span> ,  <span style=\"color: #008080; text-decoration-color: #008080; font-weight: bold\">0.6713877</span> <span style=\"font-weight: bold\">]</span>,\n",
       "       <span style=\"font-weight: bold\">[</span> <span style=\"color: #008080; text-decoration-color: #008080; font-weight: bold\">0</span>.        ,  <span style=\"color: #008080; text-decoration-color: #008080; font-weight: bold\">0</span>.        ,  <span style=\"color: #008080; text-decoration-color: #008080; font-weight: bold\">0</span>.        ,  <span style=\"color: #008080; text-decoration-color: #008080; font-weight: bold\">1</span>.        <span style=\"font-weight: bold\">]]</span>,      <span style=\"color: #808000; text-decoration-color: #808000\">dtype</span>=<span style=\"color: #800080; text-decoration-color: #800080\">float32</span><span style=\"font-weight: bold\">)</span>,\n",
       "    <span style=\"color: #808000; text-decoration-color: #808000\">params</span>=<span style=\"color: #800080; text-decoration-color: #800080; font-weight: bold\">Array</span><span style=\"font-weight: bold\">([</span><span style=\"color: #008080; text-decoration-color: #008080; font-weight: bold\">-0.04788339</span>,  <span style=\"color: #008080; text-decoration-color: #008080; font-weight: bold\">0.2073009</span> ,  <span style=\"color: #008080; text-decoration-color: #008080; font-weight: bold\">1.5027282</span> <span style=\"font-weight: bold\">]</span>, <span style=\"color: #808000; text-decoration-color: #808000\">dtype</span>=<span style=\"color: #800080; text-decoration-color: #800080\">float32</span><span style=\"font-weight: bold\">)</span>\n",
       "<span style=\"font-weight: bold\">)</span>\n",
       "</pre>\n"
      ],
      "text/plain": [
       "\u001b[1;35mObjectInfo\u001b[0m\u001b[1m(\u001b[0m\n",
       "    \u001b[33mparent_obj\u001b[0m=\u001b[1;35mArray\u001b[0m\u001b[1m(\u001b[0m\u001b[1;36m-1\u001b[0m, \u001b[33mdtype\u001b[0m=\u001b[35mint32\u001b[0m, \u001b[33mweak_type\u001b[0m=\u001b[3;92mTrue\u001b[0m\u001b[1m)\u001b[0m,\n",
       "    \u001b[33mparent_face\u001b[0m=\u001b[1;35mArray\u001b[0m\u001b[1m(\u001b[0m\u001b[1;36m4\u001b[0m, \u001b[33mdtype\u001b[0m=\u001b[35mint32\u001b[0m, \u001b[33mweak_type\u001b[0m=\u001b[3;92mTrue\u001b[0m\u001b[1m)\u001b[0m,\n",
       "    \u001b[33mchild_face\u001b[0m=\u001b[1;35mArray\u001b[0m\u001b[1m(\u001b[0m\u001b[1;36m1\u001b[0m, \u001b[33mdtype\u001b[0m=\u001b[35mint32\u001b[0m, \u001b[33mweak_type\u001b[0m=\u001b[3;92mTrue\u001b[0m\u001b[1m)\u001b[0m,\n",
       "    \u001b[33mcategory_index\u001b[0m=\u001b[1;35mArray\u001b[0m\u001b[1m(\u001b[0m\u001b[1;36m1\u001b[0m, \u001b[33mdtype\u001b[0m=\u001b[35mint32\u001b[0m, \u001b[33mweak_type\u001b[0m=\u001b[3;92mTrue\u001b[0m\u001b[1m)\u001b[0m,\n",
       "    \u001b[33mroot_pose\u001b[0m=\u001b[1;35mArray\u001b[0m\u001b[1m(\u001b[0m\u001b[1m[\u001b[0m\u001b[1m[\u001b[0m\u001b[1;36m-0.28899407\u001b[0m,  \u001b[1;36m0.75022423\u001b[0m,  \u001b[1;36m0.5946814\u001b[0m ,  \u001b[1;36m1.0423379\u001b[0m \u001b[1m]\u001b[0m,\n",
       "       \u001b[1m[\u001b[0m\u001b[1;36m-0.926945\u001b[0m  , \u001b[1;36m-0.0640226\u001b[0m , \u001b[1;36m-0.36969435\u001b[0m, \u001b[1;36m-0.49896955\u001b[0m\u001b[1m]\u001b[0m,\n",
       "       \u001b[1m[\u001b[0m\u001b[1;36m-0.23928067\u001b[0m, \u001b[1;36m-0.6580764\u001b[0m ,  \u001b[1;36m0.7139187\u001b[0m ,  \u001b[1;36m0.6713877\u001b[0m \u001b[1m]\u001b[0m,\n",
       "       \u001b[1m[\u001b[0m \u001b[1;36m0\u001b[0m.        ,  \u001b[1;36m0\u001b[0m.        ,  \u001b[1;36m0\u001b[0m.        ,  \u001b[1;36m1\u001b[0m.        \u001b[1m]\u001b[0m\u001b[1m]\u001b[0m,      \u001b[33mdtype\u001b[0m=\u001b[35mfloat32\u001b[0m\u001b[1m)\u001b[0m,\n",
       "    \u001b[33mparams\u001b[0m=\u001b[1;35mArray\u001b[0m\u001b[1m(\u001b[0m\u001b[1m[\u001b[0m\u001b[1;36m-0.04788339\u001b[0m,  \u001b[1;36m0.2073009\u001b[0m ,  \u001b[1;36m1.5027282\u001b[0m \u001b[1m]\u001b[0m, \u001b[33mdtype\u001b[0m=\u001b[35mfloat32\u001b[0m\u001b[1m)\u001b[0m\n",
       "\u001b[1m)\u001b[0m\n"
      ]
     },
     "metadata": {},
     "output_type": "display_data"
    }
   ],
   "source": [
    "console.print(\n",
    "    masked_object_info.match(\n",
    "        lambda: empty_object_info(),\n",
    "        lambda obj_info: obj_info\n",
    "        )\n",
    ")"
   ]
  },
  {
   "cell_type": "code",
   "execution_count": 26,
   "metadata": {},
   "outputs": [
    {
     "data": {
      "text/html": [
       "<pre style=\"white-space:pre;overflow-x:auto;line-height:normal;font-family:Menlo,'DejaVu Sans Mono',consolas,'Courier New',monospace\"><span style=\"color: #800080; text-decoration-color: #800080; font-weight: bold\">ObjectInfo</span><span style=\"font-weight: bold\">(</span>\n",
       "    <span style=\"color: #808000; text-decoration-color: #808000\">parent_obj</span>=<span style=\"color: #800080; text-decoration-color: #800080; font-weight: bold\">Array</span><span style=\"font-weight: bold\">(</span><span style=\"color: #008080; text-decoration-color: #008080; font-weight: bold\">-1000</span>, <span style=\"color: #808000; text-decoration-color: #808000\">dtype</span>=<span style=\"color: #800080; text-decoration-color: #800080\">int32</span>, <span style=\"color: #808000; text-decoration-color: #808000\">weak_type</span>=<span style=\"color: #00ff00; text-decoration-color: #00ff00; font-style: italic\">True</span><span style=\"font-weight: bold\">)</span>,\n",
       "    <span style=\"color: #808000; text-decoration-color: #808000\">parent_face</span>=<span style=\"color: #800080; text-decoration-color: #800080; font-weight: bold\">Array</span><span style=\"font-weight: bold\">(</span><span style=\"color: #008080; text-decoration-color: #008080; font-weight: bold\">-1000</span>, <span style=\"color: #808000; text-decoration-color: #808000\">dtype</span>=<span style=\"color: #800080; text-decoration-color: #800080\">int32</span>, <span style=\"color: #808000; text-decoration-color: #808000\">weak_type</span>=<span style=\"color: #00ff00; text-decoration-color: #00ff00; font-style: italic\">True</span><span style=\"font-weight: bold\">)</span>,\n",
       "    <span style=\"color: #808000; text-decoration-color: #808000\">child_face</span>=<span style=\"color: #800080; text-decoration-color: #800080; font-weight: bold\">Array</span><span style=\"font-weight: bold\">(</span><span style=\"color: #008080; text-decoration-color: #008080; font-weight: bold\">-1000</span>, <span style=\"color: #808000; text-decoration-color: #808000\">dtype</span>=<span style=\"color: #800080; text-decoration-color: #800080\">int32</span>, <span style=\"color: #808000; text-decoration-color: #808000\">weak_type</span>=<span style=\"color: #00ff00; text-decoration-color: #00ff00; font-style: italic\">True</span><span style=\"font-weight: bold\">)</span>,\n",
       "    <span style=\"color: #808000; text-decoration-color: #808000\">category_index</span>=<span style=\"color: #800080; text-decoration-color: #800080; font-weight: bold\">Array</span><span style=\"font-weight: bold\">(</span><span style=\"color: #008080; text-decoration-color: #008080; font-weight: bold\">-1000</span>, <span style=\"color: #808000; text-decoration-color: #808000\">dtype</span>=<span style=\"color: #800080; text-decoration-color: #800080\">int32</span>, <span style=\"color: #808000; text-decoration-color: #808000\">weak_type</span>=<span style=\"color: #00ff00; text-decoration-color: #00ff00; font-style: italic\">True</span><span style=\"font-weight: bold\">)</span>,\n",
       "    <span style=\"color: #808000; text-decoration-color: #808000\">root_pose</span>=<span style=\"color: #800080; text-decoration-color: #800080; font-weight: bold\">Array</span><span style=\"font-weight: bold\">([[</span><span style=\"color: #008080; text-decoration-color: #008080; font-weight: bold\">0</span>., <span style=\"color: #008080; text-decoration-color: #008080; font-weight: bold\">0</span>., <span style=\"color: #008080; text-decoration-color: #008080; font-weight: bold\">0</span>., <span style=\"color: #008080; text-decoration-color: #008080; font-weight: bold\">0</span>.<span style=\"font-weight: bold\">]</span>,\n",
       "       <span style=\"font-weight: bold\">[</span><span style=\"color: #008080; text-decoration-color: #008080; font-weight: bold\">0</span>., <span style=\"color: #008080; text-decoration-color: #008080; font-weight: bold\">0</span>., <span style=\"color: #008080; text-decoration-color: #008080; font-weight: bold\">0</span>., <span style=\"color: #008080; text-decoration-color: #008080; font-weight: bold\">0</span>.<span style=\"font-weight: bold\">]</span>,\n",
       "       <span style=\"font-weight: bold\">[</span><span style=\"color: #008080; text-decoration-color: #008080; font-weight: bold\">0</span>., <span style=\"color: #008080; text-decoration-color: #008080; font-weight: bold\">0</span>., <span style=\"color: #008080; text-decoration-color: #008080; font-weight: bold\">0</span>., <span style=\"color: #008080; text-decoration-color: #008080; font-weight: bold\">0</span>.<span style=\"font-weight: bold\">]</span>,\n",
       "       <span style=\"font-weight: bold\">[</span><span style=\"color: #008080; text-decoration-color: #008080; font-weight: bold\">0</span>., <span style=\"color: #008080; text-decoration-color: #008080; font-weight: bold\">0</span>., <span style=\"color: #008080; text-decoration-color: #008080; font-weight: bold\">0</span>., <span style=\"color: #008080; text-decoration-color: #008080; font-weight: bold\">0</span>.<span style=\"font-weight: bold\">]]</span>, <span style=\"color: #808000; text-decoration-color: #808000\">dtype</span>=<span style=\"color: #800080; text-decoration-color: #800080\">float32</span><span style=\"font-weight: bold\">)</span>,\n",
       "    <span style=\"color: #808000; text-decoration-color: #808000\">params</span>=<span style=\"color: #800080; text-decoration-color: #800080; font-weight: bold\">Array</span><span style=\"font-weight: bold\">([</span><span style=\"color: #008080; text-decoration-color: #008080; font-weight: bold\">-10000</span>., <span style=\"color: #008080; text-decoration-color: #008080; font-weight: bold\">-10000</span>., <span style=\"color: #008080; text-decoration-color: #008080; font-weight: bold\">-10000</span>.<span style=\"font-weight: bold\">]</span>, <span style=\"color: #808000; text-decoration-color: #808000\">dtype</span>=<span style=\"color: #800080; text-decoration-color: #800080\">float32</span><span style=\"font-weight: bold\">)</span>\n",
       "<span style=\"font-weight: bold\">)</span>\n",
       "</pre>\n"
      ],
      "text/plain": [
       "\u001b[1;35mObjectInfo\u001b[0m\u001b[1m(\u001b[0m\n",
       "    \u001b[33mparent_obj\u001b[0m=\u001b[1;35mArray\u001b[0m\u001b[1m(\u001b[0m\u001b[1;36m-1000\u001b[0m, \u001b[33mdtype\u001b[0m=\u001b[35mint32\u001b[0m, \u001b[33mweak_type\u001b[0m=\u001b[3;92mTrue\u001b[0m\u001b[1m)\u001b[0m,\n",
       "    \u001b[33mparent_face\u001b[0m=\u001b[1;35mArray\u001b[0m\u001b[1m(\u001b[0m\u001b[1;36m-1000\u001b[0m, \u001b[33mdtype\u001b[0m=\u001b[35mint32\u001b[0m, \u001b[33mweak_type\u001b[0m=\u001b[3;92mTrue\u001b[0m\u001b[1m)\u001b[0m,\n",
       "    \u001b[33mchild_face\u001b[0m=\u001b[1;35mArray\u001b[0m\u001b[1m(\u001b[0m\u001b[1;36m-1000\u001b[0m, \u001b[33mdtype\u001b[0m=\u001b[35mint32\u001b[0m, \u001b[33mweak_type\u001b[0m=\u001b[3;92mTrue\u001b[0m\u001b[1m)\u001b[0m,\n",
       "    \u001b[33mcategory_index\u001b[0m=\u001b[1;35mArray\u001b[0m\u001b[1m(\u001b[0m\u001b[1;36m-1000\u001b[0m, \u001b[33mdtype\u001b[0m=\u001b[35mint32\u001b[0m, \u001b[33mweak_type\u001b[0m=\u001b[3;92mTrue\u001b[0m\u001b[1m)\u001b[0m,\n",
       "    \u001b[33mroot_pose\u001b[0m=\u001b[1;35mArray\u001b[0m\u001b[1m(\u001b[0m\u001b[1m[\u001b[0m\u001b[1m[\u001b[0m\u001b[1;36m0\u001b[0m., \u001b[1;36m0\u001b[0m., \u001b[1;36m0\u001b[0m., \u001b[1;36m0\u001b[0m.\u001b[1m]\u001b[0m,\n",
       "       \u001b[1m[\u001b[0m\u001b[1;36m0\u001b[0m., \u001b[1;36m0\u001b[0m., \u001b[1;36m0\u001b[0m., \u001b[1;36m0\u001b[0m.\u001b[1m]\u001b[0m,\n",
       "       \u001b[1m[\u001b[0m\u001b[1;36m0\u001b[0m., \u001b[1;36m0\u001b[0m., \u001b[1;36m0\u001b[0m., \u001b[1;36m0\u001b[0m.\u001b[1m]\u001b[0m,\n",
       "       \u001b[1m[\u001b[0m\u001b[1;36m0\u001b[0m., \u001b[1;36m0\u001b[0m., \u001b[1;36m0\u001b[0m., \u001b[1;36m0\u001b[0m.\u001b[1m]\u001b[0m\u001b[1m]\u001b[0m, \u001b[33mdtype\u001b[0m=\u001b[35mfloat32\u001b[0m\u001b[1m)\u001b[0m,\n",
       "    \u001b[33mparams\u001b[0m=\u001b[1;35mArray\u001b[0m\u001b[1m(\u001b[0m\u001b[1m[\u001b[0m\u001b[1;36m-10000\u001b[0m., \u001b[1;36m-10000\u001b[0m., \u001b[1;36m-10000\u001b[0m.\u001b[1m]\u001b[0m, \u001b[33mdtype\u001b[0m=\u001b[35mfloat32\u001b[0m\u001b[1m)\u001b[0m\n",
       "\u001b[1m)\u001b[0m\n"
      ]
     },
     "metadata": {},
     "output_type": "display_data"
    }
   ],
   "source": [
    "console.print(\n",
    "    masked_object_info_2.match(\n",
    "        lambda: empty_object_info(),\n",
    "        lambda obj_info: obj_info\n",
    "        )\n",
    ")"
   ]
  },
  {
   "cell_type": "markdown",
   "metadata": {},
   "source": [
    "> WARNING\n",
    ">\n",
    "> Currently, there is a bug in `genjax.Mask.match` which prevents it from being used in the code below.\n",
    ">\n",
    "> I have implemented a custom `mymatch` version which fixes this bug in the cases used in this notebook.  We will implement a fix in `genjax` soon.\n",
    ">\n",
    "> The rest of the notebook will use `mymatch(Mask, ...)` instead of `Mask.match(...)`.  Conceptually they are identical."
   ]
  },
  {
   "cell_type": "code",
   "execution_count": 27,
   "metadata": {},
   "outputs": [
    {
     "data": {
      "text/html": [
       "<pre style=\"white-space:pre;overflow-x:auto;line-height:normal;font-family:Menlo,'DejaVu Sans Mono',consolas,'Courier New',monospace\"><span style=\"color: #800080; text-decoration-color: #800080; font-weight: bold\">ObjectInfo</span><span style=\"font-weight: bold\">(</span>\n",
       "    <span style=\"color: #808000; text-decoration-color: #808000\">parent_obj</span>=<span style=\"color: #800080; text-decoration-color: #800080; font-weight: bold\">Array</span><span style=\"font-weight: bold\">([</span><span style=\"color: #008080; text-decoration-color: #008080; font-weight: bold\">-1</span><span style=\"font-weight: bold\">]</span>, <span style=\"color: #808000; text-decoration-color: #808000\">dtype</span>=<span style=\"color: #800080; text-decoration-color: #800080\">int32</span><span style=\"font-weight: bold\">)</span>,\n",
       "    <span style=\"color: #808000; text-decoration-color: #808000\">parent_face</span>=<span style=\"color: #800080; text-decoration-color: #800080; font-weight: bold\">Array</span><span style=\"font-weight: bold\">([</span><span style=\"color: #008080; text-decoration-color: #008080; font-weight: bold\">4</span><span style=\"font-weight: bold\">]</span>, <span style=\"color: #808000; text-decoration-color: #808000\">dtype</span>=<span style=\"color: #800080; text-decoration-color: #800080\">int32</span><span style=\"font-weight: bold\">)</span>,\n",
       "    <span style=\"color: #808000; text-decoration-color: #808000\">child_face</span>=<span style=\"color: #800080; text-decoration-color: #800080; font-weight: bold\">Array</span><span style=\"font-weight: bold\">([</span><span style=\"color: #008080; text-decoration-color: #008080; font-weight: bold\">1</span><span style=\"font-weight: bold\">]</span>, <span style=\"color: #808000; text-decoration-color: #808000\">dtype</span>=<span style=\"color: #800080; text-decoration-color: #800080\">int32</span><span style=\"font-weight: bold\">)</span>,\n",
       "    <span style=\"color: #808000; text-decoration-color: #808000\">category_index</span>=<span style=\"color: #800080; text-decoration-color: #800080; font-weight: bold\">Array</span><span style=\"font-weight: bold\">([</span><span style=\"color: #008080; text-decoration-color: #008080; font-weight: bold\">1</span><span style=\"font-weight: bold\">]</span>, <span style=\"color: #808000; text-decoration-color: #808000\">dtype</span>=<span style=\"color: #800080; text-decoration-color: #800080\">int32</span><span style=\"font-weight: bold\">)</span>,\n",
       "    <span style=\"color: #808000; text-decoration-color: #808000\">root_pose</span>=<span style=\"color: #800080; text-decoration-color: #800080; font-weight: bold\">Array</span><span style=\"font-weight: bold\">([[</span><span style=\"color: #008080; text-decoration-color: #008080; font-weight: bold\">-0.28899407</span>,  <span style=\"color: #008080; text-decoration-color: #008080; font-weight: bold\">0.75022423</span>,  <span style=\"color: #008080; text-decoration-color: #008080; font-weight: bold\">0.5946814</span> ,  <span style=\"color: #008080; text-decoration-color: #008080; font-weight: bold\">1.0423379</span> <span style=\"font-weight: bold\">]</span>,\n",
       "       <span style=\"font-weight: bold\">[</span><span style=\"color: #008080; text-decoration-color: #008080; font-weight: bold\">-0.926945</span>  , <span style=\"color: #008080; text-decoration-color: #008080; font-weight: bold\">-0.0640226</span> , <span style=\"color: #008080; text-decoration-color: #008080; font-weight: bold\">-0.36969435</span>, <span style=\"color: #008080; text-decoration-color: #008080; font-weight: bold\">-0.49896955</span><span style=\"font-weight: bold\">]</span>,\n",
       "       <span style=\"font-weight: bold\">[</span><span style=\"color: #008080; text-decoration-color: #008080; font-weight: bold\">-0.23928067</span>, <span style=\"color: #008080; text-decoration-color: #008080; font-weight: bold\">-0.6580764</span> ,  <span style=\"color: #008080; text-decoration-color: #008080; font-weight: bold\">0.7139187</span> ,  <span style=\"color: #008080; text-decoration-color: #008080; font-weight: bold\">0.6713877</span> <span style=\"font-weight: bold\">]</span>,\n",
       "       <span style=\"font-weight: bold\">[</span> <span style=\"color: #008080; text-decoration-color: #008080; font-weight: bold\">0</span>.        ,  <span style=\"color: #008080; text-decoration-color: #008080; font-weight: bold\">0</span>.        ,  <span style=\"color: #008080; text-decoration-color: #008080; font-weight: bold\">0</span>.        ,  <span style=\"color: #008080; text-decoration-color: #008080; font-weight: bold\">1</span>.        <span style=\"font-weight: bold\">]]</span>,      <span style=\"color: #808000; text-decoration-color: #808000\">dtype</span>=<span style=\"color: #800080; text-decoration-color: #800080\">float32</span><span style=\"font-weight: bold\">)</span>,\n",
       "    <span style=\"color: #808000; text-decoration-color: #808000\">params</span>=<span style=\"color: #800080; text-decoration-color: #800080; font-weight: bold\">Array</span><span style=\"font-weight: bold\">([</span><span style=\"color: #008080; text-decoration-color: #008080; font-weight: bold\">-0.04788339</span>,  <span style=\"color: #008080; text-decoration-color: #008080; font-weight: bold\">0.2073009</span> ,  <span style=\"color: #008080; text-decoration-color: #008080; font-weight: bold\">1.5027282</span> <span style=\"font-weight: bold\">]</span>, <span style=\"color: #808000; text-decoration-color: #808000\">dtype</span>=<span style=\"color: #800080; text-decoration-color: #800080\">float32</span><span style=\"font-weight: bold\">)</span>\n",
       "<span style=\"font-weight: bold\">)</span>\n",
       "</pre>\n"
      ],
      "text/plain": [
       "\u001b[1;35mObjectInfo\u001b[0m\u001b[1m(\u001b[0m\n",
       "    \u001b[33mparent_obj\u001b[0m=\u001b[1;35mArray\u001b[0m\u001b[1m(\u001b[0m\u001b[1m[\u001b[0m\u001b[1;36m-1\u001b[0m\u001b[1m]\u001b[0m, \u001b[33mdtype\u001b[0m=\u001b[35mint32\u001b[0m\u001b[1m)\u001b[0m,\n",
       "    \u001b[33mparent_face\u001b[0m=\u001b[1;35mArray\u001b[0m\u001b[1m(\u001b[0m\u001b[1m[\u001b[0m\u001b[1;36m4\u001b[0m\u001b[1m]\u001b[0m, \u001b[33mdtype\u001b[0m=\u001b[35mint32\u001b[0m\u001b[1m)\u001b[0m,\n",
       "    \u001b[33mchild_face\u001b[0m=\u001b[1;35mArray\u001b[0m\u001b[1m(\u001b[0m\u001b[1m[\u001b[0m\u001b[1;36m1\u001b[0m\u001b[1m]\u001b[0m, \u001b[33mdtype\u001b[0m=\u001b[35mint32\u001b[0m\u001b[1m)\u001b[0m,\n",
       "    \u001b[33mcategory_index\u001b[0m=\u001b[1;35mArray\u001b[0m\u001b[1m(\u001b[0m\u001b[1m[\u001b[0m\u001b[1;36m1\u001b[0m\u001b[1m]\u001b[0m, \u001b[33mdtype\u001b[0m=\u001b[35mint32\u001b[0m\u001b[1m)\u001b[0m,\n",
       "    \u001b[33mroot_pose\u001b[0m=\u001b[1;35mArray\u001b[0m\u001b[1m(\u001b[0m\u001b[1m[\u001b[0m\u001b[1m[\u001b[0m\u001b[1;36m-0.28899407\u001b[0m,  \u001b[1;36m0.75022423\u001b[0m,  \u001b[1;36m0.5946814\u001b[0m ,  \u001b[1;36m1.0423379\u001b[0m \u001b[1m]\u001b[0m,\n",
       "       \u001b[1m[\u001b[0m\u001b[1;36m-0.926945\u001b[0m  , \u001b[1;36m-0.0640226\u001b[0m , \u001b[1;36m-0.36969435\u001b[0m, \u001b[1;36m-0.49896955\u001b[0m\u001b[1m]\u001b[0m,\n",
       "       \u001b[1m[\u001b[0m\u001b[1;36m-0.23928067\u001b[0m, \u001b[1;36m-0.6580764\u001b[0m ,  \u001b[1;36m0.7139187\u001b[0m ,  \u001b[1;36m0.6713877\u001b[0m \u001b[1m]\u001b[0m,\n",
       "       \u001b[1m[\u001b[0m \u001b[1;36m0\u001b[0m.        ,  \u001b[1;36m0\u001b[0m.        ,  \u001b[1;36m0\u001b[0m.        ,  \u001b[1;36m1\u001b[0m.        \u001b[1m]\u001b[0m\u001b[1m]\u001b[0m,      \u001b[33mdtype\u001b[0m=\u001b[35mfloat32\u001b[0m\u001b[1m)\u001b[0m,\n",
       "    \u001b[33mparams\u001b[0m=\u001b[1;35mArray\u001b[0m\u001b[1m(\u001b[0m\u001b[1m[\u001b[0m\u001b[1;36m-0.04788339\u001b[0m,  \u001b[1;36m0.2073009\u001b[0m ,  \u001b[1;36m1.5027282\u001b[0m \u001b[1m]\u001b[0m, \u001b[33mdtype\u001b[0m=\u001b[35mfloat32\u001b[0m\u001b[1m)\u001b[0m\n",
       "\u001b[1m)\u001b[0m\n"
      ]
     },
     "metadata": {},
     "output_type": "display_data"
    }
   ],
   "source": [
    "console.print(\n",
    "    mymatch(masked_object_info,\n",
    "        lambda: empty_object_info(),\n",
    "        lambda obj_info: obj_info\n",
    "        )\n",
    ")"
   ]
  },
  {
   "cell_type": "code",
   "execution_count": 28,
   "metadata": {},
   "outputs": [
    {
     "data": {
      "text/html": [
       "<pre style=\"white-space:pre;overflow-x:auto;line-height:normal;font-family:Menlo,'DejaVu Sans Mono',consolas,'Courier New',monospace\"><span style=\"color: #800080; text-decoration-color: #800080; font-weight: bold\">ObjectInfo</span><span style=\"font-weight: bold\">(</span>\n",
       "    <span style=\"color: #808000; text-decoration-color: #808000\">parent_obj</span>=<span style=\"color: #800080; text-decoration-color: #800080; font-weight: bold\">Array</span><span style=\"font-weight: bold\">([</span><span style=\"color: #008080; text-decoration-color: #008080; font-weight: bold\">-1000</span><span style=\"font-weight: bold\">]</span>, <span style=\"color: #808000; text-decoration-color: #808000\">dtype</span>=<span style=\"color: #800080; text-decoration-color: #800080\">int32</span><span style=\"font-weight: bold\">)</span>,\n",
       "    <span style=\"color: #808000; text-decoration-color: #808000\">parent_face</span>=<span style=\"color: #800080; text-decoration-color: #800080; font-weight: bold\">Array</span><span style=\"font-weight: bold\">([</span><span style=\"color: #008080; text-decoration-color: #008080; font-weight: bold\">-1000</span><span style=\"font-weight: bold\">]</span>, <span style=\"color: #808000; text-decoration-color: #808000\">dtype</span>=<span style=\"color: #800080; text-decoration-color: #800080\">int32</span><span style=\"font-weight: bold\">)</span>,\n",
       "    <span style=\"color: #808000; text-decoration-color: #808000\">child_face</span>=<span style=\"color: #800080; text-decoration-color: #800080; font-weight: bold\">Array</span><span style=\"font-weight: bold\">([</span><span style=\"color: #008080; text-decoration-color: #008080; font-weight: bold\">-1000</span><span style=\"font-weight: bold\">]</span>, <span style=\"color: #808000; text-decoration-color: #808000\">dtype</span>=<span style=\"color: #800080; text-decoration-color: #800080\">int32</span><span style=\"font-weight: bold\">)</span>,\n",
       "    <span style=\"color: #808000; text-decoration-color: #808000\">category_index</span>=<span style=\"color: #800080; text-decoration-color: #800080; font-weight: bold\">Array</span><span style=\"font-weight: bold\">([</span><span style=\"color: #008080; text-decoration-color: #008080; font-weight: bold\">-1000</span><span style=\"font-weight: bold\">]</span>, <span style=\"color: #808000; text-decoration-color: #808000\">dtype</span>=<span style=\"color: #800080; text-decoration-color: #800080\">int32</span><span style=\"font-weight: bold\">)</span>,\n",
       "    <span style=\"color: #808000; text-decoration-color: #808000\">root_pose</span>=<span style=\"color: #800080; text-decoration-color: #800080; font-weight: bold\">Array</span><span style=\"font-weight: bold\">([[</span><span style=\"color: #008080; text-decoration-color: #008080; font-weight: bold\">0</span>., <span style=\"color: #008080; text-decoration-color: #008080; font-weight: bold\">0</span>., <span style=\"color: #008080; text-decoration-color: #008080; font-weight: bold\">0</span>., <span style=\"color: #008080; text-decoration-color: #008080; font-weight: bold\">0</span>.<span style=\"font-weight: bold\">]</span>,\n",
       "       <span style=\"font-weight: bold\">[</span><span style=\"color: #008080; text-decoration-color: #008080; font-weight: bold\">0</span>., <span style=\"color: #008080; text-decoration-color: #008080; font-weight: bold\">0</span>., <span style=\"color: #008080; text-decoration-color: #008080; font-weight: bold\">0</span>., <span style=\"color: #008080; text-decoration-color: #008080; font-weight: bold\">0</span>.<span style=\"font-weight: bold\">]</span>,\n",
       "       <span style=\"font-weight: bold\">[</span><span style=\"color: #008080; text-decoration-color: #008080; font-weight: bold\">0</span>., <span style=\"color: #008080; text-decoration-color: #008080; font-weight: bold\">0</span>., <span style=\"color: #008080; text-decoration-color: #008080; font-weight: bold\">0</span>., <span style=\"color: #008080; text-decoration-color: #008080; font-weight: bold\">0</span>.<span style=\"font-weight: bold\">]</span>,\n",
       "       <span style=\"font-weight: bold\">[</span><span style=\"color: #008080; text-decoration-color: #008080; font-weight: bold\">0</span>., <span style=\"color: #008080; text-decoration-color: #008080; font-weight: bold\">0</span>., <span style=\"color: #008080; text-decoration-color: #008080; font-weight: bold\">0</span>., <span style=\"color: #008080; text-decoration-color: #008080; font-weight: bold\">0</span>.<span style=\"font-weight: bold\">]]</span>, <span style=\"color: #808000; text-decoration-color: #808000\">dtype</span>=<span style=\"color: #800080; text-decoration-color: #800080\">float32</span><span style=\"font-weight: bold\">)</span>,\n",
       "    <span style=\"color: #808000; text-decoration-color: #808000\">params</span>=<span style=\"color: #800080; text-decoration-color: #800080; font-weight: bold\">Array</span><span style=\"font-weight: bold\">([</span><span style=\"color: #008080; text-decoration-color: #008080; font-weight: bold\">-10000</span>., <span style=\"color: #008080; text-decoration-color: #008080; font-weight: bold\">-10000</span>., <span style=\"color: #008080; text-decoration-color: #008080; font-weight: bold\">-10000</span>.<span style=\"font-weight: bold\">]</span>, <span style=\"color: #808000; text-decoration-color: #808000\">dtype</span>=<span style=\"color: #800080; text-decoration-color: #800080\">float32</span><span style=\"font-weight: bold\">)</span>\n",
       "<span style=\"font-weight: bold\">)</span>\n",
       "</pre>\n"
      ],
      "text/plain": [
       "\u001b[1;35mObjectInfo\u001b[0m\u001b[1m(\u001b[0m\n",
       "    \u001b[33mparent_obj\u001b[0m=\u001b[1;35mArray\u001b[0m\u001b[1m(\u001b[0m\u001b[1m[\u001b[0m\u001b[1;36m-1000\u001b[0m\u001b[1m]\u001b[0m, \u001b[33mdtype\u001b[0m=\u001b[35mint32\u001b[0m\u001b[1m)\u001b[0m,\n",
       "    \u001b[33mparent_face\u001b[0m=\u001b[1;35mArray\u001b[0m\u001b[1m(\u001b[0m\u001b[1m[\u001b[0m\u001b[1;36m-1000\u001b[0m\u001b[1m]\u001b[0m, \u001b[33mdtype\u001b[0m=\u001b[35mint32\u001b[0m\u001b[1m)\u001b[0m,\n",
       "    \u001b[33mchild_face\u001b[0m=\u001b[1;35mArray\u001b[0m\u001b[1m(\u001b[0m\u001b[1m[\u001b[0m\u001b[1;36m-1000\u001b[0m\u001b[1m]\u001b[0m, \u001b[33mdtype\u001b[0m=\u001b[35mint32\u001b[0m\u001b[1m)\u001b[0m,\n",
       "    \u001b[33mcategory_index\u001b[0m=\u001b[1;35mArray\u001b[0m\u001b[1m(\u001b[0m\u001b[1m[\u001b[0m\u001b[1;36m-1000\u001b[0m\u001b[1m]\u001b[0m, \u001b[33mdtype\u001b[0m=\u001b[35mint32\u001b[0m\u001b[1m)\u001b[0m,\n",
       "    \u001b[33mroot_pose\u001b[0m=\u001b[1;35mArray\u001b[0m\u001b[1m(\u001b[0m\u001b[1m[\u001b[0m\u001b[1m[\u001b[0m\u001b[1;36m0\u001b[0m., \u001b[1;36m0\u001b[0m., \u001b[1;36m0\u001b[0m., \u001b[1;36m0\u001b[0m.\u001b[1m]\u001b[0m,\n",
       "       \u001b[1m[\u001b[0m\u001b[1;36m0\u001b[0m., \u001b[1;36m0\u001b[0m., \u001b[1;36m0\u001b[0m., \u001b[1;36m0\u001b[0m.\u001b[1m]\u001b[0m,\n",
       "       \u001b[1m[\u001b[0m\u001b[1;36m0\u001b[0m., \u001b[1;36m0\u001b[0m., \u001b[1;36m0\u001b[0m., \u001b[1;36m0\u001b[0m.\u001b[1m]\u001b[0m,\n",
       "       \u001b[1m[\u001b[0m\u001b[1;36m0\u001b[0m., \u001b[1;36m0\u001b[0m., \u001b[1;36m0\u001b[0m., \u001b[1;36m0\u001b[0m.\u001b[1m]\u001b[0m\u001b[1m]\u001b[0m, \u001b[33mdtype\u001b[0m=\u001b[35mfloat32\u001b[0m\u001b[1m)\u001b[0m,\n",
       "    \u001b[33mparams\u001b[0m=\u001b[1;35mArray\u001b[0m\u001b[1m(\u001b[0m\u001b[1m[\u001b[0m\u001b[1;36m-10000\u001b[0m., \u001b[1;36m-10000\u001b[0m., \u001b[1;36m-10000\u001b[0m.\u001b[1m]\u001b[0m, \u001b[33mdtype\u001b[0m=\u001b[35mfloat32\u001b[0m\u001b[1m)\u001b[0m\n",
       "\u001b[1m)\u001b[0m\n"
      ]
     },
     "metadata": {},
     "output_type": "display_data"
    }
   ],
   "source": [
    "console.print(\n",
    "    mymatch(masked_object_info_2,\n",
    "        lambda: empty_object_info(),\n",
    "        lambda obj_info: obj_info\n",
    "        )\n",
    ")"
   ]
  },
  {
   "cell_type": "markdown",
   "metadata": {},
   "source": [
    "## Generate many objects in parallel\n",
    "\n",
    "Now, we're going to write a generative function which accepts as input a number `n_objects` of objects to generate (less than some maximum value `max_n_objects`), and returns a list of `n_objects` object info values.\n",
    "To do this in a fixed memory footprint, we will acually have it always return a list of `max_n_objects` `Mask` objects, where the first `n_objects` have the form `Mask(True, ObjectInfo(...))`, and the rest have the form `Mask(false, garbage bits)`.\n",
    "\n",
    "To make this generative function, we will use genjax's `map_combinator` constructor, which applies a generative function to a list of arguments in parallel, and returns a list of the results.  Its trace stores the trace for each sub-call."
   ]
  },
  {
   "cell_type": "code",
   "execution_count": 29,
   "metadata": {},
   "outputs": [],
   "source": [
    "mapper = genjax.map_combinator(\n",
    "    # The `in_axes` tell the `map_combinator` which arguments to `masked_generate_object`\n",
    "    # are mapped over, and which are not.\n",
    "    # Each object slot may have a different `is_active` value, and a different object_index,\n",
    "    # so we map over those;\n",
    "    # but the other arguments are the same for each object, so we don't map over them.\n",
    "    #    \n",
    "    # The value `0` here tells genjax about how we will map over the arguments;\n",
    "    # don't worry about this for now.\n",
    "    in_axes = (\n",
    "        0, # is_active is mapped over, along array axis 0\n",
    "            (\n",
    "                0, # object_index is mapped over along axis 0\n",
    "                None, # possible_category_indices is not mapped over (it's the same for each object)\n",
    "                None, # pose_bounds is not mapped over (it's the same for each object)\n",
    "                None # contact_bounds is not mapped over (it's the same for each object)\n",
    "            )\n",
    "        )\n",
    ")\n",
    "generate_objects = mapper(masked_generate_object)"
   ]
  },
  {
   "cell_type": "code",
   "execution_count": 30,
   "metadata": {},
   "outputs": [],
   "source": [
    "# Construct a trace for `generate_objects` with a memory layout\n",
    "# that could store up to 8 objects.\n",
    "max_n_objects = 8\n",
    "\n",
    "# But let's just construct a trace with 3 objects actually used.\n",
    "# The result of this will be a `trace` object stored in GPU memory\n",
    "# with enough slots that we could later call `trace.update` to\n",
    "# tell genjax to generate more objects in the 5 unused object slots.\n",
    "n_objects = 3\n",
    "is_active = (jnp.arange(max_n_objects) < 3) # Boolean array of shape (8,)\n",
    "object_indices = jnp.arange(max_n_objects) # Array of shape (8,)\n",
    "\n",
    "mapped_arguments = (\n",
    "    is_active,\n",
    "    (\n",
    "        object_indices, # object_index\n",
    "\n",
    "        # The last 3 arguments are the same for each sub-call to masked_generate_object.\n",
    "        # In the construction of `generate_object`, we used the value in_axes=None\n",
    "        # to tell genjax to expect one value for each of these, to be shared across\n",
    "        # subcalls, rather than to expect an array of different values for each subcall.\n",
    "        generate_object_example_args[1], # possible_category_indices\n",
    "        generate_object_example_args[2], # pose_bounds\n",
    "        generate_object_example_args[3] # contact_bounds\n",
    "    )\n",
    ")\n",
    "\n",
    "mapped_trace = generate_objects.simulate(\n",
    "    key,\n",
    "    mapped_arguments\n",
    ")"
   ]
  },
  {
   "cell_type": "markdown",
   "metadata": {},
   "source": [
    "This trace's return value is, roughly, a list of 8 `Mask` objects.\n",
    "\n",
    "Due to the way GenJAX (and JAX, the GPU library GenJAX builds on) works, the actual return value is a single python object of type `Mask`, but where the values inside the `Mask` are arrays of length 8.  \n",
    "\n",
    "(JAX works by converting parallel calls to Python functions into calls of single GPU kernels on arrays that batch together the multiple inputs to the functions.  The result is a representation in which values processed in parallel live in arrays.  If python object wrappers are present, the python object ends up storing arrays rather than values within them.  It is a bit strange that the code looks like python objects storing arrays, rather than arrays storing python objects, but c'est la vie.)"
   ]
  },
  {
   "cell_type": "code",
   "execution_count": 31,
   "metadata": {},
   "outputs": [
    {
     "data": {
      "text/html": [
       "<pre style=\"white-space:pre;overflow-x:auto;line-height:normal;font-family:Menlo,'DejaVu Sans Mono',consolas,'Courier New',monospace\"><span style=\"font-weight: bold\">(Mask,  bool[8])</span>\n",
       "└── <span style=\"font-weight: bold\">ObjectInfo</span>\n",
       "    ├── parent_obj\n",
       "    │   └──  i32[8]\n",
       "    ├── parent_face\n",
       "    │   └──  i32[8]\n",
       "    ├── child_face\n",
       "    │   └──  i32[8]\n",
       "    ├── category_index\n",
       "    │   └──  i32[8]\n",
       "    ├── root_pose\n",
       "    │   └──  f32[8,4,4]\n",
       "    └── params\n",
       "        └──  f32[8,3]\n",
       "</pre>\n"
      ],
      "text/plain": [
       "\u001b[1m(Mask,  bool[8])\u001b[0m\n",
       "└── \u001b[1mObjectInfo\u001b[0m\n",
       "    ├── parent_obj\n",
       "    │   └──  i32[8]\n",
       "    ├── parent_face\n",
       "    │   └──  i32[8]\n",
       "    ├── child_face\n",
       "    │   └──  i32[8]\n",
       "    ├── category_index\n",
       "    │   └──  i32[8]\n",
       "    ├── root_pose\n",
       "    │   └──  f32[8,4,4]\n",
       "    └── params\n",
       "        └──  f32[8,3]\n"
      ]
     },
     "metadata": {},
     "output_type": "display_data"
    }
   ],
   "source": [
    "console.print(mapped_trace.get_retval())"
   ]
  },
  {
   "cell_type": "markdown",
   "metadata": {},
   "source": [
    "Let's look at the array showing which objects are active:"
   ]
  },
  {
   "cell_type": "code",
   "execution_count": 32,
   "metadata": {},
   "outputs": [
    {
     "data": {
      "text/html": [
       "<pre style=\"white-space:pre;overflow-x:auto;line-height:normal;font-family:Menlo,'DejaVu Sans Mono',consolas,'Courier New',monospace\"><span style=\"font-weight: bold\">[</span> <span style=\"color: #00ff00; text-decoration-color: #00ff00; font-style: italic\">True</span>  <span style=\"color: #00ff00; text-decoration-color: #00ff00; font-style: italic\">True</span>  <span style=\"color: #00ff00; text-decoration-color: #00ff00; font-style: italic\">True</span> <span style=\"color: #ff0000; text-decoration-color: #ff0000; font-style: italic\">False</span> <span style=\"color: #ff0000; text-decoration-color: #ff0000; font-style: italic\">False</span> <span style=\"color: #ff0000; text-decoration-color: #ff0000; font-style: italic\">False</span> <span style=\"color: #ff0000; text-decoration-color: #ff0000; font-style: italic\">False</span> <span style=\"color: #ff0000; text-decoration-color: #ff0000; font-style: italic\">False</span><span style=\"font-weight: bold\">]</span>\n",
       "</pre>\n"
      ],
      "text/plain": [
       "\u001b[1m[\u001b[0m \u001b[3;92mTrue\u001b[0m  \u001b[3;92mTrue\u001b[0m  \u001b[3;92mTrue\u001b[0m \u001b[3;91mFalse\u001b[0m \u001b[3;91mFalse\u001b[0m \u001b[3;91mFalse\u001b[0m \u001b[3;91mFalse\u001b[0m \u001b[3;91mFalse\u001b[0m\u001b[1m]\u001b[0m\n"
      ]
     },
     "metadata": {},
     "output_type": "display_data"
    }
   ],
   "source": [
    "console.print(mapped_trace.get_retval().mask)"
   ]
  },
  {
   "cell_type": "markdown",
   "metadata": {},
   "source": [
    "To get the values stored in the masked objects, we use `Mask.match`, as described above.  (Due to the bug in `Mask.match`, we actually use `mymatch` in this notebook.)"
   ]
  },
  {
   "cell_type": "code",
   "execution_count": 33,
   "metadata": {},
   "outputs": [
    {
     "data": {
      "text/plain": [
       "Array([    3,     0,     0, -1000, -1000, -1000, -1000, -1000], dtype=int32)"
      ]
     },
     "execution_count": 33,
     "metadata": {},
     "output_type": "execute_result"
    }
   ],
   "source": [
    "mymatch(\n",
    "    mapped_trace.get_retval(),\n",
    "    lambda: -1000,\n",
    "    lambda obj_info: obj_info.category_index\n",
    ")"
   ]
  },
  {
   "cell_type": "markdown",
   "metadata": {},
   "source": [
    "We see that we get the category info for the first 3 objects, and the Null value we specified in to `match` (here, -1000) for the other 5 slots.\n",
    "\n",
    "We can unpack the full ObjectInfo values, using `empty_object_info()` as our null value:"
   ]
  },
  {
   "cell_type": "code",
   "execution_count": 34,
   "metadata": {},
   "outputs": [
    {
     "data": {
      "text/html": [
       "<pre style=\"white-space:pre;overflow-x:auto;line-height:normal;font-family:Menlo,'DejaVu Sans Mono',consolas,'Courier New',monospace\"><span style=\"color: #800080; text-decoration-color: #800080; font-weight: bold\">ObjectInfo</span><span style=\"font-weight: bold\">(</span>\n",
       "    <span style=\"color: #808000; text-decoration-color: #808000\">parent_obj</span>=<span style=\"color: #800080; text-decoration-color: #800080; font-weight: bold\">Array</span><span style=\"font-weight: bold\">([</span>   <span style=\"color: #008080; text-decoration-color: #008080; font-weight: bold\">-1</span>,     <span style=\"color: #008080; text-decoration-color: #008080; font-weight: bold\">0</span>,     <span style=\"color: #008080; text-decoration-color: #008080; font-weight: bold\">1</span>, <span style=\"color: #008080; text-decoration-color: #008080; font-weight: bold\">-1000</span>, <span style=\"color: #008080; text-decoration-color: #008080; font-weight: bold\">-1000</span>, <span style=\"color: #008080; text-decoration-color: #008080; font-weight: bold\">-1000</span>, <span style=\"color: #008080; text-decoration-color: #008080; font-weight: bold\">-1000</span>, <span style=\"color: #008080; text-decoration-color: #008080; font-weight: bold\">-1000</span><span style=\"font-weight: bold\">]</span>, <span style=\"color: #808000; text-decoration-color: #808000\">dtype</span>=<span style=\"color: #800080; text-decoration-color: #800080\">int32</span><span style=\"font-weight: bold\">)</span>,\n",
       "    <span style=\"color: #808000; text-decoration-color: #808000\">parent_face</span>=<span style=\"color: #800080; text-decoration-color: #800080; font-weight: bold\">Array</span><span style=\"font-weight: bold\">([</span>    <span style=\"color: #008080; text-decoration-color: #008080; font-weight: bold\">5</span>,     <span style=\"color: #008080; text-decoration-color: #008080; font-weight: bold\">3</span>,     <span style=\"color: #008080; text-decoration-color: #008080; font-weight: bold\">0</span>, <span style=\"color: #008080; text-decoration-color: #008080; font-weight: bold\">-1000</span>, <span style=\"color: #008080; text-decoration-color: #008080; font-weight: bold\">-1000</span>, <span style=\"color: #008080; text-decoration-color: #008080; font-weight: bold\">-1000</span>, <span style=\"color: #008080; text-decoration-color: #008080; font-weight: bold\">-1000</span>, <span style=\"color: #008080; text-decoration-color: #008080; font-weight: bold\">-1000</span><span style=\"font-weight: bold\">]</span>, <span style=\"color: #808000; text-decoration-color: #808000\">dtype</span>=<span style=\"color: #800080; text-decoration-color: #800080\">int32</span><span style=\"font-weight: bold\">)</span>,\n",
       "    <span style=\"color: #808000; text-decoration-color: #808000\">child_face</span>=<span style=\"color: #800080; text-decoration-color: #800080; font-weight: bold\">Array</span><span style=\"font-weight: bold\">([</span>    <span style=\"color: #008080; text-decoration-color: #008080; font-weight: bold\">1</span>,     <span style=\"color: #008080; text-decoration-color: #008080; font-weight: bold\">4</span>,     <span style=\"color: #008080; text-decoration-color: #008080; font-weight: bold\">3</span>, <span style=\"color: #008080; text-decoration-color: #008080; font-weight: bold\">-1000</span>, <span style=\"color: #008080; text-decoration-color: #008080; font-weight: bold\">-1000</span>, <span style=\"color: #008080; text-decoration-color: #008080; font-weight: bold\">-1000</span>, <span style=\"color: #008080; text-decoration-color: #008080; font-weight: bold\">-1000</span>, <span style=\"color: #008080; text-decoration-color: #008080; font-weight: bold\">-1000</span><span style=\"font-weight: bold\">]</span>, <span style=\"color: #808000; text-decoration-color: #808000\">dtype</span>=<span style=\"color: #800080; text-decoration-color: #800080\">int32</span><span style=\"font-weight: bold\">)</span>,\n",
       "    <span style=\"color: #808000; text-decoration-color: #808000\">category_index</span>=<span style=\"color: #800080; text-decoration-color: #800080; font-weight: bold\">Array</span><span style=\"font-weight: bold\">([</span>    <span style=\"color: #008080; text-decoration-color: #008080; font-weight: bold\">3</span>,     <span style=\"color: #008080; text-decoration-color: #008080; font-weight: bold\">0</span>,     <span style=\"color: #008080; text-decoration-color: #008080; font-weight: bold\">0</span>, <span style=\"color: #008080; text-decoration-color: #008080; font-weight: bold\">-1000</span>, <span style=\"color: #008080; text-decoration-color: #008080; font-weight: bold\">-1000</span>, <span style=\"color: #008080; text-decoration-color: #008080; font-weight: bold\">-1000</span>, <span style=\"color: #008080; text-decoration-color: #008080; font-weight: bold\">-1000</span>, <span style=\"color: #008080; text-decoration-color: #008080; font-weight: bold\">-1000</span><span style=\"font-weight: bold\">]</span>, <span style=\"color: #808000; text-decoration-color: #808000\">dtype</span>=<span style=\"color: #800080; text-decoration-color: #800080\">int32</span><span style=\"font-weight: bold\">)</span>,\n",
       "    <span style=\"color: #808000; text-decoration-color: #808000\">root_pose</span>=<span style=\"color: #800080; text-decoration-color: #800080; font-weight: bold\">Array</span><span style=\"font-weight: bold\">([[[</span> <span style=\"color: #008080; text-decoration-color: #008080; font-weight: bold\">0.08324158</span>,  <span style=\"color: #008080; text-decoration-color: #008080; font-weight: bold\">0.9914397</span> ,  <span style=\"color: #008080; text-decoration-color: #008080; font-weight: bold\">0.1005891</span> ,  <span style=\"color: #008080; text-decoration-color: #008080; font-weight: bold\">0.78314924</span><span style=\"font-weight: bold\">]</span>,\n",
       "        <span style=\"font-weight: bold\">[</span> <span style=\"color: #008080; text-decoration-color: #008080; font-weight: bold\">0.75845647</span>,  <span style=\"color: #008080; text-decoration-color: #008080; font-weight: bold\">0.00244164</span>, <span style=\"color: #008080; text-decoration-color: #008080; font-weight: bold\">-0.6517191</span> ,  <span style=\"color: #008080; text-decoration-color: #008080; font-weight: bold\">0.15301752</span><span style=\"font-weight: bold\">]</span>,\n",
       "        <span style=\"font-weight: bold\">[</span><span style=\"color: #008080; text-decoration-color: #008080; font-weight: bold\">-0.6463858</span> ,  <span style=\"color: #008080; text-decoration-color: #008080; font-weight: bold\">0.1305426</span> , <span style=\"color: #008080; text-decoration-color: #008080; font-weight: bold\">-0.7517606</span> ,  <span style=\"color: #008080; text-decoration-color: #008080; font-weight: bold\">1.4964514</span> <span style=\"font-weight: bold\">]</span>,\n",
       "        <span style=\"font-weight: bold\">[</span> <span style=\"color: #008080; text-decoration-color: #008080; font-weight: bold\">0</span>.        ,  <span style=\"color: #008080; text-decoration-color: #008080; font-weight: bold\">0</span>.        ,  <span style=\"color: #008080; text-decoration-color: #008080; font-weight: bold\">0</span>.        ,  <span style=\"color: #008080; text-decoration-color: #008080; font-weight: bold\">1</span>.        <span style=\"font-weight: bold\">]]</span>,\n",
       "\n",
       "       <span style=\"font-weight: bold\">[[</span><span style=\"color: #008080; text-decoration-color: #008080; font-weight: bold\">-0.21666539</span>, <span style=\"color: #008080; text-decoration-color: #008080; font-weight: bold\">-0.90848744</span>, <span style=\"color: #008080; text-decoration-color: #008080; font-weight: bold\">-0.35736027</span>, <span style=\"color: #008080; text-decoration-color: #008080; font-weight: bold\">-0.21559906</span><span style=\"font-weight: bold\">]</span>,\n",
       "        <span style=\"font-weight: bold\">[</span><span style=\"color: #008080; text-decoration-color: #008080; font-weight: bold\">-0.8068098</span> , <span style=\"color: #008080; text-decoration-color: #008080; font-weight: bold\">-0.03946489</span>,  <span style=\"color: #008080; text-decoration-color: #008080; font-weight: bold\">0.5894915</span> ,  <span style=\"color: #008080; text-decoration-color: #008080; font-weight: bold\">0.3701434</span> <span style=\"font-weight: bold\">]</span>,\n",
       "        <span style=\"font-weight: bold\">[</span><span style=\"color: #008080; text-decoration-color: #008080; font-weight: bold\">-0.5496488</span> ,  <span style=\"color: #008080; text-decoration-color: #008080; font-weight: bold\">0.41604412</span>, <span style=\"color: #008080; text-decoration-color: #008080; font-weight: bold\">-0.7244262</span> , <span style=\"color: #008080; text-decoration-color: #008080; font-weight: bold\">-1.6396523</span> <span style=\"font-weight: bold\">]</span>,\n",
       "        <span style=\"font-weight: bold\">[</span> <span style=\"color: #008080; text-decoration-color: #008080; font-weight: bold\">0</span>.        ,  <span style=\"color: #008080; text-decoration-color: #008080; font-weight: bold\">0</span>.        ,  <span style=\"color: #008080; text-decoration-color: #008080; font-weight: bold\">0</span>.        ,  <span style=\"color: #008080; text-decoration-color: #008080; font-weight: bold\">1</span>.        <span style=\"font-weight: bold\">]]</span>,\n",
       "\n",
       "       <span style=\"font-weight: bold\">[[</span><span style=\"color: #008080; text-decoration-color: #008080; font-weight: bold\">-0.64909387</span>,  <span style=\"color: #008080; text-decoration-color: #008080; font-weight: bold\">0.70433265</span>,  <span style=\"color: #008080; text-decoration-color: #008080; font-weight: bold\">0.28738946</span>,  <span style=\"color: #008080; text-decoration-color: #008080; font-weight: bold\">1.4883456</span> <span style=\"font-weight: bold\">]</span>,\n",
       "        <span style=\"font-weight: bold\">[</span><span style=\"color: #008080; text-decoration-color: #008080; font-weight: bold\">-0.08321178</span>,  <span style=\"color: #008080; text-decoration-color: #008080; font-weight: bold\">0.3097843</span> , <span style=\"color: #008080; text-decoration-color: #008080; font-weight: bold\">-0.9471587</span> ,  <span style=\"color: #008080; text-decoration-color: #008080; font-weight: bold\">1.5349431</span> <span style=\"font-weight: bold\">]</span>,\n",
       "        <span style=\"font-weight: bold\">[</span><span style=\"color: #008080; text-decoration-color: #008080; font-weight: bold\">-0.7561435</span> , <span style=\"color: #008080; text-decoration-color: #008080; font-weight: bold\">-0.63870907</span>, <span style=\"color: #008080; text-decoration-color: #008080; font-weight: bold\">-0.14247024</span>,  <span style=\"color: #008080; text-decoration-color: #008080; font-weight: bold\">1.9557447</span> <span style=\"font-weight: bold\">]</span>,\n",
       "        <span style=\"font-weight: bold\">[</span> <span style=\"color: #008080; text-decoration-color: #008080; font-weight: bold\">0</span>.        ,  <span style=\"color: #008080; text-decoration-color: #008080; font-weight: bold\">0</span>.        ,  <span style=\"color: #008080; text-decoration-color: #008080; font-weight: bold\">0</span>.        ,  <span style=\"color: #008080; text-decoration-color: #008080; font-weight: bold\">1</span>.        <span style=\"font-weight: bold\">]]</span>,\n",
       "\n",
       "       <span style=\"font-weight: bold\">[[</span> <span style=\"color: #008080; text-decoration-color: #008080; font-weight: bold\">0</span>.        ,  <span style=\"color: #008080; text-decoration-color: #008080; font-weight: bold\">0</span>.        ,  <span style=\"color: #008080; text-decoration-color: #008080; font-weight: bold\">0</span>.        ,  <span style=\"color: #008080; text-decoration-color: #008080; font-weight: bold\">0</span>.        <span style=\"font-weight: bold\">]</span>,\n",
       "        <span style=\"font-weight: bold\">[</span> <span style=\"color: #008080; text-decoration-color: #008080; font-weight: bold\">0</span>.        ,  <span style=\"color: #008080; text-decoration-color: #008080; font-weight: bold\">0</span>.        ,  <span style=\"color: #008080; text-decoration-color: #008080; font-weight: bold\">0</span>.        ,  <span style=\"color: #008080; text-decoration-color: #008080; font-weight: bold\">0</span>.        <span style=\"font-weight: bold\">]</span>,\n",
       "        <span style=\"font-weight: bold\">[</span> <span style=\"color: #008080; text-decoration-color: #008080; font-weight: bold\">0</span>.        ,  <span style=\"color: #008080; text-decoration-color: #008080; font-weight: bold\">0</span>.        ,  <span style=\"color: #008080; text-decoration-color: #008080; font-weight: bold\">0</span>.        ,  <span style=\"color: #008080; text-decoration-color: #008080; font-weight: bold\">0</span>.        <span style=\"font-weight: bold\">]</span>,\n",
       "        <span style=\"font-weight: bold\">[</span> <span style=\"color: #008080; text-decoration-color: #008080; font-weight: bold\">0</span>.        ,  <span style=\"color: #008080; text-decoration-color: #008080; font-weight: bold\">0</span>.        ,  <span style=\"color: #008080; text-decoration-color: #008080; font-weight: bold\">0</span>.        ,  <span style=\"color: #008080; text-decoration-color: #008080; font-weight: bold\">0</span>.        <span style=\"font-weight: bold\">]]</span>,\n",
       "\n",
       "       <span style=\"font-weight: bold\">[[</span> <span style=\"color: #008080; text-decoration-color: #008080; font-weight: bold\">0</span>.        ,  <span style=\"color: #008080; text-decoration-color: #008080; font-weight: bold\">0</span>.        ,  <span style=\"color: #008080; text-decoration-color: #008080; font-weight: bold\">0</span>.        ,  <span style=\"color: #008080; text-decoration-color: #008080; font-weight: bold\">0</span>.        <span style=\"font-weight: bold\">]</span>,\n",
       "        <span style=\"font-weight: bold\">[</span> <span style=\"color: #008080; text-decoration-color: #008080; font-weight: bold\">0</span>.        ,  <span style=\"color: #008080; text-decoration-color: #008080; font-weight: bold\">0</span>.        ,  <span style=\"color: #008080; text-decoration-color: #008080; font-weight: bold\">0</span>.        ,  <span style=\"color: #008080; text-decoration-color: #008080; font-weight: bold\">0</span>.        <span style=\"font-weight: bold\">]</span>,\n",
       "        <span style=\"font-weight: bold\">[</span> <span style=\"color: #008080; text-decoration-color: #008080; font-weight: bold\">0</span>.        ,  <span style=\"color: #008080; text-decoration-color: #008080; font-weight: bold\">0</span>.        ,  <span style=\"color: #008080; text-decoration-color: #008080; font-weight: bold\">0</span>.        ,  <span style=\"color: #008080; text-decoration-color: #008080; font-weight: bold\">0</span>.        <span style=\"font-weight: bold\">]</span>,\n",
       "        <span style=\"font-weight: bold\">[</span> <span style=\"color: #008080; text-decoration-color: #008080; font-weight: bold\">0</span>.        ,  <span style=\"color: #008080; text-decoration-color: #008080; font-weight: bold\">0</span>.        ,  <span style=\"color: #008080; text-decoration-color: #008080; font-weight: bold\">0</span>.        ,  <span style=\"color: #008080; text-decoration-color: #008080; font-weight: bold\">0</span>.        <span style=\"font-weight: bold\">]]</span>,\n",
       "\n",
       "       <span style=\"font-weight: bold\">[[</span> <span style=\"color: #008080; text-decoration-color: #008080; font-weight: bold\">0</span>.        ,  <span style=\"color: #008080; text-decoration-color: #008080; font-weight: bold\">0</span>.        ,  <span style=\"color: #008080; text-decoration-color: #008080; font-weight: bold\">0</span>.        ,  <span style=\"color: #008080; text-decoration-color: #008080; font-weight: bold\">0</span>.        <span style=\"font-weight: bold\">]</span>,\n",
       "        <span style=\"font-weight: bold\">[</span> <span style=\"color: #008080; text-decoration-color: #008080; font-weight: bold\">0</span>.        ,  <span style=\"color: #008080; text-decoration-color: #008080; font-weight: bold\">0</span>.        ,  <span style=\"color: #008080; text-decoration-color: #008080; font-weight: bold\">0</span>.        ,  <span style=\"color: #008080; text-decoration-color: #008080; font-weight: bold\">0</span>.        <span style=\"font-weight: bold\">]</span>,\n",
       "        <span style=\"font-weight: bold\">[</span> <span style=\"color: #008080; text-decoration-color: #008080; font-weight: bold\">0</span>.        ,  <span style=\"color: #008080; text-decoration-color: #008080; font-weight: bold\">0</span>.        ,  <span style=\"color: #008080; text-decoration-color: #008080; font-weight: bold\">0</span>.        ,  <span style=\"color: #008080; text-decoration-color: #008080; font-weight: bold\">0</span>.        <span style=\"font-weight: bold\">]</span>,\n",
       "        <span style=\"font-weight: bold\">[</span> <span style=\"color: #008080; text-decoration-color: #008080; font-weight: bold\">0</span>.        ,  <span style=\"color: #008080; text-decoration-color: #008080; font-weight: bold\">0</span>.        ,  <span style=\"color: #008080; text-decoration-color: #008080; font-weight: bold\">0</span>.        ,  <span style=\"color: #008080; text-decoration-color: #008080; font-weight: bold\">0</span>.        <span style=\"font-weight: bold\">]]</span>,\n",
       "\n",
       "       <span style=\"font-weight: bold\">[[</span> <span style=\"color: #008080; text-decoration-color: #008080; font-weight: bold\">0</span>.        ,  <span style=\"color: #008080; text-decoration-color: #008080; font-weight: bold\">0</span>.        ,  <span style=\"color: #008080; text-decoration-color: #008080; font-weight: bold\">0</span>.        ,  <span style=\"color: #008080; text-decoration-color: #008080; font-weight: bold\">0</span>.        <span style=\"font-weight: bold\">]</span>,\n",
       "        <span style=\"font-weight: bold\">[</span> <span style=\"color: #008080; text-decoration-color: #008080; font-weight: bold\">0</span>.        ,  <span style=\"color: #008080; text-decoration-color: #008080; font-weight: bold\">0</span>.        ,  <span style=\"color: #008080; text-decoration-color: #008080; font-weight: bold\">0</span>.        ,  <span style=\"color: #008080; text-decoration-color: #008080; font-weight: bold\">0</span>.        <span style=\"font-weight: bold\">]</span>,\n",
       "        <span style=\"font-weight: bold\">[</span> <span style=\"color: #008080; text-decoration-color: #008080; font-weight: bold\">0</span>.        ,  <span style=\"color: #008080; text-decoration-color: #008080; font-weight: bold\">0</span>.        ,  <span style=\"color: #008080; text-decoration-color: #008080; font-weight: bold\">0</span>.        ,  <span style=\"color: #008080; text-decoration-color: #008080; font-weight: bold\">0</span>.        <span style=\"font-weight: bold\">]</span>,\n",
       "        <span style=\"font-weight: bold\">[</span> <span style=\"color: #008080; text-decoration-color: #008080; font-weight: bold\">0</span>.        ,  <span style=\"color: #008080; text-decoration-color: #008080; font-weight: bold\">0</span>.        ,  <span style=\"color: #008080; text-decoration-color: #008080; font-weight: bold\">0</span>.        ,  <span style=\"color: #008080; text-decoration-color: #008080; font-weight: bold\">0</span>.        <span style=\"font-weight: bold\">]]</span>,\n",
       "\n",
       "       <span style=\"font-weight: bold\">[[</span> <span style=\"color: #008080; text-decoration-color: #008080; font-weight: bold\">0</span>.        ,  <span style=\"color: #008080; text-decoration-color: #008080; font-weight: bold\">0</span>.        ,  <span style=\"color: #008080; text-decoration-color: #008080; font-weight: bold\">0</span>.        ,  <span style=\"color: #008080; text-decoration-color: #008080; font-weight: bold\">0</span>.        <span style=\"font-weight: bold\">]</span>,\n",
       "        <span style=\"font-weight: bold\">[</span> <span style=\"color: #008080; text-decoration-color: #008080; font-weight: bold\">0</span>.        ,  <span style=\"color: #008080; text-decoration-color: #008080; font-weight: bold\">0</span>.        ,  <span style=\"color: #008080; text-decoration-color: #008080; font-weight: bold\">0</span>.        ,  <span style=\"color: #008080; text-decoration-color: #008080; font-weight: bold\">0</span>.        <span style=\"font-weight: bold\">]</span>,\n",
       "        <span style=\"font-weight: bold\">[</span> <span style=\"color: #008080; text-decoration-color: #008080; font-weight: bold\">0</span>.        ,  <span style=\"color: #008080; text-decoration-color: #008080; font-weight: bold\">0</span>.        ,  <span style=\"color: #008080; text-decoration-color: #008080; font-weight: bold\">0</span>.        ,  <span style=\"color: #008080; text-decoration-color: #008080; font-weight: bold\">0</span>.        <span style=\"font-weight: bold\">]</span>,\n",
       "        <span style=\"font-weight: bold\">[</span> <span style=\"color: #008080; text-decoration-color: #008080; font-weight: bold\">0</span>.        ,  <span style=\"color: #008080; text-decoration-color: #008080; font-weight: bold\">0</span>.        ,  <span style=\"color: #008080; text-decoration-color: #008080; font-weight: bold\">0</span>.        ,  <span style=\"color: #008080; text-decoration-color: #008080; font-weight: bold\">0</span>.        <span style=\"font-weight: bold\">]]]</span>,      <span style=\"color: #808000; text-decoration-color: #808000\">dtype</span>=<span style=\"color: #800080; text-decoration-color: #800080\">float32</span><span style=\"font-weight: bold\">)</span>,\n",
       "    <span style=\"color: #808000; text-decoration-color: #808000\">params</span>=<span style=\"color: #800080; text-decoration-color: #800080; font-weight: bold\">Array</span><span style=\"font-weight: bold\">([[</span> <span style=\"color: #008080; text-decoration-color: #008080; font-weight: bold\">2.1488428e-01</span>, <span style=\"color: #008080; text-decoration-color: #008080; font-weight: bold\">-4.9679029e-01</span>, <span style=\"color: #008080; text-decoration-color: #008080; font-weight: bold\">-1.2526062e+00</span><span style=\"font-weight: bold\">]</span>,\n",
       "       <span style=\"font-weight: bold\">[</span> <span style=\"color: #008080; text-decoration-color: #008080; font-weight: bold\">1.6291702e-01</span>, <span style=\"color: #008080; text-decoration-color: #008080; font-weight: bold\">-2.7761102e-01</span>, <span style=\"color: #008080; text-decoration-color: #008080; font-weight: bold\">-2.5685828e+00</span><span style=\"font-weight: bold\">]</span>,\n",
       "       <span style=\"font-weight: bold\">[</span><span style=\"color: #008080; text-decoration-color: #008080; font-weight: bold\">-2.4470484e-01</span>,  <span style=\"color: #008080; text-decoration-color: #008080; font-weight: bold\">4.0194654e-01</span>, <span style=\"color: #008080; text-decoration-color: #008080; font-weight: bold\">-1.6734682e+00</span><span style=\"font-weight: bold\">]</span>,\n",
       "       <span style=\"font-weight: bold\">[</span><span style=\"color: #008080; text-decoration-color: #008080; font-weight: bold\">-1.0000000e+04</span>, <span style=\"color: #008080; text-decoration-color: #008080; font-weight: bold\">-1.0000000e+04</span>, <span style=\"color: #008080; text-decoration-color: #008080; font-weight: bold\">-1.0000000e+04</span><span style=\"font-weight: bold\">]</span>,\n",
       "       <span style=\"font-weight: bold\">[</span><span style=\"color: #008080; text-decoration-color: #008080; font-weight: bold\">-1.0000000e+04</span>, <span style=\"color: #008080; text-decoration-color: #008080; font-weight: bold\">-1.0000000e+04</span>, <span style=\"color: #008080; text-decoration-color: #008080; font-weight: bold\">-1.0000000e+04</span><span style=\"font-weight: bold\">]</span>,\n",
       "       <span style=\"font-weight: bold\">[</span><span style=\"color: #008080; text-decoration-color: #008080; font-weight: bold\">-1.0000000e+04</span>, <span style=\"color: #008080; text-decoration-color: #008080; font-weight: bold\">-1.0000000e+04</span>, <span style=\"color: #008080; text-decoration-color: #008080; font-weight: bold\">-1.0000000e+04</span><span style=\"font-weight: bold\">]</span>,\n",
       "       <span style=\"font-weight: bold\">[</span><span style=\"color: #008080; text-decoration-color: #008080; font-weight: bold\">-1.0000000e+04</span>, <span style=\"color: #008080; text-decoration-color: #008080; font-weight: bold\">-1.0000000e+04</span>, <span style=\"color: #008080; text-decoration-color: #008080; font-weight: bold\">-1.0000000e+04</span><span style=\"font-weight: bold\">]</span>,\n",
       "       <span style=\"font-weight: bold\">[</span><span style=\"color: #008080; text-decoration-color: #008080; font-weight: bold\">-1.0000000e+04</span>, <span style=\"color: #008080; text-decoration-color: #008080; font-weight: bold\">-1.0000000e+04</span>, <span style=\"color: #008080; text-decoration-color: #008080; font-weight: bold\">-1.0000000e+04</span><span style=\"font-weight: bold\">]]</span>, <span style=\"color: #808000; text-decoration-color: #808000\">dtype</span>=<span style=\"color: #800080; text-decoration-color: #800080\">float32</span><span style=\"font-weight: bold\">)</span>\n",
       "<span style=\"font-weight: bold\">)</span>\n",
       "</pre>\n"
      ],
      "text/plain": [
       "\u001b[1;35mObjectInfo\u001b[0m\u001b[1m(\u001b[0m\n",
       "    \u001b[33mparent_obj\u001b[0m=\u001b[1;35mArray\u001b[0m\u001b[1m(\u001b[0m\u001b[1m[\u001b[0m   \u001b[1;36m-1\u001b[0m,     \u001b[1;36m0\u001b[0m,     \u001b[1;36m1\u001b[0m, \u001b[1;36m-1000\u001b[0m, \u001b[1;36m-1000\u001b[0m, \u001b[1;36m-1000\u001b[0m, \u001b[1;36m-1000\u001b[0m, \u001b[1;36m-1000\u001b[0m\u001b[1m]\u001b[0m, \u001b[33mdtype\u001b[0m=\u001b[35mint32\u001b[0m\u001b[1m)\u001b[0m,\n",
       "    \u001b[33mparent_face\u001b[0m=\u001b[1;35mArray\u001b[0m\u001b[1m(\u001b[0m\u001b[1m[\u001b[0m    \u001b[1;36m5\u001b[0m,     \u001b[1;36m3\u001b[0m,     \u001b[1;36m0\u001b[0m, \u001b[1;36m-1000\u001b[0m, \u001b[1;36m-1000\u001b[0m, \u001b[1;36m-1000\u001b[0m, \u001b[1;36m-1000\u001b[0m, \u001b[1;36m-1000\u001b[0m\u001b[1m]\u001b[0m, \u001b[33mdtype\u001b[0m=\u001b[35mint32\u001b[0m\u001b[1m)\u001b[0m,\n",
       "    \u001b[33mchild_face\u001b[0m=\u001b[1;35mArray\u001b[0m\u001b[1m(\u001b[0m\u001b[1m[\u001b[0m    \u001b[1;36m1\u001b[0m,     \u001b[1;36m4\u001b[0m,     \u001b[1;36m3\u001b[0m, \u001b[1;36m-1000\u001b[0m, \u001b[1;36m-1000\u001b[0m, \u001b[1;36m-1000\u001b[0m, \u001b[1;36m-1000\u001b[0m, \u001b[1;36m-1000\u001b[0m\u001b[1m]\u001b[0m, \u001b[33mdtype\u001b[0m=\u001b[35mint32\u001b[0m\u001b[1m)\u001b[0m,\n",
       "    \u001b[33mcategory_index\u001b[0m=\u001b[1;35mArray\u001b[0m\u001b[1m(\u001b[0m\u001b[1m[\u001b[0m    \u001b[1;36m3\u001b[0m,     \u001b[1;36m0\u001b[0m,     \u001b[1;36m0\u001b[0m, \u001b[1;36m-1000\u001b[0m, \u001b[1;36m-1000\u001b[0m, \u001b[1;36m-1000\u001b[0m, \u001b[1;36m-1000\u001b[0m, \u001b[1;36m-1000\u001b[0m\u001b[1m]\u001b[0m, \u001b[33mdtype\u001b[0m=\u001b[35mint32\u001b[0m\u001b[1m)\u001b[0m,\n",
       "    \u001b[33mroot_pose\u001b[0m=\u001b[1;35mArray\u001b[0m\u001b[1m(\u001b[0m\u001b[1m[\u001b[0m\u001b[1m[\u001b[0m\u001b[1m[\u001b[0m \u001b[1;36m0.08324158\u001b[0m,  \u001b[1;36m0.9914397\u001b[0m ,  \u001b[1;36m0.1005891\u001b[0m ,  \u001b[1;36m0.78314924\u001b[0m\u001b[1m]\u001b[0m,\n",
       "        \u001b[1m[\u001b[0m \u001b[1;36m0.75845647\u001b[0m,  \u001b[1;36m0.00244164\u001b[0m, \u001b[1;36m-0.6517191\u001b[0m ,  \u001b[1;36m0.15301752\u001b[0m\u001b[1m]\u001b[0m,\n",
       "        \u001b[1m[\u001b[0m\u001b[1;36m-0.6463858\u001b[0m ,  \u001b[1;36m0.1305426\u001b[0m , \u001b[1;36m-0.7517606\u001b[0m ,  \u001b[1;36m1.4964514\u001b[0m \u001b[1m]\u001b[0m,\n",
       "        \u001b[1m[\u001b[0m \u001b[1;36m0\u001b[0m.        ,  \u001b[1;36m0\u001b[0m.        ,  \u001b[1;36m0\u001b[0m.        ,  \u001b[1;36m1\u001b[0m.        \u001b[1m]\u001b[0m\u001b[1m]\u001b[0m,\n",
       "\n",
       "       \u001b[1m[\u001b[0m\u001b[1m[\u001b[0m\u001b[1;36m-0.21666539\u001b[0m, \u001b[1;36m-0.90848744\u001b[0m, \u001b[1;36m-0.35736027\u001b[0m, \u001b[1;36m-0.21559906\u001b[0m\u001b[1m]\u001b[0m,\n",
       "        \u001b[1m[\u001b[0m\u001b[1;36m-0.8068098\u001b[0m , \u001b[1;36m-0.03946489\u001b[0m,  \u001b[1;36m0.5894915\u001b[0m ,  \u001b[1;36m0.3701434\u001b[0m \u001b[1m]\u001b[0m,\n",
       "        \u001b[1m[\u001b[0m\u001b[1;36m-0.5496488\u001b[0m ,  \u001b[1;36m0.41604412\u001b[0m, \u001b[1;36m-0.7244262\u001b[0m , \u001b[1;36m-1.6396523\u001b[0m \u001b[1m]\u001b[0m,\n",
       "        \u001b[1m[\u001b[0m \u001b[1;36m0\u001b[0m.        ,  \u001b[1;36m0\u001b[0m.        ,  \u001b[1;36m0\u001b[0m.        ,  \u001b[1;36m1\u001b[0m.        \u001b[1m]\u001b[0m\u001b[1m]\u001b[0m,\n",
       "\n",
       "       \u001b[1m[\u001b[0m\u001b[1m[\u001b[0m\u001b[1;36m-0.64909387\u001b[0m,  \u001b[1;36m0.70433265\u001b[0m,  \u001b[1;36m0.28738946\u001b[0m,  \u001b[1;36m1.4883456\u001b[0m \u001b[1m]\u001b[0m,\n",
       "        \u001b[1m[\u001b[0m\u001b[1;36m-0.08321178\u001b[0m,  \u001b[1;36m0.3097843\u001b[0m , \u001b[1;36m-0.9471587\u001b[0m ,  \u001b[1;36m1.5349431\u001b[0m \u001b[1m]\u001b[0m,\n",
       "        \u001b[1m[\u001b[0m\u001b[1;36m-0.7561435\u001b[0m , \u001b[1;36m-0.63870907\u001b[0m, \u001b[1;36m-0.14247024\u001b[0m,  \u001b[1;36m1.9557447\u001b[0m \u001b[1m]\u001b[0m,\n",
       "        \u001b[1m[\u001b[0m \u001b[1;36m0\u001b[0m.        ,  \u001b[1;36m0\u001b[0m.        ,  \u001b[1;36m0\u001b[0m.        ,  \u001b[1;36m1\u001b[0m.        \u001b[1m]\u001b[0m\u001b[1m]\u001b[0m,\n",
       "\n",
       "       \u001b[1m[\u001b[0m\u001b[1m[\u001b[0m \u001b[1;36m0\u001b[0m.        ,  \u001b[1;36m0\u001b[0m.        ,  \u001b[1;36m0\u001b[0m.        ,  \u001b[1;36m0\u001b[0m.        \u001b[1m]\u001b[0m,\n",
       "        \u001b[1m[\u001b[0m \u001b[1;36m0\u001b[0m.        ,  \u001b[1;36m0\u001b[0m.        ,  \u001b[1;36m0\u001b[0m.        ,  \u001b[1;36m0\u001b[0m.        \u001b[1m]\u001b[0m,\n",
       "        \u001b[1m[\u001b[0m \u001b[1;36m0\u001b[0m.        ,  \u001b[1;36m0\u001b[0m.        ,  \u001b[1;36m0\u001b[0m.        ,  \u001b[1;36m0\u001b[0m.        \u001b[1m]\u001b[0m,\n",
       "        \u001b[1m[\u001b[0m \u001b[1;36m0\u001b[0m.        ,  \u001b[1;36m0\u001b[0m.        ,  \u001b[1;36m0\u001b[0m.        ,  \u001b[1;36m0\u001b[0m.        \u001b[1m]\u001b[0m\u001b[1m]\u001b[0m,\n",
       "\n",
       "       \u001b[1m[\u001b[0m\u001b[1m[\u001b[0m \u001b[1;36m0\u001b[0m.        ,  \u001b[1;36m0\u001b[0m.        ,  \u001b[1;36m0\u001b[0m.        ,  \u001b[1;36m0\u001b[0m.        \u001b[1m]\u001b[0m,\n",
       "        \u001b[1m[\u001b[0m \u001b[1;36m0\u001b[0m.        ,  \u001b[1;36m0\u001b[0m.        ,  \u001b[1;36m0\u001b[0m.        ,  \u001b[1;36m0\u001b[0m.        \u001b[1m]\u001b[0m,\n",
       "        \u001b[1m[\u001b[0m \u001b[1;36m0\u001b[0m.        ,  \u001b[1;36m0\u001b[0m.        ,  \u001b[1;36m0\u001b[0m.        ,  \u001b[1;36m0\u001b[0m.        \u001b[1m]\u001b[0m,\n",
       "        \u001b[1m[\u001b[0m \u001b[1;36m0\u001b[0m.        ,  \u001b[1;36m0\u001b[0m.        ,  \u001b[1;36m0\u001b[0m.        ,  \u001b[1;36m0\u001b[0m.        \u001b[1m]\u001b[0m\u001b[1m]\u001b[0m,\n",
       "\n",
       "       \u001b[1m[\u001b[0m\u001b[1m[\u001b[0m \u001b[1;36m0\u001b[0m.        ,  \u001b[1;36m0\u001b[0m.        ,  \u001b[1;36m0\u001b[0m.        ,  \u001b[1;36m0\u001b[0m.        \u001b[1m]\u001b[0m,\n",
       "        \u001b[1m[\u001b[0m \u001b[1;36m0\u001b[0m.        ,  \u001b[1;36m0\u001b[0m.        ,  \u001b[1;36m0\u001b[0m.        ,  \u001b[1;36m0\u001b[0m.        \u001b[1m]\u001b[0m,\n",
       "        \u001b[1m[\u001b[0m \u001b[1;36m0\u001b[0m.        ,  \u001b[1;36m0\u001b[0m.        ,  \u001b[1;36m0\u001b[0m.        ,  \u001b[1;36m0\u001b[0m.        \u001b[1m]\u001b[0m,\n",
       "        \u001b[1m[\u001b[0m \u001b[1;36m0\u001b[0m.        ,  \u001b[1;36m0\u001b[0m.        ,  \u001b[1;36m0\u001b[0m.        ,  \u001b[1;36m0\u001b[0m.        \u001b[1m]\u001b[0m\u001b[1m]\u001b[0m,\n",
       "\n",
       "       \u001b[1m[\u001b[0m\u001b[1m[\u001b[0m \u001b[1;36m0\u001b[0m.        ,  \u001b[1;36m0\u001b[0m.        ,  \u001b[1;36m0\u001b[0m.        ,  \u001b[1;36m0\u001b[0m.        \u001b[1m]\u001b[0m,\n",
       "        \u001b[1m[\u001b[0m \u001b[1;36m0\u001b[0m.        ,  \u001b[1;36m0\u001b[0m.        ,  \u001b[1;36m0\u001b[0m.        ,  \u001b[1;36m0\u001b[0m.        \u001b[1m]\u001b[0m,\n",
       "        \u001b[1m[\u001b[0m \u001b[1;36m0\u001b[0m.        ,  \u001b[1;36m0\u001b[0m.        ,  \u001b[1;36m0\u001b[0m.        ,  \u001b[1;36m0\u001b[0m.        \u001b[1m]\u001b[0m,\n",
       "        \u001b[1m[\u001b[0m \u001b[1;36m0\u001b[0m.        ,  \u001b[1;36m0\u001b[0m.        ,  \u001b[1;36m0\u001b[0m.        ,  \u001b[1;36m0\u001b[0m.        \u001b[1m]\u001b[0m\u001b[1m]\u001b[0m,\n",
       "\n",
       "       \u001b[1m[\u001b[0m\u001b[1m[\u001b[0m \u001b[1;36m0\u001b[0m.        ,  \u001b[1;36m0\u001b[0m.        ,  \u001b[1;36m0\u001b[0m.        ,  \u001b[1;36m0\u001b[0m.        \u001b[1m]\u001b[0m,\n",
       "        \u001b[1m[\u001b[0m \u001b[1;36m0\u001b[0m.        ,  \u001b[1;36m0\u001b[0m.        ,  \u001b[1;36m0\u001b[0m.        ,  \u001b[1;36m0\u001b[0m.        \u001b[1m]\u001b[0m,\n",
       "        \u001b[1m[\u001b[0m \u001b[1;36m0\u001b[0m.        ,  \u001b[1;36m0\u001b[0m.        ,  \u001b[1;36m0\u001b[0m.        ,  \u001b[1;36m0\u001b[0m.        \u001b[1m]\u001b[0m,\n",
       "        \u001b[1m[\u001b[0m \u001b[1;36m0\u001b[0m.        ,  \u001b[1;36m0\u001b[0m.        ,  \u001b[1;36m0\u001b[0m.        ,  \u001b[1;36m0\u001b[0m.        \u001b[1m]\u001b[0m\u001b[1m]\u001b[0m\u001b[1m]\u001b[0m,      \u001b[33mdtype\u001b[0m=\u001b[35mfloat32\u001b[0m\u001b[1m)\u001b[0m,\n",
       "    \u001b[33mparams\u001b[0m=\u001b[1;35mArray\u001b[0m\u001b[1m(\u001b[0m\u001b[1m[\u001b[0m\u001b[1m[\u001b[0m \u001b[1;36m2.1488428e-01\u001b[0m, \u001b[1;36m-4.9679029e-01\u001b[0m, \u001b[1;36m-1.2526062e+00\u001b[0m\u001b[1m]\u001b[0m,\n",
       "       \u001b[1m[\u001b[0m \u001b[1;36m1.6291702e-01\u001b[0m, \u001b[1;36m-2.7761102e-01\u001b[0m, \u001b[1;36m-2.5685828e+00\u001b[0m\u001b[1m]\u001b[0m,\n",
       "       \u001b[1m[\u001b[0m\u001b[1;36m-2.4470484e-01\u001b[0m,  \u001b[1;36m4.0194654e-01\u001b[0m, \u001b[1;36m-1.6734682e+00\u001b[0m\u001b[1m]\u001b[0m,\n",
       "       \u001b[1m[\u001b[0m\u001b[1;36m-1.0000000e+04\u001b[0m, \u001b[1;36m-1.0000000e+04\u001b[0m, \u001b[1;36m-1.0000000e+04\u001b[0m\u001b[1m]\u001b[0m,\n",
       "       \u001b[1m[\u001b[0m\u001b[1;36m-1.0000000e+04\u001b[0m, \u001b[1;36m-1.0000000e+04\u001b[0m, \u001b[1;36m-1.0000000e+04\u001b[0m\u001b[1m]\u001b[0m,\n",
       "       \u001b[1m[\u001b[0m\u001b[1;36m-1.0000000e+04\u001b[0m, \u001b[1;36m-1.0000000e+04\u001b[0m, \u001b[1;36m-1.0000000e+04\u001b[0m\u001b[1m]\u001b[0m,\n",
       "       \u001b[1m[\u001b[0m\u001b[1;36m-1.0000000e+04\u001b[0m, \u001b[1;36m-1.0000000e+04\u001b[0m, \u001b[1;36m-1.0000000e+04\u001b[0m\u001b[1m]\u001b[0m,\n",
       "       \u001b[1m[\u001b[0m\u001b[1;36m-1.0000000e+04\u001b[0m, \u001b[1;36m-1.0000000e+04\u001b[0m, \u001b[1;36m-1.0000000e+04\u001b[0m\u001b[1m]\u001b[0m\u001b[1m]\u001b[0m, \u001b[33mdtype\u001b[0m=\u001b[35mfloat32\u001b[0m\u001b[1m)\u001b[0m\n",
       "\u001b[1m)\u001b[0m\n"
      ]
     },
     "metadata": {},
     "output_type": "display_data"
    }
   ],
   "source": [
    "object_info = mymatch(\n",
    "        mapped_trace.get_retval(),\n",
    "        lambda: empty_object_info(),\n",
    "        lambda obj: obj\n",
    "    )\n",
    "console.print(object_info)"
   ]
  },
  {
   "cell_type": "code",
   "execution_count": 35,
   "metadata": {},
   "outputs": [
    {
     "data": {
      "text/html": [
       "<pre style=\"white-space:pre;overflow-x:auto;line-height:normal;font-family:Menlo,'DejaVu Sans Mono',consolas,'Courier New',monospace\"><span style=\"font-weight: bold\">[</span>    <span style=\"color: #008080; text-decoration-color: #008080; font-weight: bold\">3</span>     <span style=\"color: #008080; text-decoration-color: #008080; font-weight: bold\">0</span>     <span style=\"color: #008080; text-decoration-color: #008080; font-weight: bold\">0</span> <span style=\"color: #008080; text-decoration-color: #008080; font-weight: bold\">-1000</span> <span style=\"color: #008080; text-decoration-color: #008080; font-weight: bold\">-1000</span> <span style=\"color: #008080; text-decoration-color: #008080; font-weight: bold\">-1000</span> <span style=\"color: #008080; text-decoration-color: #008080; font-weight: bold\">-1000</span> <span style=\"color: #008080; text-decoration-color: #008080; font-weight: bold\">-1000</span><span style=\"font-weight: bold\">]</span>\n",
       "</pre>\n"
      ],
      "text/plain": [
       "\u001b[1m[\u001b[0m    \u001b[1;36m3\u001b[0m     \u001b[1;36m0\u001b[0m     \u001b[1;36m0\u001b[0m \u001b[1;36m-1000\u001b[0m \u001b[1;36m-1000\u001b[0m \u001b[1;36m-1000\u001b[0m \u001b[1;36m-1000\u001b[0m \u001b[1;36m-1000\u001b[0m\u001b[1m]\u001b[0m\n"
      ]
     },
     "metadata": {},
     "output_type": "display_data"
    }
   ],
   "source": [
    "console.print(object_info.category_index)"
   ]
  },
  {
   "cell_type": "code",
   "execution_count": 36,
   "metadata": {},
   "outputs": [
    {
     "data": {
      "text/html": [
       "<pre style=\"white-space:pre;overflow-x:auto;line-height:normal;font-family:Menlo,'DejaVu Sans Mono',consolas,'Courier New',monospace\"><span style=\"font-weight: bold\">[</span>   <span style=\"color: #008080; text-decoration-color: #008080; font-weight: bold\">-1</span>     <span style=\"color: #008080; text-decoration-color: #008080; font-weight: bold\">0</span>     <span style=\"color: #008080; text-decoration-color: #008080; font-weight: bold\">1</span> <span style=\"color: #008080; text-decoration-color: #008080; font-weight: bold\">-1000</span> <span style=\"color: #008080; text-decoration-color: #008080; font-weight: bold\">-1000</span> <span style=\"color: #008080; text-decoration-color: #008080; font-weight: bold\">-1000</span> <span style=\"color: #008080; text-decoration-color: #008080; font-weight: bold\">-1000</span> <span style=\"color: #008080; text-decoration-color: #008080; font-weight: bold\">-1000</span><span style=\"font-weight: bold\">]</span>\n",
       "</pre>\n"
      ],
      "text/plain": [
       "\u001b[1m[\u001b[0m   \u001b[1;36m-1\u001b[0m     \u001b[1;36m0\u001b[0m     \u001b[1;36m1\u001b[0m \u001b[1;36m-1000\u001b[0m \u001b[1;36m-1000\u001b[0m \u001b[1;36m-1000\u001b[0m \u001b[1;36m-1000\u001b[0m \u001b[1;36m-1000\u001b[0m\u001b[1m]\u001b[0m\n"
      ]
     },
     "metadata": {},
     "output_type": "display_data"
    }
   ],
   "source": [
    "console.print(object_info.parent_obj)"
   ]
  },
  {
   "cell_type": "markdown",
   "metadata": {},
   "source": [
    "Note that instead of giving us an array of 8 ObjectInfo values, we get a single ObjectInfo value, which contains arrays of length 8.\n",
    "\n",
    "Again, this object-of-array rather than array-of-object format is typical of JAX's system for constructing parallel computations from python code."
   ]
  },
  {
   "cell_type": "markdown",
   "metadata": {},
   "source": [
    "## Full model over scenes and images\n",
    "\n",
    "Now we'll define a generative model which generates a random set of objects, a camera pose, and then generates a noised-up image of the scene.\n",
    "\n",
    "A few notes:\n",
    "1. The first argument to this generative function needs to specify `max_n_objects`.  This needs to be done in a way that genjax knows that this value will not be changed at runtime, and it should compile a specialized version of the generative function, with a different fixed memory layout, for every value of `max_n_objects`.  GenJAX has an interface designed to support this, but it is currently unstable, so we use a work-around here.  The work-around is to pass in an array, `max_n_objects_array`, with shape `(max_n_objects,)`.  GenJAX always treats array shapes as fixed, so it will compile a specialized version of the generative function for every value of `max_n_objects`.  The values in the `max_n_objects_array` array are ignored."
   ]
  },
  {
   "cell_type": "code",
   "execution_count": 37,
   "metadata": {},
   "outputs": [],
   "source": [
    "# The trace will make it easy to access any value which is directly generated from\n",
    "# a distribution object, like the noised-up image `trace[\"image\"]`.\n",
    "# For convenience, we will collect several values computed (but not directly sampled\n",
    "# from distributions) in the generative process, and store them in a `ModelOutput` object.\n",
    "# The generative function will return this value, so we can easily access these values\n",
    "# from `trace.get_retval()`.\n",
    "class ModelOutput(NamedTuple):\n",
    "    rendered: jnp.ndarray\n",
    "    n_objects: int\n",
    "    object_info: ObjectInfo\n",
    "    poses: jnp.ndarray"
   ]
  },
  {
   "cell_type": "code",
   "execution_count": 38,
   "metadata": {},
   "outputs": [],
   "source": [
    "@genjax.static_gen_fn\n",
    "def model(\n",
    "    max_n_objects_array, # array with shape = (max n objects,)\n",
    "    possible_object_indices, # Array, shape = (n_objects,)\n",
    "    pose_bounds, # Array of shape (3, 2): [[minx, miny, minz], [maxx, maxy, maxz]]\n",
    "    contact_bounds, # Array of shape (3, 2): [[minx, miny, mintheta], [maxx, maxy, maxtheta]]\n",
    "    \n",
    "    # Last arg: bounding box dimensions for the object mesh for each category,\n",
    "    # [xsize, ysize, zsize], in meters.\n",
    "    all_box_dims # Array of shape (n_categories, 3)\n",
    "):\n",
    "    ### Generate the objects in the scene ###\n",
    "\n",
    "    # Choose a random number of objects to generate\n",
    "    max_n_objects = max_n_objects_array.shape[0]\n",
    "    n_objects = uniform_discrete(0, max_n_objects) @ \"n_objects\"\n",
    "\n",
    "    masked_object_info = generate_objects(\n",
    "        jnp.arange(max_n_objects) < n_objects, # is-active array\n",
    "        (\n",
    "            jnp.arange(max_n_objects), # object_index\n",
    "            possible_object_indices,\n",
    "            pose_bounds,\n",
    "            contact_bounds\n",
    "        )\n",
    "    ) @ \"objects\"\n",
    "\n",
    "    # Get the underlying ObjectInfo objects, or empty ones if they don't exist.\n",
    "    object_info = mymatch(\n",
    "        masked_object_info,\n",
    "        lambda: empty_object_info(),\n",
    "        lambda x: x\n",
    "    )\n",
    "\n",
    "    ### Compute the 6DOF object poses from the scene graph generated above ###\n",
    "    \n",
    "    # Bounding boxes dimensions for each object mesh; [0, 0, 0] for each null object slot\n",
    "    valid_box_dims = jnp.where(\n",
    "        is_valid(object_info)[:, None],\n",
    "        all_box_dims[object_info.category_index],\n",
    "        jnp.zeros(3)\n",
    "    )\n",
    "    # Compute the 6DOF poses of each object in the scene using\n",
    "    # bayes3d.scene_graph.poses_from_scene_graph;\n",
    "    # if the object is not valid, we just return jnp.zeros((4, 4)) to fill\n",
    "    # a pose-shaped memory slot with null values.\n",
    "    poses = jnp.where(\n",
    "        is_valid(object_info)[:, None, None],\n",
    "        bayes3d.scene_graph.poses_from_scene_graph(\n",
    "            object_info.root_pose,\n",
    "            valid_box_dims,\n",
    "            object_info.parent_obj, object_info.params,\n",
    "            object_info.parent_face, object_info.child_face\n",
    "        ),\n",
    "        jnp.zeros((max_n_objects, 4, 4))\n",
    "    )\n",
    "\n",
    "    ### Generate a camera pose and generate a picture of the scene ###\n",
    "    camera_pose = uniform_pose(\n",
    "        pose_bounds[0],\n",
    "        pose_bounds[1],\n",
    "    ) @ \"camera_pose\"\n",
    "    rendered = bayes3d.RENDERER.render(jnp.linalg.inv(camera_pose) @ poses, object_info.category_index)[..., :3]\\\n",
    "    \n",
    "    # Prior on noise parameters for the noisy image likelihood\n",
    "    variance = genjax.uniform(0.00000000001, 10000.0) @ \"variance\"\n",
    "\n",
    "    # Generate a noisy image of the scene\n",
    "    noisy_image = image_likelihood(rendered, variance, 0.) @ \"image\"\n",
    "\n",
    "    return ModelOutput(rendered, n_objects, object_info, poses)"
   ]
  },
  {
   "cell_type": "markdown",
   "metadata": {},
   "source": [
    "## Set up Bayes3D's renderer, and generate some random scenes from the model"
   ]
  },
  {
   "cell_type": "markdown",
   "metadata": {},
   "source": [
    "### Bayes3D setup"
   ]
  },
  {
   "cell_type": "markdown",
   "metadata": {},
   "source": [
    "First, we need to set up the Bayes3D renderer with camera intrinsics and some known object meshes.\n",
    "\n",
    "(Currently, camera intrinsics are fixed outside the generative model, rather than being an argument to the renderer, which could make it possible to, e.g., run inference over the intrinsics.)"
   ]
  },
  {
   "cell_type": "code",
   "execution_count": 50,
   "metadata": {},
   "outputs": [],
   "source": [
    "from src.utils import load_nice_intrinsics, load_some_object_meshes, get_nice_table_pose"
   ]
  },
  {
   "cell_type": "code",
   "execution_count": 40,
   "metadata": {},
   "outputs": [
    {
     "name": "stderr",
     "output_type": "stream",
     "text": [
      "[E rasterize_gl.cpp:121] OpenGL version reported as 4.6\n"
     ]
    },
    {
     "name": "stdout",
     "output_type": "stream",
     "text": [
      "Increasing frame buffer size to (width, height, depth) = (320, 256, 1024)\n"
     ]
    }
   ],
   "source": [
    "intrinsics = load_nice_intrinsics()\n",
    "bayes3d.setup_renderer(intrinsics)"
   ]
  },
  {
   "cell_type": "code",
   "execution_count": 41,
   "metadata": {},
   "outputs": [
    {
     "name": "stdout",
     "output_type": "stream",
     "text": [
      "Added table mesh.\n",
      "Added pillar mesh.\n",
      "Added mesh at path /home/georgematheos/bayes3d/assets/bop/ycbv/models/obj_000002.ply.\n",
      "Added mesh at path /home/georgematheos/bayes3d/assets/bop/ycbv/models/obj_000003.ply.\n",
      "Added mesh at path /home/georgematheos/bayes3d/assets/bop/ycbv/models/obj_000011.ply.\n",
      "Added mesh at path /home/georgematheos/bayes3d/assets/bop/ycbv/models/obj_000013.ply.\n",
      "Added mesh at path /home/georgematheos/bayes3d/assets/bop/ycbv/models/obj_000021.ply.\n"
     ]
    },
    {
     "data": {
      "text/plain": [
       "['table',\n",
       " 'pillar',\n",
       " '003_cracker_box',\n",
       " '004_sugar_box',\n",
       " '019_pitcher_base',\n",
       " '024_bowl',\n",
       " '061_foam_brick']"
      ]
     },
     "execution_count": 41,
     "metadata": {},
     "output_type": "execute_result"
    }
   ],
   "source": [
    "idx_to_object_name = load_some_object_meshes()\n",
    "idx_to_object_name"
   ]
  },
  {
   "cell_type": "markdown",
   "metadata": {},
   "source": [
    "### Generate random scenes"
   ]
  },
  {
   "cell_type": "code",
   "execution_count": 42,
   "metadata": {},
   "outputs": [],
   "source": [
    "# Update the PRNG key to the next one in the sequence\n",
    "key, _ = jax.random.split(key)\n",
    "\n",
    "model_args = (\n",
    "    jnp.arange(max_n_objects), # max_n_objects_array\n",
    "    jnp.arange(len(bayes3d.RENDERER.meshes)), # possible_object_indices\n",
    "    jnp.array([-2 * jnp.ones(3), 2 * jnp.ones(3)]), # pose_bounds\n",
    "    jnp.array([jnp.array([-0.5, -0.5, -jnp.pi]), jnp.array([0.5, 0.5, jnp.pi])],), # contact_bounds\n",
    "    bayes3d.RENDERER.model_box_dims # all_box_dims\n",
    ")\n",
    "model_trace = model.simulate(key, model_args)"
   ]
  },
  {
   "cell_type": "markdown",
   "metadata": {},
   "source": [
    "Visualize the trace in meshcat (open the URL returned by `b.setup_visualizer` at the top of this notebook to see this).  (Usually the URL is [http://127.0.0.1:7000/static/](http://127.0.0.1:7000/static/).)"
   ]
  },
  {
   "cell_type": "code",
   "execution_count": 43,
   "metadata": {},
   "outputs": [],
   "source": [
    "from src.model3 import viz_trace_meshcat\n",
    "viz_trace_meshcat(model_trace)"
   ]
  },
  {
   "cell_type": "markdown",
   "metadata": {},
   "source": [
    "This tends to generate really random scenes where the camera isn't looking at anything of interest.\n",
    "\n",
    "The depth images look like this:"
   ]
  },
  {
   "cell_type": "code",
   "execution_count": 47,
   "metadata": {},
   "outputs": [
    {
     "data": {
      "text/plain": [
       "<matplotlib.image.AxesImage at 0x7fad64925220>"
      ]
     },
     "execution_count": 47,
     "metadata": {},
     "output_type": "execute_result"
    },
    {
     "data": {
      "image/png": "[encoded data removed]",
      "text/plain": [
       "<Figure size 640x480 with 1 Axes>"
      ]
     },
     "metadata": {},
     "output_type": "display_data"
    }
   ],
   "source": [
    "plt.imshow(model_trace.get_retval().rendered[:, :, 2])"
   ]
  },
  {
   "cell_type": "markdown",
   "metadata": {},
   "source": [
    "Let's generate a new trace, telling Gen to constrain the choices so we get a particular trace, where the camera is facing the objects; the first object is the table; and all objects are on top of their parent object (rather than, e.g., being attached at the side)."
   ]
  },
  {
   "cell_type": "code",
   "execution_count": 48,
   "metadata": {},
   "outputs": [],
   "source": [
    "# Utility function to reshape data as needed in GenJAX.\n",
    "# (GenJAX TODO: make this easier.)\n",
    "def flat_choicemaps_to_vector_choicemap(choicemaps):\n",
    "    cm = genjax.choice_map({\n",
    "        k : jnp.array([c.get_submap(k).get_value() for c in choicemaps])\n",
    "        for (k, _) in choicemaps[0].get_submaps_shallow()\n",
    "    })\n",
    "    return cm"
   ]
  },
  {
   "cell_type": "code",
   "execution_count": 55,
   "metadata": {},
   "outputs": [],
   "source": [
    "X_CameraTable = get_nice_table_pose()\n",
    "\n",
    "constraints = genjax.choice_map({\n",
    "    \"camera_pose\": jnp.eye(4), # identity camera pose\n",
    "    \"n_objects\": 5,\n",
    "    \"objects\": genjax.indexed_choice_map( # special choicemap type used by `map_combinator`\n",
    "        jnp.arange(5),\n",
    "        flat_choicemaps_to_vector_choicemap([\n",
    "            genjax.choice_map({ # Object 1: table\n",
    "                \"root_pose\": X_CameraTable,\n",
    "                \"parent_obj\": -1, # no parent\n",
    "                \"category_index\": 0, # table\n",
    "                \"face_parent\": 2,\n",
    "                \"face_child\": 3,\n",
    "            }),\n",
    "            *[\n",
    "                genjax.choice_map({\n",
    "                    \"root_pose\": jnp.eye(4),\n",
    "                    \"parent_obj\": 0, # on table\n",
    "                    \"category_index\": i + 2, # generate a few different object types\n",
    "                    \"face_parent\": 2,\n",
    "                    \"face_child\": 3,\n",
    "                })\n",
    "                for i in range(4)\n",
    "            ]\n",
    "        ])\n",
    "    )\n",
    "})\n",
    "\n",
    "key, _ = jax.random.split(key)\n",
    "model_trace_2, weight = model.importance(key, constraints, model_args)"
   ]
  },
  {
   "cell_type": "code",
   "execution_count": 56,
   "metadata": {},
   "outputs": [],
   "source": [
    "viz_trace_meshcat(model_trace_2)"
   ]
  },
  {
   "cell_type": "code",
   "execution_count": 57,
   "metadata": {},
   "outputs": [
    {
     "data": {
      "text/plain": [
       "<matplotlib.image.AxesImage at 0x7fad495c5700>"
      ]
     },
     "execution_count": 57,
     "metadata": {},
     "output_type": "execute_result"
    },
    {
     "data": {
      "image/png": "[encoded data removed]",
      "text/plain": [
       "<Figure size 640x480 with 1 Axes>"
      ]
     },
     "metadata": {},
     "output_type": "display_data"
    }
   ],
   "source": [
    "plt.imshow(model_trace_2.get_retval().rendered[:, :, 2])"
   ]
  },
  {
   "cell_type": "markdown",
   "metadata": {},
   "source": [
    "### Compiling the model simulation function"
   ]
  },
  {
   "cell_type": "markdown",
   "metadata": {},
   "source": [
    "It took a few seconds to generate the scene above, since it involved quite a bit of python logic.\n",
    "We can tell GenJAX to just-in-time compile the scene generation to GPU (or CPU) code, which will make it run much faster."
   ]
  },
  {
   "cell_type": "code",
   "execution_count": 59,
   "metadata": {},
   "outputs": [],
   "source": [
    "# just-in-time compiled importance sampling function for generating traces\n",
    "# consistent with constraints\n",
    "importance_sampling_jit = jax.jit(model.importance)"
   ]
  },
  {
   "cell_type": "code",
   "execution_count": 62,
   "metadata": {},
   "outputs": [
    {
     "name": "stdout",
     "output_type": "stream",
     "text": [
      "First call took 0.0072307586669921875 seconds\n"
     ]
    }
   ],
   "source": [
    "# first call compiles it...\n",
    "import time\n",
    "start = time.time()\n",
    "importance_sampling_jit(key, constraints, model_args)\n",
    "end = time.time()\n",
    "print(f\"First call took {end - start} seconds\")"
   ]
  },
  {
   "cell_type": "code",
   "execution_count": 64,
   "metadata": {},
   "outputs": [
    {
     "name": "stdout",
     "output_type": "stream",
     "text": [
      "Subsequent call took 0.006575345993041992 seconds\n"
     ]
    }
   ],
   "source": [
    "# ...but subsequent calls are much faster\n",
    "start = time.time()\n",
    "importance_sampling_jit(key, constraints, model_args)\n",
    "end = time.time()\n",
    "print(f\"Subsequent call took {end - start} seconds\")"
   ]
  },
  {
   "cell_type": "markdown",
   "metadata": {},
   "source": [
    "This type of compilation is not as important for scene generation, but it can be quite important for inference, where we want to perform many operations on the model rapidly."
   ]
  },
  {
   "cell_type": "markdown",
   "metadata": {},
   "source": [
    "### Infernce from depth images\n",
    "\n",
    "For a tutorial on running inference in this model, see [02_tutorial-mle-inference.ipynb](02_tutorial-mle-inference.ipynb)."
   ]
  },
  {
   "cell_type": "markdown",
   "metadata": {},
   "source": []
  }
 ],
 "metadata": {
  "kernelspec": {
   "display_name": "bayes3d_genjax_2",
   "language": "python",
   "name": "python3"
  },
  "language_info": {
   "codemirror_mode": {
    "name": "ipython",
    "version": 3
   },
   "file_extension": ".py",
   "mimetype": "text/x-python",
   "name": "python",
   "nbconvert_exporter": "python",
   "pygments_lexer": "ipython3",
   "version": "3.9.18"
  }
 },
 "nbformat": 4,
 "nbformat_minor": 2
}
