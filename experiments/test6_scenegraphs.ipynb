{
 "cells": [
  {
   "cell_type": "code",
   "execution_count": 1,
   "metadata": {},
   "outputs": [],
   "source": [
    "%load_ext autoreload\n",
    "%autoreload 2"
   ]
  },
  {
   "cell_type": "code",
   "execution_count": 2,
   "metadata": {},
   "outputs": [],
   "source": [
    "import os\n",
    "import glob\n",
    "import pickle\n",
    "import jax\n",
    "import jax.numpy as jnp\n",
    "import bayes3d as b\n",
    "import genjax\n",
    "import matplotlib.pyplot as plt"
   ]
  },
  {
   "cell_type": "code",
   "execution_count": 3,
   "metadata": {},
   "outputs": [],
   "source": [
    "console = genjax.console(enforce_checkify=True)"
   ]
  },
  {
   "cell_type": "code",
   "execution_count": 4,
   "metadata": {},
   "outputs": [
    {
     "name": "stdout",
     "output_type": "stream",
     "text": [
      "You can open the visualizer by visiting the following URL:\n",
      "http://127.0.0.1:7000/static/\n"
     ]
    }
   ],
   "source": [
    "b.setup_visualizer()"
   ]
  },
  {
   "cell_type": "code",
   "execution_count": 5,
   "metadata": {},
   "outputs": [],
   "source": [
    "NEAR = 0.1\n",
    "FAR = 5.0"
   ]
  },
  {
   "cell_type": "code",
   "execution_count": 6,
   "metadata": {},
   "outputs": [
    {
     "name": "stdout",
     "output_type": "stream",
     "text": [
      "Got rgbd_original\n",
      "Got rgb immage scaled down.\n",
      "Increasing frame buffer size to (width, height, depth) = (64, 64, 1024)\n"
     ]
    },
    {
     "name": "stderr",
     "output_type": "stream",
     "text": [
      "[E rasterize_gl.cpp:121] OpenGL version reported as 4.6\n"
     ]
    }
   ],
   "source": [
    "with open('../data.pkl', 'rb') as f:\n",
    "    data = pickle.load(f)\n",
    "\n",
    "camera_image_1 = data[\"init\"][0]\n",
    "categories_on_table = data[\"init\"][1]\n",
    "target_category = data[\"init\"][2]\n",
    "table_info = data[\"init\"][3] # table pose and dimensions\n",
    "n_objects = 5\n",
    "\n",
    "X_WT = b.t3d.pybullet_pose_to_transform(table_info[0])\n",
    "X_WC = b.t3d.pybullet_pose_to_transform(camera_image_1[\"camera_pose\"])\n",
    "X_CT = b.t3d.inverse_pose(X_WC) @ X_WT\n",
    "\n",
    "def image_to_rgbd(camera_image_1):\n",
    "    K = camera_image_1['camera_matrix']\n",
    "    rgb = camera_image_1['rgbPixels']\n",
    "    depth = camera_image_1['depthPixels']\n",
    "    camera_pose = camera_image_1['camera_pose']\n",
    "    camera_pose = b.t3d.pybullet_pose_to_transform(camera_pose)\n",
    "    fx, fy, cx, cy = K[0,0],K[1,1],K[0,2],K[1,2]\n",
    "    h,w = depth.shape\n",
    "    rgbd_original = b.RGBD(rgb, depth, camera_pose, b.Intrinsics(h,w,fx,fy,cx,cy,NEAR,FAR))\n",
    "    return rgbd_original\n",
    "\n",
    "\n",
    "rgbd_original = image_to_rgbd(camera_image_1)\n",
    "print(\"Got rgbd_original\")\n",
    "\n",
    "scaling_factor = 0.2\n",
    "rgbd_scaled_down = b.RGBD.scale_rgbd(rgbd_original, scaling_factor)\n",
    "print(\"Got rgb immage scaled down.\")\n",
    "\n",
    "b.setup_renderer(rgbd_scaled_down.intrinsics)"
   ]
  },
  {
   "cell_type": "code",
   "execution_count": 7,
   "metadata": {},
   "outputs": [
    {
     "name": "stdout",
     "output_type": "stream",
     "text": [
      "Added table mesh.\n",
      "Added cube mesh of size 0.05.\n",
      "Added cube mesh of size 0.15.\n",
      "Added cube mesh of size 0.3.\n"
     ]
    }
   ],
   "source": [
    "if not 'MESHES_SETUP' in globals():\n",
    "    MESHES_SETUP = False\n",
    "\n",
    "if not MESHES_SETUP:\n",
    "    table_dims = table_info[1:]\n",
    "    table_mesh = b.utils.make_cuboid_mesh(table_dims)\n",
    "    b.RENDERER.add_mesh(table_mesh, \"table\")\n",
    "    print(\"Added table mesh.\")\n",
    "\n",
    "    CUBE_SIZES = [0.05, 0.15, 0.3]\n",
    "    for size in CUBE_SIZES:\n",
    "        cube_mesh = b.utils.make_cuboid_mesh(size * jnp.ones(3))\n",
    "        b.RENDERER.add_mesh(cube_mesh, \"cube_{}\".format(size))\n",
    "        print(f\"Added cube mesh of size {size}.\")\n",
    "    \n",
    "    MESHES_SETUP = True"
   ]
  },
  {
   "cell_type": "markdown",
   "metadata": {},
   "source": [
    "### Load model"
   ]
  },
  {
   "cell_type": "code",
   "execution_count": 8,
   "metadata": {},
   "outputs": [],
   "source": [
    "from src.model2 import model, viz_trace_meshcat"
   ]
  },
  {
   "cell_type": "code",
   "execution_count": 9,
   "metadata": {},
   "outputs": [],
   "source": [
    "def flat_choicemaps_to_vector_choicemap(choicemaps):\n",
    "    cm = genjax.choice_map({\n",
    "        k : jnp.array([c.get_submap(k).get_value() for c in choicemaps])\n",
    "        for (k, _) in choicemaps[0].get_submaps_shallow()\n",
    "    })\n",
    "    return cm"
   ]
  },
  {
   "cell_type": "code",
   "execution_count": 111,
   "metadata": {},
   "outputs": [
    {
     "data": {
      "text/html": [
       "<pre style=\"white-space:pre;overflow-x:auto;line-height:normal;font-family:Menlo,'DejaVu Sans Mono',consolas,'Courier New',monospace\"><span style=\"font-weight: bold\">(HierarchicalChoiceMap)</span>\n",
       "├── <span style=\"font-weight: bold\">:camera_pose</span>\n",
       "│   └── <span style=\"font-weight: bold\">(ValueChoice)</span>\n",
       "│       └──  f32[4,4]\n",
       "├── <span style=\"font-weight: bold\">:objects</span>\n",
       "│   └── <span style=\"font-weight: bold\">(IndexedChoiceMap,  i32[4])</span>\n",
       "│       └── <span style=\"font-weight: bold\">(HierarchicalChoiceMap)</span>\n",
       "│           ├── <span style=\"font-weight: bold\">:root_pose</span>\n",
       "│           │   └── <span style=\"font-weight: bold\">(ValueChoice)</span>\n",
       "│           │       └──  f32[4,4,4]\n",
       "│           ├── <span style=\"font-weight: bold\">:category_index</span>\n",
       "│           │   └── <span style=\"font-weight: bold\">(ValueChoice)</span>\n",
       "│           │       └──  i32[4]\n",
       "│           ├── <span style=\"font-weight: bold\">:parent_obj</span>\n",
       "│           │   └── <span style=\"font-weight: bold\">(ValueChoice)</span>\n",
       "│           │       └──  i32[4]\n",
       "│           ├── <span style=\"font-weight: bold\">:face_parent</span>\n",
       "│           │   └── <span style=\"font-weight: bold\">(ValueChoice)</span>\n",
       "│           │       └──  i32[4]\n",
       "│           ├── <span style=\"font-weight: bold\">:face_child</span>\n",
       "│           │   └── <span style=\"font-weight: bold\">(ValueChoice)</span>\n",
       "│           │       └──  i32[4]\n",
       "│           └── <span style=\"font-weight: bold\">:contact_params</span>\n",
       "│               └── <span style=\"font-weight: bold\">(ValueChoice)</span>\n",
       "│                   └──  f32[4,3]\n",
       "├── <span style=\"font-weight: bold\">:variance</span>\n",
       "│   └── <span style=\"font-weight: bold\">(ValueChoice)</span>\n",
       "│       └── (const) 0.02\n",
       "└── <span style=\"font-weight: bold\">:outlier_prob</span>\n",
       "    └── <span style=\"font-weight: bold\">(ValueChoice)</span>\n",
       "        └── (const) 0.0005\n",
       "</pre>\n"
      ],
      "text/plain": [
       "\u001b[1m(HierarchicalChoiceMap)\u001b[0m\n",
       "├── \u001b[1m:camera_pose\u001b[0m\n",
       "│   └── \u001b[1m(ValueChoice)\u001b[0m\n",
       "│       └──  f32[4,4]\n",
       "├── \u001b[1m:objects\u001b[0m\n",
       "│   └── \u001b[1m(IndexedChoiceMap,  i32[4])\u001b[0m\n",
       "│       └── \u001b[1m(HierarchicalChoiceMap)\u001b[0m\n",
       "│           ├── \u001b[1m:root_pose\u001b[0m\n",
       "│           │   └── \u001b[1m(ValueChoice)\u001b[0m\n",
       "│           │       └──  f32[4,4,4]\n",
       "│           ├── \u001b[1m:category_index\u001b[0m\n",
       "│           │   └── \u001b[1m(ValueChoice)\u001b[0m\n",
       "│           │       └──  i32[4]\n",
       "│           ├── \u001b[1m:parent_obj\u001b[0m\n",
       "│           │   └── \u001b[1m(ValueChoice)\u001b[0m\n",
       "│           │       └──  i32[4]\n",
       "│           ├── \u001b[1m:face_parent\u001b[0m\n",
       "│           │   └── \u001b[1m(ValueChoice)\u001b[0m\n",
       "│           │       └──  i32[4]\n",
       "│           ├── \u001b[1m:face_child\u001b[0m\n",
       "│           │   └── \u001b[1m(ValueChoice)\u001b[0m\n",
       "│           │       └──  i32[4]\n",
       "│           └── \u001b[1m:contact_params\u001b[0m\n",
       "│               └── \u001b[1m(ValueChoice)\u001b[0m\n",
       "│                   └──  f32[4,3]\n",
       "├── \u001b[1m:variance\u001b[0m\n",
       "│   └── \u001b[1m(ValueChoice)\u001b[0m\n",
       "│       └── (const) 0.02\n",
       "└── \u001b[1m:outlier_prob\u001b[0m\n",
       "    └── \u001b[1m(ValueChoice)\u001b[0m\n",
       "        └── (const) 0.0005\n"
      ]
     },
     "metadata": {},
     "output_type": "display_data"
    }
   ],
   "source": [
    "table_choicemap = genjax.choice_map({\n",
    "                    \"root_pose\": X_CT,\n",
    "                    \"category_index\": 0,\n",
    "                    \"parent_obj\": -1,\n",
    "                    \"face_parent\": 2,\n",
    "                    \"face_child\": 3,\n",
    "                    \"contact_params\": jnp.zeros(3)\n",
    "                })\n",
    "def obj_choicemap(category_idx, parent_idx, cps):\n",
    "    return genjax.choice_map({\n",
    "        \"root_pose\": jnp.eye(4),\n",
    "        \"category_index\": category_idx,\n",
    "        \"parent_obj\": parent_idx,\n",
    "        \"face_parent\": 2,\n",
    "        \"face_child\": 3,\n",
    "        \"contact_params\": cps\n",
    "    })\n",
    "max_n_objects = 4\n",
    "map_choicemap = genjax.indexed_choice_map(\n",
    "            jnp.arange(4),\n",
    "            flat_choicemaps_to_vector_choicemap([\n",
    "                table_choicemap,\n",
    "                *[obj_choicemap(ci, pi, cps) for (ci, pi, cps) in [\n",
    "                    (2, 0, jnp.array([-0.1, 0.17, jnp.pi * 0.7])),\n",
    "                    (1, 1, jnp.array([0.03, 0.012, -jnp.pi * 0.34])),\n",
    "                    (3, 0, jnp.array([0.2, -0.4, jnp.pi * 0.11])),\n",
    "                ]]\n",
    "            ])\n",
    "        )\n",
    "\n",
    "constraints = genjax.choice_map({\n",
    "    \"camera_pose\": jnp.eye(4),\n",
    "    \"objects\": map_choicemap,\n",
    "    \"variance\": 0.02,\n",
    "    \"outlier_prob\": 0.0005\n",
    "})\n",
    "console.print(constraints)"
   ]
  },
  {
   "cell_type": "code",
   "execution_count": 116,
   "metadata": {},
   "outputs": [],
   "source": [
    "model_args = (\n",
    "    jnp.arange(max_n_objects), # max_n_objects_array\n",
    "    4,               # n_objects\n",
    "    # possible_object_indices\n",
    "    jnp.arange(len(b.RENDERER.meshes)),\n",
    "    # pose_bounds\n",
    "    jnp.array([-jnp.ones(3)*5.0, jnp.ones(3)*5.0]),\n",
    "    # contact_bounds\n",
    "    jnp.array([jnp.array([-.5, -.7, -jnp.pi]), jnp.array([.5, .7, jnp.pi])]),\n",
    "    # all_box_dims\n",
    "    b.RENDERER.model_box_dims\n",
    ")"
   ]
  },
  {
   "cell_type": "code",
   "execution_count": 117,
   "metadata": {},
   "outputs": [],
   "source": [
    "key = jax.random.PRNGKey(120)"
   ]
  },
  {
   "cell_type": "code",
   "execution_count": 122,
   "metadata": {},
   "outputs": [],
   "source": [
    "key, _ = jax.random.split(key)\n",
    "gt_trace, weight = model.importance(key, constraints, model_args)"
   ]
  },
  {
   "cell_type": "code",
   "execution_count": 123,
   "metadata": {},
   "outputs": [],
   "source": [
    "viz_trace_meshcat(gt_trace)"
   ]
  },
  {
   "cell_type": "code",
   "execution_count": 124,
   "metadata": {},
   "outputs": [
    {
     "data": {
      "text/plain": [
       "<matplotlib.image.AxesImage at 0x7f41afeef4f0>"
      ]
     },
     "execution_count": 124,
     "metadata": {},
     "output_type": "execute_result"
    },
    {
     "data": {
      "image/png": "[encoded data removed]",
      "text/plain": [
       "<Figure size 640x480 with 1 Axes>"
      ]
     },
     "metadata": {},
     "output_type": "display_data"
    }
   ],
   "source": [
    "plt.imshow(gt_trace.get_retval().rendered[..., 2])"
   ]
  },
  {
   "cell_type": "code",
   "execution_count": 125,
   "metadata": {},
   "outputs": [
    {
     "data": {
      "text/plain": [
       "<matplotlib.image.AxesImage at 0x7f41ae43c970>"
      ]
     },
     "execution_count": 125,
     "metadata": {},
     "output_type": "execute_result"
    },
    {
     "data": {
      "image/png": "[encoded data removed]",
      "text/plain": [
       "<Figure size 640x480 with 1 Axes>"
      ]
     },
     "metadata": {},
     "output_type": "display_data"
    }
   ],
   "source": [
    "plt.imshow(gt_trace[\"image\"][..., 2])"
   ]
  },
  {
   "cell_type": "markdown",
   "metadata": {},
   "source": [
    "### Inference"
   ]
  },
  {
   "cell_type": "code",
   "execution_count": 126,
   "metadata": {},
   "outputs": [],
   "source": [
    "obs_img = gt_trace.get_retval().rendered"
   ]
  },
  {
   "cell_type": "code",
   "execution_count": 127,
   "metadata": {},
   "outputs": [],
   "source": [
    "from genjax import Diff, NoChange, UnknownChange"
   ]
  },
  {
   "cell_type": "code",
   "execution_count": 144,
   "metadata": {},
   "outputs": [],
   "source": [
    "def update_choicemap(obj_idx, cat_idx, parent_idx):\n",
    "    return genjax.choice_map({\n",
    "        \"objects\": genjax.indexed_choice_map(\n",
    "            jnp.array([obj_idx]),\n",
    "            flat_choicemaps_to_vector_choicemap([obj_choicemap(\n",
    "                cat_idx, parent_idx, jnp.zeros(3)\n",
    "            )])\n",
    "        )\n",
    "    })\n",
    "\n",
    "def add_object(tr, cat_idx, parent_idx):\n",
    "    n_objects = tr.get_args()[1]\n",
    "    nochange_args = tuple(map(lambda v: Diff(v, NoChange), tr.get_args()))\n",
    "    new_args = (nochange_args[0], Diff(n_objects+1, UnknownChange), *nochange_args[2:])\n",
    "    newtr, _, _, _ = tr.update(\n",
    "        key,\n",
    "        update_choicemap(n_objects, cat_idx, parent_idx),\n",
    "        new_args)\n",
    "    return newtr"
   ]
  },
  {
   "cell_type": "code",
   "execution_count": 155,
   "metadata": {},
   "outputs": [],
   "source": [
    "grid_params_wide = [\n",
    "    (0.65, jnp.pi, (30,30,15)),\n",
    "    (0.2, jnp.pi, (15,15,15)),\n",
    "    (0.1, jnp.pi, (15,15,15)),\n",
    "    (0.05, jnp.pi, (15,15,15)),\n",
    "    (0.02, jnp.pi, (9,9,51)),\n",
    "    (0.01, jnp.pi/5, (15, 15, 15))\n",
    "]\n",
    "\n",
    "contact_param_gridding_schedule_wide = [\n",
    "    b.utils.make_translation_grid_enumeration_3d(\n",
    "        -x, -x, -ang,\n",
    "        x, x, ang,\n",
    "        *nums\n",
    "    )\n",
    "    for (x,ang,nums) in grid_params_wide\n",
    "]"
   ]
  },
  {
   "cell_type": "code",
   "execution_count": 156,
   "metadata": {},
   "outputs": [],
   "source": [
    "grid_params_narrow = [\n",
    "    (0.15, jnp.pi, (30,30,15)),\n",
    "    (0.08, jnp.pi, (15,15,15)),\n",
    "    (0.04, jnp.pi, (15,15,15)),\n",
    "    (0.02, jnp.pi, (9,9,51)),\n",
    "    (0.01, jnp.pi/5, (15, 15, 15))\n",
    "]\n",
    "\n",
    "contact_param_gridding_schedule_narrow = [\n",
    "    b.utils.make_translation_grid_enumeration_3d(\n",
    "        -x, -x, -ang,\n",
    "        x, x, ang,\n",
    "        *nums\n",
    "    )\n",
    "    for (x,ang,nums) in grid_params_narrow\n",
    "]"
   ]
  },
  {
   "cell_type": "code",
   "execution_count": 145,
   "metadata": {},
   "outputs": [],
   "source": [
    "def cp_choicemap(object_idx, v):\n",
    "    return genjax.choice_map({\n",
    "            \"objects\": genjax.indexed_choice_map(\n",
    "                jnp.array([object_idx]),\n",
    "                flat_choicemaps_to_vector_choicemap([genjax.choice_map({\"contact_params\": v})])\n",
    "            )\n",
    "        })\n",
    "def _c2f(key, tr, object_idx, contact_param_gridding_schedule):\n",
    "    updater = jax.jit(jax.vmap(lambda trace, v: trace.update(\n",
    "        key, cp_choicemap(object_idx, v)\n",
    "    )[0].get_score(), in_axes=(None, 0)))\n",
    "    cp = tr.get_retval().object_info.params[object_idx, ...]\n",
    "    for cp_grid in contact_param_gridding_schedule:\n",
    "        cps = cp + cp_grid\n",
    "        scores = updater(tr, cps)\n",
    "        cp = cps[jnp.argmax(scores)]\n",
    "        # i = jax.random.randint(key, (1,), 0, len(scores))[0]\n",
    "        # cp = cps[i]\n",
    "    potential_trace = tr.update(key, cp_choicemap(object_idx, cp))[0]\n",
    "    return potential_trace\n",
    "\n",
    "c2f = jax.jit(_c2f)"
   ]
  },
  {
   "cell_type": "code",
   "execution_count": 146,
   "metadata": {},
   "outputs": [],
   "source": [
    "def _extend_then_c2f(key, tr, cat_idx, parent_idx, contact_param_gridding_schedule):\n",
    "    return c2f(\n",
    "        key,\n",
    "        add_object(tr, cat_idx, parent_idx),\n",
    "        tr.get_args()[1],\n",
    "        contact_param_gridding_schedule\n",
    "    )\n",
    "extend_then_c2f = jax.jit(_extend_then_c2f)"
   ]
  },
  {
   "cell_type": "code",
   "execution_count": 147,
   "metadata": {},
   "outputs": [],
   "source": [
    "constraints_t1 = genjax.choice_map({\n",
    "    \"camera_pose\": jnp.eye(4),\n",
    "    \"objects\": genjax.indexed_choice_map(\n",
    "        jnp.arange(1),\n",
    "        flat_choicemaps_to_vector_choicemap([table_choicemap])\n",
    "    ),\n",
    "    \"variance\": 0.02,\n",
    "    \"outlier_prob\": 0.0005,\n",
    "    \"image\": obs_img\n",
    "})"
   ]
  },
  {
   "cell_type": "code",
   "execution_count": 148,
   "metadata": {},
   "outputs": [],
   "source": [
    "key, _ = jax.random.split(key)\n",
    "model_args_t1 = (model_args[0], 1, *model_args[2:])\n",
    "tr1, _ = model.importance(key, constraints_t1, model_args_t1)"
   ]
  },
  {
   "cell_type": "code",
   "execution_count": 160,
   "metadata": {},
   "outputs": [],
   "source": [
    "viz_trace_meshcat(tr1)"
   ]
  },
  {
   "cell_type": "code",
   "execution_count": 161,
   "metadata": {},
   "outputs": [],
   "source": [
    "tr2 = extend_then_c2f(key, tr1, 3, 0, contact_param_gridding_schedule_wide)\n",
    "viz_trace_meshcat(tr2)"
   ]
  },
  {
   "cell_type": "code",
   "execution_count": 162,
   "metadata": {},
   "outputs": [],
   "source": [
    "tr3 = extend_then_c2f(key, tr2, 2, 0, contact_param_gridding_schedule_wide)\n",
    "viz_trace_meshcat(tr3)"
   ]
  },
  {
   "cell_type": "code",
   "execution_count": 163,
   "metadata": {},
   "outputs": [],
   "source": [
    "tr4 = extend_then_c2f(key, tr3, 1, 2, contact_param_gridding_schedule_narrow)\n",
    "viz_trace_meshcat(tr4)"
   ]
  },
  {
   "cell_type": "code",
   "execution_count": null,
   "metadata": {},
   "outputs": [],
   "source": []
  },
  {
   "cell_type": "code",
   "execution_count": 181,
   "metadata": {},
   "outputs": [],
   "source": [
    "def run_inference(key, tr, n_objects_to_add):\n",
    "    for _ in range(n_objects_to_add):\n",
    "        n_objects = tr.get_args()[1]\n",
    "        trs0 = [\n",
    "            extend_then_c2f(key, tr, cat, 0, contact_param_gridding_schedule_wide)\n",
    "            for cat in [3, 2, 1]\n",
    "        ]\n",
    "        trsi = []\n",
    "        for i in range(1, n_objects):\n",
    "            trs_i = [\n",
    "                extend_then_c2f(key, tr, cat, i, contact_param_gridding_schedule_narrow)\n",
    "                for cat in [3, 2, 1]\n",
    "            ]\n",
    "            trsi.append(trs_i)\n",
    "        all_trs_flat = trs0 + [t for ts in trsi for t in ts]\n",
    "        scores = jnp.array([tr.get_score() for tr in all_trs_flat])\n",
    "        tr = all_trs_flat[jnp.argmax(scores)]\n",
    "    return tr"
   ]
  },
  {
   "cell_type": "code",
   "execution_count": 184,
   "metadata": {},
   "outputs": [],
   "source": [
    "tr2 = run_inference(key, tr1, 3)"
   ]
  },
  {
   "cell_type": "code",
   "execution_count": 185,
   "metadata": {},
   "outputs": [],
   "source": [
    "viz_trace_meshcat(tr2)"
   ]
  },
  {
   "cell_type": "code",
   "execution_count": null,
   "metadata": {},
   "outputs": [],
   "source": []
  }
 ],
 "metadata": {
  "kernelspec": {
   "display_name": "bayes3d_genjax_2",
   "language": "python",
   "name": "python3"
  },
  "language_info": {
   "codemirror_mode": {
    "name": "ipython",
    "version": 3
   },
   "file_extension": ".py",
   "mimetype": "text/x-python",
   "name": "python",
   "nbconvert_exporter": "python",
   "pygments_lexer": "ipython3",
   "version": "3.9.18"
  }
 },
 "nbformat": 4,
 "nbformat_minor": 2
}
